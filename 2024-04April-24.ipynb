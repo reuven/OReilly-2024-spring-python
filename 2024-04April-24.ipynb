{
 "cells": [
  {
   "cell_type": "markdown",
   "metadata": {},
   "source": [
    "# Welcome!\n",
    "\n",
    "1. Fundamentals\n",
    "    - Printing outputs on the screen\n",
    "    - Getting inputs\n",
    "    - Values and variables\n",
    "    - Assignment\n",
    "    - Comparisons\n",
    "    - Conditionals\n",
    "    - Numbers (integers and floats)\n",
    "    - Strings (text)\n",
    "    - Methods (what are they, and how do we use them?)\n",
    "2. Loops, lists, and tuples\n",
    "    - Different kinds of loops (`for` and `while`)\n",
    "    - Looping over strings and ranges of numbers\n",
    "    - Lists -- a new data structure, and how they work\n",
    "    - Turning strings into lists, and back\n",
    "    - Tuples\n",
    "    - Tuple unpacking\n",
    "3. Dictionaries and files\n",
    "    - Dicts as a data structure\n",
    "    - Reading from (and a little writing to) text files\n",
    "4. Functions\n",
    "    - What are functions?\n",
    "    - Defining our own functions\n",
    "    - Arguments and parameters\n",
    "    - Local vs. global variables\n",
    "5. Modules and packages\n",
    "    - Using modules with `import`\n",
    "    - How to use modules in the standard library\n",
    "    - A little bit about how to write our own modules\n",
    "    - Packages and downloading them from PyPI with `pip`"
   ]
  },
  {
   "cell_type": "markdown",
   "metadata": {},
   "source": [
    "# Jupyter \n",
    "\n",
    "Jupyter gives you the illusion of having Python in your browser. Meaning: You don't need to install Python, you don't need to fire up an editor -- you can just type Python code.\n",
    "\n",
    "One great option to try is Google Colab: https://colab.research.google.com/\n",
    "\n",
    "Another great option: VSCode, and its Jupyter plugin/extension."
   ]
  },
  {
   "cell_type": "markdown",
   "metadata": {},
   "source": [
    "# What is a programming language? \n",
    "\n",
    "Many years ago, when computers were invented, you needed a new computer for each problem you wanted to solve.\n",
    "\n",
    "Pretty soon, they wanted to have flexible computers that could solve multiple problems. The way that they did this was by separating the hardware (the physical computer) from the software (i.e., the instructions that we gave the computer). In this way, we could build a computer once, and use it many times for different problems.\n",
    "\n",
    "How would you give instructions to a computer? You could use 0s and 1s. Pretty soon, computer scientists came up with a better idea -- we write in a high-level \"language,\" and that language is then converted, or translated, into the 1s and 0s.\n",
    "\n",
    "Everyone wins!\n",
    "\n",
    "Many different programming languages exist, each with its own set of strengths and weaknesses:\n",
    "\n",
    "- C is hard to write, but it executes very very quickly\n",
    "- C++ is even harder to write, and executes quickly, and includes \"object-oriented programming\"\n",
    "- Java was an attempt to make things easier than C/C++, while still executing almost as fast\n",
    "- C# is basically Microsoft's revenge for not being included in the Java design\n",
    "- "
   ]
  }
 ],
 "metadata": {
  "kernelspec": {
   "display_name": "Python 3 (ipykernel)",
   "language": "python",
   "name": "python3"
  },
  "language_info": {
   "codemirror_mode": {
    "name": "ipython",
    "version": 3
   },
   "file_extension": ".py",
   "mimetype": "text/x-python",
   "name": "python",
   "nbconvert_exporter": "python",
   "pygments_lexer": "ipython3",
   "version": "3.12.1"
  }
 },
 "nbformat": 4,
 "nbformat_minor": 4
}
