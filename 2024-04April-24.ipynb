{
 "cells": [
  {
   "cell_type": "markdown",
   "metadata": {},
   "source": [
    "# Welcome!\n",
    "\n",
    "1. Fundamentals\n",
    "    - Printing outputs on the screen\n",
    "    - Getting inputs\n",
    "    - Values and variables\n",
    "    - Assignment\n",
    "    - Comparisons\n",
    "    - Conditionals\n",
    "    - Numbers (integers and floats)\n",
    "    - Strings (text)\n",
    "    - Methods (what are they, and how do we use them?)\n",
    "2. Loops, lists, and tuples\n",
    "    - Different kinds of loops (`for` and `while`)\n",
    "    - Looping over strings and ranges of numbers\n",
    "    - Lists -- a new data structure, and how they work\n",
    "    - Turning strings into lists, and back\n",
    "    - Tuples\n",
    "    - Tuple unpacking\n",
    "3. Dictionaries and files\n",
    "    - Dicts as a data structure\n",
    "    - Reading from (and a little writing to) text files\n",
    "4. Functions\n",
    "    - What are functions?\n",
    "    - Defining our own functions\n",
    "    - Arguments and parameters\n",
    "    - Local vs. global variables\n",
    "5. Modules and packages\n",
    "    - Using modules with `import`\n",
    "    - How to use modules in the standard library\n",
    "    - A little bit about how to write our own modules\n",
    "    - Packages and downloading them from PyPI with `pip`"
   ]
  },
  {
   "cell_type": "markdown",
   "metadata": {},
   "source": [
    "# Jupyter \n",
    "\n",
    "Jupyter gives you the illusion of having Python in your browser. Meaning: You don't need to install Python, you don't need to fire up an editor -- you can just type Python code.\n",
    "\n",
    "One great option to try is Google Colab: https://colab.research.google.com/\n",
    "\n",
    "Another great option: VSCode, and its Jupyter plugin/extension."
   ]
  },
  {
   "cell_type": "markdown",
   "metadata": {},
   "source": [
    "# What is a programming language? \n",
    "\n",
    "Many years ago, when computers were invented, you needed a new computer for each problem you wanted to solve.\n",
    "\n",
    "Pretty soon, they wanted to have flexible computers that could solve multiple problems. The way that they did this was by separating the hardware (the physical computer) from the software (i.e., the instructions that we gave the computer). In this way, we could build a computer once, and use it many times for different problems.\n",
    "\n",
    "How would you give instructions to a computer? You could use 0s and 1s. Pretty soon, computer scientists came up with a better idea -- we write in a high-level \"language,\" and that language is then converted, or translated, into the 1s and 0s.\n",
    "\n",
    "Everyone wins!\n",
    "\n",
    "Many different programming languages exist, each with its own set of strengths and weaknesses:\n",
    "\n",
    "- C is hard to write, but it executes very very quickly\n",
    "- C++ is even harder to write, and executes quickly, and includes \"object-oriented programming\"\n",
    "- Java was an attempt to make things easier than C/C++, while still executing almost as fast\n",
    "- C# is basically Microsoft's revenge for not being included in the Java design\n",
    "\n",
    "There are probably hundreds of thousands of programming languages.\n",
    "\n",
    "Python was developed more than 30 years ago in an attempt to give us a language that is easy to learn, easy to read/debug, and with a lot of power to think at a high level. It was *not* designed to run very quickly.\n",
    "\n",
    "A lot of the ease of learning Python comes from its consistency.  Once you learn something in Python, you can stick with that idea/syntax for the rest of your time using it.\n",
    "\n",
    "(And Python is getting faster!)\n",
    "\n",
    "Python has become enormously popular in the last few years:\n",
    "- Data science, data analytics, and machine learning\n",
    "- Web applications\n",
    "- Devops\n",
    "- Text analysis\n",
    "- Education\n",
    "- Automated testing\n",
    "\n",
    "Many many many companies are now using Python.\n",
    "- Adopting it instead of other languages/systems (Matlab, Excel, Java, C)\n",
    "- A lot of companies are just starting up with Python, because the people in the company learned it in college\n",
    "\n"
   ]
  },
  {
   "cell_type": "markdown",
   "metadata": {},
   "source": [
    "# Five-minute Jupyter course\n",
    "\n",
    "When we type into Jupyter, we're typing into a \"cell.\"  Typing can happen in one of two modes:\n",
    "\n",
    "- In edit mode (like I have right now), writing appears in the cell. You can enter edit mode by clicking inside of the cell or by pressing ENTER. It has a blueish outline.\n",
    "- In command mode, anything you type is taken as a Jupyter command, something you want Jupyter to change/do. You can enter command mode by clicking to the left of the cell or by pressing ESC. A white/gray outline shows that we're in command mode.\n",
    "\n",
    "What commands do we have in command mode?\n",
    "- `c` -- copy the current cell\n",
    "- `x` -- cut the current cell\n",
    "- `v` -- paste the current cell\n",
    "- `a` -- add a new cell *above* the current one\n",
    "- `b` -- add a new cell *below* the current one\n",
    "- Shift+ENTER -- executes the current cell (if it's code) or formats it if it's in Markdown (like I'm using now)\n",
    "- `m` -- makes the cell in Markdown mode (for text)\n",
    "- `y` -- makes the cell in Python mode (for code)"
   ]
  },
  {
   "cell_type": "code",
   "execution_count": 2,
   "metadata": {},
   "outputs": [
    {
     "name": "stdout",
     "output_type": "stream",
     "text": [
      "Hello?\n"
     ]
    }
   ],
   "source": [
    "# If I'm in Jupyter, then I really want to be coding!\n",
    "# this cell is in Python mode\n",
    "\n",
    "# Currently, I'm writing comments, all of which start with #\n",
    "# from # to the end of the line, Python ignores anything we write.\n",
    "# Comments are meant for your colleagues or for your future self\n",
    "\n",
    "# I'm going to use the \"print\" function. Functions are the verbs in Python.\n",
    "# I execute the function with ()\n",
    "# Notice that \"print\" is all lowercase. Almost nothing in Python uses capital letters!\n",
    "# Inside of the (), we have an argument (a value) that we're passing to print, the\n",
    "# thing that we want to print -- here, it's text, inside of '', and we're saying hello\n",
    "\n",
    "print('Hello?')     "
   ]
  },
  {
   "cell_type": "code",
   "execution_count": 3,
   "metadata": {},
   "outputs": [
    {
     "name": "stdout",
     "output_type": "stream",
     "text": [
      "5\n"
     ]
    }
   ],
   "source": [
    "# I can also print numbers\n",
    "\n",
    "print(5)  # notice that 5 doesn't have quotes around it, because it's an integer (whole number)"
   ]
  },
  {
   "cell_type": "code",
   "execution_count": 4,
   "metadata": {},
   "outputs": [
    {
     "name": "stdout",
     "output_type": "stream",
     "text": [
      "10\n"
     ]
    }
   ],
   "source": [
    "# I can even use + as an operator on two values\n",
    "\n",
    "print(2 + 8)   # first, Python calculates 2+8, then print is handed 10, which it displays"
   ]
  },
  {
   "cell_type": "code",
   "execution_count": 5,
   "metadata": {},
   "outputs": [
    {
     "name": "stdout",
     "output_type": "stream",
     "text": [
      "abcdefgh\n"
     ]
    }
   ],
   "source": [
    "# what if I were to do this:\n",
    "\n",
    "print('abcd' + 'efgh')   # can I add together two pieces of text?"
   ]
  },
  {
   "cell_type": "code",
   "execution_count": 6,
   "metadata": {},
   "outputs": [
    {
     "ename": "TypeError",
     "evalue": "can only concatenate str (not \"int\") to str",
     "output_type": "error",
     "traceback": [
      "\u001b[1;31m---------------------------------------------------------------------------\u001b[0m",
      "\u001b[1;31mTypeError\u001b[0m                                 Traceback (most recent call last)",
      "Cell \u001b[1;32mIn[6], line 5\u001b[0m\n\u001b[0;32m      1\u001b[0m \u001b[38;5;66;03m# you can use + with numbers\u001b[39;00m\n\u001b[0;32m      2\u001b[0m \u001b[38;5;66;03m# you can use + with text (strings)\u001b[39;00m\n\u001b[0;32m      3\u001b[0m \n\u001b[0;32m      4\u001b[0m \u001b[38;5;66;03m# can we mix them up?\u001b[39;00m\n\u001b[1;32m----> 5\u001b[0m \u001b[38;5;28mprint\u001b[39m(\u001b[38;5;124;43m'\u001b[39;49m\u001b[38;5;124;43mabcd\u001b[39;49m\u001b[38;5;124;43m'\u001b[39;49m\u001b[43m \u001b[49m\u001b[38;5;241;43m+\u001b[39;49m\u001b[43m \u001b[49m\u001b[38;5;241;43m5\u001b[39;49m)\n",
      "\u001b[1;31mTypeError\u001b[0m: can only concatenate str (not \"int\") to str"
     ]
    }
   ],
   "source": [
    "# you can use + with numbers\n",
    "# you can use + with text (strings)\n",
    "\n",
    "# can we mix them up?\n",
    "print('abcd' + 5)"
   ]
  },
  {
   "cell_type": "code",
   "execution_count": 7,
   "metadata": {},
   "outputs": [
    {
     "name": "stdout",
     "output_type": "stream",
     "text": [
      "12\n"
     ]
    }
   ],
   "source": [
    "# what if I had numbers inside of the quote?\n",
    "# that is: I'll create two text strings, each containing numbers\n",
    "\n",
    "print('1' + '2')  # now what will we get?"
   ]
  },
  {
   "cell_type": "code",
   "execution_count": 8,
   "metadata": {},
   "outputs": [
    {
     "ename": "TypeError",
     "evalue": "can only concatenate str (not \"int\") to str",
     "output_type": "error",
     "traceback": [
      "\u001b[1;31m---------------------------------------------------------------------------\u001b[0m",
      "\u001b[1;31mTypeError\u001b[0m                                 Traceback (most recent call last)",
      "Cell \u001b[1;32mIn[8], line 3\u001b[0m\n\u001b[0;32m      1\u001b[0m \u001b[38;5;66;03m# what if we mix it up?\u001b[39;00m\n\u001b[1;32m----> 3\u001b[0m \u001b[38;5;28mprint\u001b[39m(\u001b[38;5;124;43m'\u001b[39;49m\u001b[38;5;124;43m1\u001b[39;49m\u001b[38;5;124;43m'\u001b[39;49m\u001b[43m \u001b[49m\u001b[38;5;241;43m+\u001b[39;49m\u001b[43m \u001b[49m\u001b[38;5;241;43m2\u001b[39;49m)  \n",
      "\u001b[1;31mTypeError\u001b[0m: can only concatenate str (not \"int\") to str"
     ]
    }
   ],
   "source": [
    "# what if we mix it up?\n",
    "\n",
    "print('1' + 2)  "
   ]
  },
  {
   "cell_type": "code",
   "execution_count": 9,
   "metadata": {},
   "outputs": [],
   "source": [
    "# I'm mirroring to GitHub with gitautopush\n"
   ]
  },
  {
   "cell_type": "markdown",
   "metadata": {},
   "source": [
    "# Variables and assignment\n",
    "\n",
    "This is great, but if we want to use a value more than once, then we'd like to refer to it and reuse it. In day-to-day language, we don't use someone's name every time we want to refer to them. We refer to their name once, and then we use pronouns.\n",
    "\n",
    "Variables are the pronouns in a programming language. They allow us to symbolicaly refer to a value.\n",
    "\n"
   ]
  },
  {
   "cell_type": "code",
   "execution_count": 10,
   "metadata": {},
   "outputs": [
    {
     "name": "stdout",
     "output_type": "stream",
     "text": [
      "Reuven\n"
     ]
    }
   ],
   "source": [
    "print('Reuven')"
   ]
  },
  {
   "cell_type": "code",
   "execution_count": 11,
   "metadata": {},
   "outputs": [
    {
     "name": "stdout",
     "output_type": "stream",
     "text": [
      "Hello, Reuven\n",
      "How are you today, Reuven?\n"
     ]
    }
   ],
   "source": [
    "name = 'Reuven'\n",
    "\n",
    "print('Hello, ' + name)\n",
    "print('How are you today, ' + name + '?')"
   ]
  },
  {
   "cell_type": "markdown",
   "metadata": {},
   "source": [
    "# Assignment operator `=`\n",
    "\n",
    "In school, you likely learned that `=` means: The value on the left is the same as the value on the right.\n",
    "\n",
    "In Python, `=` does not mean this at all! Rather, it means: \n",
    "\n",
    "- Take the value on the right\n",
    "- Assign it to the variable on the left\n",
    "\n",
    "Some languages require that you \"declare\" a variable before you can assign to it. Not so in Python! The first time you assign to a variable, it is created automatically. The next time you assign to it, the new value takes the place of the old one.\n",
    "\n",
    "`=` is all about assignment. It is *not* a way to check if two things are equal.\n",
    "\n",
    "We can assign any value to any variable. What can variables be named?\n",
    "\n",
    "- Any combination of letters, digits, and `_`\n",
    "    - Capital letters and lowercase letters are different!\n",
    "    - Don't use capital letters! (People in Python rarely do)\n",
    "    - You cannot start a variable name with a digit\n",
    "- Use long variable names! It's easier to understand and debug what you're doing\n",
    "- Python could not care less what you call your variables\n",
    "- Typically, we break up long names with `_` between words"
   ]
  },
  {
   "cell_type": "markdown",
   "metadata": {},
   "source": [
    "# Exercise: Greeting and calculator\n",
    "\n",
    "1. Assign your name to the variable `name`. Print a nice greeting to yourself. Can you print something before your name *and* after it, too?\n",
    "2. Assign two numbers two the variables `x` and `y`. Print the result of adding them together. Then print the result of subtracting one from the other."
   ]
  },
  {
   "cell_type": "code",
   "execution_count": 12,
   "metadata": {},
   "outputs": [
    {
     "name": "stdout",
     "output_type": "stream",
     "text": [
      "Hello, Reuven\n"
     ]
    }
   ],
   "source": [
    "name = 'Reuven'\n",
    "print('Hello, ' + name)"
   ]
  },
  {
   "cell_type": "code",
   "execution_count": 13,
   "metadata": {},
   "outputs": [
    {
     "name": "stdout",
     "output_type": "stream",
     "text": [
      "Hello, Reuven.\n"
     ]
    }
   ],
   "source": [
    "# If I want something after, then I can say this:\n",
    "\n",
    "print('Hello, ' + name + '.')   # I can use + more than once!"
   ]
  },
  {
   "cell_type": "code",
   "execution_count": 14,
   "metadata": {},
   "outputs": [
    {
     "name": "stdout",
     "output_type": "stream",
     "text": [
      "Hello,Reuven.\n"
     ]
    }
   ],
   "source": [
    "# why do I put a space after the comma?\n",
    "\n",
    "print('Hello,' + name + '.')"
   ]
  },
  {
   "cell_type": "code",
   "execution_count": 15,
   "metadata": {},
   "outputs": [
    {
     "name": "stdout",
     "output_type": "stream",
     "text": [
      "14\n"
     ]
    }
   ],
   "source": [
    "x = 10\n",
    "y = 4\n",
    "\n",
    "print(x + y)"
   ]
  },
  {
   "cell_type": "code",
   "execution_count": 16,
   "metadata": {},
   "outputs": [
    {
     "name": "stdout",
     "output_type": "stream",
     "text": [
      "6\n"
     ]
    }
   ],
   "source": [
    "print(x - y)"
   ]
  },
  {
   "cell_type": "markdown",
   "metadata": {},
   "source": [
    "# Data structures\n",
    "\n",
    "Why does Python insist on treating text differently from numbers? Why do we need these different data structures?\n",
    "\n",
    "Every data structure (every type of value) has a different set of capabilities. What we want to do with numbers isn't the same as what we want to do with text. Every programming language has different data structures, each optimized to solve a different type of problem.\n",
    "\n",
    "We'll see later how we can convert one value into another, if we want to move from the world of numbers to the world of text, or vice versa."
   ]
  },
  {
   "cell_type": "markdown",
   "metadata": {},
   "source": [
    "# Defining text strings\n",
    "\n",
    "We can define a text string with either `''` (single quotes) or `\"\"` (double quotes), so long as you match the start with the end.\n",
    "\n",
    "The easiest way to include a single quote in a text string is to use `\"\"` on the outside. \n",
    "\n",
    "The easiest way to include double quotes in a text string is to use `''` on the outside.\n",
    "\n",
    "You can also, if you want, put a `\\` before the quote inside of the text, which \"escapes\" its special meaning as the delimiter."
   ]
  },
  {
   "cell_type": "code",
   "execution_count": 17,
   "metadata": {},
   "outputs": [
    {
     "ename": "SyntaxError",
     "evalue": "unterminated string literal (detected at line 1) (2098454601.py, line 1)",
     "output_type": "error",
     "traceback": [
      "\u001b[1;36m  Cell \u001b[1;32mIn[17], line 1\u001b[1;36m\u001b[0m\n\u001b[1;33m    print('Nice day, isn't it?')\u001b[0m\n\u001b[1;37m                              ^\u001b[0m\n\u001b[1;31mSyntaxError\u001b[0m\u001b[1;31m:\u001b[0m unterminated string literal (detected at line 1)\n"
     ]
    }
   ],
   "source": [
    "print('Nice day, isn't it?')"
   ]
  },
  {
   "cell_type": "code",
   "execution_count": 19,
   "metadata": {},
   "outputs": [
    {
     "name": "stdout",
     "output_type": "stream",
     "text": [
      "Nice day, isn't it?\n"
     ]
    }
   ],
   "source": [
    "# backslashes escape quotes\n",
    "print('Nice day, isn\\'t it?')"
   ]
  },
  {
   "cell_type": "markdown",
   "metadata": {},
   "source": [
    "# Next up\n",
    "\n",
    "- Getting input from the user\n",
    "- Mixing values together with f-strings\n",
    "- Comparing values with `==` and `if`/`else`\n",
    "\n",
    "Five minute break"
   ]
  },
  {
   "cell_type": "markdown",
   "metadata": {},
   "source": [
    "# Getting input from the user\n",
    "\n",
    "It's nice that we can assign a value to a variable. But it's kind of boring to have a program in which the values are all pre-determined. We want to get inputs from the user, and then assign those values to variables.\n",
    "\n",
    "The way that we can do that is the `input` function. If we run `input`, then it pauses the execution of the code, and the user gets to type something. Whatever the user types is the value returned by the `input` function. Meaning: Whatever the user types is a value, and replaces the call to `input`.\n",
    "\n",
    "Normally, we thus put a varible and assignment to the left of `input`:\n",
    "\n",
    "```python\n",
    "name = input('Enter your name: ')\n",
    "```\n",
    "\n",
    "Effectively, the above line of code means:\n",
    "- Wait for the user to enter their name\n",
    "- Assign whatever they typed, as a text string, to `name`"
   ]
  },
  {
   "cell_type": "code",
   "execution_count": 20,
   "metadata": {},
   "outputs": [
    {
     "name": "stdin",
     "output_type": "stream",
     "text": [
      "Enter your name:  Reuven\n"
     ]
    }
   ],
   "source": [
    "name = input('Enter your name: ')"
   ]
  },
  {
   "cell_type": "code",
   "execution_count": 21,
   "metadata": {},
   "outputs": [
    {
     "name": "stdout",
     "output_type": "stream",
     "text": [
      "Reuven\n"
     ]
    }
   ],
   "source": [
    "print(name)"
   ]
  },
  {
   "cell_type": "code",
   "execution_count": 22,
   "metadata": {},
   "outputs": [
    {
     "name": "stdout",
     "output_type": "stream",
     "text": [
      "Hello, Reuven\n"
     ]
    }
   ],
   "source": [
    "print('Hello, ' + name)"
   ]
  },
  {
   "cell_type": "markdown",
   "metadata": {},
   "source": [
    "# Exercise: Friendly greeting\n",
    "\n",
    "1. Ask the user, with `input`, to enter their name.\n",
    "2. Assign that value to the `name` variable.\n",
    "3. Use `name` to display a friendly greeting."
   ]
  },
  {
   "cell_type": "code",
   "execution_count": 23,
   "metadata": {},
   "outputs": [
    {
     "name": "stdin",
     "output_type": "stream",
     "text": [
      "Enter your name:  Reuven\n"
     ]
    },
    {
     "name": "stdout",
     "output_type": "stream",
     "text": [
      "Reuven\n"
     ]
    }
   ],
   "source": [
    "# 1. input goes on the *right* side\n",
    "# 2. input's argument, inside of (), must be a string -- must be in ''\n",
    "# 3. whatever the user types will be turned into a string, and returned by input\n",
    "# 4. That means whatever input returns will be assigned to name\n",
    "# 5. Notice that name is a variable, which means it gets NO QUOTES AROUND IT!\n",
    "\n",
    "name = input('Enter your name: ')\n",
    "print(name)"
   ]
  },
  {
   "cell_type": "code",
   "execution_count": 24,
   "metadata": {},
   "outputs": [
    {
     "name": "stdout",
     "output_type": "stream",
     "text": [
      "Hello, Reuven!\n"
     ]
    }
   ],
   "source": [
    "print('Hello, ' + name + '!')   # friendly greeting!"
   ]
  },
  {
   "cell_type": "code",
   "execution_count": 25,
   "metadata": {},
   "outputs": [
    {
     "name": "stdout",
     "output_type": "stream",
     "text": [
      "Hello, name!\n"
     ]
    }
   ],
   "source": [
    "print('Hello, ' + 'name' + '!')   # what happens now?"
   ]
  },
  {
   "cell_type": "code",
   "execution_count": 27,
   "metadata": {},
   "outputs": [
    {
     "name": "stdin",
     "output_type": "stream",
     "text": [
      "Enter your name:  Reuven\n"
     ]
    },
    {
     "name": "stdout",
     "output_type": "stream",
     "text": [
      "Hey, Reuven. Hope you are having a great day!\n"
     ]
    }
   ],
   "source": [
    "name = input(\"Enter your name: \")\n",
    "print(\"Hey, \" + name + \". Hope you are having a great day!\")"
   ]
  },
  {
   "cell_type": "markdown",
   "metadata": {},
   "source": [
    "# Comparing values\n",
    "\n",
    "One of the most important things we want to do in programming is take a value (either literal or via a variable) and compare it with something else. Is it the same? Is it bigger? Is it smaller?\n",
    "\n",
    "The most commonly used operator for this is `==` -- yes, it is *two* `=` in a row!\n",
    "\n",
    "- `=` means: Assign the value on the right to the variable on the left.\n",
    "- `==` means: Tell me whether the values on the left and right are the same, returning either `True` or `False`"
   ]
  },
  {
   "cell_type": "code",
   "execution_count": 28,
   "metadata": {},
   "outputs": [
    {
     "data": {
      "text/plain": [
       "True"
      ]
     },
     "execution_count": 28,
     "metadata": {},
     "output_type": "execute_result"
    }
   ],
   "source": [
    "x = 10   # assign\n",
    "\n",
    "x == 10  # compare"
   ]
  },
  {
   "cell_type": "code",
   "execution_count": 29,
   "metadata": {},
   "outputs": [
    {
     "data": {
      "text/plain": [
       "False"
      ]
     },
     "execution_count": 29,
     "metadata": {},
     "output_type": "execute_result"
    }
   ],
   "source": [
    "x == 5"
   ]
  },
  {
   "cell_type": "code",
   "execution_count": 31,
   "metadata": {},
   "outputs": [
    {
     "data": {
      "text/plain": [
       "False"
      ]
     },
     "execution_count": 31,
     "metadata": {},
     "output_type": "execute_result"
    }
   ],
   "source": [
    "x == '10'  # compare with the text string '10'"
   ]
  },
  {
   "cell_type": "markdown",
   "metadata": {},
   "source": [
    "# Comparison operators\n",
    "\n",
    "There are many comparison operators in Python:\n",
    "\n",
    "- `==` -- are the two values equal?\n",
    "- `!=` -- are the two values unequal? (Opposite of `==`)\n",
    "- `<` -- is the left side less than the right side?\n",
    "- `>` -- is the left side greater than the right side?\n",
    "- `<=` -- is the left side less than or equal to the right side?\n",
    "- `>=` -- is the left side greater than or equal to the right side?"
   ]
  },
  {
   "cell_type": "markdown",
   "metadata": {},
   "source": [
    "# Where do really use these?\n",
    "\n",
    "Making decisions is the biggest and most important thing in all of programming. We can tell Python to execute some code conditionally using the `if` statement.\n",
    "\n",
    "`if` looks to its right and expects to see either a `True` or `False` value (thanks to a comparison operator):\n",
    "- If the value is `True`, then the \"block\" after `if` is executed\n",
    "- If the value is `False`, then the \"block\" after `else` is executed, instead.\n",
    "\n",
    "If you have `if`/`else` in your program, then it is guaranteed that one of these -- not zero, and not two of them -- will execute. Only one. They are mutually exclusive.\n",
    "\n",
    "#### `if`\n",
    "- followed by a condition returning `True` or `False`\n",
    "- No parentheses are needed, if you don't want them\n",
    "- At the end of the line, you have a `:`\n",
    "- Starting on the line after the `:`, we have a \"block\"\n",
    "- A block is indented, traditionally 4 spaces\n",
    "- When the indentation ends, the block ends\n",
    "#### `else`\n",
    "- `else` has no condition -- just a `:` at the end of the line\n",
    "- `else` is optional, but very useful\n",
    "- `else` runs if the `if` condition was `False`\n",
    "- On the line following `:`, you have indentation\n",
    "- The block continues so long as the text is indented."
   ]
  },
  {
   "cell_type": "code",
   "execution_count": 33,
   "metadata": {},
   "outputs": [
    {
     "name": "stdin",
     "output_type": "stream",
     "text": [
      "Enter your name:  Reuven\n"
     ]
    },
    {
     "name": "stdout",
     "output_type": "stream",
     "text": [
      "Hello, boss!\n",
      "Nice to see you again!\n",
      "This is a third line\n",
      "And a fourth\n"
     ]
    }
   ],
   "source": [
    "name = input('Enter your name: ')          # get the name, and assign to the variable\n",
    "\n",
    "if name == 'Reuven':                 # if the name variable contains 'Reuven', then \n",
    "    print('Hello, boss!')\n",
    "    print('Nice to see you again!')\n",
    "    print('This is a third line')\n",
    "    print('And a fourth')\n",
    "else:\n",
    "    print('Hello, ' + name + '. Who are you?')\n"
   ]
  },
  {
   "cell_type": "markdown",
   "metadata": {},
   "source": [
    "# Exercise: Friendly greeting (or not)\n",
    "\n",
    "- Ask the user to enter their name, and assign to the `name` variable\n",
    "- If the name is the same as yours, print a nice greeting\n",
    "- If not, then print a snarky greeting."
   ]
  },
  {
   "cell_type": "code",
   "execution_count": 36,
   "metadata": {},
   "outputs": [
    {
     "name": "stdin",
     "output_type": "stream",
     "text": [
      "Enter your name:  Reuven\n"
     ]
    },
    {
     "name": "stdout",
     "output_type": "stream",
     "text": [
      "WHO ARE YOU? WHAT ARE YOU DOING HERE?\n"
     ]
    }
   ],
   "source": [
    "name = input('Enter your name: ')\n",
    "\n",
    "if name == 'Reuven ':\n",
    "    print('Hello, most amazing Python teacher ever!')\n",
    "else:\n",
    "    print('WHO ARE YOU? WHAT ARE YOU DOING HERE?')"
   ]
  },
  {
   "cell_type": "code",
   "execution_count": 37,
   "metadata": {},
   "outputs": [
    {
     "data": {
      "text/plain": [
       "False"
      ]
     },
     "execution_count": 37,
     "metadata": {},
     "output_type": "execute_result"
    }
   ],
   "source": [
    "'abcd' == 'Abcd'\n"
   ]
  },
  {
   "cell_type": "markdown",
   "metadata": {},
   "source": [
    "# f-strings\n",
    "\n",
    "It's super annoying that if we want to combine multiple strings together, we have to use `+`.\n",
    "\n",
    "Even more annoying is that we can't easily combine text strings and numbers together.\n",
    "\n",
    "A number of years ago, Python introduced a new syntax for text strings, known as \"f-strings,\" short for \"format strings\" (or, as "
   ]
  }
 ],
 "metadata": {
  "kernelspec": {
   "display_name": "Python 3 (ipykernel)",
   "language": "python",
   "name": "python3"
  },
  "language_info": {
   "codemirror_mode": {
    "name": "ipython",
    "version": 3
   },
   "file_extension": ".py",
   "mimetype": "text/x-python",
   "name": "python",
   "nbconvert_exporter": "python",
   "pygments_lexer": "ipython3",
   "version": "3.12.1"
  }
 },
 "nbformat": 4,
 "nbformat_minor": 4
}
