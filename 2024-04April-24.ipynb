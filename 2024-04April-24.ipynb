{
 "cells": [
  {
   "cell_type": "markdown",
   "metadata": {},
   "source": [
    "# Welcome!\n",
    "\n",
    "1. Fundamentals\n",
    "    - Printing outputs on the screen\n",
    "    - Getting inputs\n",
    "    - Values and variables\n",
    "    - Assignment\n",
    "    - Comparisons\n",
    "    - Conditionals\n",
    "    - Numbers (integers and floats)\n",
    "    - Strings (text)\n",
    "    - Methods (what are they, and how do we use them?)\n",
    "2. Loops, lists, and tuples\n",
    "    - Different kinds of loops (`for` and `while`)\n",
    "    - Looping over strings and ranges of numbers\n",
    "    - Lists -- a new data structure, and how they work\n",
    "    - Turning strings into lists, and back\n",
    "    - Tuples\n",
    "    - Tuple unpacking\n",
    "3. Dictionaries and files\n",
    "    - Dicts as a data structure\n",
    "    - Reading from (and a little writing to) text files\n",
    "4. Functions\n",
    "    - What are functions?\n",
    "    - Defining our own functions\n",
    "    - Arguments and parameters\n",
    "    - Local vs. global variables\n",
    "5. Modules and packages\n",
    "    - Using modules with `import`\n",
    "    - How to use modules in the standard library\n",
    "    - A little bit about how to write our own modules\n",
    "    - Packages and downloading them from PyPI with `pip`"
   ]
  },
  {
   "cell_type": "markdown",
   "metadata": {},
   "source": [
    "# Jupyter \n",
    "\n",
    "Jupyter gives you the illusion of having Python in your browser. Meaning: You don't need to install Python, you don't need to fire up an editor -- you can just type Python code.\n",
    "\n",
    "One great option to try is Google Colab: https://colab.research.google.com/\n",
    "\n",
    "Another great option: VSCode, and its Jupyter plugin/extension."
   ]
  },
  {
   "cell_type": "markdown",
   "metadata": {},
   "source": [
    "# What is a programming language? \n",
    "\n",
    "Many years ago, when computers were invented, you needed a new computer for each problem you wanted to solve.\n",
    "\n",
    "Pretty soon, they wanted to have flexible computers that could solve multiple problems. The way that they did this was by separating the hardware (the physical computer) from the software (i.e., the instructions that we gave the computer). In this way, we could build a computer once, and use it many times for different problems.\n",
    "\n",
    "How would you give instructions to a computer? You could use 0s and 1s. Pretty soon, computer scientists came up with a better idea -- we write in a high-level \"language,\" and that language is then converted, or translated, into the 1s and 0s.\n",
    "\n",
    "Everyone wins!\n",
    "\n",
    "Many different programming languages exist, each with its own set of strengths and weaknesses:\n",
    "\n",
    "- C is hard to write, but it executes very very quickly\n",
    "- C++ is even harder to write, and executes quickly, and includes \"object-oriented programming\"\n",
    "- Java was an attempt to make things easier than C/C++, while still executing almost as fast\n",
    "- C# is basically Microsoft's revenge for not being included in the Java design\n",
    "\n",
    "There are probably hundreds of thousands of programming languages.\n",
    "\n",
    "Python was developed more than 30 years ago in an attempt to give us a language that is easy to learn, easy to read/debug, and with a lot of power to think at a high level. It was *not* designed to run very quickly.\n",
    "\n",
    "A lot of the ease of learning Python comes from its consistency.  Once you learn something in Python, you can stick with that idea/syntax for the rest of your time using it.\n",
    "\n",
    "(And Python is getting faster!)\n",
    "\n",
    "Python has become enormously popular in the last few years:\n",
    "- Data science, data analytics, and machine learning\n",
    "- Web applications\n",
    "- Devops\n",
    "- Text analysis\n",
    "- Education\n",
    "- Automated testing\n",
    "\n",
    "Many many many companies are now using Python.\n",
    "- Adopting it instead of other languages/systems (Matlab, Excel, Java, C)\n",
    "- A lot of companies are just starting up with Python, because the people in the company learned it in college\n",
    "\n"
   ]
  },
  {
   "cell_type": "markdown",
   "metadata": {},
   "source": [
    "# Five-minute Jupyter course\n",
    "\n",
    "When we type into Jupyter, we're typing into a \"cell.\"  Typing can happen in one of two modes:\n",
    "\n",
    "- In edit mode (like I have right now), writing appears in the cell. You can enter edit mode by clicking inside of the cell or by pressing ENTER. It has a blueish outline.\n",
    "- In command mode, anything you type is taken as a Jupyter command, something you want Jupyter to change/do. You can enter command mode by clicking to the left of the cell or by pressing ESC. A white/gray outline shows that we're in command mode.\n",
    "\n",
    "What commands do we have in command mode?\n",
    "- `c` -- copy the current cell\n",
    "- `x` -- cut the current cell\n",
    "- `v` -- paste the current cell\n",
    "- `a` -- add a new cell *above* the current one\n",
    "- `b` -- add a new cell *below* the current one\n",
    "- Shift+ENTER -- executes the current cell (if it's code) or formats it if it's in Markdown (like I'm using now)\n",
    "- `m` -- makes the cell in Markdown mode (for text)\n",
    "- `y` -- makes the cell in Python mode (for code)"
   ]
  },
  {
   "cell_type": "code",
   "execution_count": 2,
   "metadata": {},
   "outputs": [
    {
     "name": "stdout",
     "output_type": "stream",
     "text": [
      "Hello?\n"
     ]
    }
   ],
   "source": [
    "# If I'm in Jupyter, then I really want to be coding!\n",
    "# this cell is in Python mode\n",
    "\n",
    "# Currently, I'm writing comments, all of which start with #\n",
    "# from # to the end of the line, Python ignores anything we write.\n",
    "# Comments are meant for your colleagues or for your future self\n",
    "\n",
    "# I'm going to use the \"print\" function. Functions are the verbs in Python.\n",
    "# I execute the function with ()\n",
    "# Notice that \"print\" is all lowercase. Almost nothing in Python uses capital letters!\n",
    "# Inside of the (), we have an argument (a value) that we're passing to print, the\n",
    "# thing that we want to print -- here, it's text, inside of '', and we're saying hello\n",
    "\n",
    "print('Hello?')     "
   ]
  },
  {
   "cell_type": "code",
   "execution_count": 3,
   "metadata": {},
   "outputs": [
    {
     "name": "stdout",
     "output_type": "stream",
     "text": [
      "5\n"
     ]
    }
   ],
   "source": [
    "# I can also print numbers\n",
    "\n",
    "print(5)  # notice that 5 doesn't have quotes around it, because it's an integer (whole number)"
   ]
  },
  {
   "cell_type": "code",
   "execution_count": 4,
   "metadata": {},
   "outputs": [
    {
     "name": "stdout",
     "output_type": "stream",
     "text": [
      "10\n"
     ]
    }
   ],
   "source": [
    "# I can even use + as an operator on two values\n",
    "\n",
    "print(2 + 8)   # first, Python calculates 2+8, then print is handed 10, which it displays"
   ]
  },
  {
   "cell_type": "code",
   "execution_count": 5,
   "metadata": {},
   "outputs": [
    {
     "name": "stdout",
     "output_type": "stream",
     "text": [
      "abcdefgh\n"
     ]
    }
   ],
   "source": [
    "# what if I were to do this:\n",
    "\n",
    "print('abcd' + 'efgh')   # can I add together two pieces of text?"
   ]
  },
  {
   "cell_type": "code",
   "execution_count": 6,
   "metadata": {},
   "outputs": [
    {
     "ename": "TypeError",
     "evalue": "can only concatenate str (not \"int\") to str",
     "output_type": "error",
     "traceback": [
      "\u001b[1;31m---------------------------------------------------------------------------\u001b[0m",
      "\u001b[1;31mTypeError\u001b[0m                                 Traceback (most recent call last)",
      "Cell \u001b[1;32mIn[6], line 5\u001b[0m\n\u001b[0;32m      1\u001b[0m \u001b[38;5;66;03m# you can use + with numbers\u001b[39;00m\n\u001b[0;32m      2\u001b[0m \u001b[38;5;66;03m# you can use + with text (strings)\u001b[39;00m\n\u001b[0;32m      3\u001b[0m \n\u001b[0;32m      4\u001b[0m \u001b[38;5;66;03m# can we mix them up?\u001b[39;00m\n\u001b[1;32m----> 5\u001b[0m \u001b[38;5;28mprint\u001b[39m(\u001b[38;5;124;43m'\u001b[39;49m\u001b[38;5;124;43mabcd\u001b[39;49m\u001b[38;5;124;43m'\u001b[39;49m\u001b[43m \u001b[49m\u001b[38;5;241;43m+\u001b[39;49m\u001b[43m \u001b[49m\u001b[38;5;241;43m5\u001b[39;49m)\n",
      "\u001b[1;31mTypeError\u001b[0m: can only concatenate str (not \"int\") to str"
     ]
    }
   ],
   "source": [
    "# you can use + with numbers\n",
    "# you can use + with text (strings)\n",
    "\n",
    "# can we mix them up?\n",
    "print('abcd' + 5)"
   ]
  },
  {
   "cell_type": "code",
   "execution_count": 7,
   "metadata": {},
   "outputs": [
    {
     "name": "stdout",
     "output_type": "stream",
     "text": [
      "12\n"
     ]
    }
   ],
   "source": [
    "# what if I had numbers inside of the quote?\n",
    "# that is: I'll create two text strings, each containing numbers\n",
    "\n",
    "print('1' + '2')  # now what will we get?"
   ]
  },
  {
   "cell_type": "code",
   "execution_count": null,
   "metadata": {},
   "outputs": [],
   "source": []
  }
 ],
 "metadata": {
  "kernelspec": {
   "display_name": "Python 3 (ipykernel)",
   "language": "python",
   "name": "python3"
  },
  "language_info": {
   "codemirror_mode": {
    "name": "ipython",
    "version": 3
   },
   "file_extension": ".py",
   "mimetype": "text/x-python",
   "name": "python",
   "nbconvert_exporter": "python",
   "pygments_lexer": "ipython3",
   "version": "3.12.1"
  }
 },
 "nbformat": 4,
 "nbformat_minor": 4
}
