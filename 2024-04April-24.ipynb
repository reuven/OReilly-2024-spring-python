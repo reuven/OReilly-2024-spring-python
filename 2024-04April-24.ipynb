{
 "cells": [
  {
   "cell_type": "markdown",
   "metadata": {},
   "source": [
    "# Welcome!\n",
    "\n",
    "1. Fundamentals\n",
    "    - Printing outputs on the screen\n",
    "    - Getting inputs\n",
    "    - Values and variables\n",
    "    - Assignment\n",
    "    - Comparisons\n",
    "    - Conditionals\n",
    "    - Numbers (integers and floats)\n",
    "    - Strings (text)\n",
    "    - Methods (what are they, and how do we use them?)\n",
    "2. Loops, lists, and tuples\n",
    "    - Different kinds of loops (`for` and `while`)\n",
    "    - Looping over strings and ranges of numbers\n",
    "    - Lists -- a new data structure, and how they work\n",
    "    - Turning strings into lists, and back\n",
    "    - Tuples\n",
    "    - Tuple unpacking\n",
    "3. Dictionaries and files\n",
    "    - Dicts as a data structure\n",
    "    - Reading from (and a little writing to) text files\n",
    "4. Functions\n",
    "    - What are functions?\n",
    "    - Defining our own functions\n",
    "    - Arguments and parameters\n",
    "    - Local vs. global variables\n",
    "5. Modules and packages\n",
    "    - Using modules with `import`\n",
    "    - How to use modules in the standard library\n",
    "    - A little bit about how to write our own modules\n",
    "    - Packages and downloading them from PyPI with `pip`"
   ]
  },
  {
   "cell_type": "code",
   "execution_count": null,
   "metadata": {},
   "outputs": [],
   "source": []
  }
 ],
 "metadata": {
  "kernelspec": {
   "display_name": "Python 3 (ipykernel)",
   "language": "python",
   "name": "python3"
  },
  "language_info": {
   "codemirror_mode": {
    "name": "ipython",
    "version": 3
   },
   "file_extension": ".py",
   "mimetype": "text/x-python",
   "name": "python",
   "nbconvert_exporter": "python",
   "pygments_lexer": "ipython3",
   "version": "3.12.1"
  }
 },
 "nbformat": 4,
 "nbformat_minor": 4
}
