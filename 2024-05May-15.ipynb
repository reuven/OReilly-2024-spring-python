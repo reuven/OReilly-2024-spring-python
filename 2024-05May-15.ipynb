{
 "cells": [
  {
   "cell_type": "markdown",
   "id": "e489e12f-fac4-42a7-af8b-d4dbc02aa51e",
   "metadata": {},
   "source": [
    "# Agenda: Functions!\n",
    "\n",
    "1. Q&A\n",
    "2. What are functions, anyway?\n",
    "3. Defining functions\n",
    "4. Arguments to functions\n",
    "5. Return values\n",
    "6. Complex return values\n",
    "7. Local variables vs. global variables"
   ]
  },
  {
   "cell_type": "markdown",
   "id": "3d63ab85-7dd7-4dcb-ae07-7765f7e15a84",
   "metadata": {},
   "source": [
    "# Exercise: Dict to config\n",
    "\n",
    "1. Define a (small) dictionary.\n",
    "2. Iterate over the dict, one key-value pair at a time.\n",
    "3. Write each key-value pair to a file on one line, with a `:` between the key and the value.\n",
    "4. Print the contents of the file."
   ]
  },
  {
   "cell_type": "code",
   "execution_count": 3,
   "id": "905901a3-4335-4480-aa02-1ba95e705b0c",
   "metadata": {},
   "outputs": [
    {
     "name": "stdout",
     "output_type": "stream",
     "text": [
      "a:100\n",
      "b:200\n",
      "c:hello\n"
     ]
    }
   ],
   "source": [
    "d = {'a':100, 'b':200, 'c':'hello'}\n",
    "\n",
    "for key, value in d.items():\n",
    "    print(f'{key}:{value}')"
   ]
  },
  {
   "cell_type": "code",
   "execution_count": 4,
   "id": "64e24371-399e-4a4e-b3ac-8c43f5537606",
   "metadata": {},
   "outputs": [],
   "source": [
    "d = {'a':100, 'b':200, 'c':'hello'}\n",
    "\n",
    "with open('config.txt', 'w') as f:  # open the file, and auto-close/flush it when the block ends\n",
    "    for key, value in d.items():\n",
    "        f.write(f'{key}:{value}\\n')"
   ]
  },
  {
   "cell_type": "code",
   "execution_count": 5,
   "id": "ccbbec81-bae8-49f9-b66c-d5a7e4bf1ddf",
   "metadata": {},
   "outputs": [
    {
     "name": "stdout",
     "output_type": "stream",
     "text": [
      "a:100\n",
      "b:200\n",
      "c:hello\n"
     ]
    }
   ],
   "source": [
    "!cat config.txt"
   ]
  },
  {
   "cell_type": "code",
   "execution_count": null,
   "id": "4d34faae-57c1-4739-b191-5f685bae5362",
   "metadata": {},
   "outputs": [],
   "source": [
    "# this code has a few problems:\n",
    "# (1) the dict, small, is empty. So nothing will be written to the file\n",
    "# (2) this code puts \"with\" inside of a \"for\" loop. Typically, you want to do the opposite\n",
    "# (3) because whoever wr\n",
    "\n",
    "small={}\n",
    "\n",
    "for key,value in small.items():\n",
    "    with open('small.txt','a') as f:\n",
    "        f.write(f'{key}: {value}\\n')\n",
    "        \n",
    "with open('small.txt') as f:\n",
    "    print(f.read())"
   ]
  }
 ],
 "metadata": {
  "kernelspec": {
   "display_name": "Python 3 (ipykernel)",
   "language": "python",
   "name": "python3"
  },
  "language_info": {
   "codemirror_mode": {
    "name": "ipython",
    "version": 3
   },
   "file_extension": ".py",
   "mimetype": "text/x-python",
   "name": "python",
   "nbconvert_exporter": "python",
   "pygments_lexer": "ipython3",
   "version": "3.12.2"
  },
  "widgets": {
   "application/vnd.jupyter.widget-state+json": {
    "state": {},
    "version_major": 2,
    "version_minor": 0
   }
  }
 },
 "nbformat": 4,
 "nbformat_minor": 5
}
