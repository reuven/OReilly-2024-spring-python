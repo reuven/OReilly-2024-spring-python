{
 "cells": [
  {
   "cell_type": "markdown",
   "id": "e489e12f-fac4-42a7-af8b-d4dbc02aa51e",
   "metadata": {},
   "source": [
    "# Agenda: Functions!\n",
    "\n",
    "1. Q&A\n",
    "2. What are functions, anyway?\n",
    "3. Defining functions\n",
    "4. Arguments to functions\n",
    "5. Return values\n",
    "6. Complex return values\n",
    "7. Local variables vs. global variables"
   ]
  },
  {
   "cell_type": "markdown",
   "id": "3d63ab85-7dd7-4dcb-ae07-7765f7e15a84",
   "metadata": {},
   "source": [
    "# Exercise: Dict to config\n",
    "\n",
    "1. Define a (small) dictionary.\n",
    "2. Iterate over the dict, one key-value pair at a time.\n",
    "3. Write each key-value pair to a file on one line, with a `:` between the key and the value.\n",
    "4. Print the contents of the file."
   ]
  },
  {
   "cell_type": "code",
   "execution_count": 3,
   "id": "905901a3-4335-4480-aa02-1ba95e705b0c",
   "metadata": {},
   "outputs": [
    {
     "name": "stdout",
     "output_type": "stream",
     "text": [
      "a:100\n",
      "b:200\n",
      "c:hello\n"
     ]
    }
   ],
   "source": [
    "d = {'a':100, 'b':200, 'c':'hello'}\n",
    "\n",
    "for key, value in d.items():\n",
    "    print(f'{key}:{value}')"
   ]
  },
  {
   "cell_type": "code",
   "execution_count": 4,
   "id": "64e24371-399e-4a4e-b3ac-8c43f5537606",
   "metadata": {},
   "outputs": [],
   "source": [
    "d = {'a':100, 'b':200, 'c':'hello'}\n",
    "\n",
    "with open('config.txt', 'w') as f:  # open the file, and auto-close/flush it when the block ends\n",
    "    for key, value in d.items():\n",
    "        f.write(f'{key}:{value}\\n')"
   ]
  },
  {
   "cell_type": "code",
   "execution_count": 5,
   "id": "ccbbec81-bae8-49f9-b66c-d5a7e4bf1ddf",
   "metadata": {},
   "outputs": [
    {
     "name": "stdout",
     "output_type": "stream",
     "text": [
      "a:100\n",
      "b:200\n",
      "c:hello\n"
     ]
    }
   ],
   "source": [
    "!cat config.txt"
   ]
  },
  {
   "cell_type": "code",
   "execution_count": 7,
   "id": "4d34faae-57c1-4739-b191-5f685bae5362",
   "metadata": {},
   "outputs": [
    {
     "ename": "FileNotFoundError",
     "evalue": "[Errno 2] No such file or directory: 'small.txt'",
     "output_type": "error",
     "traceback": [
      "\u001b[0;31m---------------------------------------------------------------------------\u001b[0m",
      "\u001b[0;31mFileNotFoundError\u001b[0m                         Traceback (most recent call last)",
      "Cell \u001b[0;32mIn[7], line 17\u001b[0m\n\u001b[1;32m     14\u001b[0m     \u001b[38;5;28;01mwith\u001b[39;00m \u001b[38;5;28mopen\u001b[39m(\u001b[38;5;124m'\u001b[39m\u001b[38;5;124msmall.txt\u001b[39m\u001b[38;5;124m'\u001b[39m,\u001b[38;5;124m'\u001b[39m\u001b[38;5;124ma\u001b[39m\u001b[38;5;124m'\u001b[39m) \u001b[38;5;28;01mas\u001b[39;00m f:   \u001b[38;5;66;03m# open with \"a\" means: Write to the file, appending to what was there before\u001b[39;00m\n\u001b[1;32m     15\u001b[0m         f\u001b[38;5;241m.\u001b[39mwrite(\u001b[38;5;124mf\u001b[39m\u001b[38;5;124m'\u001b[39m\u001b[38;5;132;01m{\u001b[39;00mkey\u001b[38;5;132;01m}\u001b[39;00m\u001b[38;5;124m: \u001b[39m\u001b[38;5;132;01m{\u001b[39;00mvalue\u001b[38;5;132;01m}\u001b[39;00m\u001b[38;5;130;01m\\n\u001b[39;00m\u001b[38;5;124m'\u001b[39m)\n\u001b[0;32m---> 17\u001b[0m \u001b[38;5;28;01mwith\u001b[39;00m \u001b[38;5;28;43mopen\u001b[39;49m\u001b[43m(\u001b[49m\u001b[38;5;124;43m'\u001b[39;49m\u001b[38;5;124;43msmall.txt\u001b[39;49m\u001b[38;5;124;43m'\u001b[39;49m\u001b[43m)\u001b[49m \u001b[38;5;28;01mas\u001b[39;00m f:\n\u001b[1;32m     18\u001b[0m     \u001b[38;5;28mprint\u001b[39m(f\u001b[38;5;241m.\u001b[39mread())\n",
      "File \u001b[0;32m~/.pyenv/versions/3.12.2/lib/python3.12/site-packages/IPython/core/interactiveshell.py:310\u001b[0m, in \u001b[0;36m_modified_open\u001b[0;34m(file, *args, **kwargs)\u001b[0m\n\u001b[1;32m    303\u001b[0m \u001b[38;5;28;01mif\u001b[39;00m file \u001b[38;5;129;01min\u001b[39;00m {\u001b[38;5;241m0\u001b[39m, \u001b[38;5;241m1\u001b[39m, \u001b[38;5;241m2\u001b[39m}:\n\u001b[1;32m    304\u001b[0m     \u001b[38;5;28;01mraise\u001b[39;00m \u001b[38;5;167;01mValueError\u001b[39;00m(\n\u001b[1;32m    305\u001b[0m         \u001b[38;5;124mf\u001b[39m\u001b[38;5;124m\"\u001b[39m\u001b[38;5;124mIPython won\u001b[39m\u001b[38;5;124m'\u001b[39m\u001b[38;5;124mt let you open fd=\u001b[39m\u001b[38;5;132;01m{\u001b[39;00mfile\u001b[38;5;132;01m}\u001b[39;00m\u001b[38;5;124m by default \u001b[39m\u001b[38;5;124m\"\u001b[39m\n\u001b[1;32m    306\u001b[0m         \u001b[38;5;124m\"\u001b[39m\u001b[38;5;124mas it is likely to crash IPython. If you know what you are doing, \u001b[39m\u001b[38;5;124m\"\u001b[39m\n\u001b[1;32m    307\u001b[0m         \u001b[38;5;124m\"\u001b[39m\u001b[38;5;124myou can use builtins\u001b[39m\u001b[38;5;124m'\u001b[39m\u001b[38;5;124m open.\u001b[39m\u001b[38;5;124m\"\u001b[39m\n\u001b[1;32m    308\u001b[0m     )\n\u001b[0;32m--> 310\u001b[0m \u001b[38;5;28;01mreturn\u001b[39;00m \u001b[43mio_open\u001b[49m\u001b[43m(\u001b[49m\u001b[43mfile\u001b[49m\u001b[43m,\u001b[49m\u001b[43m \u001b[49m\u001b[38;5;241;43m*\u001b[39;49m\u001b[43margs\u001b[49m\u001b[43m,\u001b[49m\u001b[43m \u001b[49m\u001b[38;5;241;43m*\u001b[39;49m\u001b[38;5;241;43m*\u001b[39;49m\u001b[43mkwargs\u001b[49m\u001b[43m)\u001b[49m\n",
      "\u001b[0;31mFileNotFoundError\u001b[0m: [Errno 2] No such file or directory: 'small.txt'"
     ]
    }
   ],
   "source": [
    "# this code has a few problems:\n",
    "# (1) the dict, small, is empty. So nothing will be written to the file\n",
    "# (2) this code puts \"with\" inside of a \"for\" loop. Typically, you want to do the opposite\n",
    "# (3) because whoever wrote this put \"with\" inside of the \"for\" loop, we couldn't use\n",
    "#     the \"w\" option for \"open\".  If we open with \"w\", that means: Remove any contents that \n",
    "#     were there before; the file starts over from being empty.\n",
    "# (4) because the dict is empty, we do 0 iterations of the for loop, Which means that \"open\" is\n",
    "#     never called to write to the file. Which means that when , in line 16, we open the file\n",
    "#     for reading, Python gives us an error.\n",
    "\n",
    "small={}\n",
    "\n",
    "for key,value in small.items():\n",
    "    with open('small.txt','a') as f:   # open with \"a\" means: Write to the file, appending to what was there before\n",
    "        f.write(f'{key}: {value}\\n')\n",
    "        \n",
    "with open('small.txt') as f:\n",
    "    print(f.read())"
   ]
  },
  {
   "cell_type": "code",
   "execution_count": 8,
   "id": "69c6620c-56d1-422f-b979-f528e0405467",
   "metadata": {},
   "outputs": [
    {
     "name": "stdout",
     "output_type": "stream",
     "text": [
      "config.txt\t      mini-access-log.txt  myfile2.txt\twcfile.txt\n",
      "linux-etc-passwd.txt  myfile.txt\t   nums.txt\n"
     ]
    }
   ],
   "source": [
    "!ls *.txt"
   ]
  },
  {
   "cell_type": "markdown",
   "id": "6b782d41-34f3-4025-beed-2b94d936371b",
   "metadata": {},
   "source": [
    "# Functions\n",
    "\n",
    "Functions are the verbs of a programming language. You use a function (or a method) to do something in a program. A function is defined in terms of already existing verbs. Meaning: If you define a function, then you're teaching a new verb to Python.\n",
    "\n",
    "That raises some questions: Do we really need functions?\n",
    "\n",
    "The answer is: No, at least not in a technical sense.\n",
    "\n",
    "But functions give us a lot of semantic power, and they make it possible to think in new and better ways about our code. They also make our code much more readable, concise, and clear. It's far easier to maintain code that uses functions than code that doesn't.\n",
    "\n",
    "One of the most important ideas in all of computer science is that of \"abstraction.\" The idea of abstraction is that you hide the low-level details, so that you can concentrate on the big, high-level thoughts.\n",
    "\n",
    "You car consists of thousands of parts and hundreds of processes taking place at any given time.\n",
    "\n",
    "- How would you drive, if you had to think about all of those processes?\n",
    "- How would you think about traffic jams, if you had to think about all of those processes?\n",
    "\n",
    "By hiding the details, we're able to think at a higher level. That's abstraction.\n",
    "\n",
    "Functions allow us to scoop up a whole bunch of existing functionality and put it under a single roof, a single name, that we can call whenever we need. That's a function.\n",
    "\n"
   ]
  },
  {
   "cell_type": "markdown",
   "id": "a2ded53a-66ac-4d42-b949-671b299a6d0d",
   "metadata": {},
   "source": [
    "# Let's define a function!\n",
    "\n",
    "When we define a function, we'll use the keyword `def`. \n",
    "- Following `def`, we put the name of the function. The function's name is actually a variable name, so it has to follow all of the same rules and conventions.\n",
    "- After the function's name, we'll have empty parentheses. We will put something in there soon, but those are the parameter names for any arguments we want to pass to our function.\n",
    "- A colon (:) at the end of the line, marking the end of the first line\n",
    "- An indented block. This is known as the \"function body.\"\n",
    "    - The function body can, theoretically, be as long as you want\n",
    "    - It can include *any Python code* with very rare exception"
   ]
  },
  {
   "cell_type": "code",
   "execution_count": 9,
   "id": "7a4cabc4-f60a-4280-b672-b4d87d88bcb0",
   "metadata": {},
   "outputs": [],
   "source": [
    "def hello():\n",
    "    print('Hello!')"
   ]
  },
  {
   "cell_type": "code",
   "execution_count": 10,
   "id": "d9d83056-029a-46d1-9c73-9e4bf58fdb9e",
   "metadata": {},
   "outputs": [
    {
     "name": "stdout",
     "output_type": "stream",
     "text": [
      "Hello!\n"
     ]
    }
   ],
   "source": [
    "hello()   # run the function I just created"
   ]
  },
  {
   "cell_type": "markdown",
   "id": "ee41dd2a-45d8-42f1-ad75-44baccb814b3",
   "metadata": {},
   "source": [
    "# Exercise: Calculator\n",
    "\n",
    "1. Define a function, `calc`, that will ask the user for an expression, break it down, try to answer it, and if so, then print the result.\n",
    "2. Ask the user to enter a string containing a mathematical expression using either `+` or `-`.\n",
    "3. Break the string apart into: Number, operator, number.\n",
    "4. If the operator is `+` or `-`, then print the full expression and its result.\n",
    "5. Otherwise, print the expression and a question mark.\n",
    "\n",
    "Examples:\n",
    "\n",
    "    Calculate: 2 + 5\n",
    "    2 + 5 = 7\n",
    "    Calculate: 10 - 7\n",
    "    10 - 7 = 3\n"
   ]
  },
  {
   "cell_type": "code",
   "execution_count": 11,
   "id": "e6a61537-45f0-44a0-9d64-504a9f5b0410",
   "metadata": {},
   "outputs": [],
   "source": [
    "def calc():\n",
    "    s = input('Enter math expression: ').strip()\n",
    "\n",
    "    # tuple unpacking\n",
    "    num1, op, num2 = s.split()\n",
    "    num1 = int(num1)\n",
    "    num2 = int(num2)\n",
    "\n",
    "    if op == '+':\n",
    "        result = num1 + num2\n",
    "    elif op == '-':\n",
    "        result = num1 - num2\n",
    "    else:\n",
    "        result = '(WHo knows?)'\n",
    "\n",
    "    print(f'{num1} {op} {num2} = {result}')"
   ]
  },
  {
   "cell_type": "code",
   "execution_count": 12,
   "id": "88ac3f43-c498-40cd-9b9a-363d5fbc2c7e",
   "metadata": {},
   "outputs": [
    {
     "name": "stdin",
     "output_type": "stream",
     "text": [
      "Enter math expression:  2 + 3\n"
     ]
    },
    {
     "name": "stdout",
     "output_type": "stream",
     "text": [
      "2 + 3 = 5\n"
     ]
    }
   ],
   "source": [
    "calc()"
   ]
  },
  {
   "cell_type": "code",
   "execution_count": 14,
   "id": "df394871-fb74-4e27-8a53-75df1102cec1",
   "metadata": {},
   "outputs": [
    {
     "name": "stdin",
     "output_type": "stream",
     "text": [
      "Enter math expression:  10 - 8\n"
     ]
    },
    {
     "name": "stdout",
     "output_type": "stream",
     "text": [
      "10 - 8 = 2\n"
     ]
    }
   ],
   "source": [
    "calc()"
   ]
  },
  {
   "cell_type": "code",
   "execution_count": 16,
   "id": "e66ee1d5-7b8b-40e0-8c47-43df372fd17c",
   "metadata": {},
   "outputs": [],
   "source": [
    "s = '2 + 3'"
   ]
  },
  {
   "cell_type": "code",
   "execution_count": 17,
   "id": "70177a22-1b8a-4e6a-b611-cb8b64612aa7",
   "metadata": {},
   "outputs": [
    {
     "data": {
      "text/plain": [
       "['2', '+', '3']"
      ]
     },
     "execution_count": 17,
     "metadata": {},
     "output_type": "execute_result"
    }
   ],
   "source": [
    "s.split() # by default, uses whitespace"
   ]
  },
  {
   "cell_type": "code",
   "execution_count": 19,
   "id": "1153d7f1-659b-4e2c-bee0-b4195948f057",
   "metadata": {},
   "outputs": [],
   "source": [
    "# we can grab the 3 elements of s.split()\n",
    "num1 = s.split()[0]\n",
    "op = s.split()[1]\n",
    "num2 = s.split()[2]"
   ]
  },
  {
   "cell_type": "code",
   "execution_count": 21,
   "id": "fcac1bb3-38e7-4c4c-9c17-d44aefb4c95c",
   "metadata": {},
   "outputs": [],
   "source": [
    "# we can do this with unpacking all at once!\n",
    "# this works because s.split always returns a list of strings\n",
    "# because there are three strings in the output, and we have three variables,\n",
    "# can use unpacking here.\n",
    "\n",
    "num1, op, num2 = s.split()"
   ]
  },
  {
   "cell_type": "code",
   "execution_count": null,
   "id": "01d871e4-4a49-497f-ae4a-14d2f350968f",
   "metadata": {},
   "outputs": [],
   "source": []
  },
  {
   "cell_type": "code",
   "execution_count": 23,
   "id": "92be8f6b-2307-4deb-8fd8-c1527a6bb1ab",
   "metadata": {},
   "outputs": [
    {
     "name": "stdin",
     "output_type": "stream",
     "text": [
      "Enter math expression:  2+3\n"
     ]
    },
    {
     "ename": "ValueError",
     "evalue": "not enough values to unpack (expected 3, got 1)",
     "output_type": "error",
     "traceback": [
      "\u001b[0;31m---------------------------------------------------------------------------\u001b[0m",
      "\u001b[0;31mValueError\u001b[0m                                Traceback (most recent call last)",
      "Cell \u001b[0;32mIn[23], line 1\u001b[0m\n\u001b[0;32m----> 1\u001b[0m \u001b[43mcalc\u001b[49m\u001b[43m(\u001b[49m\u001b[43m)\u001b[49m  \u001b[38;5;66;03m# I have defined a verb (function), and I can use it whenever/wherever I want.\u001b[39;00m\n",
      "Cell \u001b[0;32mIn[11], line 5\u001b[0m, in \u001b[0;36mcalc\u001b[0;34m()\u001b[0m\n\u001b[1;32m      2\u001b[0m s \u001b[38;5;241m=\u001b[39m \u001b[38;5;28minput\u001b[39m(\u001b[38;5;124m'\u001b[39m\u001b[38;5;124mEnter math expression: \u001b[39m\u001b[38;5;124m'\u001b[39m)\u001b[38;5;241m.\u001b[39mstrip()\n\u001b[1;32m      4\u001b[0m \u001b[38;5;66;03m# tuple unpacking\u001b[39;00m\n\u001b[0;32m----> 5\u001b[0m num1, op, num2 \u001b[38;5;241m=\u001b[39m s\u001b[38;5;241m.\u001b[39msplit()\n\u001b[1;32m      6\u001b[0m num1 \u001b[38;5;241m=\u001b[39m \u001b[38;5;28mint\u001b[39m(num1)\n\u001b[1;32m      7\u001b[0m num2 \u001b[38;5;241m=\u001b[39m \u001b[38;5;28mint\u001b[39m(num2)\n",
      "\u001b[0;31mValueError\u001b[0m: not enough values to unpack (expected 3, got 1)"
     ]
    }
   ],
   "source": [
    "calc()  # I have defined a verb (function), and I can use it whenever/wherever I want."
   ]
  },
  {
   "cell_type": "code",
   "execution_count": null,
   "id": "33a45dce-3225-403f-95ad-13120dee16f0",
   "metadata": {},
   "outputs": [],
   "source": []
  },
  {
   "cell_type": "markdown",
   "id": "852c58a7-e774-40ad-96c9-2b7b470c0cfd",
   "metadata": {},
   "source": [
    "# Updating a function\n",
    "\n",
    "In Python, you can define a function more than once. Each time overwrites the previous definition. \n",
    "\n",
    "COuld I define `calc` again, with some changes? Yes; as soon as I use`def` again with the same function name, the old one will disappear."
   ]
  },
  {
   "cell_type": "code",
   "execution_count": 29,
   "id": "d744ca86-06e5-49a9-aa60-e215901dc6c7",
   "metadata": {},
   "outputs": [],
   "source": [
    "# let's practice unpacking a bit\n",
    "\n",
    "mylist = [10, 20, 30, 40]\n",
    "a,b,c,d = mylist   # four elements on the right, four variables on the left -- should be fine!"
   ]
  },
  {
   "cell_type": "code",
   "execution_count": 30,
   "id": "f6b46fb6-3dd9-431c-95d7-68c3289826ab",
   "metadata": {},
   "outputs": [
    {
     "data": {
      "text/plain": [
       "10"
      ]
     },
     "execution_count": 30,
     "metadata": {},
     "output_type": "execute_result"
    }
   ],
   "source": [
    "a"
   ]
  },
  {
   "cell_type": "code",
   "execution_count": 31,
   "id": "6a5988a3-1022-42f3-ba9c-e9120299c230",
   "metadata": {},
   "outputs": [
    {
     "data": {
      "text/plain": [
       "20"
      ]
     },
     "execution_count": 31,
     "metadata": {},
     "output_type": "execute_result"
    }
   ],
   "source": [
    "b"
   ]
  },
  {
   "cell_type": "code",
   "execution_count": 32,
   "id": "ed7abcaf-dac0-48bb-bc59-7bfa1a08f9ab",
   "metadata": {},
   "outputs": [
    {
     "data": {
      "text/plain": [
       "30"
      ]
     },
     "execution_count": 32,
     "metadata": {},
     "output_type": "execute_result"
    }
   ],
   "source": [
    "c"
   ]
  },
  {
   "cell_type": "code",
   "execution_count": 33,
   "id": "e5429e32-8cd3-421a-84a3-f3a022ef7482",
   "metadata": {},
   "outputs": [
    {
     "data": {
      "text/plain": [
       "40"
      ]
     },
     "execution_count": 33,
     "metadata": {},
     "output_type": "execute_result"
    }
   ],
   "source": [
    "d"
   ]
  },
  {
   "cell_type": "code",
   "execution_count": 34,
   "id": "61edcbcb-15c5-4ccf-acd8-a372ebafdad3",
   "metadata": {},
   "outputs": [],
   "source": [
    "t = ('a', 100)\n",
    "\n",
    "key, value = t"
   ]
  },
  {
   "cell_type": "code",
   "execution_count": 35,
   "id": "cb5aeeef-408c-480c-b0e7-a27ce6f68ef1",
   "metadata": {},
   "outputs": [
    {
     "data": {
      "text/plain": [
       "'a'"
      ]
     },
     "execution_count": 35,
     "metadata": {},
     "output_type": "execute_result"
    }
   ],
   "source": [
    "key"
   ]
  },
  {
   "cell_type": "code",
   "execution_count": 36,
   "id": "3b8b2450-c5f3-473a-8364-f88deb8df2a1",
   "metadata": {},
   "outputs": [
    {
     "data": {
      "text/plain": [
       "100"
      ]
     },
     "execution_count": 36,
     "metadata": {},
     "output_type": "execute_result"
    }
   ],
   "source": [
    "value"
   ]
  },
  {
   "cell_type": "markdown",
   "id": "b8d683af-b535-4dd7-ad15-6e5e8233b895",
   "metadata": {},
   "source": [
    "# Function arguments and parameters\n",
    "\n",
    "When we call a function, we can pass one or more values to it via the parentheses. These values are known as \"arguments.\" When the function is called, the arguments are assigned to the corresponding parameters, names of variables that accept the assignment of the arguments.\n",
    "\n",
    "This gives us much more flexiblity. "
   ]
  },
  {
   "cell_type": "code",
   "execution_count": 37,
   "id": "02a1427b-ac3b-4a09-9fdc-4bebe5e7d3ec",
   "metadata": {},
   "outputs": [],
   "source": [
    "def hello(name):\n",
    "    print(f'Hello, {name}.')"
   ]
  },
  {
   "cell_type": "code",
   "execution_count": 38,
   "id": "13c9a675-dd88-4227-beb7-02b3f3caa313",
   "metadata": {},
   "outputs": [
    {
     "name": "stdout",
     "output_type": "stream",
     "text": [
      "Hello, world.\n"
     ]
    }
   ],
   "source": [
    "hello('world') "
   ]
  },
  {
   "cell_type": "code",
   "execution_count": 39,
   "id": "73b39b90-070d-4cd6-93f8-3da267247419",
   "metadata": {},
   "outputs": [
    {
     "ename": "TypeError",
     "evalue": "hello() missing 1 required positional argument: 'name'",
     "output_type": "error",
     "traceback": [
      "\u001b[0;31m---------------------------------------------------------------------------\u001b[0m",
      "\u001b[0;31mTypeError\u001b[0m                                 Traceback (most recent call last)",
      "Cell \u001b[0;32mIn[39], line 4\u001b[0m\n\u001b[1;32m      1\u001b[0m \u001b[38;5;66;03m# what if I try to invoke the function without any arguments?\u001b[39;00m\n\u001b[1;32m      2\u001b[0m \u001b[38;5;66;03m# will we get an error? \u001b[39;00m\n\u001b[0;32m----> 4\u001b[0m \u001b[43mhello\u001b[49m\u001b[43m(\u001b[49m\u001b[43m)\u001b[49m\n",
      "\u001b[0;31mTypeError\u001b[0m: hello() missing 1 required positional argument: 'name'"
     ]
    }
   ],
   "source": [
    "# what if I try to invoke the function without any arguments?\n",
    "# will we get an error? \n",
    "\n",
    "hello()"
   ]
  },
  {
   "cell_type": "code",
   "execution_count": 40,
   "id": "a1b1bb26-2a05-449b-a016-0f494a3c003b",
   "metadata": {},
   "outputs": [
    {
     "name": "stdout",
     "output_type": "stream",
     "text": [
      "Hello, world.\n"
     ]
    }
   ],
   "source": [
    "# what kinds of values can I pass to hello?\n",
    "\n",
    "hello('world')"
   ]
  },
  {
   "cell_type": "code",
   "execution_count": 41,
   "id": "47686b15-4054-4c01-987b-78a7b0a3e43b",
   "metadata": {},
   "outputs": [
    {
     "name": "stdout",
     "output_type": "stream",
     "text": [
      "Hello, 3.\n"
     ]
    }
   ],
   "source": [
    "hello(3)"
   ]
  },
  {
   "cell_type": "code",
   "execution_count": 42,
   "id": "f80986bb-437e-4816-9d7d-ff68a8362001",
   "metadata": {},
   "outputs": [
    {
     "name": "stdout",
     "output_type": "stream",
     "text": [
      "Hello, {'a': 10, 'b': 20}.\n"
     ]
    }
   ],
   "source": [
    "hello({'a':10, 'b':20})"
   ]
  },
  {
   "cell_type": "markdown",
   "id": "4f73f3ed-d70b-4bb6-aac2-22dbda740fb0",
   "metadata": {},
   "source": [
    "# Arguments vs parameters\n",
    "\n",
    "Many many **MANY** programmers, who have been working in the world for many many years, get these terms confused, and use them in the wrong ways.\n",
    "\n",
    "- An argument is  value. It's a value put inside of parentheses, when we call the function.\n",
    "- A parameter is a variable. It's defined insideo of the function's parentheses.\n",
    "\n",
    "We pass an argument to the function, where it is assigned to a parameter."
   ]
  },
  {
   "cell_type": "markdown",
   "id": "9bfa27a7-ef5c-4dff-b0ac-7bac826914c7",
   "metadata": {},
   "source": [
    "# Exercise: Calc with user input\n",
    "\n",
    "1. Modify `calc` such that it expects to get a string value as an argument.\n",
    "2. The rest of the program should remain the same.\n",
    "3. This basically means: Don't run `input` inside of the function. "
   ]
  },
  {
   "cell_type": "code",
   "execution_count": 43,
   "id": "3caebe8a-24bf-479b-aba4-5ce07a494b6b",
   "metadata": {},
   "outputs": [],
   "source": [
    "def calc(s):\n",
    "    # tuple unpacking\n",
    "    num1, op, num2 = s.split()\n",
    "    num1 = int(num1)\n",
    "    num2 = int(num2)\n",
    "\n",
    "    if op == '+':\n",
    "        result = num1 + num2\n",
    "    elif op == '-':\n",
    "        result = num1 - num2\n",
    "    else:\n",
    "        result = '(WHo knows?)'\n",
    "\n",
    "    print(f'{num1} {op} {num2} = {result}')"
   ]
  },
  {
   "cell_type": "code",
   "execution_count": 45,
   "id": "8160f9be-86e4-4b92-b1a3-bf35fb3b99bf",
   "metadata": {},
   "outputs": [
    {
     "name": "stdout",
     "output_type": "stream",
     "text": [
      "2 + 3 = 5\n"
     ]
    }
   ],
   "source": [
    "calc('2 + 3')  # pass the argument '2 + 3' (a string...) and the function knows what to do!"
   ]
  },
  {
   "cell_type": "markdown",
   "id": "67186e0b-f72e-4dbc-9e0a-cf8e05203169",
   "metadata": {},
   "source": [
    "# Next up\n",
    "\n",
    "1. Argument types\n",
    "2. Multiple arguments\n",
    "3. Return values"
   ]
  },
  {
   "cell_type": "markdown",
   "id": "e754b6cd-b3cf-46a7-80bc-4bbe8752fdfe",
   "metadata": {},
   "source": [
    "# Argument types\n",
    "\n",
    "In many programming languages, when we define a function, and we define the parameters for that function, we also indicate what types of values can be assigned to those parameters.\n",
    "\n",
    "In other words, the language/environment can catch us if/when we make mistakes, ensuring that we don't try to pass an integer where a string is expected, or vice versa.\n",
    "\n",
    "Python has **NONE** of this.  Python is a dynamic language, in which any value can be assigned to any variable. And any value can be passed to any function.\n",
    "\n",
    "(This is changing to some degree, but we won't go into the complexities of it here.)"
   ]
  },
  {
   "cell_type": "code",
   "execution_count": 46,
   "id": "3dbb9219-98cc-4f41-8d04-b930116ac4a0",
   "metadata": {},
   "outputs": [
    {
     "name": "stdout",
     "output_type": "stream",
     "text": [
      "Hello, abcd!\n"
     ]
    }
   ],
   "source": [
    "def hello(name):\n",
    "    print(f'Hello, {name}!')\n",
    "\n",
    "hello('abcd')  # here, we pass a string"
   ]
  },
  {
   "cell_type": "code",
   "execution_count": 47,
   "id": "745fce5b-65d9-46e6-af6c-9ece49ad9939",
   "metadata": {},
   "outputs": [
    {
     "name": "stdout",
     "output_type": "stream",
     "text": [
      "Hello, 3!\n"
     ]
    }
   ],
   "source": [
    "hello(3)  # here, we pass an integer"
   ]
  },
  {
   "cell_type": "code",
   "execution_count": 48,
   "id": "27f0b43b-86df-4603-bedf-27159d6e9d08",
   "metadata": {},
   "outputs": [
    {
     "name": "stdout",
     "output_type": "stream",
     "text": [
      "Hello, [10, 20, 30]!\n"
     ]
    }
   ],
   "source": [
    "hello([10, 20, 30])   #here, we pass a list"
   ]
  },
  {
   "cell_type": "code",
   "execution_count": 49,
   "id": "ad03a817-559d-471a-884b-694813da4a82",
   "metadata": {},
   "outputs": [
    {
     "name": "stdout",
     "output_type": "stream",
     "text": [
      "Hello, <function hello at 0x11316e200>!\n"
     ]
    }
   ],
   "source": [
    "hello(hello)   # here, we pass a *function* to the function"
   ]
  },
  {
   "cell_type": "markdown",
   "id": "adc475dd-7502-45f7-b5b7-e97da121fd8c",
   "metadata": {},
   "source": [
    "# How is this OK?\n",
    "\n",
    "It's true that this can lead to more bugs. And it's true that the Python community is starting to address these issues. But the ways in which we're addressing them do *not* involve changing the langauge directly. Rather, there are tools (such as \"mypy\") that notice when you have a mismatch and warn you.\n",
    "\n",
    "Besides, this is often a very desireable thing. It's great that you can write a function in Python that handles strings, lists, and tuples -- and you don't need to write that function three times."
   ]
  },
  {
   "cell_type": "markdown",
   "id": "37899fbc-6172-4590-af8b-77e0b161bdf0",
   "metadata": {},
   "source": [
    "# Multiple arguments/parameters\n",
    "\n",
    "Can I define a function with more than one parameter? Yes, just put the names with commas between them.\n",
    "\n",
    "How, then, do I call a function with more than one argument? Just put commas between them."
   ]
  },
  {
   "cell_type": "code",
   "execution_count": 50,
   "id": "9799552d-b014-46be-8d20-2265956cc752",
   "metadata": {},
   "outputs": [],
   "source": [
    "def hello(first, last):\n",
    "    print(f'Hello, {first} {last}')"
   ]
  },
  {
   "cell_type": "code",
   "execution_count": 51,
   "id": "3c28e3c2-fa10-4888-a79d-d93284755040",
   "metadata": {},
   "outputs": [
    {
     "ename": "TypeError",
     "evalue": "hello() missing 1 required positional argument: 'last'",
     "output_type": "error",
     "traceback": [
      "\u001b[0;31m---------------------------------------------------------------------------\u001b[0m",
      "\u001b[0;31mTypeError\u001b[0m                                 Traceback (most recent call last)",
      "Cell \u001b[0;32mIn[51], line 1\u001b[0m\n\u001b[0;32m----> 1\u001b[0m \u001b[43mhello\u001b[49m\u001b[43m(\u001b[49m\u001b[38;5;124;43m'\u001b[39;49m\u001b[38;5;124;43mworld\u001b[39;49m\u001b[38;5;124;43m'\u001b[39;49m\u001b[43m)\u001b[49m\n",
      "\u001b[0;31mTypeError\u001b[0m: hello() missing 1 required positional argument: 'last'"
     ]
    }
   ],
   "source": [
    "hello('world')"
   ]
  },
  {
   "cell_type": "code",
   "execution_count": 52,
   "id": "d11a7391-f452-4256-9248-13aee7b75427",
   "metadata": {},
   "outputs": [
    {
     "name": "stdout",
     "output_type": "stream",
     "text": [
      "Hello, Reuven Lerner\n"
     ]
    }
   ],
   "source": [
    "hello('Reuven', 'Lerner')"
   ]
  },
  {
   "cell_type": "code",
   "execution_count": 53,
   "id": "3347d0c6-ece6-4bbb-9ff3-3cf846c19ba1",
   "metadata": {},
   "outputs": [
    {
     "name": "stdout",
     "output_type": "stream",
     "text": [
      "Hello, 2 4\n"
     ]
    }
   ],
   "source": [
    "hello(2, 4)"
   ]
  },
  {
   "cell_type": "code",
   "execution_count": 54,
   "id": "e2f16349-f1e1-49c7-82b6-e8f3b3442e56",
   "metadata": {},
   "outputs": [],
   "source": [
    "# IB\n",
    "\n",
    "def calc(string):\n",
    "    num1, op, num2 = string.split()\n",
    "    num1 = int(num1)\n",
    "    num2 = int(num2)\n",
    "\n",
    "    if op == '+':\n",
    "        result = num1 + num2\n",
    "    elif op == '-':\n",
    "        result = num1 - num2\n",
    "    else:\n",
    "        result = 'who knows?'\n",
    "    print(f'{num1} {op} {num2} = {result}')"
   ]
  },
  {
   "cell_type": "code",
   "execution_count": 57,
   "id": "6b77d04d-95b0-4fa5-993a-c8427000b02f",
   "metadata": {},
   "outputs": [
    {
     "name": "stdout",
     "output_type": "stream",
     "text": [
      "2 + 3 = 5\n"
     ]
    }
   ],
   "source": [
    "calc('2 + 3')"
   ]
  },
  {
   "cell_type": "code",
   "execution_count": 58,
   "id": "5c102965-2fa7-4b86-89f0-464b92fb39b1",
   "metadata": {},
   "outputs": [
    {
     "name": "stdout",
     "output_type": "stream",
     "text": [
      "8 - 10 = -2\n"
     ]
    }
   ],
   "source": [
    "calc('8 - 10')"
   ]
  },
  {
   "cell_type": "code",
   "execution_count": 59,
   "id": "78039e94-0861-4427-827e-edd1a3d5ab2b",
   "metadata": {},
   "outputs": [
    {
     "name": "stdout",
     "output_type": "stream",
     "text": [
      "8 * 10 = who knows?\n"
     ]
    }
   ],
   "source": [
    "calc('8 * 10')"
   ]
  },
  {
   "cell_type": "markdown",
   "id": "884b9fc7-ceb8-4a10-9d05-7374215d0ec0",
   "metadata": {},
   "source": [
    "# Exercise: Even better calculator\n",
    "\n",
    "Modify `calc` such that it expects to get three arguments: A first number, an operator, and a second number."
   ]
  },
  {
   "cell_type": "code",
   "execution_count": 60,
   "id": "9ddc87d4-29e0-4e9a-8405-3f111fd9ac58",
   "metadata": {},
   "outputs": [
    {
     "name": "stdout",
     "output_type": "stream",
     "text": [
      "2 + 3 = 5\n"
     ]
    }
   ],
   "source": [
    "def calc(num1, op, num2):\n",
    "    if op == '+':\n",
    "        result = num1 + num2\n",
    "    elif op == '-':\n",
    "        result = num1 - num2\n",
    "    else:\n",
    "        result = '(WHo knows?)'\n",
    "\n",
    "    print(f'{num1} {op} {num2} = {result}')\n",
    "\n",
    "calc(2, '+', 3)"
   ]
  },
  {
   "cell_type": "code",
   "execution_count": 62,
   "id": "84a744be-2e1d-4c9e-80c9-a419dd98f334",
   "metadata": {},
   "outputs": [
    {
     "name": "stdin",
     "output_type": "stream",
     "text": [
      "Enter a math expression:  15 - 12\n"
     ]
    },
    {
     "name": "stdout",
     "output_type": "stream",
     "text": [
      "15 - 12 = 3\n"
     ]
    }
   ],
   "source": [
    "s = input('Enter a math expression: ').strip()\n",
    "n1, o, n2 = s.split()\n",
    "calc(int(n1), o, int(n2))"
   ]
  },
  {
   "cell_type": "code",
   "execution_count": 64,
   "id": "1d9e81d1-dd83-4c56-a104-5c9f0c503bff",
   "metadata": {},
   "outputs": [
    {
     "name": "stdout",
     "output_type": "stream",
     "text": [
      "1 + 2 = 3\n"
     ]
    }
   ],
   "source": [
    "# RG\n",
    "def calc(num1, op, num2):\n",
    "    if op == '+':\n",
    "        result = num1 + num2\n",
    "    elif op == '-':\n",
    "        result = num1 - num2\n",
    "    else:\n",
    "        result = '(Who knows?)'\n",
    "\n",
    "    print(f'{num1} {op} {num2} = {result}')\n",
    "\n",
    "calc(1,'+',2)"
   ]
  },
  {
   "cell_type": "code",
   "execution_count": 65,
   "id": "ce040423-eeaa-4149-91da-ba0e3cf8b35b",
   "metadata": {},
   "outputs": [
    {
     "name": "stdin",
     "output_type": "stream",
     "text": [
      "Enter number1: 5\n",
      "Enter + or -  +\n",
      "Enter number2: 8\n"
     ]
    },
    {
     "name": "stdout",
     "output_type": "stream",
     "text": [
      "result is 13\n"
     ]
    }
   ],
   "source": [
    "# SK\n",
    "\n",
    "def calc(exp1,exp2,exp3):\n",
    "        \n",
    "    if exp2 == \"+\":\n",
    "        result = int(exp1)+int(exp3)\n",
    "    elif exp2 == \"-\":\n",
    "        result = int(exp1)-int(exp3)\n",
    "    else:\n",
    "        result = \"'Never mind'\"\n",
    "    \n",
    "    print(f\"result is {result}\")\n",
    "\n",
    "\n",
    "num1 = input(\"Enter number1:\")\n",
    "num2 = input(\"Enter + or - \")\n",
    "num3 = input(\"Enter number2:\")\n",
    "calc(num1,num2,num3)"
   ]
  },
  {
   "cell_type": "markdown",
   "id": "a78941b5-b8d9-4978-b069-4fee31052900",
   "metadata": {},
   "source": [
    "# Returning values\n",
    "\n",
    "When we call a function, we generally do so in order to get a returned value, a response from the function. For example, if I call\n",
    "\n",
    "    s = 'abcd'\n",
    "    s.upper()\n",
    "\n",
    "I expect that calling `s.upper()` will *return* a new string. It won't print that new string on the screen. Rather, it'll give us the new string back, and we can decide if we want to print it, or if we want to assign it to a variable, or even pass it to another function as an argument.\n",
    "\n",
    "Right now, our `calc` function doesn't return anything useful. Rather, it prints the string on the screen.\n",
    "\n",
    "How can we change to be more idiomatic, and moer useful?\n",
    "\n",
    "Answer: We use the `return` keyword. We can, from a Python function, return any value we want. (If we don't explicitly return a value from a function, the special value `None` is returned instead.)\n",
    "\n",
    "It's almost always better to return values than print them in functions. If your function has a call to print, then you are probably doing something wrong (in my book)."
   ]
  },
  {
   "cell_type": "code",
   "execution_count": 66,
   "id": "30c1367b-c3e9-472f-bbff-7edc428b54ce",
   "metadata": {},
   "outputs": [],
   "source": [
    "def hello(name):\n",
    "    return f'Hello, {name}!'   # return is *NOT* a function -- doesn't need parentheses"
   ]
  },
  {
   "cell_type": "code",
   "execution_count": 67,
   "id": "1898e384-ff6f-4b72-8d92-e59f0721e705",
   "metadata": {},
   "outputs": [],
   "source": [
    "x = hello('world')"
   ]
  },
  {
   "cell_type": "code",
   "execution_count": 68,
   "id": "519c7754-a1b0-49b6-885d-3161bb701eb0",
   "metadata": {},
   "outputs": [
    {
     "data": {
      "text/plain": [
       "'Hello, world!'"
      ]
     },
     "execution_count": 68,
     "metadata": {},
     "output_type": "execute_result"
    }
   ],
   "source": [
    "hello('world')"
   ]
  },
  {
   "cell_type": "code",
   "execution_count": 69,
   "id": "7d6f8c50-1c27-40b1-b752-115e46f45617",
   "metadata": {},
   "outputs": [
    {
     "name": "stdout",
     "output_type": "stream",
     "text": [
      "Hello, world!\n"
     ]
    }
   ],
   "source": [
    "print(x)"
   ]
  },
  {
   "cell_type": "code",
   "execution_count": 70,
   "id": "334d69c5-7eff-440a-9c9c-9a39958f75c0",
   "metadata": {},
   "outputs": [
    {
     "name": "stdout",
     "output_type": "stream",
     "text": [
      "Hello, world!Hello, world!Hello, world!\n"
     ]
    }
   ],
   "source": [
    "print(x * 3)"
   ]
  },
  {
   "cell_type": "markdown",
   "id": "16e2601f-48e3-4d9f-94de-7cb9e92fc260",
   "metadata": {},
   "source": [
    "# Exercise: Returning values\n",
    "\n",
    "Modify `calc` such that it doesn't print on the screen, but rather returns a value.\n",
    "\n",
    "THen, call `calc` twice:\n",
    "1. The first time, take its output and write it to a file.\n",
    "2. The second time, take its output and print it in reverse order."
   ]
  },
  {
   "cell_type": "code",
   "execution_count": 71,
   "id": "5445c23d-b112-43d0-a46a-ab51f2bdd022",
   "metadata": {},
   "outputs": [
    {
     "name": "stdout",
     "output_type": "stream",
     "text": [
      "2 + 3 = 5\n"
     ]
    }
   ],
   "source": [
    "def calc(num1, op, num2):\n",
    "    if op == '+':\n",
    "        result = num1 + num2\n",
    "    elif op == '-':\n",
    "        result = num1 - num2\n",
    "    else:\n",
    "        result = '(Who knows?)'\n",
    "\n",
    "    print(f'{num1} {op} {num2} = {result}')\n",
    "\n",
    "calc(2, '+', 3)"
   ]
  },
  {
   "cell_type": "code",
   "execution_count": 72,
   "id": "d1c021ea-ba9d-490a-b685-e4c8bc7fed60",
   "metadata": {},
   "outputs": [
    {
     "name": "stdout",
     "output_type": "stream",
     "text": [
      "0 + 0 = 0\n",
      "0 - 0 = 0\n",
      "0 + 1 = 1\n",
      "0 - 1 = -1\n",
      "0 + 2 = 2\n",
      "0 - 2 = -2\n",
      "0 + 3 = 3\n",
      "0 - 3 = -3\n",
      "0 + 4 = 4\n",
      "0 - 4 = -4\n",
      "0 + 5 = 5\n",
      "0 - 5 = -5\n",
      "0 + 6 = 6\n",
      "0 - 6 = -6\n",
      "0 + 7 = 7\n",
      "0 - 7 = -7\n",
      "0 + 8 = 8\n",
      "0 - 8 = -8\n",
      "0 + 9 = 9\n",
      "0 - 9 = -9\n",
      "0 + 10 = 10\n",
      "0 - 10 = -10\n",
      "0 + 11 = 11\n",
      "0 - 11 = -11\n",
      "0 + 12 = 12\n",
      "0 - 12 = -12\n",
      "0 + 13 = 13\n",
      "0 - 13 = -13\n",
      "0 + 14 = 14\n",
      "0 - 14 = -14\n",
      "0 + 15 = 15\n",
      "0 - 15 = -15\n",
      "0 + 16 = 16\n",
      "0 - 16 = -16\n",
      "0 + 17 = 17\n",
      "0 - 17 = -17\n",
      "0 + 18 = 18\n",
      "0 - 18 = -18\n",
      "0 + 19 = 19\n",
      "0 - 19 = -19\n",
      "1 + 0 = 1\n",
      "1 - 0 = 1\n",
      "1 + 1 = 2\n",
      "1 - 1 = 0\n",
      "1 + 2 = 3\n",
      "1 - 2 = -1\n",
      "1 + 3 = 4\n",
      "1 - 3 = -2\n",
      "1 + 4 = 5\n",
      "1 - 4 = -3\n",
      "1 + 5 = 6\n",
      "1 - 5 = -4\n",
      "1 + 6 = 7\n",
      "1 - 6 = -5\n",
      "1 + 7 = 8\n",
      "1 - 7 = -6\n",
      "1 + 8 = 9\n",
      "1 - 8 = -7\n",
      "1 + 9 = 10\n",
      "1 - 9 = -8\n",
      "1 + 10 = 11\n",
      "1 - 10 = -9\n",
      "1 + 11 = 12\n",
      "1 - 11 = -10\n",
      "1 + 12 = 13\n",
      "1 - 12 = -11\n",
      "1 + 13 = 14\n",
      "1 - 13 = -12\n",
      "1 + 14 = 15\n",
      "1 - 14 = -13\n",
      "1 + 15 = 16\n",
      "1 - 15 = -14\n",
      "1 + 16 = 17\n",
      "1 - 16 = -15\n",
      "1 + 17 = 18\n",
      "1 - 17 = -16\n",
      "1 + 18 = 19\n",
      "1 - 18 = -17\n",
      "1 + 19 = 20\n",
      "1 - 19 = -18\n",
      "2 + 0 = 2\n",
      "2 - 0 = 2\n",
      "2 + 1 = 3\n",
      "2 - 1 = 1\n",
      "2 + 2 = 4\n",
      "2 - 2 = 0\n",
      "2 + 3 = 5\n",
      "2 - 3 = -1\n",
      "2 + 4 = 6\n",
      "2 - 4 = -2\n",
      "2 + 5 = 7\n",
      "2 - 5 = -3\n",
      "2 + 6 = 8\n",
      "2 - 6 = -4\n",
      "2 + 7 = 9\n",
      "2 - 7 = -5\n",
      "2 + 8 = 10\n",
      "2 - 8 = -6\n",
      "2 + 9 = 11\n",
      "2 - 9 = -7\n",
      "2 + 10 = 12\n",
      "2 - 10 = -8\n",
      "2 + 11 = 13\n",
      "2 - 11 = -9\n",
      "2 + 12 = 14\n",
      "2 - 12 = -10\n",
      "2 + 13 = 15\n",
      "2 - 13 = -11\n",
      "2 + 14 = 16\n",
      "2 - 14 = -12\n",
      "2 + 15 = 17\n",
      "2 - 15 = -13\n",
      "2 + 16 = 18\n",
      "2 - 16 = -14\n",
      "2 + 17 = 19\n",
      "2 - 17 = -15\n",
      "2 + 18 = 20\n",
      "2 - 18 = -16\n",
      "2 + 19 = 21\n",
      "2 - 19 = -17\n",
      "3 + 0 = 3\n",
      "3 - 0 = 3\n",
      "3 + 1 = 4\n",
      "3 - 1 = 2\n",
      "3 + 2 = 5\n",
      "3 - 2 = 1\n",
      "3 + 3 = 6\n",
      "3 - 3 = 0\n",
      "3 + 4 = 7\n",
      "3 - 4 = -1\n",
      "3 + 5 = 8\n",
      "3 - 5 = -2\n",
      "3 + 6 = 9\n",
      "3 - 6 = -3\n",
      "3 + 7 = 10\n",
      "3 - 7 = -4\n",
      "3 + 8 = 11\n",
      "3 - 8 = -5\n",
      "3 + 9 = 12\n",
      "3 - 9 = -6\n",
      "3 + 10 = 13\n",
      "3 - 10 = -7\n",
      "3 + 11 = 14\n",
      "3 - 11 = -8\n",
      "3 + 12 = 15\n",
      "3 - 12 = -9\n",
      "3 + 13 = 16\n",
      "3 - 13 = -10\n",
      "3 + 14 = 17\n",
      "3 - 14 = -11\n",
      "3 + 15 = 18\n",
      "3 - 15 = -12\n",
      "3 + 16 = 19\n",
      "3 - 16 = -13\n",
      "3 + 17 = 20\n",
      "3 - 17 = -14\n",
      "3 + 18 = 21\n",
      "3 - 18 = -15\n",
      "3 + 19 = 22\n",
      "3 - 19 = -16\n",
      "4 + 0 = 4\n",
      "4 - 0 = 4\n",
      "4 + 1 = 5\n",
      "4 - 1 = 3\n",
      "4 + 2 = 6\n",
      "4 - 2 = 2\n",
      "4 + 3 = 7\n",
      "4 - 3 = 1\n",
      "4 + 4 = 8\n",
      "4 - 4 = 0\n",
      "4 + 5 = 9\n",
      "4 - 5 = -1\n",
      "4 + 6 = 10\n",
      "4 - 6 = -2\n",
      "4 + 7 = 11\n",
      "4 - 7 = -3\n",
      "4 + 8 = 12\n",
      "4 - 8 = -4\n",
      "4 + 9 = 13\n",
      "4 - 9 = -5\n",
      "4 + 10 = 14\n",
      "4 - 10 = -6\n",
      "4 + 11 = 15\n",
      "4 - 11 = -7\n",
      "4 + 12 = 16\n",
      "4 - 12 = -8\n",
      "4 + 13 = 17\n",
      "4 - 13 = -9\n",
      "4 + 14 = 18\n",
      "4 - 14 = -10\n",
      "4 + 15 = 19\n",
      "4 - 15 = -11\n",
      "4 + 16 = 20\n",
      "4 - 16 = -12\n",
      "4 + 17 = 21\n",
      "4 - 17 = -13\n",
      "4 + 18 = 22\n",
      "4 - 18 = -14\n",
      "4 + 19 = 23\n",
      "4 - 19 = -15\n",
      "5 + 0 = 5\n",
      "5 - 0 = 5\n",
      "5 + 1 = 6\n",
      "5 - 1 = 4\n",
      "5 + 2 = 7\n",
      "5 - 2 = 3\n",
      "5 + 3 = 8\n",
      "5 - 3 = 2\n",
      "5 + 4 = 9\n",
      "5 - 4 = 1\n",
      "5 + 5 = 10\n",
      "5 - 5 = 0\n",
      "5 + 6 = 11\n",
      "5 - 6 = -1\n",
      "5 + 7 = 12\n",
      "5 - 7 = -2\n",
      "5 + 8 = 13\n",
      "5 - 8 = -3\n",
      "5 + 9 = 14\n",
      "5 - 9 = -4\n",
      "5 + 10 = 15\n",
      "5 - 10 = -5\n",
      "5 + 11 = 16\n",
      "5 - 11 = -6\n",
      "5 + 12 = 17\n",
      "5 - 12 = -7\n",
      "5 + 13 = 18\n",
      "5 - 13 = -8\n",
      "5 + 14 = 19\n",
      "5 - 14 = -9\n",
      "5 + 15 = 20\n",
      "5 - 15 = -10\n",
      "5 + 16 = 21\n",
      "5 - 16 = -11\n",
      "5 + 17 = 22\n",
      "5 - 17 = -12\n",
      "5 + 18 = 23\n",
      "5 - 18 = -13\n",
      "5 + 19 = 24\n",
      "5 - 19 = -14\n",
      "6 + 0 = 6\n",
      "6 - 0 = 6\n",
      "6 + 1 = 7\n",
      "6 - 1 = 5\n",
      "6 + 2 = 8\n",
      "6 - 2 = 4\n",
      "6 + 3 = 9\n",
      "6 - 3 = 3\n",
      "6 + 4 = 10\n",
      "6 - 4 = 2\n",
      "6 + 5 = 11\n",
      "6 - 5 = 1\n",
      "6 + 6 = 12\n",
      "6 - 6 = 0\n",
      "6 + 7 = 13\n",
      "6 - 7 = -1\n",
      "6 + 8 = 14\n",
      "6 - 8 = -2\n",
      "6 + 9 = 15\n",
      "6 - 9 = -3\n",
      "6 + 10 = 16\n",
      "6 - 10 = -4\n",
      "6 + 11 = 17\n",
      "6 - 11 = -5\n",
      "6 + 12 = 18\n",
      "6 - 12 = -6\n",
      "6 + 13 = 19\n",
      "6 - 13 = -7\n",
      "6 + 14 = 20\n",
      "6 - 14 = -8\n",
      "6 + 15 = 21\n",
      "6 - 15 = -9\n",
      "6 + 16 = 22\n",
      "6 - 16 = -10\n",
      "6 + 17 = 23\n",
      "6 - 17 = -11\n",
      "6 + 18 = 24\n",
      "6 - 18 = -12\n",
      "6 + 19 = 25\n",
      "6 - 19 = -13\n",
      "7 + 0 = 7\n",
      "7 - 0 = 7\n",
      "7 + 1 = 8\n",
      "7 - 1 = 6\n",
      "7 + 2 = 9\n",
      "7 - 2 = 5\n",
      "7 + 3 = 10\n",
      "7 - 3 = 4\n",
      "7 + 4 = 11\n",
      "7 - 4 = 3\n",
      "7 + 5 = 12\n",
      "7 - 5 = 2\n",
      "7 + 6 = 13\n",
      "7 - 6 = 1\n",
      "7 + 7 = 14\n",
      "7 - 7 = 0\n",
      "7 + 8 = 15\n",
      "7 - 8 = -1\n",
      "7 + 9 = 16\n",
      "7 - 9 = -2\n",
      "7 + 10 = 17\n",
      "7 - 10 = -3\n",
      "7 + 11 = 18\n",
      "7 - 11 = -4\n",
      "7 + 12 = 19\n",
      "7 - 12 = -5\n",
      "7 + 13 = 20\n",
      "7 - 13 = -6\n",
      "7 + 14 = 21\n",
      "7 - 14 = -7\n",
      "7 + 15 = 22\n",
      "7 - 15 = -8\n",
      "7 + 16 = 23\n",
      "7 - 16 = -9\n",
      "7 + 17 = 24\n",
      "7 - 17 = -10\n",
      "7 + 18 = 25\n",
      "7 - 18 = -11\n",
      "7 + 19 = 26\n",
      "7 - 19 = -12\n",
      "8 + 0 = 8\n",
      "8 - 0 = 8\n",
      "8 + 1 = 9\n",
      "8 - 1 = 7\n",
      "8 + 2 = 10\n",
      "8 - 2 = 6\n",
      "8 + 3 = 11\n",
      "8 - 3 = 5\n",
      "8 + 4 = 12\n",
      "8 - 4 = 4\n",
      "8 + 5 = 13\n",
      "8 - 5 = 3\n",
      "8 + 6 = 14\n",
      "8 - 6 = 2\n",
      "8 + 7 = 15\n",
      "8 - 7 = 1\n",
      "8 + 8 = 16\n",
      "8 - 8 = 0\n",
      "8 + 9 = 17\n",
      "8 - 9 = -1\n",
      "8 + 10 = 18\n",
      "8 - 10 = -2\n",
      "8 + 11 = 19\n",
      "8 - 11 = -3\n",
      "8 + 12 = 20\n",
      "8 - 12 = -4\n",
      "8 + 13 = 21\n",
      "8 - 13 = -5\n",
      "8 + 14 = 22\n",
      "8 - 14 = -6\n",
      "8 + 15 = 23\n",
      "8 - 15 = -7\n",
      "8 + 16 = 24\n",
      "8 - 16 = -8\n",
      "8 + 17 = 25\n",
      "8 - 17 = -9\n",
      "8 + 18 = 26\n",
      "8 - 18 = -10\n",
      "8 + 19 = 27\n",
      "8 - 19 = -11\n",
      "9 + 0 = 9\n",
      "9 - 0 = 9\n",
      "9 + 1 = 10\n",
      "9 - 1 = 8\n",
      "9 + 2 = 11\n",
      "9 - 2 = 7\n",
      "9 + 3 = 12\n",
      "9 - 3 = 6\n",
      "9 + 4 = 13\n",
      "9 - 4 = 5\n",
      "9 + 5 = 14\n",
      "9 - 5 = 4\n",
      "9 + 6 = 15\n",
      "9 - 6 = 3\n",
      "9 + 7 = 16\n",
      "9 - 7 = 2\n",
      "9 + 8 = 17\n",
      "9 - 8 = 1\n",
      "9 + 9 = 18\n",
      "9 - 9 = 0\n",
      "9 + 10 = 19\n",
      "9 - 10 = -1\n",
      "9 + 11 = 20\n",
      "9 - 11 = -2\n",
      "9 + 12 = 21\n",
      "9 - 12 = -3\n",
      "9 + 13 = 22\n",
      "9 - 13 = -4\n",
      "9 + 14 = 23\n",
      "9 - 14 = -5\n",
      "9 + 15 = 24\n",
      "9 - 15 = -6\n",
      "9 + 16 = 25\n",
      "9 - 16 = -7\n",
      "9 + 17 = 26\n",
      "9 - 17 = -8\n",
      "9 + 18 = 27\n",
      "9 - 18 = -9\n",
      "9 + 19 = 28\n",
      "9 - 19 = -10\n"
     ]
    }
   ],
   "source": [
    "# what if this is part of a larger system, and I want to \n",
    "# run a \"for\" loop over many different combinations of numbers\n",
    "# and make sure that this function will work with all of them.\n",
    "\n",
    "for i in range(10):\n",
    "    for j in range(20):\n",
    "        calc(i, '+', j)\n",
    "        calc(i, '-', j)"
   ]
  },
  {
   "cell_type": "code",
   "execution_count": 74,
   "id": "a32dac62-d6ff-4775-8b85-4c8a85b22127",
   "metadata": {},
   "outputs": [],
   "source": [
    "def calc(num1, op, num2):\n",
    "    if op == '+':\n",
    "        result = num1 + num2\n",
    "    elif op == '-':\n",
    "        result = num1 - num2\n",
    "    else:\n",
    "        result = '(Who knows?)'\n",
    "\n",
    "    return f'{num1} {op} {num2} = {result}'\n",
    "\n",
    "x = calc(2, '+', 3)\n"
   ]
  },
  {
   "cell_type": "code",
   "execution_count": 75,
   "id": "e90d356c-d221-4fb9-9374-6e2e822a0243",
   "metadata": {},
   "outputs": [
    {
     "data": {
      "text/plain": [
       "'2 + 3 = 5'"
      ]
     },
     "execution_count": 75,
     "metadata": {},
     "output_type": "execute_result"
    }
   ],
   "source": [
    "x"
   ]
  },
  {
   "cell_type": "code",
   "execution_count": 77,
   "id": "3f9f84db-c8a9-4793-a01a-c2ce364161f8",
   "metadata": {},
   "outputs": [
    {
     "data": {
      "text/plain": [
       "'2 + 3'"
      ]
     },
     "execution_count": 77,
     "metadata": {},
     "output_type": "execute_result"
    }
   ],
   "source": [
    "x[:5]"
   ]
  },
  {
   "cell_type": "markdown",
   "id": "9456bce8-905b-47cd-bbcf-0929f9db2ab1",
   "metadata": {},
   "source": [
    "# How are we supposed to know about a function's inputs and outputs?\n",
    "\n",
    "It's very nice to say, \"This function takes XYZ arguments\" and \"this function returns XYZ values.\" But how are we supposed to konw? Where is this stuff documented?\n",
    "\n",
    "First: We need to document it on our own functions.\n",
    "\n",
    "Second: Python has a standard, \"docstrings,\" for doing this. Every single function should be documented with a docstring.\n",
    "\n",
    "NOTE that there is a huge difference between a comment and a docstring:\n",
    "- Comments are there for whoever is going to maintain the code down the line. It's meant for coders.\n",
    "- Docstrings are there for whoever is going to *use* the function. You care about what inputs to provide and what outputs you get, but not how you get there.\n",
    "\n",
    "How do we write docstrings? Traditionally, using strings inside of our function. If the first line of the function is a string, then that's a docstring. You don't assign it to anyone -- you just have it at the top of the function."
   ]
  },
  {
   "cell_type": "code",
   "execution_count": 78,
   "id": "a1f0cfdd-cb47-4e5e-a9c7-177c897be98c",
   "metadata": {},
   "outputs": [],
   "source": [
    "def hello(name):\n",
    "    '''hello is a friendly function!\n",
    "\n",
    "    Expects: One argument, a string\n",
    "    Modifies: Nothing\n",
    "    Returns: A new string, based on \"name\"\n",
    "    '''\n",
    "    return f'Hello, {name}!'"
   ]
  },
  {
   "cell_type": "code",
   "execution_count": 79,
   "id": "53e8ed2a-5906-4322-84b2-8619832732f5",
   "metadata": {},
   "outputs": [
    {
     "data": {
      "text/plain": [
       "'Hello, out there!'"
      ]
     },
     "execution_count": 79,
     "metadata": {},
     "output_type": "execute_result"
    }
   ],
   "source": [
    "hello('out there')"
   ]
  },
  {
   "cell_type": "code",
   "execution_count": 80,
   "id": "d6d42072-3108-48a8-9b45-1cee18a39a07",
   "metadata": {},
   "outputs": [
    {
     "name": "stdout",
     "output_type": "stream",
     "text": [
      "Help on function hello in module __main__:\n",
      "\n",
      "hello(name)\n",
      "    hello is a friendly function!\n",
      "\n",
      "    Expects: One argument, a string\n",
      "    Modifies: Nothing\n",
      "    Returns: A new string, based on \"name\"\n",
      "\n"
     ]
    }
   ],
   "source": [
    "help(hello)"
   ]
  },
  {
   "cell_type": "markdown",
   "id": "1c840a8f-a598-429e-84b0-a55894c4c310",
   "metadata": {},
   "source": [
    "# Exercise: Documenting `calc`\n",
    "\n",
    "Write a docstring (not too long) for the `calc` function."
   ]
  },
  {
   "cell_type": "code",
   "execution_count": 81,
   "id": "fb66c167-c5d4-41de-a7fe-60fb60c34fc6",
   "metadata": {},
   "outputs": [],
   "source": [
    "def calc(num1, op, num2):\n",
    "    '''\n",
    "    calc is a function that returns a string with the solution to a math expression.\n",
    "\n",
    "    Expects: Three arguments: (1) an integer, (2) a string, + or -, and (3) a second integer\n",
    "    Modifies: Nothing\n",
    "    Returns: A string with the orignal values and also the solution.\n",
    "    '''\n",
    "    \n",
    "    if op == '+':\n",
    "        result = num1 + num2\n",
    "    elif op == '-':\n",
    "        result = num1 - num2\n",
    "    else:\n",
    "        result = '(Who knows?)'\n",
    "\n",
    "    return f'{num1} {op} {num2} = {result}'\n",
    "\n"
   ]
  },
  {
   "cell_type": "code",
   "execution_count": 83,
   "id": "13222c50-7eab-4f12-b5fe-8a60f8cc4d4b",
   "metadata": {},
   "outputs": [
    {
     "name": "stdout",
     "output_type": "stream",
     "text": [
      "3 + 4 = 7\n"
     ]
    }
   ],
   "source": [
    "s = calc(3, '+', 4)\n",
    "print(s)"
   ]
  },
  {
   "cell_type": "code",
   "execution_count": 84,
   "id": "54477298-1d83-4416-9e15-ff0ff06d1b62",
   "metadata": {},
   "outputs": [
    {
     "name": "stdout",
     "output_type": "stream",
     "text": [
      "7 = 4 + 3\n"
     ]
    }
   ],
   "source": [
    "print(s[::-1])   # cheap, sneaky way to do it in Python "
   ]
  },
  {
   "cell_type": "code",
   "execution_count": 85,
   "id": "c68ecc3a-9145-4928-ad7b-41edf56b7f3e",
   "metadata": {},
   "outputs": [
    {
     "name": "stdout",
     "output_type": "stream",
     "text": [
      "Help on function calc in module __main__:\n",
      "\n",
      "calc(num1, op, num2)\n",
      "    calc is a function that returns a string with the solution to a math expression.\n",
      "\n",
      "    Expects: Three arguments: (1) an integer, (2) a string, + or -, and (3) a second integer\n",
      "    Modifies: Nothing\n",
      "    Returns: A string with the orignal values and also the solution.\n",
      "\n"
     ]
    }
   ],
   "source": [
    "help(calc)"
   ]
  },
  {
   "cell_type": "code",
   "execution_count": 86,
   "id": "29823ca3-0670-4534-a386-b4c845819d67",
   "metadata": {},
   "outputs": [
    {
     "name": "stdout",
     "output_type": "stream",
     "text": [
      "Help on built-in function print in module builtins:\n",
      "\n",
      "print(*args, sep=' ', end='\\n', file=None, flush=False)\n",
      "    Prints the values to a stream, or to sys.stdout by default.\n",
      "\n",
      "    sep\n",
      "      string inserted between values, default a space.\n",
      "    end\n",
      "      string appended after the last value, default a newline.\n",
      "    file\n",
      "      a file-like object (stream); defaults to the current sys.stdout.\n",
      "    flush\n",
      "      whether to forcibly flush the stream.\n",
      "\n"
     ]
    }
   ],
   "source": [
    "help(print)"
   ]
  },
  {
   "cell_type": "code",
   "execution_count": 87,
   "id": "eb402f1d-eee5-43d0-9de4-f7706dec4e2b",
   "metadata": {},
   "outputs": [
    {
     "name": "stdout",
     "output_type": "stream",
     "text": [
      "Help on built-in function len in module builtins:\n",
      "\n",
      "len(obj, /)\n",
      "    Return the number of items in a container.\n",
      "\n"
     ]
    }
   ],
   "source": [
    "help(len)"
   ]
  },
  {
   "cell_type": "markdown",
   "id": "5a81072f-e0c0-4314-ac90-b73f68904b41",
   "metadata": {},
   "source": [
    "# Next up\n",
    "\n",
    "1. Write 1-2 more functions\n",
    "2. More complex return values (including unpacking!)\n",
    "3. Local vs. global variables\n",
    "4. Optional parameter arguments\n",
    "\n",
    "   "
   ]
  },
  {
   "cell_type": "markdown",
   "id": "10108533-0b7f-445a-8dd0-c4874294cdf6",
   "metadata": {},
   "source": [
    "# Exercise: `mysum`\n",
    "\n",
    "Python has a builtin function called `sum` that takes a list of numbers and returns their sum. So if you say `sum([10, 20, 30])` you get back the integer 60. \n",
    "\n",
    "I want you to write a similar function, called `mysum`, that also takes a list of numbers and returns their sum. **Do not use the builtin `sum` to write your `mysum` function.**\n",
    "\n",
    "1. Write the function\n",
    "2. Write a docstring for it\n",
    "3. Remember that the function should return an integer, not print a string (or even return a string)"
   ]
  },
  {
   "cell_type": "code",
   "execution_count": 88,
   "id": "0f438789-a75f-465b-84a9-c846da29a9e5",
   "metadata": {},
   "outputs": [
    {
     "data": {
      "text/plain": [
       "60"
      ]
     },
     "execution_count": 88,
     "metadata": {},
     "output_type": "execute_result"
    }
   ],
   "source": [
    "sum([10, 20, 30])   # using the builtin version of sum"
   ]
  },
  {
   "cell_type": "code",
   "execution_count": 92,
   "id": "55ce49d6-5e97-435d-935e-f74c32a70671",
   "metadata": {},
   "outputs": [
    {
     "data": {
      "text/plain": [
       "60"
      ]
     },
     "execution_count": 92,
     "metadata": {},
     "output_type": "execute_result"
    }
   ],
   "source": [
    "def mysum(numbers):\n",
    "    '''\n",
    "    Returns the sum of the numbers in the argument passed.\n",
    "    \n",
    "    Expects: An iterable of numbers\n",
    "    Modifes: Nothing\n",
    "    Returns: The sum of the numbers in the iterable\n",
    "    '''\n",
    "    total = 0\n",
    "    for one_number in numbers:\n",
    "        total += one_number\n",
    "    return total\n",
    "\n",
    "mysum([10, 20, 30])"
   ]
  },
  {
   "cell_type": "code",
   "execution_count": 91,
   "id": "f06ed56d-3d23-47c1-bd27-de26277db9ab",
   "metadata": {},
   "outputs": [
    {
     "data": {
      "text/plain": [
       "300"
      ]
     },
     "execution_count": 91,
     "metadata": {},
     "output_type": "execute_result"
    }
   ],
   "source": [
    "mysum([10, 20, 30]) * 5"
   ]
  },
  {
   "cell_type": "code",
   "execution_count": null,
   "id": "6b2c0dbd-9280-4d92-a683-8f280c876250",
   "metadata": {},
   "outputs": [],
   "source": [
    "# SK\n",
    "\n",
    "def mysum(num1,num2,num3):\n",
    "    '''\n",
    "    This is a sum function\n",
    "    accepts =  Three numbers\n",
    "    modifies =  nothing\n",
    "    return the Sum\n",
    "    '''\n",
    "    total = int(num1) + int(num2) + int(num3)\n",
    "    return total\n",
    "\n",
    "x = mysum(2,3,4)\n",
    "print(f\"Sum is {x}\")\n",
    "help(mysum)"
   ]
  },
  {
   "cell_type": "code",
   "execution_count": 93,
   "id": "a499de1e-e302-493e-9404-6d17ca42b20f",
   "metadata": {},
   "outputs": [
    {
     "name": "stdout",
     "output_type": "stream",
     "text": [
      "Help on function mysum in module __main__:\n",
      "\n",
      "mysum(numbers)\n",
      "    Returns the sum of the numbers in the argument passed.\n",
      "\n",
      "    Expects: An iterable of numbers\n",
      "    Modifes: Nothing\n",
      "    Returns: The sum of the numbers in the iterable\n",
      "\n"
     ]
    }
   ],
   "source": [
    "help(mysum)"
   ]
  },
  {
   "cell_type": "markdown",
   "id": "84a38adc-987c-41b1-b986-b79feeb28d2c",
   "metadata": {},
   "source": [
    "# Exercise: \"Hilo\"\n",
    "\n",
    "1. Write a function, `hilo`, that takes a list of numbers.\n",
    "2. It returns a two-element list -- the highest and lowest elements from the input list.\n",
    "\n",
    "Example:\n",
    "\n",
    "    hilo([10, 20, 30])  #  [30, 10]\n",
    "    hilo([100, 5, -3, 1000])   # [1000, -3]\n",
    "\n",
    "THe function should take a single argument, a list of numbers.\n",
    "\n",
    "Hint: Define `highest` and `lowest` variables inside of the function that are both set to the first elements (index 0) of the input list. Then iterate over the input list, one element at a time -- if the current number is lower than `lowest`, make it the lowest. If the current number is higher than `highest`, make it the highest.\n",
    "\n",
    "Return a two-element list of the highest + lowest"
   ]
  },
  {
   "cell_type": "code",
   "execution_count": 97,
   "id": "a3ab2980-6109-452d-81fd-b9d0436d8c30",
   "metadata": {},
   "outputs": [],
   "source": [
    "def hilo(numbers):\n",
    "    highest = numbers[0]\n",
    "    lowest = numbers[0]\n",
    "\n",
    "    for one_number in numbers:\n",
    "        if one_number > highest:\n",
    "            highest = one_number\n",
    "        if one_number < lowest:\n",
    "            lowest = one_number\n",
    "\n",
    "    return [highest, lowest]"
   ]
  },
  {
   "cell_type": "code",
   "execution_count": 98,
   "id": "a1044ec7-bba4-4fb4-9148-91f113e0c7c5",
   "metadata": {},
   "outputs": [
    {
     "data": {
      "text/plain": [
       "[1000, -3]"
      ]
     },
     "execution_count": 98,
     "metadata": {},
     "output_type": "execute_result"
    }
   ],
   "source": [
    "hilo([100, 5, -3, 1000])"
   ]
  },
  {
   "cell_type": "code",
   "execution_count": 99,
   "id": "e6ad32be-e5ad-4ada-880a-1de26b377b4b",
   "metadata": {},
   "outputs": [
    {
     "data": {
      "text/plain": [
       "997"
      ]
     },
     "execution_count": 99,
     "metadata": {},
     "output_type": "execute_result"
    }
   ],
   "source": [
    "# can I use these together?\n",
    "# that is: Can I pass a list of numbers to hilo,\n",
    "# get a two-element list back with the highest and lowest,\n",
    "# and then pass that to mysum, summing the highest and lowest\n",
    "# elements of my list?\n",
    "\n",
    "# Of course we can!\n",
    "\n",
    "mysum(hilo([100, 5, -3, 1000]))"
   ]
  },
  {
   "cell_type": "markdown",
   "id": "63c4efac-69bc-4c84-9732-55bf1f6a432c",
   "metadata": {},
   "source": [
    "# Return complex values\n",
    "\n",
    "Python functions can return *any* value we want: Strings, lists, integers, functions, modules... you name it.\n",
    "\n",
    "If we return an iterable value, then the caller can pick that apart -- perhaps even with unpacking!"
   ]
  },
  {
   "cell_type": "code",
   "execution_count": 100,
   "id": "addaa7eb-4a41-4498-ac3f-b5beca442aee",
   "metadata": {},
   "outputs": [
    {
     "data": {
      "text/plain": [
       "[1000, -3]"
      ]
     },
     "execution_count": 100,
     "metadata": {},
     "output_type": "execute_result"
    }
   ],
   "source": [
    "hilo([100, 5, -3, 1000])"
   ]
  },
  {
   "cell_type": "code",
   "execution_count": 101,
   "id": "829c0207-2fd9-4a3c-b17c-3eee35fb193e",
   "metadata": {},
   "outputs": [],
   "source": [
    "# unpacking -- we know we'll get two values, and can put\n",
    "# two variables there\n",
    "\n",
    "highest, lowest = hilo([100, 5, -3, 1000])"
   ]
  },
  {
   "cell_type": "code",
   "execution_count": 102,
   "id": "ed1a6029-ceef-4d35-b633-97df1345787a",
   "metadata": {},
   "outputs": [
    {
     "data": {
      "text/plain": [
       "1000"
      ]
     },
     "execution_count": 102,
     "metadata": {},
     "output_type": "execute_result"
    }
   ],
   "source": [
    "highest"
   ]
  },
  {
   "cell_type": "code",
   "execution_count": 103,
   "id": "a06a528d-a7cf-4a99-a52f-ed714640e82b",
   "metadata": {},
   "outputs": [
    {
     "data": {
      "text/plain": [
       "-3"
      ]
     },
     "execution_count": 103,
     "metadata": {},
     "output_type": "execute_result"
    }
   ],
   "source": [
    "lowest"
   ]
  },
  {
   "cell_type": "code",
   "execution_count": 104,
   "id": "1867c27b-54e4-49b5-b1b1-366f28e7605e",
   "metadata": {},
   "outputs": [],
   "source": [
    "def status_report():\n",
    "    return 200, {'status':'ok', 'location':'Pittsburgh'}"
   ]
  },
  {
   "cell_type": "code",
   "execution_count": 106,
   "id": "ca7e7903-3aa2-43e2-a60f-f3f679f7a020",
   "metadata": {},
   "outputs": [
    {
     "data": {
      "text/plain": [
       "(200, {'status': 'ok', 'location': 'Pittsburgh'})"
      ]
     },
     "execution_count": 106,
     "metadata": {},
     "output_type": "execute_result"
    }
   ],
   "source": [
    "status_report()"
   ]
  },
  {
   "cell_type": "code",
   "execution_count": 107,
   "id": "0daafb9b-bd48-450c-a06b-d148f5482299",
   "metadata": {},
   "outputs": [],
   "source": [
    "status_code, status_dict = status_report()"
   ]
  },
  {
   "cell_type": "code",
   "execution_count": 108,
   "id": "da9567b2-9be6-49e4-a7d9-077af639c57a",
   "metadata": {},
   "outputs": [
    {
     "data": {
      "text/plain": [
       "200"
      ]
     },
     "execution_count": 108,
     "metadata": {},
     "output_type": "execute_result"
    }
   ],
   "source": [
    "status_code"
   ]
  },
  {
   "cell_type": "code",
   "execution_count": 109,
   "id": "7423c316-a520-4fe7-85ca-422167b785dd",
   "metadata": {},
   "outputs": [
    {
     "data": {
      "text/plain": [
       "{'status': 'ok', 'location': 'Pittsburgh'}"
      ]
     },
     "execution_count": 109,
     "metadata": {},
     "output_type": "execute_result"
    }
   ],
   "source": [
    "status_dict"
   ]
  },
  {
   "cell_type": "code",
   "execution_count": 110,
   "id": "befe8169-a1ce-4364-b217-82e80727fd39",
   "metadata": {},
   "outputs": [
    {
     "data": {
      "text/plain": [
       "'Pittsburgh'"
      ]
     },
     "execution_count": 110,
     "metadata": {},
     "output_type": "execute_result"
    }
   ],
   "source": [
    "status_dict['location']"
   ]
  },
  {
   "cell_type": "code",
   "execution_count": 113,
   "id": "0bc96009-ef29-44d5-9af9-bf6c7e01cf50",
   "metadata": {},
   "outputs": [],
   "source": [
    "# hilo, initializing with 0\n",
    "\n",
    "def hilo(numbers):\n",
    "    highest = 0\n",
    "    lowest = 0\n",
    "\n",
    "    for one_number in numbers:\n",
    "        if one_number > highest:\n",
    "            highest = one_number\n",
    "        if one_number < lowest:\n",
    "            lowest = one_number\n",
    "\n",
    "    return [highest, lowest]"
   ]
  },
  {
   "cell_type": "code",
   "execution_count": 115,
   "id": "50e4d513-f9b0-461b-8bfe-10fc091a5679",
   "metadata": {},
   "outputs": [
    {
     "data": {
      "text/plain": [
       "[0, -1000]"
      ]
     },
     "execution_count": 115,
     "metadata": {},
     "output_type": "execute_result"
    }
   ],
   "source": [
    "hilo([-100, -5, -3, -1000])    # doesn't work!"
   ]
  },
  {
   "cell_type": "code",
   "execution_count": null,
   "id": "98ab457d-500e-4da9-9c35-559138a553fc",
   "metadata": {},
   "outputs": [],
   "source": []
  },
  {
   "cell_type": "markdown",
   "id": "b08472bf-810a-4775-9ceb-fb3f7da3f9fb",
   "metadata": {},
   "source": [
    "# Exercise: User info\n",
    "\n",
    "1. Write a function that takes two arguments:\n",
    "    - The user's first name\n",
    "    - The user's ID number\n",
    "2. The function should then return a 2-element tuple:\n",
    "    - The first element of the tuple is a boolean (True/False) value: True if the ID is < 100, False otherwise\n",
    "    - The second element of the tuple is a dict:\n",
    "    - `first`, with a value of the first name\n",
    "    - `id`, with a value of the ID number\n",
    "\n",
    "Example: \n",
    "\n",
    "    user_info('reuven', 5)\n",
    "\n",
    "returns\n",
    "\n",
    "    (True, {'first':'Reuven', 'id':500})\n"
   ]
  },
  {
   "cell_type": "code",
   "execution_count": 116,
   "id": "6a95c178-dd00-4e88-8f04-02cf674b7877",
   "metadata": {},
   "outputs": [],
   "source": [
    "def user_info(username, user_id):\n",
    "    is_admin = user_id < 100\n",
    "    return is_admin, {'first':username, 'id':user_id}"
   ]
  },
  {
   "cell_type": "code",
   "execution_count": 117,
   "id": "cf8b6cc1-91f0-4ff1-80ae-047fe938f20f",
   "metadata": {},
   "outputs": [
    {
     "data": {
      "text/plain": [
       "(True, {'first': 'reuven', 'id': 5})"
      ]
     },
     "execution_count": 117,
     "metadata": {},
     "output_type": "execute_result"
    }
   ],
   "source": [
    "user_info('reuven', 5)"
   ]
  },
  {
   "cell_type": "code",
   "execution_count": 118,
   "id": "2349cd3e-2cec-4640-978e-3d09b812703d",
   "metadata": {},
   "outputs": [],
   "source": [
    "# because we're getting back a tuple, we can use unpacking:\n",
    "\n",
    "is_administrator, user_dict = user_info('Reuven', 5)"
   ]
  },
  {
   "cell_type": "code",
   "execution_count": 119,
   "id": "97db210e-7096-4570-ab48-41d83a8550f1",
   "metadata": {},
   "outputs": [
    {
     "data": {
      "text/plain": [
       "True"
      ]
     },
     "execution_count": 119,
     "metadata": {},
     "output_type": "execute_result"
    }
   ],
   "source": [
    "is_administrator"
   ]
  },
  {
   "cell_type": "code",
   "execution_count": 120,
   "id": "0b8a1a25-1340-4106-a82f-cdd7a89dcb05",
   "metadata": {},
   "outputs": [
    {
     "data": {
      "text/plain": [
       "{'first': 'Reuven', 'id': 5}"
      ]
     },
     "execution_count": 120,
     "metadata": {},
     "output_type": "execute_result"
    }
   ],
   "source": [
    "user_dict"
   ]
  },
  {
   "cell_type": "markdown",
   "id": "a8abd5f9-8a30-4111-9827-aec6f997c958",
   "metadata": {},
   "source": [
    "# Next up\n",
    "\n",
    "1. Default argument values\n",
    "2. Local vs. global variables"
   ]
  },
  {
   "cell_type": "code",
   "execution_count": 121,
   "id": "9bc0c167-f186-4cb1-8ae7-27e7cec2d994",
   "metadata": {},
   "outputs": [],
   "source": [
    "# remember the \"mysum\" function?\n",
    "\n",
    "def mysum(numbers):\n",
    "    total = 0\n",
    "\n",
    "    for one_number in numbers:\n",
    "        total += one_number\n",
    "\n",
    "    return total"
   ]
  },
  {
   "cell_type": "code",
   "execution_count": 122,
   "id": "dcc8cc8b-09c2-4b3f-896d-39883eeac0d7",
   "metadata": {},
   "outputs": [
    {
     "data": {
      "text/plain": [
       "60"
      ]
     },
     "execution_count": 122,
     "metadata": {},
     "output_type": "execute_result"
    }
   ],
   "source": [
    "mysum([10, 20, 30])"
   ]
  },
  {
   "cell_type": "code",
   "execution_count": 123,
   "id": "f57a8f18-c23a-434d-b42d-5aba3f6d9e04",
   "metadata": {},
   "outputs": [],
   "source": [
    "# let's write a function to add two numbers\n",
    "def add(first, second):\n",
    "    return first + second"
   ]
  },
  {
   "cell_type": "code",
   "execution_count": 124,
   "id": "742a3a23-34cb-4c16-abb3-d2e531163752",
   "metadata": {},
   "outputs": [
    {
     "data": {
      "text/plain": [
       "30"
      ]
     },
     "execution_count": 124,
     "metadata": {},
     "output_type": "execute_result"
    }
   ],
   "source": [
    "add(10, 20)"
   ]
  },
  {
   "cell_type": "code",
   "execution_count": 125,
   "id": "d26cb9b9-f343-4369-b3ab-c627993b5f22",
   "metadata": {},
   "outputs": [
    {
     "data": {
      "text/plain": [
       "8"
      ]
     },
     "execution_count": 125,
     "metadata": {},
     "output_type": "execute_result"
    }
   ],
   "source": [
    "add(5, 3)"
   ]
  },
  {
   "cell_type": "code",
   "execution_count": 126,
   "id": "8221710f-d24e-4fbc-acc7-3c66f5367479",
   "metadata": {},
   "outputs": [
    {
     "ename": "TypeError",
     "evalue": "add() missing 1 required positional argument: 'second'",
     "output_type": "error",
     "traceback": [
      "\u001b[0;31m---------------------------------------------------------------------------\u001b[0m",
      "\u001b[0;31mTypeError\u001b[0m                                 Traceback (most recent call last)",
      "Cell \u001b[0;32mIn[126], line 1\u001b[0m\n\u001b[0;32m----> 1\u001b[0m \u001b[43madd\u001b[49m\u001b[43m(\u001b[49m\u001b[38;5;241;43m5\u001b[39;49m\u001b[43m)\u001b[49m\n",
      "\u001b[0;31mTypeError\u001b[0m: add() missing 1 required positional argument: 'second'"
     ]
    }
   ],
   "source": [
    "add(5)"
   ]
  },
  {
   "cell_type": "code",
   "execution_count": 127,
   "id": "6e82a38d-430b-478b-95e9-26ae4622fad8",
   "metadata": {},
   "outputs": [],
   "source": [
    "# you might say: Actually, I sometimes only want to pass one argument\n",
    "# if I do, I want to add it to 10\n",
    "\n",
    "# the way we do this is with a default argument value\n",
    "# meaning: We tell Python that if we forget/neglect to pass a second argument,\n",
    "# we'll use 10 as the value\n",
    "\n",
    "def add(first, second=10):\n",
    "    return first + second"
   ]
  },
  {
   "cell_type": "code",
   "execution_count": 128,
   "id": "b250985d-3326-490d-baa4-ba12718e02c4",
   "metadata": {},
   "outputs": [
    {
     "data": {
      "text/plain": [
       "11"
      ]
     },
     "execution_count": 128,
     "metadata": {},
     "output_type": "execute_result"
    }
   ],
   "source": [
    "# parameters:   first   second\n",
    "# arguments:     5        6\n",
    "\n",
    "add(5, 6)"
   ]
  },
  {
   "cell_type": "code",
   "execution_count": 129,
   "id": "7b309109-4754-4fb0-a752-0ff2a16c90e9",
   "metadata": {},
   "outputs": [
    {
     "data": {
      "text/plain": [
       "15"
      ]
     },
     "execution_count": 129,
     "metadata": {},
     "output_type": "execute_result"
    }
   ],
   "source": [
    "# parameters:   first   second\n",
    "# arguments:      5        10\n",
    "\n",
    "add(5)"
   ]
  },
  {
   "cell_type": "markdown",
   "id": "0d2dca8f-25a7-4dcd-80b3-b9fd05ed0650",
   "metadata": {},
   "source": [
    "# Warning\n",
    "\n",
    "Default argument values are very useful. But the way in which they're implemented means that it's a VERY BAD IDEA to use mutable data as defaults. Use immutable values -- integers, strings, tuples -- as much as you want. But avoid mutable data (especially lists and dicts) as defaults, beacuse it'll cause trouble down the line."
   ]
  },
  {
   "cell_type": "markdown",
   "id": "0c4b6133-32bb-48de-9e3e-cb0ced83c16e",
   "metadata": {},
   "source": [
    "# Default syntax\n",
    "\n",
    "If you want a parameter to have a default argument value: In the definition of the function, you give `=` followed by the default value after the parameter name.\n",
    "\n",
    "Rules about defaults:\n",
    "1. All parameters with defaults must come after all parameters without defaults.\n",
    "2. You can have as many parameters with defaults as you want! (But again, they all have to come after the mandatory parameters without defaults.)"
   ]
  },
  {
   "cell_type": "code",
   "execution_count": 130,
   "id": "f8258e3a-b271-453b-b238-c60a984370b9",
   "metadata": {},
   "outputs": [
    {
     "ename": "SyntaxError",
     "evalue": "parameter without a default follows parameter with a default (4250905537.py, line 1)",
     "output_type": "error",
     "traceback": [
      "\u001b[0;36m  Cell \u001b[0;32mIn[130], line 1\u001b[0;36m\u001b[0m\n\u001b[0;31m    def add(first=10, second):\u001b[0m\n\u001b[0m                      ^\u001b[0m\n\u001b[0;31mSyntaxError\u001b[0m\u001b[0;31m:\u001b[0m parameter without a default follows parameter with a default\n"
     ]
    }
   ],
   "source": [
    "def add(first=10, second):\n",
    "    return first + second"
   ]
  },
  {
   "cell_type": "code",
   "execution_count": 131,
   "id": "13685aeb-ca21-4d07-acb5-ac6081867dec",
   "metadata": {},
   "outputs": [],
   "source": [
    "# can both parameters have defaults?\n",
    "\n",
    "def add(first=10, second=7):\n",
    "    return first + second"
   ]
  },
  {
   "cell_type": "code",
   "execution_count": 132,
   "id": "b46787ea-65e0-43a8-9010-77872dff5b4f",
   "metadata": {},
   "outputs": [
    {
     "data": {
      "text/plain": [
       "17"
      ]
     },
     "execution_count": 132,
     "metadata": {},
     "output_type": "execute_result"
    }
   ],
   "source": [
    "add()"
   ]
  },
  {
   "cell_type": "code",
   "execution_count": 133,
   "id": "de11a0cb-a4f4-4a43-ae54-57bab3377178",
   "metadata": {},
   "outputs": [
    {
     "data": {
      "text/plain": [
       "10"
      ]
     },
     "execution_count": 133,
     "metadata": {},
     "output_type": "execute_result"
    }
   ],
   "source": [
    "add(3)   # now first will get 3, second will use the default and be 7"
   ]
  },
  {
   "cell_type": "code",
   "execution_count": 134,
   "id": "941efa9a-074e-4957-aeff-818a59d50077",
   "metadata": {},
   "outputs": [
    {
     "data": {
      "text/plain": [
       "12"
      ]
     },
     "execution_count": 134,
     "metadata": {},
     "output_type": "execute_result"
    }
   ],
   "source": [
    "# is there a way for me to give second a value, and let first use its default?\n",
    "add(second=2)   # this passes the argument with a parameter name, so Python assigns to it"
   ]
  },
  {
   "cell_type": "markdown",
   "id": "87b3eb88-d280-4238-9a40-10838b387d2f",
   "metadata": {},
   "source": [
    "# Exericse: `mysum` with a default\n",
    "\n",
    "It turns out that the builtin `sum` function has a second, optional parameter indicating the starting value for the summation.\n",
    "\n",
    "Modify `mysum` such that it demonstrates the same behavior:"
   ]
  },
  {
   "cell_type": "code",
   "execution_count": 135,
   "id": "802c8182-0559-490f-8803-7b90c2e8f7bc",
   "metadata": {},
   "outputs": [
    {
     "data": {
      "text/plain": [
       "60"
      ]
     },
     "execution_count": 135,
     "metadata": {},
     "output_type": "execute_result"
    }
   ],
   "source": [
    "sum([10, 20, 30])"
   ]
  },
  {
   "cell_type": "code",
   "execution_count": 136,
   "id": "39e620ab-cbc1-4387-849d-b2df002faeec",
   "metadata": {},
   "outputs": [
    {
     "data": {
      "text/plain": [
       "76"
      ]
     },
     "execution_count": 136,
     "metadata": {},
     "output_type": "execute_result"
    }
   ],
   "source": [
    "sum([10, 20, 30], 16)"
   ]
  },
  {
   "cell_type": "code",
   "execution_count": 139,
   "id": "deeb5939-1672-480a-a87d-91b44b9e0277",
   "metadata": {},
   "outputs": [
    {
     "data": {
      "text/plain": [
       "60"
      ]
     },
     "execution_count": 139,
     "metadata": {},
     "output_type": "execute_result"
    }
   ],
   "source": [
    "def mysum(numbers, offset=0):\n",
    "    total = offset\n",
    "\n",
    "    for one_number in numbers:\n",
    "        total += one_number\n",
    "\n",
    "    return total\n",
    "\n",
    "mysum([10, 20, 30])"
   ]
  },
  {
   "cell_type": "code",
   "execution_count": 140,
   "id": "ab47217f-cc1a-4be3-b34f-d7c515d19413",
   "metadata": {},
   "outputs": [
    {
     "data": {
      "text/plain": [
       "76"
      ]
     },
     "execution_count": 140,
     "metadata": {},
     "output_type": "execute_result"
    }
   ],
   "source": [
    "mysum([10, 20, 30], 16)"
   ]
  },
  {
   "cell_type": "code",
   "execution_count": 142,
   "id": "81dbcf2c-b703-47e1-9621-2d87a68cbfd4",
   "metadata": {},
   "outputs": [
    {
     "name": "stdout",
     "output_type": "stream",
     "text": [
      "600\n"
     ]
    }
   ],
   "source": [
    "def mysum(nums, offset=0):\n",
    "\n",
    "    '''This function helps find the sum of integers in a list similarly to one of built in function sum'''\n",
    "\n",
    "    total = offset\n",
    "\n",
    "    for i in nums:\n",
    "        total+=i\n",
    "\n",
    "    return total\n",
    "\n",
    "x = mysum([100, 200, 300])\n",
    "print(x)"
   ]
  },
  {
   "cell_type": "code",
   "execution_count": 144,
   "id": "63983cd4-766e-411e-ad19-9b148fd0c196",
   "metadata": {},
   "outputs": [
    {
     "data": {
      "text/plain": [
       "43"
      ]
     },
     "execution_count": 144,
     "metadata": {},
     "output_type": "execute_result"
    }
   ],
   "source": [
    "mysum([2,4,5,6,8], 18)"
   ]
  },
  {
   "cell_type": "markdown",
   "id": "e64acf2a-3a7d-4e75-b131-8e267f2637ac",
   "metadata": {},
   "source": [
    "# Consider this:\n",
    "\n",
    "- You write a function that has a variable `x` in it.\n",
    "- Your colleague writes a function that also has a variable `x` in it.\n",
    "\n",
    "Some questions:\n",
    "\n",
    "- Can both of these functions exist in the same program?\n",
    "- Can you call your colleague's function from yours, or vice versa?\n",
    "- What happens if there is also a global variable, outside of the functions, named `x`?"
   ]
  },
  {
   "cell_type": "markdown",
   "id": "19bb35ea-00ba-49e8-bce1-f8f41668f89a",
   "metadata": {},
   "source": [
    "# Scoping\n",
    "\n",
    "The idea that some variables exist everywhere, and other variables are local or temporary.\n",
    "\n",
    "In Python, if you define a variable outside of a function, it is global. Many people don't believe this, because of the behavior of so many other programming languages. \n",
    "\n",
    "In the same way, if you define (or assign to) a variable inside of a function, it is local. That means that the variable doesn't exist outside of the function.\n",
    "\n",
    "This is a great thing! It means that if you have two functions that both use `x`, they won't interfere with one another, because they are separate local variables, one per function, and they just happen to be called `x`.\n",
    "\n",
    "We have, then, two types of variables: Globals and locals.\n",
    "\n",
    "Local variables always get priority.\n",
    "\n",
    "If your function has a variable `x`, and there is also a global variable `x`, then when you read from it in the function, your local will have priority. You won't have access to the global.\n",
    "\n",
    "But if your function has no variable `x`, and there is a global `x`, then it will be able to access it.\n",
    "\n",
    "No matter what, if your function assigns to `x`, now `x` is a local variable."
   ]
  },
  {
   "cell_type": "code",
   "execution_count": 145,
   "id": "de82b2e4-6817-49ea-ba4a-be8d0215af84",
   "metadata": {},
   "outputs": [
    {
     "name": "stdout",
     "output_type": "stream",
     "text": [
      "81\n"
     ]
    }
   ],
   "source": [
    "x = 0\n",
    "\n",
    "for i in range(10):\n",
    "    x = i ** 2\n",
    "\n",
    "print(x)  # what will this print?"
   ]
  },
  {
   "cell_type": "code",
   "execution_count": 146,
   "id": "572e22a6-4ede-4fbd-a69d-14d5a85ccf13",
   "metadata": {},
   "outputs": [],
   "source": [
    "x = 100\n",
    "\n",
    "def myfunc():\n",
    "    x = 200\n",
    "    print(f'Which x has priority? It is: {x}')"
   ]
  },
  {
   "cell_type": "code",
   "execution_count": 147,
   "id": "d61e458f-6d34-401a-8f55-05b89f72e4f0",
   "metadata": {},
   "outputs": [
    {
     "name": "stdout",
     "output_type": "stream",
     "text": [
      "Which x has priority? It is: 200\n"
     ]
    }
   ],
   "source": [
    "myfunc()"
   ]
  },
  {
   "cell_type": "markdown",
   "id": "adb0521b-a258-46d4-961e-9e08a03f5043",
   "metadata": {},
   "source": [
    "# Exercise: `count_chars`\n",
    "\n",
    "1. Define a function that takes two arguments:\n",
    "    - A string, from the user\n",
    "    - Another string (`to_count`) -- optional -- containing the characters we wish to count. By default, it'll be `'aeiou'`.\n",
    "2. The function will create a dict whose keys are from `to_count`, and whose values are all 0.\n",
    "3. Go through the user's string, and count the characters that are of interest, using the dict.\n",
    "4. The function should return the dict.\n",
    "\n",
    "Example:\n",
    "\n",
    "    count_chars('hello')   # {'a':0, 'e':1, 'i':0, 'o':1, 'u':0}\n",
    "    count_chars('hello', 'abcde')   # {'a':0, 'b'01, 'c':0, 'd':0, 'e':1}"
   ]
  },
  {
   "cell_type": "code",
   "execution_count": 149,
   "id": "3577a31b-d4fb-4fc2-a464-66fbf92b7b26",
   "metadata": {},
   "outputs": [
    {
     "data": {
      "text/plain": [
       "{'a': 0, 'e': 3, 'i': 0, 'o': 2, 'u': 1}"
      ]
     },
     "execution_count": 149,
     "metadata": {},
     "output_type": "execute_result"
    }
   ],
   "source": [
    "def count_chars(s, to_count):\n",
    "    # create the output dict\n",
    "    output = {}\n",
    "    for one_character in to_count:\n",
    "        output[one_character] = 0\n",
    "\n",
    "    # go through the input string\n",
    "    for one_character in s:\n",
    "        if one_character in output:     # if one_character is a key in the dict\n",
    "            output[one_character] += 1  # add 1 to its count\n",
    "\n",
    "    return output\n",
    "\n",
    "count_chars('hello out there', 'aeiou')\n",
    "    "
   ]
  },
  {
   "cell_type": "code",
   "execution_count": 150,
   "id": "925f391d-25c7-4d00-9488-210e00854d94",
   "metadata": {},
   "outputs": [
    {
     "data": {
      "text/plain": [
       "{'a': 0, 'b': 0, 'c': 0, 'd': 0, 'e': 3, 'f': 0}"
      ]
     },
     "execution_count": 150,
     "metadata": {},
     "output_type": "execute_result"
    }
   ],
   "source": [
    "count_chars('hello out there', 'abcdef')\n"
   ]
  },
  {
   "cell_type": "code",
   "execution_count": null,
   "id": "0ca363e8-896a-4ceb-8595-e2b00899f369",
   "metadata": {},
   "outputs": [],
   "source": []
  }
 ],
 "metadata": {
  "kernelspec": {
   "display_name": "Python 3 (ipykernel)",
   "language": "python",
   "name": "python3"
  },
  "language_info": {
   "codemirror_mode": {
    "name": "ipython",
    "version": 3
   },
   "file_extension": ".py",
   "mimetype": "text/x-python",
   "name": "python",
   "nbconvert_exporter": "python",
   "pygments_lexer": "ipython3",
   "version": "3.12.2"
  },
  "widgets": {
   "application/vnd.jupyter.widget-state+json": {
    "state": {},
    "version_major": 2,
    "version_minor": 0
   }
  }
 },
 "nbformat": 4,
 "nbformat_minor": 5
}
