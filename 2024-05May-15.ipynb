{
 "cells": [
  {
   "cell_type": "markdown",
   "id": "e489e12f-fac4-42a7-af8b-d4dbc02aa51e",
   "metadata": {},
   "source": [
    "# Agenda: Functions!\n",
    "\n",
    "1. Q&A\n",
    "2. What are functions, anyway?\n",
    "3. Defining functions\n",
    "4. Arguments to functions\n",
    "5. Return values\n",
    "6. Complex return values\n",
    "7. Local variables vs. global variables"
   ]
  },
  {
   "cell_type": "markdown",
   "id": "3d63ab85-7dd7-4dcb-ae07-7765f7e15a84",
   "metadata": {},
   "source": [
    "# Exercise: Dict to config\n",
    "\n",
    "1. Define a (small) dictionary.\n",
    "2. Iterate over the dict, one key-value pair at a time.\n",
    "3. Write each key-value pair to a file on one line, with a `:` between the key and the value.\n",
    "4. Print the contents of the file."
   ]
  },
  {
   "cell_type": "code",
   "execution_count": 3,
   "id": "905901a3-4335-4480-aa02-1ba95e705b0c",
   "metadata": {},
   "outputs": [
    {
     "name": "stdout",
     "output_type": "stream",
     "text": [
      "a:100\n",
      "b:200\n",
      "c:hello\n"
     ]
    }
   ],
   "source": [
    "d = {'a':100, 'b':200, 'c':'hello'}\n",
    "\n",
    "for key, value in d.items():\n",
    "    print(f'{key}:{value}')"
   ]
  },
  {
   "cell_type": "code",
   "execution_count": 4,
   "id": "64e24371-399e-4a4e-b3ac-8c43f5537606",
   "metadata": {},
   "outputs": [],
   "source": [
    "d = {'a':100, 'b':200, 'c':'hello'}\n",
    "\n",
    "with open('config.txt', 'w') as f:  # open the file, and auto-close/flush it when the block ends\n",
    "    for key, value in d.items():\n",
    "        f.write(f'{key}:{value}\\n')"
   ]
  },
  {
   "cell_type": "code",
   "execution_count": 5,
   "id": "ccbbec81-bae8-49f9-b66c-d5a7e4bf1ddf",
   "metadata": {},
   "outputs": [
    {
     "name": "stdout",
     "output_type": "stream",
     "text": [
      "a:100\n",
      "b:200\n",
      "c:hello\n"
     ]
    }
   ],
   "source": [
    "!cat config.txt"
   ]
  },
  {
   "cell_type": "code",
   "execution_count": 7,
   "id": "4d34faae-57c1-4739-b191-5f685bae5362",
   "metadata": {},
   "outputs": [
    {
     "ename": "FileNotFoundError",
     "evalue": "[Errno 2] No such file or directory: 'small.txt'",
     "output_type": "error",
     "traceback": [
      "\u001b[0;31m---------------------------------------------------------------------------\u001b[0m",
      "\u001b[0;31mFileNotFoundError\u001b[0m                         Traceback (most recent call last)",
      "Cell \u001b[0;32mIn[7], line 17\u001b[0m\n\u001b[1;32m     14\u001b[0m     \u001b[38;5;28;01mwith\u001b[39;00m \u001b[38;5;28mopen\u001b[39m(\u001b[38;5;124m'\u001b[39m\u001b[38;5;124msmall.txt\u001b[39m\u001b[38;5;124m'\u001b[39m,\u001b[38;5;124m'\u001b[39m\u001b[38;5;124ma\u001b[39m\u001b[38;5;124m'\u001b[39m) \u001b[38;5;28;01mas\u001b[39;00m f:   \u001b[38;5;66;03m# open with \"a\" means: Write to the file, appending to what was there before\u001b[39;00m\n\u001b[1;32m     15\u001b[0m         f\u001b[38;5;241m.\u001b[39mwrite(\u001b[38;5;124mf\u001b[39m\u001b[38;5;124m'\u001b[39m\u001b[38;5;132;01m{\u001b[39;00mkey\u001b[38;5;132;01m}\u001b[39;00m\u001b[38;5;124m: \u001b[39m\u001b[38;5;132;01m{\u001b[39;00mvalue\u001b[38;5;132;01m}\u001b[39;00m\u001b[38;5;130;01m\\n\u001b[39;00m\u001b[38;5;124m'\u001b[39m)\n\u001b[0;32m---> 17\u001b[0m \u001b[38;5;28;01mwith\u001b[39;00m \u001b[38;5;28;43mopen\u001b[39;49m\u001b[43m(\u001b[49m\u001b[38;5;124;43m'\u001b[39;49m\u001b[38;5;124;43msmall.txt\u001b[39;49m\u001b[38;5;124;43m'\u001b[39;49m\u001b[43m)\u001b[49m \u001b[38;5;28;01mas\u001b[39;00m f:\n\u001b[1;32m     18\u001b[0m     \u001b[38;5;28mprint\u001b[39m(f\u001b[38;5;241m.\u001b[39mread())\n",
      "File \u001b[0;32m~/.pyenv/versions/3.12.2/lib/python3.12/site-packages/IPython/core/interactiveshell.py:310\u001b[0m, in \u001b[0;36m_modified_open\u001b[0;34m(file, *args, **kwargs)\u001b[0m\n\u001b[1;32m    303\u001b[0m \u001b[38;5;28;01mif\u001b[39;00m file \u001b[38;5;129;01min\u001b[39;00m {\u001b[38;5;241m0\u001b[39m, \u001b[38;5;241m1\u001b[39m, \u001b[38;5;241m2\u001b[39m}:\n\u001b[1;32m    304\u001b[0m     \u001b[38;5;28;01mraise\u001b[39;00m \u001b[38;5;167;01mValueError\u001b[39;00m(\n\u001b[1;32m    305\u001b[0m         \u001b[38;5;124mf\u001b[39m\u001b[38;5;124m\"\u001b[39m\u001b[38;5;124mIPython won\u001b[39m\u001b[38;5;124m'\u001b[39m\u001b[38;5;124mt let you open fd=\u001b[39m\u001b[38;5;132;01m{\u001b[39;00mfile\u001b[38;5;132;01m}\u001b[39;00m\u001b[38;5;124m by default \u001b[39m\u001b[38;5;124m\"\u001b[39m\n\u001b[1;32m    306\u001b[0m         \u001b[38;5;124m\"\u001b[39m\u001b[38;5;124mas it is likely to crash IPython. If you know what you are doing, \u001b[39m\u001b[38;5;124m\"\u001b[39m\n\u001b[1;32m    307\u001b[0m         \u001b[38;5;124m\"\u001b[39m\u001b[38;5;124myou can use builtins\u001b[39m\u001b[38;5;124m'\u001b[39m\u001b[38;5;124m open.\u001b[39m\u001b[38;5;124m\"\u001b[39m\n\u001b[1;32m    308\u001b[0m     )\n\u001b[0;32m--> 310\u001b[0m \u001b[38;5;28;01mreturn\u001b[39;00m \u001b[43mio_open\u001b[49m\u001b[43m(\u001b[49m\u001b[43mfile\u001b[49m\u001b[43m,\u001b[49m\u001b[43m \u001b[49m\u001b[38;5;241;43m*\u001b[39;49m\u001b[43margs\u001b[49m\u001b[43m,\u001b[49m\u001b[43m \u001b[49m\u001b[38;5;241;43m*\u001b[39;49m\u001b[38;5;241;43m*\u001b[39;49m\u001b[43mkwargs\u001b[49m\u001b[43m)\u001b[49m\n",
      "\u001b[0;31mFileNotFoundError\u001b[0m: [Errno 2] No such file or directory: 'small.txt'"
     ]
    }
   ],
   "source": [
    "# this code has a few problems:\n",
    "# (1) the dict, small, is empty. So nothing will be written to the file\n",
    "# (2) this code puts \"with\" inside of a \"for\" loop. Typically, you want to do the opposite\n",
    "# (3) because whoever wrote this put \"with\" inside of the \"for\" loop, we couldn't use\n",
    "#     the \"w\" option for \"open\".  If we open with \"w\", that means: Remove any contents that \n",
    "#     were there before; the file starts over from being empty.\n",
    "# (4) because the dict is empty, we do 0 iterations of the for loop, Which means that \"open\" is\n",
    "#     never called to write to the file. Which means that when , in line 16, we open the file\n",
    "#     for reading, Python gives us an error.\n",
    "\n",
    "small={}\n",
    "\n",
    "for key,value in small.items():\n",
    "    with open('small.txt','a') as f:   # open with \"a\" means: Write to the file, appending to what was there before\n",
    "        f.write(f'{key}: {value}\\n')\n",
    "        \n",
    "with open('small.txt') as f:\n",
    "    print(f.read())"
   ]
  },
  {
   "cell_type": "code",
   "execution_count": 8,
   "id": "69c6620c-56d1-422f-b979-f528e0405467",
   "metadata": {},
   "outputs": [
    {
     "name": "stdout",
     "output_type": "stream",
     "text": [
      "config.txt\t      mini-access-log.txt  myfile2.txt\twcfile.txt\n",
      "linux-etc-passwd.txt  myfile.txt\t   nums.txt\n"
     ]
    }
   ],
   "source": [
    "!ls *.txt"
   ]
  },
  {
   "cell_type": "markdown",
   "id": "6b782d41-34f3-4025-beed-2b94d936371b",
   "metadata": {},
   "source": [
    "# Functions\n",
    "\n",
    "Functions are the verbs of a programming language. You use a function (or a method) to do something in a program. A function is defined in terms of already existing verbs. Meaning: If you define a function, then you're teaching a new verb to Python.\n",
    "\n",
    "That raises some questions: Do we really need functions?\n",
    "\n",
    "The answer is: No, at least not in a technical sense.\n",
    "\n",
    "But functions give us a lot of semantic power, and they make it possible to think in new and better ways about our code. They also make our code much more readable, concise, and clear. It's far easier to maintain code that uses functions than code that doesn't.\n",
    "\n",
    "One of the most important ideas in all of computer science is that of \"abstraction.\" The idea of abstraction is that you hide the low-level details, so that you can concentrate on the big, high-level thoughts.\n",
    "\n",
    "You car consists of thousands of parts and hundreds of processes taking place at any given time.\n",
    "\n",
    "- How would you drive, if you had to think about all of those processes?\n",
    "- How would you think about traffic jams, if you had to think about all of those processes?\n",
    "\n",
    "By hiding the details, we're able to think at a higher level. That's abstraction.\n",
    "\n",
    "Functions allow us to scoop up a whole bunch of existing functionality and put it under a single roof, a single name, that we can call whenever we need. That's a function.\n",
    "\n"
   ]
  },
  {
   "cell_type": "markdown",
   "id": "a2ded53a-66ac-4d42-b949-671b299a6d0d",
   "metadata": {},
   "source": [
    "# Let's define a function!\n",
    "\n",
    "When we define a function, we'll use the keyword `def`. \n",
    "- Following `def`, we put the name of the function. The function's name is actually a variable name, so it has to follow all of the same rules and conventions.\n",
    "- After the function's name, we'll have empty parentheses. We will put something in there soon, but those are the parameter names for any arguments we want to pass to our function.\n",
    "- A colon (:) at the end of the line, marking the end of the first line\n",
    "- An indented block. This is known as the \"function body.\"\n",
    "    - The function body can, theoretically, be as long as you want\n",
    "    - It can include *any Python code* with very rare exception"
   ]
  },
  {
   "cell_type": "code",
   "execution_count": 9,
   "id": "7a4cabc4-f60a-4280-b672-b4d87d88bcb0",
   "metadata": {},
   "outputs": [],
   "source": [
    "def hello():\n",
    "    print('Hello!')"
   ]
  },
  {
   "cell_type": "code",
   "execution_count": 10,
   "id": "d9d83056-029a-46d1-9c73-9e4bf58fdb9e",
   "metadata": {},
   "outputs": [
    {
     "name": "stdout",
     "output_type": "stream",
     "text": [
      "Hello!\n"
     ]
    }
   ],
   "source": [
    "hello()   # run the function I just created"
   ]
  },
  {
   "cell_type": "markdown",
   "id": "ee41dd2a-45d8-42f1-ad75-44baccb814b3",
   "metadata": {},
   "source": [
    "# Exercise: Calculator\n",
    "\n",
    "1. Define a function, `calc`, that will ask the user for an expression, break it down, try to answer it, and if so, then print the result.\n",
    "2. Ask the user to enter a string containing a mathematical expression using either `+` or `-`.\n",
    "3. Break the string apart into: Number, operator, number.\n",
    "4. If the operator is `+` or `-`, then print the full expression and its result.\n",
    "5. Otherwise, print the expression and a question mark.\n",
    "\n",
    "Examples:\n",
    "\n",
    "    Calculate: 2 + 5\n",
    "    2 + 5 = 7\n",
    "    Calculate: 10 - 7\n",
    "    10 - 7 = 3\n"
   ]
  },
  {
   "cell_type": "code",
   "execution_count": 11,
   "id": "e6a61537-45f0-44a0-9d64-504a9f5b0410",
   "metadata": {},
   "outputs": [],
   "source": [
    "def calc():\n",
    "    s = input('Enter math expression: ').strip()\n",
    "\n",
    "    # tuple unpacking\n",
    "    num1, op, num2 = s.split()\n",
    "    num1 = int(num1)\n",
    "    num2 = int(num2)\n",
    "\n",
    "    if op == '+':\n",
    "        result = num1 + num2\n",
    "    elif op == '-':\n",
    "        result = num1 - num2\n",
    "    else:\n",
    "        result = '(WHo knows?)'\n",
    "\n",
    "    print(f'{num1} {op} {num2} = {result}')"
   ]
  },
  {
   "cell_type": "code",
   "execution_count": 12,
   "id": "88ac3f43-c498-40cd-9b9a-363d5fbc2c7e",
   "metadata": {},
   "outputs": [
    {
     "name": "stdin",
     "output_type": "stream",
     "text": [
      "Enter math expression:  2 + 3\n"
     ]
    },
    {
     "name": "stdout",
     "output_type": "stream",
     "text": [
      "2 + 3 = 5\n"
     ]
    }
   ],
   "source": [
    "calc()"
   ]
  },
  {
   "cell_type": "code",
   "execution_count": 14,
   "id": "df394871-fb74-4e27-8a53-75df1102cec1",
   "metadata": {},
   "outputs": [
    {
     "name": "stdin",
     "output_type": "stream",
     "text": [
      "Enter math expression:  10 - 8\n"
     ]
    },
    {
     "name": "stdout",
     "output_type": "stream",
     "text": [
      "10 - 8 = 2\n"
     ]
    }
   ],
   "source": [
    "calc()"
   ]
  },
  {
   "cell_type": "code",
   "execution_count": 16,
   "id": "e66ee1d5-7b8b-40e0-8c47-43df372fd17c",
   "metadata": {},
   "outputs": [],
   "source": [
    "s = '2 + 3'"
   ]
  },
  {
   "cell_type": "code",
   "execution_count": 17,
   "id": "70177a22-1b8a-4e6a-b611-cb8b64612aa7",
   "metadata": {},
   "outputs": [
    {
     "data": {
      "text/plain": [
       "['2', '+', '3']"
      ]
     },
     "execution_count": 17,
     "metadata": {},
     "output_type": "execute_result"
    }
   ],
   "source": [
    "s.split() # by default, uses whitespace"
   ]
  },
  {
   "cell_type": "code",
   "execution_count": 19,
   "id": "1153d7f1-659b-4e2c-bee0-b4195948f057",
   "metadata": {},
   "outputs": [],
   "source": [
    "# we can grab the 3 elements of s.split()\n",
    "num1 = s.split()[0]\n",
    "op = s.split()[1]\n",
    "num2 = s.split()[2]"
   ]
  },
  {
   "cell_type": "code",
   "execution_count": 21,
   "id": "fcac1bb3-38e7-4c4c-9c17-d44aefb4c95c",
   "metadata": {},
   "outputs": [],
   "source": [
    "# we can do this with unpacking all at once!\n",
    "# this works because s.split always returns a list of strings\n",
    "# because there are three strings in the output, and we have three variables,\n",
    "# can use unpacking here.\n",
    "\n",
    "num1, op, num2 = s.split()"
   ]
  },
  {
   "cell_type": "code",
   "execution_count": null,
   "id": "01d871e4-4a49-497f-ae4a-14d2f350968f",
   "metadata": {},
   "outputs": [],
   "source": []
  },
  {
   "cell_type": "code",
   "execution_count": 23,
   "id": "92be8f6b-2307-4deb-8fd8-c1527a6bb1ab",
   "metadata": {},
   "outputs": [
    {
     "name": "stdin",
     "output_type": "stream",
     "text": [
      "Enter math expression:  2+3\n"
     ]
    },
    {
     "ename": "ValueError",
     "evalue": "not enough values to unpack (expected 3, got 1)",
     "output_type": "error",
     "traceback": [
      "\u001b[0;31m---------------------------------------------------------------------------\u001b[0m",
      "\u001b[0;31mValueError\u001b[0m                                Traceback (most recent call last)",
      "Cell \u001b[0;32mIn[23], line 1\u001b[0m\n\u001b[0;32m----> 1\u001b[0m \u001b[43mcalc\u001b[49m\u001b[43m(\u001b[49m\u001b[43m)\u001b[49m  \u001b[38;5;66;03m# I have defined a verb (function), and I can use it whenever/wherever I want.\u001b[39;00m\n",
      "Cell \u001b[0;32mIn[11], line 5\u001b[0m, in \u001b[0;36mcalc\u001b[0;34m()\u001b[0m\n\u001b[1;32m      2\u001b[0m s \u001b[38;5;241m=\u001b[39m \u001b[38;5;28minput\u001b[39m(\u001b[38;5;124m'\u001b[39m\u001b[38;5;124mEnter math expression: \u001b[39m\u001b[38;5;124m'\u001b[39m)\u001b[38;5;241m.\u001b[39mstrip()\n\u001b[1;32m      4\u001b[0m \u001b[38;5;66;03m# tuple unpacking\u001b[39;00m\n\u001b[0;32m----> 5\u001b[0m num1, op, num2 \u001b[38;5;241m=\u001b[39m s\u001b[38;5;241m.\u001b[39msplit()\n\u001b[1;32m      6\u001b[0m num1 \u001b[38;5;241m=\u001b[39m \u001b[38;5;28mint\u001b[39m(num1)\n\u001b[1;32m      7\u001b[0m num2 \u001b[38;5;241m=\u001b[39m \u001b[38;5;28mint\u001b[39m(num2)\n",
      "\u001b[0;31mValueError\u001b[0m: not enough values to unpack (expected 3, got 1)"
     ]
    }
   ],
   "source": [
    "calc()  # I have defined a verb (function), and I can use it whenever/wherever I want."
   ]
  },
  {
   "cell_type": "code",
   "execution_count": null,
   "id": "33a45dce-3225-403f-95ad-13120dee16f0",
   "metadata": {},
   "outputs": [],
   "source": []
  },
  {
   "cell_type": "markdown",
   "id": "852c58a7-e774-40ad-96c9-2b7b470c0cfd",
   "metadata": {},
   "source": [
    "# Updating a function\n",
    "\n",
    "In Python, you can define a function more than once. Each time overwrites the previous definition. \n",
    "\n",
    "COuld I define `calc` again, with some changes? Yes; as soon as I use`def` again with the same function name, the old one will disappear."
   ]
  },
  {
   "cell_type": "code",
   "execution_count": 29,
   "id": "d744ca86-06e5-49a9-aa60-e215901dc6c7",
   "metadata": {},
   "outputs": [],
   "source": [
    "# let's practice unpacking a bit\n",
    "\n",
    "mylist = [10, 20, 30, 40]\n",
    "a,b,c,d = mylist   # four elements on the right, four variables on the left -- should be fine!"
   ]
  },
  {
   "cell_type": "code",
   "execution_count": 30,
   "id": "f6b46fb6-3dd9-431c-95d7-68c3289826ab",
   "metadata": {},
   "outputs": [
    {
     "data": {
      "text/plain": [
       "10"
      ]
     },
     "execution_count": 30,
     "metadata": {},
     "output_type": "execute_result"
    }
   ],
   "source": [
    "a"
   ]
  },
  {
   "cell_type": "code",
   "execution_count": 31,
   "id": "6a5988a3-1022-42f3-ba9c-e9120299c230",
   "metadata": {},
   "outputs": [
    {
     "data": {
      "text/plain": [
       "20"
      ]
     },
     "execution_count": 31,
     "metadata": {},
     "output_type": "execute_result"
    }
   ],
   "source": [
    "b"
   ]
  },
  {
   "cell_type": "code",
   "execution_count": 32,
   "id": "ed7abcaf-dac0-48bb-bc59-7bfa1a08f9ab",
   "metadata": {},
   "outputs": [
    {
     "data": {
      "text/plain": [
       "30"
      ]
     },
     "execution_count": 32,
     "metadata": {},
     "output_type": "execute_result"
    }
   ],
   "source": [
    "c"
   ]
  },
  {
   "cell_type": "code",
   "execution_count": 33,
   "id": "e5429e32-8cd3-421a-84a3-f3a022ef7482",
   "metadata": {},
   "outputs": [
    {
     "data": {
      "text/plain": [
       "40"
      ]
     },
     "execution_count": 33,
     "metadata": {},
     "output_type": "execute_result"
    }
   ],
   "source": [
    "d"
   ]
  },
  {
   "cell_type": "code",
   "execution_count": 34,
   "id": "61edcbcb-15c5-4ccf-acd8-a372ebafdad3",
   "metadata": {},
   "outputs": [],
   "source": [
    "t = ('a', 100)\n",
    "\n",
    "key, value = t"
   ]
  },
  {
   "cell_type": "code",
   "execution_count": 35,
   "id": "cb5aeeef-408c-480c-b0e7-a27ce6f68ef1",
   "metadata": {},
   "outputs": [
    {
     "data": {
      "text/plain": [
       "'a'"
      ]
     },
     "execution_count": 35,
     "metadata": {},
     "output_type": "execute_result"
    }
   ],
   "source": [
    "key"
   ]
  },
  {
   "cell_type": "code",
   "execution_count": 36,
   "id": "3b8b2450-c5f3-473a-8364-f88deb8df2a1",
   "metadata": {},
   "outputs": [
    {
     "data": {
      "text/plain": [
       "100"
      ]
     },
     "execution_count": 36,
     "metadata": {},
     "output_type": "execute_result"
    }
   ],
   "source": [
    "value"
   ]
  },
  {
   "cell_type": "markdown",
   "id": "b8d683af-b535-4dd7-ad15-6e5e8233b895",
   "metadata": {},
   "source": [
    "# Function arguments and parameters\n",
    "\n",
    "When we call a function, we can pass one or more values to it via the parentheses. These values are known as \"arguments.\" When the function is called, the arguments are assigned to the corresponding parameters, names of variables that accept the assignment of the arguments.\n",
    "\n",
    "This gives us much more flexiblity. "
   ]
  },
  {
   "cell_type": "code",
   "execution_count": 37,
   "id": "02a1427b-ac3b-4a09-9fdc-4bebe5e7d3ec",
   "metadata": {},
   "outputs": [],
   "source": [
    "def hello(name):\n",
    "    print(f'Hello, {name}.')"
   ]
  },
  {
   "cell_type": "code",
   "execution_count": 38,
   "id": "13c9a675-dd88-4227-beb7-02b3f3caa313",
   "metadata": {},
   "outputs": [
    {
     "name": "stdout",
     "output_type": "stream",
     "text": [
      "Hello, world.\n"
     ]
    }
   ],
   "source": [
    "hello('world') "
   ]
  },
  {
   "cell_type": "code",
   "execution_count": 39,
   "id": "73b39b90-070d-4cd6-93f8-3da267247419",
   "metadata": {},
   "outputs": [
    {
     "ename": "TypeError",
     "evalue": "hello() missing 1 required positional argument: 'name'",
     "output_type": "error",
     "traceback": [
      "\u001b[0;31m---------------------------------------------------------------------------\u001b[0m",
      "\u001b[0;31mTypeError\u001b[0m                                 Traceback (most recent call last)",
      "Cell \u001b[0;32mIn[39], line 4\u001b[0m\n\u001b[1;32m      1\u001b[0m \u001b[38;5;66;03m# what if I try to invoke the function without any arguments?\u001b[39;00m\n\u001b[1;32m      2\u001b[0m \u001b[38;5;66;03m# will we get an error? \u001b[39;00m\n\u001b[0;32m----> 4\u001b[0m \u001b[43mhello\u001b[49m\u001b[43m(\u001b[49m\u001b[43m)\u001b[49m\n",
      "\u001b[0;31mTypeError\u001b[0m: hello() missing 1 required positional argument: 'name'"
     ]
    }
   ],
   "source": [
    "# what if I try to invoke the function without any arguments?\n",
    "# will we get an error? \n",
    "\n",
    "hello()"
   ]
  },
  {
   "cell_type": "code",
   "execution_count": 40,
   "id": "a1b1bb26-2a05-449b-a016-0f494a3c003b",
   "metadata": {},
   "outputs": [
    {
     "name": "stdout",
     "output_type": "stream",
     "text": [
      "Hello, world.\n"
     ]
    }
   ],
   "source": [
    "# what kinds of values can I pass to hello?\n",
    "\n",
    "hello('world')"
   ]
  },
  {
   "cell_type": "code",
   "execution_count": 41,
   "id": "47686b15-4054-4c01-987b-78a7b0a3e43b",
   "metadata": {},
   "outputs": [
    {
     "name": "stdout",
     "output_type": "stream",
     "text": [
      "Hello, 3.\n"
     ]
    }
   ],
   "source": [
    "hello(3)"
   ]
  },
  {
   "cell_type": "code",
   "execution_count": 42,
   "id": "f80986bb-437e-4816-9d7d-ff68a8362001",
   "metadata": {},
   "outputs": [
    {
     "name": "stdout",
     "output_type": "stream",
     "text": [
      "Hello, {'a': 10, 'b': 20}.\n"
     ]
    }
   ],
   "source": [
    "hello({'a':10, 'b':20})"
   ]
  },
  {
   "cell_type": "markdown",
   "id": "4f73f3ed-d70b-4bb6-aac2-22dbda740fb0",
   "metadata": {},
   "source": [
    "# Arguments vs parameters\n",
    "\n",
    "Many many **MANY** programmers, who have been working in the world for many many years, get these terms confused, and use them in the wrong ways.\n",
    "\n",
    "- An argument is  value. It's a value put inside of parentheses, when we call the function.\n",
    "- A parameter is a variable. It's defined insideo of the function's parentheses.\n",
    "\n",
    "We pass an argument to the function, where it is assigned to a parameter."
   ]
  },
  {
   "cell_type": "markdown",
   "id": "9bfa27a7-ef5c-4dff-b0ac-7bac826914c7",
   "metadata": {},
   "source": [
    "# Exercise: Calc with user input\n",
    "\n",
    "1. Modify `calc` such that it expects to get a string value as an argument.\n",
    "2. The rest of the program should remain the same.\n",
    "3. This basically means: Don't run `input` inside of the function. "
   ]
  },
  {
   "cell_type": "code",
   "execution_count": 43,
   "id": "3caebe8a-24bf-479b-aba4-5ce07a494b6b",
   "metadata": {},
   "outputs": [],
   "source": [
    "def calc(s):\n",
    "    # tuple unpacking\n",
    "    num1, op, num2 = s.split()\n",
    "    num1 = int(num1)\n",
    "    num2 = int(num2)\n",
    "\n",
    "    if op == '+':\n",
    "        result = num1 + num2\n",
    "    elif op == '-':\n",
    "        result = num1 - num2\n",
    "    else:\n",
    "        result = '(WHo knows?)'\n",
    "\n",
    "    print(f'{num1} {op} {num2} = {result}')"
   ]
  },
  {
   "cell_type": "code",
   "execution_count": 45,
   "id": "8160f9be-86e4-4b92-b1a3-bf35fb3b99bf",
   "metadata": {},
   "outputs": [
    {
     "name": "stdout",
     "output_type": "stream",
     "text": [
      "2 + 3 = 5\n"
     ]
    }
   ],
   "source": [
    "calc('2 + 3')  # pass the argument '2 + 3' (a string...) and the function knows what to do!"
   ]
  },
  {
   "cell_type": "markdown",
   "id": "67186e0b-f72e-4dbc-9e0a-cf8e05203169",
   "metadata": {},
   "source": [
    "# Next up\n",
    "\n",
    "1. Argument types\n",
    "2. Multiple arguments\n",
    "3. Return values"
   ]
  },
  {
   "cell_type": "markdown",
   "id": "e754b6cd-b3cf-46a7-80bc-4bbe8752fdfe",
   "metadata": {},
   "source": [
    "# Argument types\n",
    "\n",
    "In many programming languages, when we define a function, and we define the parameters for that function, we also indicate what types of values can be assigned to those parameters.\n",
    "\n",
    "In other words, the language/environment can catch us if/when we make mistakes, ensuring that we don't try to pass an integer where a string is expected, or vice versa.\n",
    "\n",
    "Python has **NONE** of this.  Python is a dynamic language, in which any value can be assigned to any variable. And any value can be passed to any function.\n",
    "\n",
    "(This is changing to some degree, but we won't go into the complexities of it here.)"
   ]
  },
  {
   "cell_type": "code",
   "execution_count": 46,
   "id": "3dbb9219-98cc-4f41-8d04-b930116ac4a0",
   "metadata": {},
   "outputs": [
    {
     "name": "stdout",
     "output_type": "stream",
     "text": [
      "Hello, abcd!\n"
     ]
    }
   ],
   "source": [
    "def hello(name):\n",
    "    print(f'Hello, {name}!')\n",
    "\n",
    "hello('abcd')  # here, we pass a string"
   ]
  },
  {
   "cell_type": "code",
   "execution_count": 47,
   "id": "745fce5b-65d9-46e6-af6c-9ece49ad9939",
   "metadata": {},
   "outputs": [
    {
     "name": "stdout",
     "output_type": "stream",
     "text": [
      "Hello, 3!\n"
     ]
    }
   ],
   "source": [
    "hello(3)  # here, we pass an integer"
   ]
  },
  {
   "cell_type": "code",
   "execution_count": 48,
   "id": "27f0b43b-86df-4603-bedf-27159d6e9d08",
   "metadata": {},
   "outputs": [
    {
     "name": "stdout",
     "output_type": "stream",
     "text": [
      "Hello, [10, 20, 30]!\n"
     ]
    }
   ],
   "source": [
    "hello([10, 20, 30])   #here, we pass a list"
   ]
  },
  {
   "cell_type": "code",
   "execution_count": 49,
   "id": "ad03a817-559d-471a-884b-694813da4a82",
   "metadata": {},
   "outputs": [
    {
     "name": "stdout",
     "output_type": "stream",
     "text": [
      "Hello, <function hello at 0x11316e200>!\n"
     ]
    }
   ],
   "source": [
    "hello(hello)   # here, we pass a *function* to the function"
   ]
  },
  {
   "cell_type": "markdown",
   "id": "adc475dd-7502-45f7-b5b7-e97da121fd8c",
   "metadata": {},
   "source": [
    "# How is this OK?\n",
    "\n",
    "It's true that this can lead to more bugs. And it's true that the Python community is starting to address these issues. But the ways in which we're addressing them do *not* involve changing the langauge directly. Rather, there are tools (such as \"mypy\") that notice when you have a mismatch and warn you.\n",
    "\n",
    "Besides, this is often a very desireable thing. It's great that you can write a function in Python that handles strings, lists, and tuples -- and you don't need to write that function three times."
   ]
  },
  {
   "cell_type": "markdown",
   "id": "37899fbc-6172-4590-af8b-77e0b161bdf0",
   "metadata": {},
   "source": [
    "# Multiple arguments/parameters\n",
    "\n",
    "Can I define a function with more than one parameter? Yes, just put the names with commas between them.\n",
    "\n",
    "How, then, do I call a function with more than one argument? Just put commas between them."
   ]
  },
  {
   "cell_type": "code",
   "execution_count": 50,
   "id": "9799552d-b014-46be-8d20-2265956cc752",
   "metadata": {},
   "outputs": [],
   "source": [
    "def hello(first, last):\n",
    "    print(f'Hello, {first} {last}')"
   ]
  },
  {
   "cell_type": "code",
   "execution_count": 51,
   "id": "3c28e3c2-fa10-4888-a79d-d93284755040",
   "metadata": {},
   "outputs": [
    {
     "ename": "TypeError",
     "evalue": "hello() missing 1 required positional argument: 'last'",
     "output_type": "error",
     "traceback": [
      "\u001b[0;31m---------------------------------------------------------------------------\u001b[0m",
      "\u001b[0;31mTypeError\u001b[0m                                 Traceback (most recent call last)",
      "Cell \u001b[0;32mIn[51], line 1\u001b[0m\n\u001b[0;32m----> 1\u001b[0m \u001b[43mhello\u001b[49m\u001b[43m(\u001b[49m\u001b[38;5;124;43m'\u001b[39;49m\u001b[38;5;124;43mworld\u001b[39;49m\u001b[38;5;124;43m'\u001b[39;49m\u001b[43m)\u001b[49m\n",
      "\u001b[0;31mTypeError\u001b[0m: hello() missing 1 required positional argument: 'last'"
     ]
    }
   ],
   "source": [
    "hello('world')"
   ]
  },
  {
   "cell_type": "code",
   "execution_count": 52,
   "id": "d11a7391-f452-4256-9248-13aee7b75427",
   "metadata": {},
   "outputs": [
    {
     "name": "stdout",
     "output_type": "stream",
     "text": [
      "Hello, Reuven Lerner\n"
     ]
    }
   ],
   "source": [
    "hello('Reuven', 'Lerner')"
   ]
  },
  {
   "cell_type": "code",
   "execution_count": 53,
   "id": "3347d0c6-ece6-4bbb-9ff3-3cf846c19ba1",
   "metadata": {},
   "outputs": [
    {
     "name": "stdout",
     "output_type": "stream",
     "text": [
      "Hello, 2 4\n"
     ]
    }
   ],
   "source": [
    "hello(2, 4)"
   ]
  },
  {
   "cell_type": "code",
   "execution_count": 54,
   "id": "e2f16349-f1e1-49c7-82b6-e8f3b3442e56",
   "metadata": {},
   "outputs": [],
   "source": [
    "# IB\n",
    "\n",
    "def calc(string):\n",
    "    num1, op, num2 = string.split()\n",
    "    num1 = int(num1)\n",
    "    num2 = int(num2)\n",
    "\n",
    "    if op == '+':\n",
    "        result = num1 + num2\n",
    "    elif op == '-':\n",
    "        result = num1 - num2\n",
    "    else:\n",
    "        result = 'who knows?'\n",
    "    print(f'{num1} {op} {num2} = {result}')"
   ]
  },
  {
   "cell_type": "code",
   "execution_count": 57,
   "id": "6b77d04d-95b0-4fa5-993a-c8427000b02f",
   "metadata": {},
   "outputs": [
    {
     "name": "stdout",
     "output_type": "stream",
     "text": [
      "2 + 3 = 5\n"
     ]
    }
   ],
   "source": [
    "calc('2 + 3')"
   ]
  },
  {
   "cell_type": "code",
   "execution_count": 58,
   "id": "5c102965-2fa7-4b86-89f0-464b92fb39b1",
   "metadata": {},
   "outputs": [
    {
     "name": "stdout",
     "output_type": "stream",
     "text": [
      "8 - 10 = -2\n"
     ]
    }
   ],
   "source": [
    "calc('8 - 10')"
   ]
  },
  {
   "cell_type": "code",
   "execution_count": 59,
   "id": "78039e94-0861-4427-827e-edd1a3d5ab2b",
   "metadata": {},
   "outputs": [
    {
     "name": "stdout",
     "output_type": "stream",
     "text": [
      "8 * 10 = who knows?\n"
     ]
    }
   ],
   "source": [
    "calc('8 * 10')"
   ]
  },
  {
   "cell_type": "code",
   "execution_count": null,
   "id": "40e29722-5cfb-403f-a865-4525b0abdaa2",
   "metadata": {},
   "outputs": [],
   "source": []
  }
 ],
 "metadata": {
  "kernelspec": {
   "display_name": "Python 3 (ipykernel)",
   "language": "python",
   "name": "python3"
  },
  "language_info": {
   "codemirror_mode": {
    "name": "ipython",
    "version": 3
   },
   "file_extension": ".py",
   "mimetype": "text/x-python",
   "name": "python",
   "nbconvert_exporter": "python",
   "pygments_lexer": "ipython3",
   "version": "3.12.2"
  },
  "widgets": {
   "application/vnd.jupyter.widget-state+json": {
    "state": {},
    "version_major": 2,
    "version_minor": 0
   }
  }
 },
 "nbformat": 4,
 "nbformat_minor": 5
}
