{
 "cells": [
  {
   "cell_type": "markdown",
   "id": "e489e12f-fac4-42a7-af8b-d4dbc02aa51e",
   "metadata": {},
   "source": [
    "# Agenda: Functions!\n",
    "\n",
    "1. Q&A\n",
    "2. What are functions, anyway?\n",
    "3. Defining functions\n",
    "4. Arguments to functions\n",
    "5. Return values\n",
    "6. Complex return values\n",
    "7. Local variables vs. global variables"
   ]
  },
  {
   "cell_type": "markdown",
   "id": "3d63ab85-7dd7-4dcb-ae07-7765f7e15a84",
   "metadata": {},
   "source": [
    "# Exercise: Dict to config\n",
    "\n",
    "1. Define a (small) dictionary.\n",
    "2. Iterate over the dict, one key-value pair at a time.\n",
    "3. Write each key-value pair to a file on one line, with a `:` between the key and the value.\n",
    "4. Print the contents of the file."
   ]
  },
  {
   "cell_type": "code",
   "execution_count": 3,
   "id": "905901a3-4335-4480-aa02-1ba95e705b0c",
   "metadata": {},
   "outputs": [
    {
     "name": "stdout",
     "output_type": "stream",
     "text": [
      "a:100\n",
      "b:200\n",
      "c:hello\n"
     ]
    }
   ],
   "source": [
    "d = {'a':100, 'b':200, 'c':'hello'}\n",
    "\n",
    "for key, value in d.items():\n",
    "    print(f'{key}:{value}')"
   ]
  },
  {
   "cell_type": "code",
   "execution_count": 4,
   "id": "64e24371-399e-4a4e-b3ac-8c43f5537606",
   "metadata": {},
   "outputs": [],
   "source": [
    "d = {'a':100, 'b':200, 'c':'hello'}\n",
    "\n",
    "with open('config.txt', 'w') as f:  # open the file, and auto-close/flush it when the block ends\n",
    "    for key, value in d.items():\n",
    "        f.write(f'{key}:{value}\\n')"
   ]
  },
  {
   "cell_type": "code",
   "execution_count": 5,
   "id": "ccbbec81-bae8-49f9-b66c-d5a7e4bf1ddf",
   "metadata": {},
   "outputs": [
    {
     "name": "stdout",
     "output_type": "stream",
     "text": [
      "a:100\n",
      "b:200\n",
      "c:hello\n"
     ]
    }
   ],
   "source": [
    "!cat config.txt"
   ]
  },
  {
   "cell_type": "code",
   "execution_count": 7,
   "id": "4d34faae-57c1-4739-b191-5f685bae5362",
   "metadata": {},
   "outputs": [
    {
     "ename": "FileNotFoundError",
     "evalue": "[Errno 2] No such file or directory: 'small.txt'",
     "output_type": "error",
     "traceback": [
      "\u001b[0;31m---------------------------------------------------------------------------\u001b[0m",
      "\u001b[0;31mFileNotFoundError\u001b[0m                         Traceback (most recent call last)",
      "Cell \u001b[0;32mIn[7], line 17\u001b[0m\n\u001b[1;32m     14\u001b[0m     \u001b[38;5;28;01mwith\u001b[39;00m \u001b[38;5;28mopen\u001b[39m(\u001b[38;5;124m'\u001b[39m\u001b[38;5;124msmall.txt\u001b[39m\u001b[38;5;124m'\u001b[39m,\u001b[38;5;124m'\u001b[39m\u001b[38;5;124ma\u001b[39m\u001b[38;5;124m'\u001b[39m) \u001b[38;5;28;01mas\u001b[39;00m f:   \u001b[38;5;66;03m# open with \"a\" means: Write to the file, appending to what was there before\u001b[39;00m\n\u001b[1;32m     15\u001b[0m         f\u001b[38;5;241m.\u001b[39mwrite(\u001b[38;5;124mf\u001b[39m\u001b[38;5;124m'\u001b[39m\u001b[38;5;132;01m{\u001b[39;00mkey\u001b[38;5;132;01m}\u001b[39;00m\u001b[38;5;124m: \u001b[39m\u001b[38;5;132;01m{\u001b[39;00mvalue\u001b[38;5;132;01m}\u001b[39;00m\u001b[38;5;130;01m\\n\u001b[39;00m\u001b[38;5;124m'\u001b[39m)\n\u001b[0;32m---> 17\u001b[0m \u001b[38;5;28;01mwith\u001b[39;00m \u001b[38;5;28;43mopen\u001b[39;49m\u001b[43m(\u001b[49m\u001b[38;5;124;43m'\u001b[39;49m\u001b[38;5;124;43msmall.txt\u001b[39;49m\u001b[38;5;124;43m'\u001b[39;49m\u001b[43m)\u001b[49m \u001b[38;5;28;01mas\u001b[39;00m f:\n\u001b[1;32m     18\u001b[0m     \u001b[38;5;28mprint\u001b[39m(f\u001b[38;5;241m.\u001b[39mread())\n",
      "File \u001b[0;32m~/.pyenv/versions/3.12.2/lib/python3.12/site-packages/IPython/core/interactiveshell.py:310\u001b[0m, in \u001b[0;36m_modified_open\u001b[0;34m(file, *args, **kwargs)\u001b[0m\n\u001b[1;32m    303\u001b[0m \u001b[38;5;28;01mif\u001b[39;00m file \u001b[38;5;129;01min\u001b[39;00m {\u001b[38;5;241m0\u001b[39m, \u001b[38;5;241m1\u001b[39m, \u001b[38;5;241m2\u001b[39m}:\n\u001b[1;32m    304\u001b[0m     \u001b[38;5;28;01mraise\u001b[39;00m \u001b[38;5;167;01mValueError\u001b[39;00m(\n\u001b[1;32m    305\u001b[0m         \u001b[38;5;124mf\u001b[39m\u001b[38;5;124m\"\u001b[39m\u001b[38;5;124mIPython won\u001b[39m\u001b[38;5;124m'\u001b[39m\u001b[38;5;124mt let you open fd=\u001b[39m\u001b[38;5;132;01m{\u001b[39;00mfile\u001b[38;5;132;01m}\u001b[39;00m\u001b[38;5;124m by default \u001b[39m\u001b[38;5;124m\"\u001b[39m\n\u001b[1;32m    306\u001b[0m         \u001b[38;5;124m\"\u001b[39m\u001b[38;5;124mas it is likely to crash IPython. If you know what you are doing, \u001b[39m\u001b[38;5;124m\"\u001b[39m\n\u001b[1;32m    307\u001b[0m         \u001b[38;5;124m\"\u001b[39m\u001b[38;5;124myou can use builtins\u001b[39m\u001b[38;5;124m'\u001b[39m\u001b[38;5;124m open.\u001b[39m\u001b[38;5;124m\"\u001b[39m\n\u001b[1;32m    308\u001b[0m     )\n\u001b[0;32m--> 310\u001b[0m \u001b[38;5;28;01mreturn\u001b[39;00m \u001b[43mio_open\u001b[49m\u001b[43m(\u001b[49m\u001b[43mfile\u001b[49m\u001b[43m,\u001b[49m\u001b[43m \u001b[49m\u001b[38;5;241;43m*\u001b[39;49m\u001b[43margs\u001b[49m\u001b[43m,\u001b[49m\u001b[43m \u001b[49m\u001b[38;5;241;43m*\u001b[39;49m\u001b[38;5;241;43m*\u001b[39;49m\u001b[43mkwargs\u001b[49m\u001b[43m)\u001b[49m\n",
      "\u001b[0;31mFileNotFoundError\u001b[0m: [Errno 2] No such file or directory: 'small.txt'"
     ]
    }
   ],
   "source": [
    "# this code has a few problems:\n",
    "# (1) the dict, small, is empty. So nothing will be written to the file\n",
    "# (2) this code puts \"with\" inside of a \"for\" loop. Typically, you want to do the opposite\n",
    "# (3) because whoever wrote this put \"with\" inside of the \"for\" loop, we couldn't use\n",
    "#     the \"w\" option for \"open\".  If we open with \"w\", that means: Remove any contents that \n",
    "#     were there before; the file starts over from being empty.\n",
    "# (4) because the dict is empty, we do 0 iterations of the for loop, Which means that \"open\" is\n",
    "#     never called to write to the file. Which means that when , in line 16, we open the file\n",
    "#     for reading, Python gives us an error.\n",
    "\n",
    "small={}\n",
    "\n",
    "for key,value in small.items():\n",
    "    with open('small.txt','a') as f:   # open with \"a\" means: Write to the file, appending to what was there before\n",
    "        f.write(f'{key}: {value}\\n')\n",
    "        \n",
    "with open('small.txt') as f:\n",
    "    print(f.read())"
   ]
  },
  {
   "cell_type": "code",
   "execution_count": 8,
   "id": "69c6620c-56d1-422f-b979-f528e0405467",
   "metadata": {},
   "outputs": [
    {
     "name": "stdout",
     "output_type": "stream",
     "text": [
      "config.txt\t      mini-access-log.txt  myfile2.txt\twcfile.txt\n",
      "linux-etc-passwd.txt  myfile.txt\t   nums.txt\n"
     ]
    }
   ],
   "source": [
    "!ls *.txt"
   ]
  },
  {
   "cell_type": "markdown",
   "id": "6b782d41-34f3-4025-beed-2b94d936371b",
   "metadata": {},
   "source": [
    "# Functions\n",
    "\n",
    "Functions are the verbs of a programming language. You use a function (or a method) to do something in a program. A function is defined in terms of already existing verbs. Meaning: If you define a function, then you're teaching a new verb to Python.\n",
    "\n",
    "That raises some questions: Do we really need functions?\n",
    "\n",
    "The answer is: No, at least not in a technical sense.\n",
    "\n",
    "But functions give us a lot of semantic power, and they make it possible to think in new and better ways about our code. They also make our code much more readable, concise, and clear. It's far easier to maintain code that uses functions than code that doesn't.\n",
    "\n",
    "One of the most important ideas in all of computer science is that of \"abstraction.\" The idea of abstraction is that you hide the low-level details, so that you can concentrate on the big, high-level thoughts.\n",
    "\n",
    "You car consists of thousands of parts and hundreds of processes taking place at any given time.\n",
    "\n",
    "- How would you drive, if you had to think about all of those processes?\n",
    "- How would you think about traffic jams, if you had to think about all of those processes?\n",
    "\n",
    "By hiding the details, we're able to think at a higher level. That's abstraction.\n",
    "\n",
    "Functions allow us to scoop up a whole bunch of existing functionality and put it under a single roof, a single name, that we can call whenever we need. That's a function.\n",
    "\n"
   ]
  },
  {
   "cell_type": "markdown",
   "id": "a2ded53a-66ac-4d42-b949-671b299a6d0d",
   "metadata": {},
   "source": [
    "# Let's define a function!\n",
    "\n",
    "When we define a function, we'll use the keyword `def`. \n",
    "- Following `def`, we put the name of the function. The function's name is actually a variable name, so it has to follow all of the same rules and conventions.\n",
    "- After the function's name, we'll have empty parentheses. We will put something in there soon, but those are the parameter names for any arguments we want to pass to our function.\n",
    "- A colon (:) at the end of the line, marking the end of the first line\n",
    "- An indented block. This is known as the \"function body.\"\n",
    "    - The function body can, theoretically, be as long as you want\n",
    "    - It can include *any Python code* with very rare exception"
   ]
  },
  {
   "cell_type": "code",
   "execution_count": 9,
   "id": "7a4cabc4-f60a-4280-b672-b4d87d88bcb0",
   "metadata": {},
   "outputs": [],
   "source": [
    "def hello():\n",
    "    print('Hello!')"
   ]
  },
  {
   "cell_type": "code",
   "execution_count": 10,
   "id": "d9d83056-029a-46d1-9c73-9e4bf58fdb9e",
   "metadata": {},
   "outputs": [
    {
     "name": "stdout",
     "output_type": "stream",
     "text": [
      "Hello!\n"
     ]
    }
   ],
   "source": [
    "hello()   # run the function I just created"
   ]
  },
  {
   "cell_type": "markdown",
   "id": "ee41dd2a-45d8-42f1-ad75-44baccb814b3",
   "metadata": {},
   "source": [
    "# Exercise: Calculator\n",
    "\n",
    "1. Ask the user to enter a string containing a"
   ]
  }
 ],
 "metadata": {
  "kernelspec": {
   "display_name": "Python 3 (ipykernel)",
   "language": "python",
   "name": "python3"
  },
  "language_info": {
   "codemirror_mode": {
    "name": "ipython",
    "version": 3
   },
   "file_extension": ".py",
   "mimetype": "text/x-python",
   "name": "python",
   "nbconvert_exporter": "python",
   "pygments_lexer": "ipython3",
   "version": "3.12.2"
  },
  "widgets": {
   "application/vnd.jupyter.widget-state+json": {
    "state": {},
    "version_major": 2,
    "version_minor": 0
   }
  }
 },
 "nbformat": 4,
 "nbformat_minor": 5
}
