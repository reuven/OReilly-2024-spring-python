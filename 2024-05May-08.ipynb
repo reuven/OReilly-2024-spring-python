{
 "cells": [
  {
   "cell_type": "markdown",
   "id": "048649bb-6b09-4663-94f8-053b7ff620ab",
   "metadata": {},
   "source": [
    "# Agenda: Dicts and files\n",
    "\n",
    "1. Q&A\n",
    "2. Recap of simple data structures\n",
    "3. Dictionaries (\"dicts\")\n",
    "    - Defining dicts\n",
    "    - Retrieving from them\n",
    "    - Searching in them\n",
    "4. Dictionaries are mutable\n",
    "    - How do we update a value\n",
    "    - How do we add a new key-value pair\n",
    "    - How do we remove a key-value pair?\n",
    "5. Accumulating\n",
    "6. Accumulating the unknown\n",
    "7. Looping over dicts\n",
    "8. How do dicts work?\n",
    "9. Files\n",
    "    - What are files?\n",
    "    - Reading from files (the good way, and the bad way)\n",
    "10. Writing to files\n",
    "    - The `with` statement, and why it's important"
   ]
  },
  {
   "cell_type": "markdown",
   "id": "d3ea9999-087b-4300-9746-2dfe8cb0e19d",
   "metadata": {},
   "source": [
    "# Recap of data structures\n",
    "\n",
    "We've talked about several data structures so far, for working with our information:\n",
    "\n",
    "- `True`/`False`\n",
    "- Integers and floats\n",
    "- Sequences (i.e., iterable containers for other data)\n",
    "    - Strings\n",
    "    - Lists\n",
    "    - Tuples\n",
    " \n",
    "In all sequences, the values are indexed, starting at 0. \n",
    "\n",
    "If we know the index for a particular value, we can retrieve it from that string/list/tuple.\n",
    "\n",
    "But if we don't know the index? Then we can search! There is a `.index` method on all three of these data structures. Think about it, though -- that means running a `for` loop in order to find out data.\n",
    "\n",
    "The good news is that sequences (especially lists) are really convenient and easy to work with! But (a) searching in them is slow and (b) the index doesn't really have any inherent meaning. It's just when we added something to the list.\n",
    "\n"
   ]
  },
  {
   "cell_type": "markdown",
   "id": "b204fcd8-9d2d-4429-b7f6-dbfc7eadea4a",
   "metadata": {},
   "source": [
    "# Dictionaries (\"dicts\")\n",
    "\n",
    "These are, by far, the most powerful data structures in Python. They also exist in other languages. You might have heard of them as:\n",
    "\n",
    "- Hash tables\n",
    "- Hash maps\n",
    "- Hashes\n",
    "- Associative arrays\n",
    "- Key-value stores\n",
    "- Name-value stores\n",
    "\n",
    "The basic idea, though, is that instead of storing a single item (as we do with a string, list, tuple), we're going to store a *pair* of\n",
    "items, the key (which is what we call the index in a dict) and the value (which is... the value).\n",
    "\n",
    "Description of dict syntax, and then we'll actually do it\n",
    "\n",
    "- To create a dictionary, we'll use `{}`\n",
    "- Inside of the `{}`, we'll have zero or more key-value pairs\n",
    "- Each key and value are separated by a `:`\n",
    "- Each pair is separated from other pairs with `,`\n",
    "\n",
    "What can be a key? What can be a value? Some basic rules:\n",
    "- Every key in a dict has a value, and every value has a key.\n",
    "- The key can be any immutable type in Python -- we normally use integers and strings\n",
    "- The value can be absolutely, positively any Python value -- int, string, float, list, dict, etc.\n",
    "- Keys must be unique within a dict. There can be no key duplication.\n",
    "- Values can repeat themselves, though.\n",
    "- You can get a value via the key, but you cannot get a key via the value (at least, not easily)."
   ]
  },
  {
   "cell_type": "code",
   "execution_count": 1,
   "id": "3a50c6ec-3391-4294-a897-5a1c75e5d7ab",
   "metadata": {},
   "outputs": [],
   "source": [
    "d = {'a':10, 'b':20, 'c':30}   # this is a dict!"
   ]
  },
  {
   "cell_type": "code",
   "execution_count": 2,
   "id": "3128c4b6-8012-41ff-bb47-039c088fc00b",
   "metadata": {},
   "outputs": [
    {
     "data": {
      "text/plain": [
       "3"
      ]
     },
     "execution_count": 2,
     "metadata": {},
     "output_type": "execute_result"
    }
   ],
   "source": [
    "len(d)    # how many pairs are in this dict?"
   ]
  },
  {
   "cell_type": "code",
   "execution_count": 3,
   "id": "14c884ef-ba4b-4907-babd-a1e5f7866525",
   "metadata": {},
   "outputs": [
    {
     "data": {
      "text/plain": [
       "10"
      ]
     },
     "execution_count": 3,
     "metadata": {},
     "output_type": "execute_result"
    }
   ],
   "source": [
    "# how can I retrieve from a dict? Use [] with the key you want, just like with a list or tuple\n",
    "\n",
    "d['a']  "
   ]
  },
  {
   "cell_type": "code",
   "execution_count": 4,
   "id": "4053063a-bcb7-4d72-8477-eef42605dee2",
   "metadata": {},
   "outputs": [
    {
     "data": {
      "text/plain": [
       "10"
      ]
     },
     "execution_count": 4,
     "metadata": {},
     "output_type": "execute_result"
    }
   ],
   "source": [
    "key = 'a'\n",
    "d[key]"
   ]
  },
  {
   "cell_type": "code",
   "execution_count": 5,
   "id": "65c07449-3b08-4831-bfe0-808f93a1add1",
   "metadata": {},
   "outputs": [
    {
     "ename": "KeyError",
     "evalue": "'z'",
     "output_type": "error",
     "traceback": [
      "\u001b[0;31m---------------------------------------------------------------------------\u001b[0m",
      "\u001b[0;31mKeyError\u001b[0m                                  Traceback (most recent call last)",
      "Cell \u001b[0;32mIn[5], line 2\u001b[0m\n\u001b[1;32m      1\u001b[0m \u001b[38;5;66;03m# what if I request a key that doesn't exist?\u001b[39;00m\n\u001b[0;32m----> 2\u001b[0m \u001b[43md\u001b[49m\u001b[43m[\u001b[49m\u001b[38;5;124;43m'\u001b[39;49m\u001b[38;5;124;43mz\u001b[39;49m\u001b[38;5;124;43m'\u001b[39;49m\u001b[43m]\u001b[49m\n",
      "\u001b[0;31mKeyError\u001b[0m: 'z'"
     ]
    }
   ],
   "source": [
    "# what if I request a key that doesn't exist?\n",
    "d['z']"
   ]
  },
  {
   "cell_type": "code",
   "execution_count": 6,
   "id": "894f0577-b8c1-4b66-992c-9ef51e4e37e2",
   "metadata": {},
   "outputs": [
    {
     "data": {
      "text/plain": [
       "True"
      ]
     },
     "execution_count": 6,
     "metadata": {},
     "output_type": "execute_result"
    }
   ],
   "source": [
    "# I can search in the dict, to find out if it contains a key, with \"in\"\n",
    "# VERY VERY IMPORTANT: 'in' only searches the keys, not the values\n",
    "# and it must be an *exact* match\n",
    "\n",
    "'a' in d"
   ]
  },
  {
   "cell_type": "code",
   "execution_count": 7,
   "id": "6f683243-86a4-4415-9f00-537c2697b5d1",
   "metadata": {},
   "outputs": [
    {
     "data": {
      "text/plain": [
       "10"
      ]
     },
     "execution_count": 7,
     "metadata": {},
     "output_type": "execute_result"
    }
   ],
   "source": [
    "d['a']"
   ]
  },
  {
   "cell_type": "code",
   "execution_count": 8,
   "id": "9bdad4a7-b78e-422e-9569-50a1e0954104",
   "metadata": {},
   "outputs": [
    {
     "data": {
      "text/plain": [
       "False"
      ]
     },
     "execution_count": 8,
     "metadata": {},
     "output_type": "execute_result"
    }
   ],
   "source": [
    "'z' in d"
   ]
  },
  {
   "cell_type": "code",
   "execution_count": 9,
   "id": "76945261-111d-4290-b61b-8e118e7de6c2",
   "metadata": {},
   "outputs": [
    {
     "data": {
      "text/plain": [
       "False"
      ]
     },
     "execution_count": 9,
     "metadata": {},
     "output_type": "execute_result"
    }
   ],
   "source": [
    "'A' in d"
   ]
  },
  {
   "cell_type": "code",
   "execution_count": 10,
   "id": "6012147d-5b19-408b-bfbc-590f87e56cad",
   "metadata": {},
   "outputs": [
    {
     "data": {
      "text/plain": [
       "{'a': 10, 'b': 20, 'c': 30}"
      ]
     },
     "execution_count": 10,
     "metadata": {},
     "output_type": "execute_result"
    }
   ],
   "source": [
    "d"
   ]
  },
  {
   "cell_type": "markdown",
   "id": "1d530a65-627e-4769-a795-4c6cd783bbe1",
   "metadata": {},
   "source": [
    "# Exercise: Restaurant \n",
    "\n",
    "1. Define a dictionary in which the keys are strings (entrees on a menu) and the values are integers (prices of those items). You can have as many or as few things as you want, 3-5 is a good number. Assign this dict to `menu`.\n",
    "2. Set `total` to be 0.\n",
    "3. Ask the user, again and again, what they"
   ]
  }
 ],
 "metadata": {
  "kernelspec": {
   "display_name": "Python 3 (ipykernel)",
   "language": "python",
   "name": "python3"
  },
  "language_info": {
   "codemirror_mode": {
    "name": "ipython",
    "version": 3
   },
   "file_extension": ".py",
   "mimetype": "text/x-python",
   "name": "python",
   "nbconvert_exporter": "python",
   "pygments_lexer": "ipython3",
   "version": "3.12.1"
  }
 },
 "nbformat": 4,
 "nbformat_minor": 5
}
