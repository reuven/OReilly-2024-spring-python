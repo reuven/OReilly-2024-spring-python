{
 "cells": [
  {
   "cell_type": "markdown",
   "id": "048649bb-6b09-4663-94f8-053b7ff620ab",
   "metadata": {},
   "source": [
    "# Agenda: Dicts and files\n",
    "\n",
    "1. Q&A\n",
    "2. Recap of simple data structures\n",
    "3. Dictionaries (\"dicts\")\n",
    "    - Defining dicts\n",
    "    - Retrieving from them\n",
    "    - Searching in them\n",
    "4. Dictionaries are mutable\n",
    "    - How do we update a value\n",
    "    - How do we add a new key-value pair\n",
    "    - How do we remove a key-value pair?\n",
    "5. Accumulating\n",
    "6. Accumulating the unknown\n",
    "7. Looping over dicts\n",
    "8. How do dicts work?\n",
    "9. Files\n",
    "    - What are files?\n",
    "    - Reading from files (the good way, and the bad way)\n",
    "10. Writing to files\n",
    "    - The `with` statement, and why it's important"
   ]
  },
  {
   "cell_type": "markdown",
   "id": "d3ea9999-087b-4300-9746-2dfe8cb0e19d",
   "metadata": {},
   "source": [
    "# Recap of data structures\n",
    "\n",
    "We've talked about several data structures so far, for working with our information:\n",
    "\n",
    "- `True`/`False`\n",
    "- Integers and floats\n",
    "- Sequences (i.e., iterable containers for other data)\n",
    "    - Strings\n",
    "    - Lists\n",
    "    - Tuples\n",
    " \n",
    "In all sequences, the values are indexed, starting at 0. \n",
    "\n",
    "If we know the index for a particular value, we can retrieve it from that string/list/tuple.\n",
    "\n",
    "But if we don't know the index? Then we can search! There is a `.index` method on all three of these data structures. Think about it, though -- that means running a `for` loop in order to find out data.\n",
    "\n"
   ]
  }
 ],
 "metadata": {
  "kernelspec": {
   "display_name": "Python 3 (ipykernel)",
   "language": "python",
   "name": "python3"
  },
  "language_info": {
   "codemirror_mode": {
    "name": "ipython",
    "version": 3
   },
   "file_extension": ".py",
   "mimetype": "text/x-python",
   "name": "python",
   "nbconvert_exporter": "python",
   "pygments_lexer": "ipython3",
   "version": "3.12.1"
  }
 },
 "nbformat": 4,
 "nbformat_minor": 5
}
