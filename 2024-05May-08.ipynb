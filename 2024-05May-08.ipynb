{
 "cells": [
  {
   "cell_type": "markdown",
   "id": "048649bb-6b09-4663-94f8-053b7ff620ab",
   "metadata": {},
   "source": [
    "# Agenda: Dicts and files\n",
    "\n",
    "1. Q&A\n",
    "2. Recap of simple data structures\n",
    "3. Dictionaries (\"dicts\")\n",
    "    - Defining dicts\n",
    "    - Retrieving from them\n",
    "    - Searching in them\n",
    "4. Dictionaries are mutable\n",
    "    - How do we update a value\n",
    "    - How do we add a new key-value pair\n",
    "    - How do we remove a key-value pair?\n",
    "5. Accumulating\n",
    "6. Accumulating the unknown\n",
    "7. Looping over dicts\n",
    "8. How do dicts work?\n",
    "9. Files\n",
    "    - What are files?\n",
    "    - Reading from files (the good way, and the bad way)\n",
    "10. Writing to files\n",
    "    - The `with` statement, and why it's important"
   ]
  },
  {
   "cell_type": "markdown",
   "id": "d3ea9999-087b-4300-9746-2dfe8cb0e19d",
   "metadata": {},
   "source": [
    "# Recap of data structures\n",
    "\n",
    "We've talked about several data structures so far, for working with our information:\n",
    "\n",
    "- `True`/`False`\n",
    "- Integers and floats\n",
    "- Sequences (i.e., iterable containers for other data)\n",
    "    - Strings\n",
    "    - Lists\n",
    "    - Tuples\n",
    " \n",
    "In all sequences, the values are indexed, starting at 0. \n",
    "\n",
    "If we know the index for a particular value, we can retrieve it from that string/list/tuple.\n",
    "\n",
    "But if we don't know the index? Then we can search! There is a `.index` method on all three of these data structures. Think about it, though -- that means running a `for` loop in order to find out data.\n",
    "\n",
    "The good news is that sequences (especially lists) are really convenient and easy to work with! But (a) searching in them is slow and (b) the index doesn't really have any inherent meaning. It's just when we added something to the list.\n",
    "\n"
   ]
  },
  {
   "cell_type": "markdown",
   "id": "b204fcd8-9d2d-4429-b7f6-dbfc7eadea4a",
   "metadata": {},
   "source": [
    "# Dictionaries (\"dicts\")\n",
    "\n",
    "These are, by far, the most powerful data structures in Python. They also exist in other languages. You might have heard of them as:\n",
    "\n",
    "- Hash tables\n",
    "- Hash maps\n",
    "- Hashes\n",
    "- Associative arrays\n",
    "- Key-value stores\n",
    "- Name-value stores\n",
    "\n",
    "The basic idea, though, is that instead of storing a single item (as we do with a string, list, tuple), we're going to store a *pair* of\n",
    "items, the key (which is what we call the index in a dict) and the value (which is... the value).\n",
    "\n",
    "Description of dict syntax, and then we'll actually do it\n",
    "\n",
    "- To create a dictionary, we'll use `{}`\n",
    "- Inside of the `{}`, we'll have zero or more key-value pairs\n",
    "- Each key and value are separated by a `:`\n",
    "- Each pair is separated from other pairs with `,`\n",
    "\n",
    "What can be a key? What can be a value? Some basic rules:\n",
    "- Every key in a dict has a value, and every value has a key.\n",
    "- The key can be any immutable type in Python -- we normally use integers and strings\n",
    "- The value can be absolutely, positively any Python value -- int, string, float, list, dict, etc.\n",
    "- Keys must be unique within a dict. There can be no key duplication.\n",
    "- Values can repeat themselves, though.\n",
    "- You can get a value via the key, but you cannot get a key via the value (at least, not easily)."
   ]
  },
  {
   "cell_type": "code",
   "execution_count": 1,
   "id": "3a50c6ec-3391-4294-a897-5a1c75e5d7ab",
   "metadata": {},
   "outputs": [],
   "source": [
    "d = {'a':10, 'b':20, 'c':30}   # this is a dict!"
   ]
  },
  {
   "cell_type": "code",
   "execution_count": 2,
   "id": "3128c4b6-8012-41ff-bb47-039c088fc00b",
   "metadata": {},
   "outputs": [
    {
     "data": {
      "text/plain": [
       "3"
      ]
     },
     "execution_count": 2,
     "metadata": {},
     "output_type": "execute_result"
    }
   ],
   "source": [
    "len(d)    # how many pairs are in this dict?"
   ]
  },
  {
   "cell_type": "code",
   "execution_count": 3,
   "id": "14c884ef-ba4b-4907-babd-a1e5f7866525",
   "metadata": {},
   "outputs": [
    {
     "data": {
      "text/plain": [
       "10"
      ]
     },
     "execution_count": 3,
     "metadata": {},
     "output_type": "execute_result"
    }
   ],
   "source": [
    "# how can I retrieve from a dict? Use [] with the key you want, just like with a list or tuple\n",
    "\n",
    "d['a']  "
   ]
  },
  {
   "cell_type": "code",
   "execution_count": 4,
   "id": "4053063a-bcb7-4d72-8477-eef42605dee2",
   "metadata": {},
   "outputs": [
    {
     "data": {
      "text/plain": [
       "10"
      ]
     },
     "execution_count": 4,
     "metadata": {},
     "output_type": "execute_result"
    }
   ],
   "source": [
    "key = 'a'\n",
    "d[key]"
   ]
  },
  {
   "cell_type": "code",
   "execution_count": 5,
   "id": "65c07449-3b08-4831-bfe0-808f93a1add1",
   "metadata": {},
   "outputs": [
    {
     "ename": "KeyError",
     "evalue": "'z'",
     "output_type": "error",
     "traceback": [
      "\u001b[0;31m---------------------------------------------------------------------------\u001b[0m",
      "\u001b[0;31mKeyError\u001b[0m                                  Traceback (most recent call last)",
      "Cell \u001b[0;32mIn[5], line 2\u001b[0m\n\u001b[1;32m      1\u001b[0m \u001b[38;5;66;03m# what if I request a key that doesn't exist?\u001b[39;00m\n\u001b[0;32m----> 2\u001b[0m \u001b[43md\u001b[49m\u001b[43m[\u001b[49m\u001b[38;5;124;43m'\u001b[39;49m\u001b[38;5;124;43mz\u001b[39;49m\u001b[38;5;124;43m'\u001b[39;49m\u001b[43m]\u001b[49m\n",
      "\u001b[0;31mKeyError\u001b[0m: 'z'"
     ]
    }
   ],
   "source": [
    "# what if I request a key that doesn't exist?\n",
    "d['z']"
   ]
  },
  {
   "cell_type": "code",
   "execution_count": 6,
   "id": "894f0577-b8c1-4b66-992c-9ef51e4e37e2",
   "metadata": {},
   "outputs": [
    {
     "data": {
      "text/plain": [
       "True"
      ]
     },
     "execution_count": 6,
     "metadata": {},
     "output_type": "execute_result"
    }
   ],
   "source": [
    "# I can search in the dict, to find out if it contains a key, with \"in\"\n",
    "# VERY VERY IMPORTANT: 'in' only searches the keys, not the values\n",
    "# and it must be an *exact* match\n",
    "\n",
    "'a' in d"
   ]
  },
  {
   "cell_type": "code",
   "execution_count": 7,
   "id": "6f683243-86a4-4415-9f00-537c2697b5d1",
   "metadata": {},
   "outputs": [
    {
     "data": {
      "text/plain": [
       "10"
      ]
     },
     "execution_count": 7,
     "metadata": {},
     "output_type": "execute_result"
    }
   ],
   "source": [
    "d['a']"
   ]
  },
  {
   "cell_type": "code",
   "execution_count": 8,
   "id": "9bdad4a7-b78e-422e-9569-50a1e0954104",
   "metadata": {},
   "outputs": [
    {
     "data": {
      "text/plain": [
       "False"
      ]
     },
     "execution_count": 8,
     "metadata": {},
     "output_type": "execute_result"
    }
   ],
   "source": [
    "'z' in d"
   ]
  },
  {
   "cell_type": "code",
   "execution_count": 9,
   "id": "76945261-111d-4290-b61b-8e118e7de6c2",
   "metadata": {},
   "outputs": [
    {
     "data": {
      "text/plain": [
       "False"
      ]
     },
     "execution_count": 9,
     "metadata": {},
     "output_type": "execute_result"
    }
   ],
   "source": [
    "'A' in d"
   ]
  },
  {
   "cell_type": "code",
   "execution_count": 10,
   "id": "6012147d-5b19-408b-bfbc-590f87e56cad",
   "metadata": {},
   "outputs": [
    {
     "data": {
      "text/plain": [
       "{'a': 10, 'b': 20, 'c': 30}"
      ]
     },
     "execution_count": 10,
     "metadata": {},
     "output_type": "execute_result"
    }
   ],
   "source": [
    "d"
   ]
  },
  {
   "cell_type": "markdown",
   "id": "1d530a65-627e-4769-a795-4c6cd783bbe1",
   "metadata": {},
   "source": [
    "# Exercise: Restaurant \n",
    "\n",
    "1. Define a dictionary in which the keys are strings (entrees on a menu) and the values are integers (prices of those items). You can have as many or as few things as you want, 3-5 is a good number. Assign this dict to `menu`.\n",
    "2. Set `total` to be 0.\n",
    "3. Ask the user, again and again, what they want to order:\n",
    "    - If their order is an empty string, stop asking and print the total\n",
    "    - If their order is a key in the dict, print its price, and add it to the total\n",
    "    - If their order is *not* a key in the dict, then scold them\n",
    "  \n",
    "Example:\n",
    "\n",
    "    Order: sandwich\n",
    "    sandwich is 10, total is 10\n",
    "    Order: apple\n",
    "    apple is 5, total is 15\n",
    "    Order: elephant\n",
    "    Sorry, we're fresh out of elephant today!\n",
    "    Order: [ENTER]\n",
    "    Your total is 15\n",
    "\n",
    "Hints/ideas:\n",
    "- Define the dict\n",
    "- Use `while` to get repeated input from the user\n",
    "- Use `if` to check if the user gave you an empty string\n",
    "- Use `in` to check if the user's input is a key in the dict"
   ]
  },
  {
   "cell_type": "code",
   "execution_count": 11,
   "id": "177e47fc-4fbc-4231-9371-2f16f8e6f939",
   "metadata": {},
   "outputs": [
    {
     "name": "stdin",
     "output_type": "stream",
     "text": [
      "Order:  sandwich\n"
     ]
    },
    {
     "name": "stdout",
     "output_type": "stream",
     "text": [
      "sandwich costs 10, total is now 10\n"
     ]
    },
    {
     "name": "stdin",
     "output_type": "stream",
     "text": [
      "Order:  apple\n"
     ]
    },
    {
     "name": "stdout",
     "output_type": "stream",
     "text": [
      "apple costs 5, total is now 15\n"
     ]
    },
    {
     "name": "stdin",
     "output_type": "stream",
     "text": [
      "Order:  dinosaur\n"
     ]
    },
    {
     "name": "stdout",
     "output_type": "stream",
     "text": [
      "We are out of dinosaur today!\n"
     ]
    },
    {
     "name": "stdin",
     "output_type": "stream",
     "text": [
      "Order:  \n"
     ]
    },
    {
     "name": "stdout",
     "output_type": "stream",
     "text": [
      "Total is 15\n"
     ]
    }
   ],
   "source": [
    "menu = {'sandwich':10, 'apple':5, 'tea':7, 'cake':12}\n",
    "\n",
    "total = 0\n",
    "\n",
    "while True:\n",
    "    order = input('Order: ').strip()\n",
    "\n",
    "    if order == '':   # did we get an empty response from the user? exit the loop!\n",
    "        break\n",
    "\n",
    "    if order in menu:  # is the user's input a key in the dict?\n",
    "        price = menu[order] \n",
    "        total += price\n",
    "        print(f'{order} costs {price}, total is now {total}')\n",
    "    else:\n",
    "        print(f'We are out of {order} today!')\n",
    "\n",
    "print(f'Total is {total}')"
   ]
  },
  {
   "cell_type": "code",
   "execution_count": 14,
   "id": "805b20a4-158a-488a-8fab-3f4c48e38919",
   "metadata": {},
   "outputs": [
    {
     "name": "stdout",
     "output_type": "stream",
     "text": [
      "apple      is not there\n"
     ]
    }
   ],
   "source": [
    "menu = {'sandwich':10, 'apple':5, 'tea':7, 'cake':12}\n",
    "order = 'apple     '\n",
    "\n",
    "if order in menu:\n",
    "    price = menu[order]\n",
    "    print(price)\n",
    "else:\n",
    "    print(f'{order} is not there')"
   ]
  },
  {
   "cell_type": "markdown",
   "id": "4dac509d-4a5d-4435-b9db-7d00be384343",
   "metadata": {},
   "source": [
    "# Python tutor link for this exercise\n",
    "\n",
    "https://pythontutor.com/render.html#code=menu%20%3D%20%7B'sandwich'%3A10,%20'apple'%3A5,%20'tea'%3A7,%20'cake'%3A12%7D%0A%0Atotal%20%3D%200%0A%0Awhile%20True%3A%0A%20%20%20%20order%20%3D%20input%28'Order%3A%20'%29.strip%28%29%0A%0A%20%20%20%20if%20order%20%3D%3D%20''%3A%20%20%20%23%20did%20we%20get%20an%20empty%20response%20from%20the%20user%3F%20exit%20the%20loop!%0A%20%20%20%20%20%20%20%20break%0A%0A%20%20%20%20if%20order%20in%20menu%3A%20%20%23%20is%20the%20user's%20input%20a%20key%20in%20the%20dict%3F%0A%20%20%20%20%20%20%20%20price%20%3D%20menu%5Border%5D%20%0A%20%20%20%20%20%20%20%20total%20%2B%3D%20price%0A%20%20%20%20%20%20%20%20print%28f'%7Border%7D%20costs%20%7Bprice%7D,%20total%20is%20now%20%7Btotal%7D'%29%0A%20%20%20%20else%3A%0A%20%20%20%20%20%20%20%20print%28f'We%20are%20out%20of%20%7Border%7D%20today!'%29%0A%0Aprint%28f'Total%20is%20%7Btotal%7D'%29&cumulative=false&curInstr=23&heapPrimitives=nevernest&mode=display&origin=opt-frontend.js&py=3&rawInputLstJSON=%5B%22sandwich%22,%22tea%22,%22asdfasfdsafa%22,%22%22%5D&textReferences=false"
   ]
  },
  {
   "cell_type": "code",
   "execution_count": 16,
   "id": "73e7e8c4-c2d1-4acc-a482-e9e78dc629a3",
   "metadata": {},
   "outputs": [
    {
     "name": "stdin",
     "output_type": "stream",
     "text": [
      "Can i have your order: sandwich\n",
      "Can i have your order: \n"
     ]
    },
    {
     "name": "stdout",
     "output_type": "stream",
     "text": [
      "your total is 40\n"
     ]
    }
   ],
   "source": [
    "# SM\n",
    "\n",
    "menu = {'sandwich':40,'coke':40,'chips':20}\n",
    "total=0\n",
    "\n",
    "while True:\n",
    "    order=input('Can i have your order:')\n",
    "   \n",
    "    if order=='':\n",
    "        break\n",
    "\n",
    "    if order in menu:\n",
    "        total += menu[order]\n",
    "    else:\n",
    "        print(f'please order something from menu')\n",
    "\n",
    "print(f'your total is {total}')"
   ]
  },
  {
   "cell_type": "markdown",
   "id": "b00dd570-b2bd-4e70-aa7a-43e4efbc11e8",
   "metadata": {},
   "source": [
    "In this program, we used a dict as a read-only database. We set it up at the top of the program, and then never modified it, but we just retrieved from it in order to do our work.\n",
    "\n",
    "You can imagine many cases of such dicts in programs:\n",
    "\n",
    "- Month names to month numbers\n",
    "- Month numbers to month names\n",
    "- Employee ID numbers to employee database records"
   ]
  },
  {
   "cell_type": "markdown",
   "id": "68755c8c-e778-4928-a7f6-9951fedd2721",
   "metadata": {},
   "source": [
    "# Modifying dicts\n",
    "\n",
    "If I want to update a value that is already in a dict, I can just assign to that key, and the value gets updated."
   ]
  },
  {
   "cell_type": "code",
   "execution_count": 17,
   "id": "1a3e6cce-1e06-4754-95f2-f1c05698b822",
   "metadata": {},
   "outputs": [
    {
     "data": {
      "text/plain": [
       "{'a': 12345, 'b': 20, 'c': 30}"
      ]
     },
     "execution_count": 17,
     "metadata": {},
     "output_type": "execute_result"
    }
   ],
   "source": [
    "d = {'a':10, 'b':20, 'c':30}\n",
    "\n",
    "d['a'] = 12345\n",
    "d"
   ]
  },
  {
   "cell_type": "code",
   "execution_count": 18,
   "id": "407d7f0a-b496-4b8e-9940-9efaa555959b",
   "metadata": {},
   "outputs": [
    {
     "data": {
      "text/plain": [
       "{'a': 12346, 'b': 20, 'c': 30}"
      ]
     },
     "execution_count": 18,
     "metadata": {},
     "output_type": "execute_result"
    }
   ],
   "source": [
    "# I can even add 1 to the existing value, assuming it exists\n",
    "d['a'] += 1   # this means: d['a'] = d['a'] + 1\n",
    "\n",
    "d"
   ]
  },
  {
   "cell_type": "code",
   "execution_count": 19,
   "id": "ba2ba13f-a590-4d31-acb3-53ad3e89723d",
   "metadata": {},
   "outputs": [],
   "source": [
    "# what about adding a new key-value pair?\n",
    "# what method do we use in dicts to add a new pair?\n",
    "# answer: we don't! We just use assignment, precisely the same as we did above for updating the value\n",
    "\n",
    "# if you assign to a dict key that does exist already, you update the value\n",
    "# if you assign to a dict key that does *not* exist already, you add the new key-value pair"
   ]
  },
  {
   "cell_type": "code",
   "execution_count": 20,
   "id": "8ea20a71-3e2f-4db1-9f03-446d6c68028b",
   "metadata": {},
   "outputs": [
    {
     "data": {
      "text/plain": [
       "{'a': 10, 'b': 20, 'c': 30}"
      ]
     },
     "execution_count": 20,
     "metadata": {},
     "output_type": "execute_result"
    }
   ],
   "source": [
    "d = {}   # empty dict\n",
    "d['a'] = 10\n",
    "d['b'] = 20\n",
    "d['c'] = 30\n",
    "\n",
    "d"
   ]
  },
  {
   "cell_type": "code",
   "execution_count": 21,
   "id": "6cf73cc0-402e-433f-a7e4-4b319d8cb418",
   "metadata": {},
   "outputs": [
    {
     "data": {
      "text/plain": [
       "{'a': 15, 'b': 20, 'c': 30}"
      ]
     },
     "execution_count": 21,
     "metadata": {},
     "output_type": "execute_result"
    }
   ],
   "source": [
    "d['a'] += 5\n",
    "d"
   ]
  },
  {
   "cell_type": "code",
   "execution_count": 22,
   "id": "28af92ec-591e-4904-8b85-24d5d486d39a",
   "metadata": {},
   "outputs": [
    {
     "ename": "KeyError",
     "evalue": "'z'",
     "output_type": "error",
     "traceback": [
      "\u001b[0;31m---------------------------------------------------------------------------\u001b[0m",
      "\u001b[0;31mKeyError\u001b[0m                                  Traceback (most recent call last)",
      "Cell \u001b[0;32mIn[22], line 1\u001b[0m\n\u001b[0;32m----> 1\u001b[0m \u001b[43md\u001b[49m\u001b[43m[\u001b[49m\u001b[38;5;124;43m'\u001b[39;49m\u001b[38;5;124;43mz\u001b[39;49m\u001b[38;5;124;43m'\u001b[39;49m\u001b[43m]\u001b[49m \u001b[38;5;241m+\u001b[39m\u001b[38;5;241m=\u001b[39m \u001b[38;5;241m10\u001b[39m   \u001b[38;5;66;03m# what will happen here?\u001b[39;00m\n",
      "\u001b[0;31mKeyError\u001b[0m: 'z'"
     ]
    }
   ],
   "source": [
    "d['z'] += 10   # what will happen here?"
   ]
  },
  {
   "cell_type": "code",
   "execution_count": 23,
   "id": "4ef77d9e-cd50-4318-8053-9a246c80a098",
   "metadata": {},
   "outputs": [],
   "source": [
    "d = {'a':10, 'b':10, 'c':10}"
   ]
  },
  {
   "cell_type": "code",
   "execution_count": 24,
   "id": "12cef3cc-8a13-4c3a-b7f2-1544840e8ee8",
   "metadata": {},
   "outputs": [
    {
     "data": {
      "text/plain": [
       "10"
      ]
     },
     "execution_count": 24,
     "metadata": {},
     "output_type": "execute_result"
    }
   ],
   "source": [
    "d['a'] "
   ]
  },
  {
   "cell_type": "code",
   "execution_count": 25,
   "id": "6a1fbffc-f584-4bcf-be4a-598403aad49d",
   "metadata": {},
   "outputs": [
    {
     "data": {
      "text/plain": [
       "10"
      ]
     },
     "execution_count": 25,
     "metadata": {},
     "output_type": "execute_result"
    }
   ],
   "source": [
    "d['b']"
   ]
  },
  {
   "cell_type": "code",
   "execution_count": 26,
   "id": "e532acd3-4b4d-4a16-a876-9301124b23a2",
   "metadata": {},
   "outputs": [
    {
     "data": {
      "text/plain": [
       "10"
      ]
     },
     "execution_count": 26,
     "metadata": {},
     "output_type": "execute_result"
    }
   ],
   "source": [
    "d['c']"
   ]
  },
  {
   "cell_type": "code",
   "execution_count": 27,
   "id": "974c1611-dcf2-41ef-840e-7e173a93ed50",
   "metadata": {},
   "outputs": [
    {
     "data": {
      "text/plain": [
       "{'a': 999, 'b': 10, 'c': 10}"
      ]
     },
     "execution_count": 27,
     "metadata": {},
     "output_type": "execute_result"
    }
   ],
   "source": [
    "# if I try to add the same key twice, I end up updating the value\n",
    "d['a'] = 999\n",
    "d"
   ]
  },
  {
   "cell_type": "code",
   "execution_count": 28,
   "id": "638bb9fa-4ab1-49b4-902c-d85b7ada9999",
   "metadata": {},
   "outputs": [],
   "source": [
    "d = {'a':10, 'a':20, 'a':30}"
   ]
  },
  {
   "cell_type": "code",
   "execution_count": 29,
   "id": "e1689efd-86a3-4b5e-a336-e1b54d6f921d",
   "metadata": {},
   "outputs": [
    {
     "data": {
      "text/plain": [
       "{'a': 30}"
      ]
     },
     "execution_count": 29,
     "metadata": {},
     "output_type": "execute_result"
    }
   ],
   "source": [
    "d"
   ]
  },
  {
   "cell_type": "code",
   "execution_count": 30,
   "id": "fc3b616f-b6e0-47f8-8492-005dca550b81",
   "metadata": {},
   "outputs": [
    {
     "data": {
      "text/plain": [
       "{'a': 30}"
      ]
     },
     "execution_count": 30,
     "metadata": {},
     "output_type": "execute_result"
    }
   ],
   "source": [
    "d"
   ]
  },
  {
   "cell_type": "code",
   "execution_count": 31,
   "id": "d11218ff-e5c8-4444-a9f4-b8c514907623",
   "metadata": {},
   "outputs": [
    {
     "data": {
      "text/plain": [
       "{'a': 5}"
      ]
     },
     "execution_count": 31,
     "metadata": {},
     "output_type": "execute_result"
    }
   ],
   "source": [
    "d['a'] = 5\n",
    "d"
   ]
  },
  {
   "cell_type": "code",
   "execution_count": 32,
   "id": "4cf81770-c71c-4422-bfb0-0e6ccc9921ba",
   "metadata": {},
   "outputs": [
    {
     "data": {
      "text/plain": [
       "5"
      ]
     },
     "execution_count": 32,
     "metadata": {},
     "output_type": "execute_result"
    }
   ],
   "source": [
    "# what about removing key-value pairs?\n",
    "d.pop('a')  # this means: remove the pair whose key is 'a', and return the value"
   ]
  },
  {
   "cell_type": "code",
   "execution_count": 33,
   "id": "d862b2fa-fb5f-411d-a161-46b6f75fb23f",
   "metadata": {},
   "outputs": [
    {
     "data": {
      "text/plain": [
       "{}"
      ]
     },
     "execution_count": 33,
     "metadata": {},
     "output_type": "execute_result"
    }
   ],
   "source": [
    "d"
   ]
  },
  {
   "cell_type": "code",
   "execution_count": 34,
   "id": "52f11435-72bc-485b-a2e2-09d9f73816d7",
   "metadata": {},
   "outputs": [],
   "source": [
    "person = {'first':'Reuven', 'last':'Lerner', 'email':'reuven@lerner.co.il', 'shoesize':46}"
   ]
  },
  {
   "cell_type": "code",
   "execution_count": 35,
   "id": "9cf9defe-fa52-453f-b0a7-52df581a9fc2",
   "metadata": {},
   "outputs": [
    {
     "data": {
      "text/plain": [
       "'Reuven'"
      ]
     },
     "execution_count": 35,
     "metadata": {},
     "output_type": "execute_result"
    }
   ],
   "source": [
    "person['first']"
   ]
  },
  {
   "cell_type": "code",
   "execution_count": 36,
   "id": "4c08c2aa-7b8b-4d6f-ba6f-49a4b541150c",
   "metadata": {},
   "outputs": [
    {
     "data": {
      "text/plain": [
       "46"
      ]
     },
     "execution_count": 36,
     "metadata": {},
     "output_type": "execute_result"
    }
   ],
   "source": [
    "person['shoesize']"
   ]
  },
  {
   "cell_type": "code",
   "execution_count": 37,
   "id": "d867588f-96b6-451f-94e6-f3af6fcb83f0",
   "metadata": {},
   "outputs": [],
   "source": [
    "person['first'] = 'NewName'"
   ]
  },
  {
   "cell_type": "code",
   "execution_count": 38,
   "id": "204d1a3f-15bb-4c98-9934-164ff7773345",
   "metadata": {},
   "outputs": [
    {
     "data": {
      "text/plain": [
       "{'first': 'NewName',\n",
       " 'last': 'Lerner',\n",
       " 'email': 'reuven@lerner.co.il',\n",
       " 'shoesize': 46}"
      ]
     },
     "execution_count": 38,
     "metadata": {},
     "output_type": "execute_result"
    }
   ],
   "source": [
    "person"
   ]
  },
  {
   "cell_type": "code",
   "execution_count": 39,
   "id": "f226c23d-c586-44fd-9584-a6deca490342",
   "metadata": {},
   "outputs": [
    {
     "data": {
      "text/plain": [
       "{'first': 15, 'last': 'Lerner', 'email': 'reuven@lerner.co.il', 'shoesize': 46}"
      ]
     },
     "execution_count": 39,
     "metadata": {},
     "output_type": "execute_result"
    }
   ],
   "source": [
    "person['first'] = 15\n",
    "person"
   ]
  },
  {
   "cell_type": "markdown",
   "id": "42b5fffc-1352-4ab9-85e2-886b52cdda1e",
   "metadata": {},
   "source": [
    "# Next up\n",
    "\n",
    "- Accumulating in dicts\n",
    "- Accumulating the unknown "
   ]
  },
  {
   "cell_type": "markdown",
   "id": "1ee00409-2aa8-48de-84b9-526cebdc6fd4",
   "metadata": {},
   "source": [
    "# Paradigm 2 for dictionaries\n",
    "\n",
    "- Meaning: We create a dict with keys and empty/0 values \n",
    "- As the program progresses, we update the values but never add/remove keys"
   ]
  },
  {
   "cell_type": "code",
   "execution_count": 40,
   "id": "34bf7339-c708-42f7-ab36-b022c4017411",
   "metadata": {},
   "outputs": [],
   "source": [
    "counts = {'odds':0, 'evens':0}\n",
    "\n",
    "numbers = [10, 11, 15, 18]\n",
    "\n",
    "# I want to know how many even numbers there are in the list, and how many odd numbers there are in the list\n",
    "\n",
    "for one_number in numbers:\n",
    "    if one_number % 2 == 0:   # if, dividing by 2, we get a remainder of 0, it's even\n",
    "        counts['evens'] += 1   \n",
    "    else:\n",
    "        counts['odds'] += 1"
   ]
  },
  {
   "cell_type": "code",
   "execution_count": 41,
   "id": "0c6a873f-3571-4197-934d-2b7699c2bc38",
   "metadata": {},
   "outputs": [
    {
     "data": {
      "text/plain": [
       "{'odds': 2, 'evens': 2}"
      ]
     },
     "execution_count": 41,
     "metadata": {},
     "output_type": "execute_result"
    }
   ],
   "source": [
    "counts"
   ]
  },
  {
   "cell_type": "markdown",
   "id": "cd70fb2d-7b32-4149-afa7-2b95c7696bf7",
   "metadata": {},
   "source": [
    "# Python tutor link to odds/evens\n",
    "\n",
    "https://pythontutor.com/render.html#code=counts%20%3D%20%7B'odds'%3A0,%20'evens'%3A0%7D%0A%0Anumbers%20%3D%20%5B10,%2011,%2015,%2018%5D%0A%0A%23%20I%20want%20to%20know%20how%20many%20even%20numbers%20there%20are%20in%20the%20list,%20and%20how%20many%20odd%20numbers%20there%20are%20in%20the%20list%0A%0Afor%20one_number%20in%20numbers%3A%0A%20%20%20%20if%20one_number%20%25%202%20%3D%3D%200%3A%20%20%20%23%20if,%20dividing%20by%202,%20we%20get%20a%20remainder%20of%200,%20it's%20even%0A%20%20%20%20%20%20%20%20counts%5B'evens'%5D%20%2B%3D%201%20%20%20%0A%20%20%20%20else%3A%0A%20%20%20%20%20%20%20%20counts%5B'odds'%5D%20%2B%3D%201&cumulative=false&curInstr=15&heapPrimitives=nevernest&mode=display&origin=opt-frontend.js&py=3&rawInputLstJSON=%5B%5D&textReferences=false"
   ]
  },
  {
   "cell_type": "markdown",
   "id": "b9c356eb-6aab-4d9e-90ba-a1fb97fe707a",
   "metadata": {},
   "source": [
    "# Exercise: Vowels, digits, and others (dict edition)\n",
    "\n",
    "1. Define a dict whose keys are `vowels`, `digits`, and `others`, all with values of 0.\n",
    "2. Ask the user to enter a string.\n",
    "3. Go through the string, one character at a time:\n",
    "    - If the character is a vowel (aeiou), add 1 to the vowels count\n",
    "    - If the character is a digit (0-9), add 1 to the digits count\n",
    "    - Otherwise, add 1 to the others count\n",
    "4. Print the dict\n",
    "\n",
    "Example:\n",
    "\n",
    "    Enter text: hello!! 123\n",
    "    {'vowels':2, 'digits':3, 'others':6}"
   ]
  },
  {
   "cell_type": "code",
   "execution_count": 42,
   "id": "afde7397-62c0-4892-babf-b732d30d4e09",
   "metadata": {},
   "outputs": [
    {
     "name": "stdin",
     "output_type": "stream",
     "text": [
      "Enter text:  hello!! 123\n"
     ]
    },
    {
     "name": "stdout",
     "output_type": "stream",
     "text": [
      "{'vowels': 2, 'digits': 3, 'others': 6}\n"
     ]
    }
   ],
   "source": [
    "counts = {'vowels':0, 'digits':0, 'others':0}\n",
    "\n",
    "s = input('Enter text: ').strip()\n",
    "\n",
    "for one_character in s:   # iterate over the string, one character at a time\n",
    "    if one_character in 'aeiou':\n",
    "        counts['vowels'] += 1    # update the vowel count\n",
    "    elif one_character.isdigit():    # if the charater is a digit\n",
    "        counts['digits'] += 1     # add 1 to the digit count\n",
    "    else:\n",
    "        counts['others'] += 1     # add 1 to the others count\n",
    "\n",
    "print(counts)"
   ]
  },
  {
   "cell_type": "code",
   "execution_count": 44,
   "id": "00c59d61-6293-4cc5-a2b6-a0982ae0f959",
   "metadata": {},
   "outputs": [
    {
     "name": "stdin",
     "output_type": "stream",
     "text": [
      "enter a string  hello!! 123\n"
     ]
    },
    {
     "name": "stdout",
     "output_type": "stream",
     "text": [
      "{'vowel': 2, 'digit': 3, 'other': 6}\n"
     ]
    }
   ],
   "source": [
    "# PP\n",
    "\n",
    "d = {'vowel':0, 'digit':0, 'other':0}\n",
    "s = input ('enter a string ').strip()\n",
    "for one_char in s :\n",
    "    if one_char in 'aeiou':     # use in rather than == \n",
    "        d['vowel']+=1\n",
    "    elif one_char.isdigit():    # check on one_char, not s\n",
    "        d['digit']+=1\n",
    "    else:\n",
    "        d['other']+=1\n",
    "print(d)        "
   ]
  },
  {
   "cell_type": "code",
   "execution_count": 45,
   "id": "d7026d58-7a6e-404e-bf7d-43718e03f7ac",
   "metadata": {},
   "outputs": [
    {
     "data": {
      "text/plain": [
       "{'a': 10, 999: 'q'}"
      ]
     },
     "execution_count": 45,
     "metadata": {},
     "output_type": "execute_result"
    }
   ],
   "source": [
    "d = {'a':10, 999:'q'}\n",
    "\n",
    "d"
   ]
  },
  {
   "cell_type": "code",
   "execution_count": 46,
   "id": "26ebd9da-4f0e-4208-a865-2eff51f0e192",
   "metadata": {},
   "outputs": [
    {
     "data": {
      "text/plain": [
       "10"
      ]
     },
     "execution_count": 46,
     "metadata": {},
     "output_type": "execute_result"
    }
   ],
   "source": [
    "d['a']  # I want to retrieve the value associated with the key 'a' (a string), so I use quotes"
   ]
  },
  {
   "cell_type": "code",
   "execution_count": 47,
   "id": "def906a9-87c1-4763-b7a1-a711f41d960e",
   "metadata": {},
   "outputs": [
    {
     "data": {
      "text/plain": [
       "'q'"
      ]
     },
     "execution_count": 47,
     "metadata": {},
     "output_type": "execute_result"
    }
   ],
   "source": [
    "d[999]  # I want to retrieve the value associated with the key 999 (an integer), so no quotes"
   ]
  },
  {
   "cell_type": "code",
   "execution_count": 48,
   "id": "db67bf00-ec81-40a5-84db-887e56dc9b14",
   "metadata": {},
   "outputs": [
    {
     "data": {
      "text/plain": [
       "10"
      ]
     },
     "execution_count": 48,
     "metadata": {},
     "output_type": "execute_result"
    }
   ],
   "source": [
    "k = 'a'  \n",
    "d[k]   # I want to retrieve the value associated with whatever value is in the variable k, so no quotes"
   ]
  },
  {
   "cell_type": "code",
   "execution_count": 49,
   "id": "06020dae-bc3c-493f-8e18-d8864441856e",
   "metadata": {},
   "outputs": [
    {
     "ename": "KeyError",
     "evalue": "'k'",
     "output_type": "error",
     "traceback": [
      "\u001b[0;31m---------------------------------------------------------------------------\u001b[0m",
      "\u001b[0;31mKeyError\u001b[0m                                  Traceback (most recent call last)",
      "Cell \u001b[0;32mIn[49], line 1\u001b[0m\n\u001b[0;32m----> 1\u001b[0m \u001b[43md\u001b[49m\u001b[43m[\u001b[49m\u001b[38;5;124;43m'\u001b[39;49m\u001b[38;5;124;43mk\u001b[39;49m\u001b[38;5;124;43m'\u001b[39;49m\u001b[43m]\u001b[49m   \u001b[38;5;66;03m# this will look for the literate key 'k', not whatever is in the variable k\u001b[39;00m\n",
      "\u001b[0;31mKeyError\u001b[0m: 'k'"
     ]
    }
   ],
   "source": [
    "d['k']   # this will look for the literate key 'k', not whatever is in the variable k"
   ]
  },
  {
   "cell_type": "markdown",
   "id": "2c2315b3-ba4c-41ed-b500-6d7d59a6f76b",
   "metadata": {},
   "source": [
    "Does it mean anything that I say [\"a\"]  rather than ['a']?\n",
    "\n",
    "Answer: No. They are 100% the same, as far as Python is concerned, and I'm a bad human who is inconsistent."
   ]
  },
  {
   "cell_type": "markdown",
   "id": "770a4fa7-619a-4137-b4d5-4b192cff5835",
   "metadata": {},
   "source": [
    "# Third dict paradigm: Accumulating the unknown \n",
    "\n",
    "In the previous exercise, we defined the keys for our dict at the start of the program, and we didn't add or remove keys.\n",
    "\n",
    "In this paradigm, we start with an *empty dict*! We don't know what the keys will be. But we want to count them, or do something with them.\n",
    "\n",
    "In other words: We don't know what our keys or values will be, but we know what to do with them when we get them.\n",
    "\n"
   ]
  },
  {
   "cell_type": "code",
   "execution_count": 51,
   "id": "3b0cf7c3-afdb-426c-8497-60d5d173fc3b",
   "metadata": {},
   "outputs": [
    {
     "name": "stdin",
     "output_type": "stream",
     "text": [
      "Enter text:  hello out there\n"
     ]
    },
    {
     "name": "stdout",
     "output_type": "stream",
     "text": [
      "{'h': 2, 'e': 3, 'l': 2, 'o': 2, ' ': 2, 'u': 1, 't': 2, 'r': 1}\n"
     ]
    }
   ],
   "source": [
    "# example: count characters\n",
    "# I'll ask the user to enter a string\n",
    "# I'll use a dict to count how often each character appears in the string\n",
    "\n",
    "counts = {}   # empty dict!\n",
    "\n",
    "s = input('Enter text: ').strip()  # remove whitespace at the start/end\n",
    "\n",
    "for one_character in s:\n",
    "    if one_character in counts:   # have we seen this character before?\n",
    "        counts[one_character] += 1   # add 1 to the existing count, which we know we have \n",
    "    else:\n",
    "        counts[one_character] = 1    # add the key-value pair, with a value of 1, for the first time\n",
    "\n",
    "print(counts)"
   ]
  },
  {
   "cell_type": "markdown",
   "id": "b9d2af5a-acb2-4c3d-b9b2-d4139aa232ae",
   "metadata": {},
   "source": [
    "# Three paradigms for dict use in your programs\n",
    "\n",
    "1. We define the dict at the start of the program. We never modify it -- all keys and values remain the same. It is a read-only database to which we can refer for lots of useful information. Example: Restaurant, month numbers + names.\n",
    "2. We define the dict with keys that will not change, and values that will. We update the values as we go through the program. This way, at the end of the program, we have a report in our dict of how often certain things happened. Example: Odds+evens, vowels/digits/others.\n",
    "3. We define an empty dict. We don't know what the keys will be, and we don't know what the values will be. But we do know what we want to do with them. Example: Charater counter -- we don't know what characters we'll encounter. We could, in theory, create an absolutely massive dict with all characters known to people as the keys, and 0 for all values. But that's wasteful -- so we'll just wait to get the input, and modify our dict on the fly."
   ]
  },
  {
   "cell_type": "markdown",
   "id": "7471ac4e-8c90-4065-9457-1dd5f3caf5f3",
   "metadata": {},
   "source": [
    "# Exercise: Rainfall\n",
    "\n",
    "1. Define an empty dict, called `rainfall`. The keys in this dict will be cities. The values in the dict will be integers, mm of rain that fell in that city.\n",
    "2. Ask the user, repeatedly, to enter the name of a city.\n",
    "    - If the user enters an empty string, stop asking\n",
    "3. If the user entered a city name, ask them how much rain fell there most recently.\n",
    "4. If the city is new to the dict (i.e., isn't already a key in `rainfall`), then add the new key-value pair\n",
    "5. If the city already exists in the dict, then add the new amount to the existing one.\n",
    "6. When the user stops enter cities, print the entire dict\n",
    "\n",
    "Example:\n",
    "\n",
    "    City: a\n",
    "    Rain: 5\n",
    "    City: b\n",
    "    Rain: 4\n",
    "    City: a\n",
    "    Rain: 3\n",
    "    City: [ENTER]\n",
    "    {'a': 8, 'b': 4}"
   ]
  },
  {
   "cell_type": "code",
   "execution_count": null,
   "id": "076fe64f-1ca7-4c03-a245-e88e87035f95",
   "metadata": {},
   "outputs": [],
   "source": [
    "rainfall = {}\n",
    "\n",
    "while True:   # I don't know how many entries the user will give me\n",
    "    city_name = input('Enter city: ').strip()\n",
    "\n",
    "    if city_name == '':   # no input? break\n",
    "        break\n",
    "\n",
    "    mm_rain = input('Rain: ').strip()\n",
    "    mm_rain = int(mm_rain)\n",
    "\n",
    "    if city_name in rainfall:    # if we've already seen this city...\n",
    "        rainfall[city_name] += mm_rain\n",
    "    else:\n",
    "        rainfall[city_name] = mm_rain    "
   ]
  },
  {
   "cell_type": "markdown",
   "id": "8f084597-527f-49a5-9f70-6bb767ad5f8d",
   "metadata": {},
   "source": [
    "# Python tutor link\n",
    "\n",
    "https://pythontutor.com/render.html#code=rainfall%20%3D%20%7B%7D%0A%0Awhile%20True%3A%20%20%20%23%20I%20don't%20know%20how%20many%20entries%20the%20user%20will%20give%20me%0A%20%20%20%20city_name%20%3D%20input%28'Enter%20city%3A%20'%29.strip%28%29%0A%0A%20%20%20%20if%20city_name%20%3D%3D%20''%3A%20%20%20%23%20no%20input%3F%20break%0A%20%20%20%20%20%20%20%20break%0A%0A%20%20%20%20mm_rain%20%3D%20input%28'Rain%3A%20'%29.strip%28%29%0A%20%20%20%20mm_rain%20%3D%20int%28mm_rain%29%0A%0A%20%20%20%20if%20city_name%20in%20rainfall%3A%20%20%20%20%23%20if%20we've%20already%20seen%20this%20city...%0A%20%20%20%20%20%20%20%20rainfall%5Bcity_name%5D%20%2B%3D%20mm_rain%0A%20%20%20%20else%3A%0A%20%20%20%20%20%20%20%20rainfall%5Bcity_name%5D%20%3D%20mm_rain&cumulative=false&curInstr=23&heapPrimitives=nevernest&mode=display&origin=opt-frontend.js&py=3&rawInputLstJSON=%5B%22a%22,%225%22,%22b%22,%224%22,%22a%22,%223%22,%22%22%5D&textReferences=false"
   ]
  },
  {
   "cell_type": "code",
   "execution_count": 52,
   "id": "e56a52f2-5d98-4c5b-a3c2-37876e85ba0e",
   "metadata": {},
   "outputs": [
    {
     "data": {
      "text/plain": [
       "1"
      ]
     },
     "execution_count": 52,
     "metadata": {},
     "output_type": "execute_result"
    }
   ],
   "source": [
    "s = '\\n'\n",
    "len(s)"
   ]
  },
  {
   "cell_type": "code",
   "execution_count": 53,
   "id": "1bfbea78-8116-4d56-a760-3f2596b9449e",
   "metadata": {},
   "outputs": [
    {
     "data": {
      "text/plain": [
       "0"
      ]
     },
     "execution_count": 53,
     "metadata": {},
     "output_type": "execute_result"
    }
   ],
   "source": [
    "s = ''\n",
    "len(s)"
   ]
  },
  {
   "cell_type": "markdown",
   "id": "adf03289-d851-47e4-880b-a4117804169c",
   "metadata": {},
   "source": [
    "# Next up\n",
    "\n",
    "- Looping over dicts\n",
    "- How do dicts work?\n",
    "- Then: We'll start with files\n",
    "\n",
    "Download and unzip this file, containing data files we'll use later today: https://files.lerner.co.il/exercise-files.zip"
   ]
  },
  {
   "cell_type": "markdown",
   "id": "70945483-1b4b-4ad2-a9d0-434e314a3465",
   "metadata": {},
   "source": [
    "# `for` loops\n",
    "\n",
    "We've seen that we can use a `for` loop to iterate over a number of data structures:\n",
    "\n",
    "- Iterate over a string: We get each character, one at a time\n",
    "- Iterate over a list: We get each element, one at a time\n",
    "- Iterate over a tuple: We get each element, one at a time\n",
    "\n",
    "Can we iterate over a dict? If so, what do we get?\n",
    "\n"
   ]
  },
  {
   "cell_type": "code",
   "execution_count": 54,
   "id": "0d2bdc45-58cf-4624-95b7-95e4ea0e9574",
   "metadata": {},
   "outputs": [],
   "source": [
    "d = {'a':10, 'b':20, 'c':30}"
   ]
  },
  {
   "cell_type": "code",
   "execution_count": 56,
   "id": "4ae98be2-5164-411e-a572-a9d332013648",
   "metadata": {},
   "outputs": [
    {
     "name": "stdout",
     "output_type": "stream",
     "text": [
      "a\n",
      "b\n",
      "c\n"
     ]
    }
   ],
   "source": [
    "# iterating over a dict gives you the keys, *NOT* the values\n",
    "for one_item in d:\n",
    "    print(one_item)"
   ]
  },
  {
   "cell_type": "code",
   "execution_count": 57,
   "id": "7cc32e5d-09ae-4800-8221-ea1b210de409",
   "metadata": {},
   "outputs": [
    {
     "data": {
      "text/plain": [
       "['a', 'b', 'c']"
      ]
     },
     "execution_count": 57,
     "metadata": {},
     "output_type": "execute_result"
    }
   ],
   "source": [
    "list(d)   # this will return a list of the keys"
   ]
  },
  {
   "cell_type": "code",
   "execution_count": 58,
   "id": "d76dbc5e-b94c-4a9c-86e1-b26bfa2a750e",
   "metadata": {},
   "outputs": [
    {
     "name": "stdout",
     "output_type": "stream",
     "text": [
      "a: 10\n",
      "b: 20\n",
      "c: 30\n"
     ]
    }
   ],
   "source": [
    "# if I want to print all of the key-value pairs in a dict, how can I?\n",
    "\n",
    "for one_key in d:\n",
    "    print(f'{one_key}: {d[one_key]}')"
   ]
  },
  {
   "cell_type": "code",
   "execution_count": 59,
   "id": "5f566aef-78bf-405d-ac21-2a3b0001d4c7",
   "metadata": {},
   "outputs": [
    {
     "data": {
      "text/plain": [
       "dict_values([10, 20, 30])"
      ]
     },
     "execution_count": 59,
     "metadata": {},
     "output_type": "execute_result"
    }
   ],
   "source": [
    "# what if I want to iterate over the values?\n",
    "# There is a \"values\" method on dicts\n",
    "\n",
    "d.values()"
   ]
  },
  {
   "cell_type": "code",
   "execution_count": 60,
   "id": "5f545089-c70f-45be-a81e-d2a15de9cf9d",
   "metadata": {},
   "outputs": [
    {
     "name": "stdout",
     "output_type": "stream",
     "text": [
      "10\n",
      "20\n",
      "30\n"
     ]
    }
   ],
   "source": [
    "for one_value in d.values():\n",
    "    print(one_value)"
   ]
  },
  {
   "cell_type": "code",
   "execution_count": 61,
   "id": "e03d911d-d697-4611-a761-883d1dac036d",
   "metadata": {},
   "outputs": [
    {
     "data": {
      "text/plain": [
       "True"
      ]
     },
     "execution_count": 61,
     "metadata": {},
     "output_type": "execute_result"
    }
   ],
   "source": [
    "20 in d.values()  "
   ]
  },
  {
   "cell_type": "markdown",
   "id": "afe586de-bc08-474a-8794-85cc60cba01b",
   "metadata": {},
   "source": [
    "If there is a `values` method for dictionaries, maybe there's also a `keys` method?\n",
    "\n",
    "Could I say"
   ]
  },
  {
   "cell_type": "code",
   "execution_count": 63,
   "id": "baf87405-a262-4c49-b4b5-1c508c0c2913",
   "metadata": {},
   "outputs": [
    {
     "name": "stdout",
     "output_type": "stream",
     "text": [
      "a: 10\n",
      "b: 20\n",
      "c: 30\n"
     ]
    }
   ],
   "source": [
    "# You should almost NEVER be using the \"keys\" method\n",
    "# it is slower to execute and less idiomatic than just using the dict itself\n",
    "\n",
    "for one_key in d.keys():\n",
    "    print(f'{one_key}: {d[one_key]}')"
   ]
  },
  {
   "cell_type": "markdown",
   "id": "d9e5cbf8-f450-4895-bbb1-1f5b728b5788",
   "metadata": {},
   "source": [
    "# Getting keys and values\n",
    "\n",
    "Wouldn't it be nice if we could get both keys and values together?\n",
    "\n",
    "The answer: Yes! And Python provides us with an `items` method."
   ]
  },
  {
   "cell_type": "code",
   "execution_count": 64,
   "id": "b7331d6b-1ace-4831-961b-b430f4e44015",
   "metadata": {},
   "outputs": [],
   "source": [
    "d = {'a':10, 'b':20, 'c':30}"
   ]
  },
  {
   "cell_type": "code",
   "execution_count": 66,
   "id": "c4fb16fa-8c37-4f46-b583-0af1dbd0d702",
   "metadata": {},
   "outputs": [
    {
     "name": "stdout",
     "output_type": "stream",
     "text": [
      "('a', 10)\n",
      "('b', 20)\n",
      "('c', 30)\n"
     ]
    }
   ],
   "source": [
    "# when you invoke d.items, you get each key-value pair as a two-element tuple\n",
    "\n",
    "for one_item in d.items():\n",
    "    print(one_item)"
   ]
  },
  {
   "cell_type": "code",
   "execution_count": 67,
   "id": "2896d691-8845-47ca-89f4-cade0a27adcd",
   "metadata": {},
   "outputs": [
    {
     "name": "stdout",
     "output_type": "stream",
     "text": [
      "a: 10\n",
      "b: 20\n",
      "c: 30\n"
     ]
    }
   ],
   "source": [
    "# I can iterate over a sequence of 2-element tuples\n",
    "# in a for loop by iterating over two loop variables\n",
    "\n",
    "for key, value in d.items():\n",
    "    print(f'{key}: {value}')"
   ]
  },
  {
   "cell_type": "markdown",
   "id": "3d8f2eeb-cedf-4dc2-b285-013f74e66389",
   "metadata": {},
   "source": [
    "# Exercise: Word lengths\n",
    "\n",
    "1. Define an empty dict.\n",
    "2. Ask the user to enter words, one at a time. If the user enters an empty string, stop asking.\n",
    "3. Assgn to the dict (a) the word the user entered as a key and (b) the length of that word as a value\n",
    "4. When the user has finished entering their words (by pressing enter), iterate over the dictionary, one key-value pair at a time, and print them all.\n",
    "\n",
    "Example:\n",
    "\n",
    "    Enter word: hello\n",
    "    Enter word: goodbye\n",
    "    Enter word: stop\n",
    "    Enter word: already\n",
    "    Enter word: [ENTER]\n",
    "    hello: 5\n",
    "    goodbye: 7\n",
    "    stop: 4\n",
    "    already: 7"
   ]
  },
  {
   "cell_type": "code",
   "execution_count": 68,
   "id": "4391ffea-9594-4027-a703-bc5f04ff1e3d",
   "metadata": {},
   "outputs": [
    {
     "name": "stdin",
     "output_type": "stream",
     "text": [
      "Enter word:  hello\n",
      "Enter word:  goodbye\n",
      "Enter word:  stop\n",
      "Enter word:  already\n",
      "Enter word:  \n"
     ]
    },
    {
     "name": "stdout",
     "output_type": "stream",
     "text": [
      "{'hello': 5, 'goodbye': 7, 'stop': 4, 'already': 7}\n"
     ]
    }
   ],
   "source": [
    "words = {}   # empty dict\n",
    "\n",
    "while True:\n",
    "    s = input('Enter word: ').strip()\n",
    "\n",
    "    if s == '':\n",
    "        break\n",
    "    \n",
    "    words[s] = len(s)\n",
    "\n",
    "print(words)"
   ]
  },
  {
   "cell_type": "code",
   "execution_count": 71,
   "id": "2ad23a55-16b8-4b72-9880-767a1ac6c15f",
   "metadata": {},
   "outputs": [
    {
     "name": "stdout",
     "output_type": "stream",
     "text": [
      "hello: 5\n",
      "goodbye: 7\n",
      "stop: 4\n",
      "already: 7\n"
     ]
    }
   ],
   "source": [
    "for key, value in words.items():\n",
    "    print(f'{key}: {value}')"
   ]
  },
  {
   "cell_type": "code",
   "execution_count": null,
   "id": "90ba54a5-6d41-4632-b2fd-a8a14938ae24",
   "metadata": {},
   "outputs": [],
   "source": [
    "# AC\n",
    "\n",
    "empty={}\n",
    "words= input(\"Enter a word: \").strip()\n",
    "for word in words:b\n",
    "    empty[word]=len(word)\n",
    "print(empty)"
   ]
  },
  {
   "cell_type": "code",
   "execution_count": null,
   "id": "909cc828-ab47-4da7-9e1f-c5ccb40a6e55",
   "metadata": {},
   "outputs": [],
   "source": [
    "# PP\n",
    "\n",
    "d={}\n",
    "\n",
    "while True:\n",
    "    word = input ('enter word :').strip()\n",
    "    length= len(word)\n",
    "    if word =='':\n",
    "        break\n",
    "    if word in d:\n",
    "        d[word]+=length\n",
    "    else:\n",
    "        d[word]=length\n",
    "print(d)"
   ]
  },
  {
   "cell_type": "markdown",
   "id": "baad8941-0f01-422e-b72f-dc550eefae8b",
   "metadata": {},
   "source": [
    "# How dicts work\n",
    "\n",
    "It's easy to think about how lists work (at a superficial level): We have elements, and as we add a new element to the end (with `append`), the index goes up. The first item has index 0, the second 1, the third 2, etc.\n",
    "\n",
    "How can we search for a value in a list? We basically need to use a `for` loop.  If I want to know whether a value is in a list, then I have to go through it, one element at a time, until I either find the value or reach the end. In CS theory, we call this `O(n)`, meaning that the time it takes to find something in a list is proportional to the length of the list. \n",
    "\n",
    "A dictionary works completely differently: Where a key-value pair is stored in memory is determined by the key: Python runs a function, known as a \"hash function,\" on the key. The number we get back tells Python where to store the key-value pair. When we then ask `'a' in d`, Python runs the hash function on `'a'`, gets a number back, and looks there in memory. It instantly knows whether the key is there or not. \n",
    "\n",
    "This means that no matter how many items you have in a dict, search and retrieval take the same amount of time. We call this `O(1)`, constant time. "
   ]
  },
  {
   "cell_type": "code",
   "execution_count": 72,
   "id": "c0f6e791-ef4a-4d2d-8572-6d9f3be4621b",
   "metadata": {},
   "outputs": [
    {
     "data": {
      "text/plain": [
       "{'a': 10, 'b': 20, 'c': 30}"
      ]
     },
     "execution_count": 72,
     "metadata": {},
     "output_type": "execute_result"
    }
   ],
   "source": [
    "# if you have a list of 2-element tuples, that can be a dict\n",
    "\n",
    "mylist = [('a', 10), ('b',20), ('c', 30)]\n",
    "\n",
    "dict(mylist)"
   ]
  },
  {
   "cell_type": "code",
   "execution_count": 73,
   "id": "98d09bbd-30ba-4885-9e1c-4ec13e979d82",
   "metadata": {},
   "outputs": [
    {
     "ename": "TypeError",
     "evalue": "cannot convert dictionary update sequence element #0 to a sequence",
     "output_type": "error",
     "traceback": [
      "\u001b[0;31m---------------------------------------------------------------------------\u001b[0m",
      "\u001b[0;31mTypeError\u001b[0m                                 Traceback (most recent call last)",
      "Cell \u001b[0;32mIn[73], line 1\u001b[0m\n\u001b[0;32m----> 1\u001b[0m \u001b[38;5;28;43mdict\u001b[39;49m\u001b[43m(\u001b[49m\u001b[43m[\u001b[49m\u001b[38;5;241;43m10\u001b[39;49m\u001b[43m,\u001b[49m\u001b[43m \u001b[49m\u001b[38;5;241;43m20\u001b[39;49m\u001b[43m,\u001b[49m\u001b[43m \u001b[49m\u001b[38;5;241;43m30\u001b[39;49m\u001b[43m]\u001b[49m\u001b[43m)\u001b[49m\n",
      "\u001b[0;31mTypeError\u001b[0m: cannot convert dictionary update sequence element #0 to a sequence"
     ]
    }
   ],
   "source": [
    "dict([10, 20, 30])"
   ]
  },
  {
   "cell_type": "code",
   "execution_count": 77,
   "id": "5bc2de91-70c8-4d75-8060-81245fc2acb8",
   "metadata": {},
   "outputs": [
    {
     "name": "stdout",
     "output_type": "stream",
     "text": [
      "2024-04April-24.ipynb  README.md\t     mini-access-log.txt  wcfile.txt\n",
      "2024-05May-01.ipynb    README.md~\t     nums.txt\n",
      "2024-05May-08.ipynb    linux-etc-passwd.txt  shoe-data.txt\n"
     ]
    }
   ],
   "source": []
  },
  {
   "cell_type": "markdown",
   "id": "6a000e30-61d8-477d-bc67-307bdbab37eb",
   "metadata": {},
   "source": [
    "# Files\n",
    "\n",
    "We use files every day as computer users. But what is a file, really? It's just a way to take a bunch of data structures from the computer's memory and store them such that when our computer is restarted, or has problems, we can recreate what we had and where.\n",
    "\n",
    "There are lots of kinds of files out there: Excel files, Word files, PPT, PDF, GIF. JPEG, etc.\n",
    "\n",
    "We are going to use plain ol' text files. Text files, which have no formatting, are used all over:\n",
    "\n",
    "- Logging\n",
    "- Configuration\n"
   ]
  },
  {
   "cell_type": "markdown",
   "id": "895d59f9-c541-4be9-a01c-cb02b1248b86",
   "metadata": {},
   "source": [
    "# Working with files\n",
    "\n",
    "If I want to read from a text file in my Python program, I cannot just talk to the disk directly. I have to ask the operating system to do so on my behalf. The OS will then give me a data structure that I can use to communicate with the file.\n",
    "\n",
    "The data structure that the OS gives us to act as a go-between is sometimes known as a \"file handle,\" but you can think of it as an agent or intermediary. It's often called a \"file object,\" but nowadays in Python, we typically call them file-like objects, because there are many that aren't files, but which do implement the API."
   ]
  },
  {
   "cell_type": "code",
   "execution_count": null,
   "id": "aee702ee-c4c7-4bd7-b967-54f1dbfad486",
   "metadata": {},
   "outputs": [],
   "source": []
  }
 ],
 "metadata": {
  "kernelspec": {
   "display_name": "Python 3 (ipykernel)",
   "language": "python",
   "name": "python3"
  },
  "language_info": {
   "codemirror_mode": {
    "name": "ipython",
    "version": 3
   },
   "file_extension": ".py",
   "mimetype": "text/x-python",
   "name": "python",
   "nbconvert_exporter": "python",
   "pygments_lexer": "ipython3",
   "version": "3.12.1"
  }
 },
 "nbformat": 4,
 "nbformat_minor": 5
}
