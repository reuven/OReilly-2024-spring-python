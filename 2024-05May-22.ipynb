{
 "cells": [
  {
   "cell_type": "markdown",
   "id": "348ec59f-1ac8-4737-95a8-4f390c2b590a",
   "metadata": {},
   "source": [
    "# Agenda: Modules and packages\n",
    "\n",
    "0. Q&A\n",
    "1. Intro to modules\n",
    "2. What can be in a module?\n",
    "3. The different forms of `import`\n",
    "4. Writing a module\n",
    "5. Packages and PyPI (Python Package Index)\n",
    "6. Using `pip` to install packages\n",
    "7. What next?"
   ]
  },
  {
   "cell_type": "markdown",
   "id": "adce89c2-828e-4e90-8e39-8a5ba272e6ab",
   "metadata": {},
   "source": [
    "# Files and your OS\n",
    "\n",
    "In theory, Python is completely platform neutral. That is, you can `open` a file on Linux/MacOS/Unix/Windows, iterate over it, read it, write to it, etc., and you won't feel any difference.\n",
    "\n",
    "There is one big thing to keep in mind:\n",
    "\n",
    " When you open a file in Windows, you need to use a backslash (`\\`), which you need to double in Python (`'\\\\'`) in order to have a single one. Or you can use a raw string, with `r` before the opening quote, which doubles it automatically. In Unix, we use `/` to separate folders/directories, but in Windows, we use `\\`, which makes things a bit uglier/more complicated from Python.\n",
    "\n",
    "To practice, you'll want to either download/use some text files or create text files on your own. Feel free to download files from `https://files.lerner.co.il`; these are files that I use in my various courses, and if some of them are useful, then great.\n",
    "\n",
    "The problem with many files on Windows is that they're in a binary format, and so it's harder to read from them in Python. But maybe after today, when we see how to use packages, you'll be able to find one that makes it possible.\n"
   ]
  },
  {
   "cell_type": "markdown",
   "id": "2b0af516-0e5f-453a-ba0c-f444d50a8b2d",
   "metadata": {},
   "source": [
    "# Modules\n",
    "\n",
    "We've seen, numerous times, in this course, that it pays for us to use the DRY (\"don't repeat yourself\") rule:\n",
    "\n",
    "1. If the same line of code repeats itself, then we can DRY up our code with a `for` loop.\n",
    "2. If the same code repeats itself within a program, then we can DRY up our code with a function.\n",
    "\n",
    "There are so many advantages to doing this:\n",
    "- We can think at a higher level\n",
    "- We write the code just once\n",
    "- We can maintain/update/optimize/debug the code in a single place\n",
    "- It's easier to think about the code, because there's less of a cognitive load\n",
    "\n",
    "There is a third situation in which we might want to DRY up our code:\n",
    "\n",
    "3. If the same code repeats itself across multiple programs, then we can DRY up our code with a \"library.\"\n",
    "\n",
    "Libraries exist in many different programming languages. And the idea is that you write some functionality once, or you create a data structure once, and then you can use it across a wide variety of programs.\n",
    "\n",
    "In Python, we call our libraries \"modules.\" A module isn't just a library. It's also a *namespace*.\n",
    "\n",
    "By that, I mean that it allows us to divide our variable/function names into sub-segments. You can think of it as giving our variables last names (surnames), to avoid confusion -- or, as it's known in the trade, \"namespace collisions.\"\n",
    "\n",
    "Nearly every Python program uses a number of modules. Many times, these modules come from Python's \"standard library,\" the modules that are installed along with the language. There are other, third-party modules that you can download and install -- and we'll talk about those, too.\n",
    "\n",
    "This means that we can concentrate on the functionality that we want to create, rather than reinvent the wheel with each of our new programs. The fact that what is defined in a module stays in the module means that we can use multiple modules, and not worry about what names each of them is using, because the names will stay inside of those namespaces."
   ]
  },
  {
   "cell_type": "markdown",
   "id": "6a222883-dfd6-426e-a8d9-0db2a4945dfb",
   "metadata": {},
   "source": [
    "# How do we use a module?\n",
    "\n",
    "To use a module in Python, we use the `import` statement. It looks like this:\n",
    "\n",
    "```python\n",
    "import random\n",
    "```\n",
    "\n",
    "Notice some things about the `import` statement:\n",
    "1. It's not a function! We don't use `()` on the thing that comes to its right.\n",
    "2. The word to the right of `import` is not a string! It's not a filename! It's the name of the module variable we want to define, but it's also the name of the module's file (without the full `.py` suffix). We aren't telling Python what file to find or load (we are, but indirectly). Rather, we are indicating what variable we want to define.\n",
    "3. When we're done with the `import`, the variable is defined to contain a module.\n",
    "4. On that module object, we'll have attributes (i.e., names after a `.`) that contain values and functions."
   ]
  },
  {
   "cell_type": "code",
   "execution_count": 2,
   "id": "70bf300e-78f4-4247-8983-e6718c40dc90",
   "metadata": {},
   "outputs": [],
   "source": [
    "import random"
   ]
  },
  {
   "cell_type": "code",
   "execution_count": 3,
   "id": "0e64b82b-d21e-4feb-9fb8-1f29978ae051",
   "metadata": {},
   "outputs": [
    {
     "data": {
      "text/plain": [
       "module"
      ]
     },
     "execution_count": 3,
     "metadata": {},
     "output_type": "execute_result"
    }
   ],
   "source": [
    "# we now have the \"random\" module loaded into memory\n",
    "# we can access it via the \"random\" variable, which contains a module object\n",
    "\n",
    "type(random)"
   ]
  },
  {
   "cell_type": "code",
   "execution_count": 4,
   "id": "7939a852-c4ee-446a-836d-feda47899eae",
   "metadata": {},
   "outputs": [
    {
     "data": {
      "text/plain": [
       "<module 'random' from '/Users/reuven/.pyenv/versions/3.12.2/lib/python3.12/random.py'>"
      ]
     },
     "execution_count": 4,
     "metadata": {},
     "output_type": "execute_result"
    }
   ],
   "source": [
    "# tell me about yourself, random\n",
    "\n",
    "random"
   ]
  },
  {
   "cell_type": "code",
   "execution_count": 6,
   "id": "d1349816-b20c-4bc6-9607-546a54184af4",
   "metadata": {},
   "outputs": [
    {
     "data": {
      "text/plain": [
       "10"
      ]
     },
     "execution_count": 6,
     "metadata": {},
     "output_type": "execute_result"
    }
   ],
   "source": [
    "# once I have loaded the module, I have access to all of its attributes -- names defined\n",
    "# on the module object that contain either data or functions.\n",
    "\n",
    "# here, I'm going to call the \"randint\" function that is defiend in the \"random\" module\n",
    "# the function takes two arguments, the low number and the high number.\n",
    "random.randint(0, 100)"
   ]
  },
  {
   "cell_type": "markdown",
   "id": "97ceb2b5-50d8-48b2-b619-00d1c42dd87c",
   "metadata": {},
   "source": [
    "# Exercise: Guessing game\n",
    "\n",
    "1. `import` the `random` module.\n",
    "2. Using the `random.randint` function, choose a number between 0 and 100.\n",
    "3. Repeatedly ask the user to guess the number.\n",
    "    - If the user enters a non-numeric value, scold them\n",
    "    - If the user enters a value that is the same as the randomly chosen one, congratulate them and exit.\n",
    "    - Otherwise, print either \"too low\" or \"too high\" to indicate what they should do\n",
    "4. Exit the loop, and indicate how many guesses it took.\n",
    "\n",
    "Example:\n",
    "\n",
    "    Guess: 50\n",
    "    50 is too low; try again\n",
    "    Guess: 75\n",
    "    75 is too high; try again\n",
    "    Guess: 72\n",
    "    You got it in 3 guesses"
   ]
  },
  {
   "cell_type": "code",
   "execution_count": 10,
   "id": "4ae3c71f-e8b4-4e9b-8c8b-e0d944a01dad",
   "metadata": {},
   "outputs": [
    {
     "name": "stdin",
     "output_type": "stream",
     "text": [
      "Guess:  50\n"
     ]
    },
    {
     "name": "stdout",
     "output_type": "stream",
     "text": [
      "Too high; try again\n"
     ]
    },
    {
     "name": "stdin",
     "output_type": "stream",
     "text": [
      "Guess:  25\n"
     ]
    },
    {
     "name": "stdout",
     "output_type": "stream",
     "text": [
      "Too low; try again\n"
     ]
    },
    {
     "name": "stdin",
     "output_type": "stream",
     "text": [
      "Guess:  30\n"
     ]
    },
    {
     "name": "stdout",
     "output_type": "stream",
     "text": [
      "Too low; try again\n"
     ]
    },
    {
     "name": "stdin",
     "output_type": "stream",
     "text": [
      "Guess:  35\n"
     ]
    },
    {
     "name": "stdout",
     "output_type": "stream",
     "text": [
      "Too low; try again\n"
     ]
    },
    {
     "name": "stdin",
     "output_type": "stream",
     "text": [
      "Guess:  37\n"
     ]
    },
    {
     "name": "stdout",
     "output_type": "stream",
     "text": [
      "Too low; try again\n"
     ]
    },
    {
     "name": "stdin",
     "output_type": "stream",
     "text": [
      "Guess:  41\n"
     ]
    },
    {
     "name": "stdout",
     "output_type": "stream",
     "text": [
      "Too high; try again\n"
     ]
    },
    {
     "name": "stdin",
     "output_type": "stream",
     "text": [
      "Guess:  40\n"
     ]
    },
    {
     "name": "stdout",
     "output_type": "stream",
     "text": [
      "You got it in 7 guesses!\n"
     ]
    }
   ],
   "source": [
    "import random\n",
    "\n",
    "number = random.randint(0, 100)\n",
    "guesses = 0\n",
    "\n",
    "while True:\n",
    "    s = input('Guess: ').strip()\n",
    "\n",
    "    if not s.isdigit():\n",
    "        print(f'\\t{s} is not numeric; try again')\n",
    "        continue\n",
    "\n",
    "    guess = int(s)\n",
    "    guesses += 1\n",
    "    \n",
    "    if guess == number:\n",
    "        print(f'You got it in {guesses} guesses!')\n",
    "        break\n",
    "    elif guess < number:\n",
    "        print(f'Too low; try again')\n",
    "    else:\n",
    "        print(f'Too high; try again')\n",
    "    "
   ]
  },
  {
   "cell_type": "code",
   "execution_count": 11,
   "id": "35239bab-1a62-40b0-8a62-e1fc7d34ac35",
   "metadata": {},
   "outputs": [
    {
     "name": "stdout",
     "output_type": "stream",
     "text": [
      "83\n"
     ]
    }
   ],
   "source": [
    "# SK\n",
    "import random\n",
    "rand_num = random.randint(0,100)\n",
    "print(rand_num)"
   ]
  },
  {
   "cell_type": "markdown",
   "id": "c4efbb82-95aa-4972-830d-3bda45d3a3e1",
   "metadata": {},
   "source": [
    "# When you `import`...\n",
    "\n",
    "I said before that we don't give a filename to `import`. Rather, we just tell it what module we want to load/define, and it does that.\n",
    "\n",
    "But how does Python translate from our module name to a filename? It goes through a bunch of directories, one at a time (in a `for` loop), looking for the module.\n",
    "\n",
    "If I say `import random`, Python will look for a file called `random.py` in each of the directories where modules might be. At the end of the day, a module is just a simple Python file with definitions in it. When (if?) Python finds a matching file, it stops looking further.\n",
    "\n",
    "If you say `import random`, and your file (program) is called `random.py`, then Python will find it right away, and import your current file as a module! That's because the current directory is always the first place that we look for a module.\n",
    "\n",
    "If your file is called `random.py`, and in that file you say `import random`, then you will not have access to the actual `random` module that comes with Python!\n",
    "\n",
    "The solution is: Rename your file and remove any trace of `random.py` from your current directory, or from the `__pycache__` directory that Python creates."
   ]
  },
  {
   "cell_type": "code",
   "execution_count": null,
   "id": "bc569f0b-60a9-4d98-90c6-b2feb513288d",
   "metadata": {},
   "outputs": [],
   "source": [
    "# PP\n",
    "\n",
    "import random\n",
    "total = 0\n",
    "\n",
    "while True:\n",
    "    s=input('guess the no').strip()\n",
    "    num = int (s)\n",
    "    if num == random.randint(0, 100):\n",
    "        print (\"congrats\")\n",
    "        total+=num\n",
    "        continue\n",
    "    elif num < random.randint(0, 100):\n",
    "        print(\"low\")\n",
    "    else:    \n",
    "        print(\"high\")\n",
    "        \n",
    "print(f' no of guess= {total} ') "
   ]
  },
  {
   "cell_type": "markdown",
   "id": "01ada0dc-fe2e-4c48-b2c6-bcfda5fe8d4f",
   "metadata": {},
   "source": [
    "# Where does `import` look?\n",
    "\n",
    "Inside of Python, the variable `sys.path` is a list of strings that tells Python where to look when we `import`. Python looks at that, and iterates over the list, one at a time. If it finds a match, it stops searching.\n",
    "\n"
   ]
  },
  {
   "cell_type": "code",
   "execution_count": 13,
   "id": "34ae9583-29c6-4b19-bb3a-aef0f04eef75",
   "metadata": {},
   "outputs": [
    {
     "data": {
      "text/plain": [
       "['/Users/reuven/.pyenv/versions/3.12.2/lib/python312.zip',\n",
       " '/Users/reuven/.pyenv/versions/3.12.2/lib/python3.12',\n",
       " '/Users/reuven/.pyenv/versions/3.12.2/lib/python3.12/lib-dynload',\n",
       " '',\n",
       " '/Users/reuven/.pyenv/versions/3.12.2/lib/python3.12/site-packages']"
      ]
     },
     "execution_count": 13,
     "metadata": {},
     "output_type": "execute_result"
    }
   ],
   "source": [
    "import sys\n",
    "\n",
    "sys.path"
   ]
  },
  {
   "cell_type": "code",
   "execution_count": null,
   "id": "f19f0391-d6c6-4f10-ab11-4491e62aff46",
   "metadata": {},
   "outputs": [],
   "source": [
    "# RG\n",
    "\n",
    "import random\n",
    "number = random.randint(0,100)\n",
    "while True:\n",
    "    guess = input(\"Guess the Number! Its between 0 and 100.  \").strip()\n",
    "    if guess.isdigit():\n",
    "        guess_converted = int(guess)\n",
    "        if guess_converted == number:\n",
    "            print(\"Great Job! You guessed accurately!\")\n",
    "            break\n",
    "        elif guess_converted > number:\n",
    "            print(\"That's too high! Try again.\")\n",
    "        else:\n",
    "            print(\"That's way too low, give it another go!\")\n",
    "    else:\n",
    "        print(\"Hey!, That's not a number!\")"
   ]
  },
  {
   "cell_type": "code",
   "execution_count": 14,
   "id": "bad19fb6-2d9b-4af2-a08b-7a59146a0e13",
   "metadata": {},
   "outputs": [
    {
     "name": "stdout",
     "output_type": "stream",
     "text": [
      "165 is greater than 100!\n"
     ]
    }
   ],
   "source": [
    "number = random.randint(0, 200)\n",
    "\n",
    "if number < 0:\n",
    "    print(f'{number} is less than 0!')\n",
    "elif number > 100:\n",
    "    print(f'{number} is greater than 100!')\n",
    "else:\n",
    "    print(f'{number} is just perfect')"
   ]
  },
  {
   "cell_type": "code",
   "execution_count": 15,
   "id": "678a266d-a39b-45f6-a268-d02f4d767858",
   "metadata": {},
   "outputs": [
    {
     "data": {
      "text/plain": [
       "<module 'random' from '/Users/reuven/.pyenv/versions/3.12.2/lib/python3.12/random.py'>"
      ]
     },
     "execution_count": 15,
     "metadata": {},
     "output_type": "execute_result"
    }
   ],
   "source": [
    "random"
   ]
  },
  {
   "cell_type": "code",
   "execution_count": 17,
   "id": "2949a111-f14e-4d0e-96d1-1a49855c5fe6",
   "metadata": {},
   "outputs": [
    {
     "data": {
      "text/plain": [
       "['/Users/reuven/.pyenv/versions/3.12.2/lib/python312.zip',\n",
       " '/Users/reuven/.pyenv/versions/3.12.2/lib/python3.12',\n",
       " '/Users/reuven/.pyenv/versions/3.12.2/lib/python3.12/lib-dynload',\n",
       " '',\n",
       " '/Users/reuven/.pyenv/versions/3.12.2/lib/python3.12/site-packages']"
      ]
     },
     "execution_count": 17,
     "metadata": {},
     "output_type": "execute_result"
    }
   ],
   "source": [
    "sys.path"
   ]
  },
  {
   "cell_type": "markdown",
   "id": "ef020b7d-6797-46c0-862e-e63d06f1f1f7",
   "metadata": {},
   "source": [
    "# Next up\n",
    "\n",
    "- Variations on `import`\n",
    "- Python standard library"
   ]
  },
  {
   "cell_type": "markdown",
   "id": "cf8039b0-1be0-4aea-9c2d-27b4e32e7807",
   "metadata": {},
   "source": [
    "# Loading modules\n",
    "\n",
    "So far, we've used `import` to load a module and make use of the definitions it contains. But the namespacing of the variables and functions in a module can be annoying -- if we want to run the `randint` function in `random`, we *must* specify this. We cannot just say `randint`.\n"
   ]
  },
  {
   "cell_type": "code",
   "execution_count": 18,
   "id": "94ea144e-c259-41af-a1e2-2ccbf58a0878",
   "metadata": {},
   "outputs": [
    {
     "data": {
      "text/plain": [
       "21"
      ]
     },
     "execution_count": 18,
     "metadata": {},
     "output_type": "execute_result"
    }
   ],
   "source": [
    "random.randint(0, 100)"
   ]
  },
  {
   "cell_type": "code",
   "execution_count": 19,
   "id": "e52fcbff-386d-4733-93eb-826b397053e0",
   "metadata": {},
   "outputs": [
    {
     "ename": "NameError",
     "evalue": "name 'randint' is not defined",
     "output_type": "error",
     "traceback": [
      "\u001b[0;31m---------------------------------------------------------------------------\u001b[0m",
      "\u001b[0;31mNameError\u001b[0m                                 Traceback (most recent call last)",
      "Cell \u001b[0;32mIn[19], line 1\u001b[0m\n\u001b[0;32m----> 1\u001b[0m \u001b[43mrandint\u001b[49m(\u001b[38;5;241m0\u001b[39m, \u001b[38;5;241m100\u001b[39m)\n",
      "\u001b[0;31mNameError\u001b[0m: name 'randint' is not defined"
     ]
    }
   ],
   "source": [
    "randint(0, 100)"
   ]
  },
  {
   "cell_type": "markdown",
   "id": "7b1707e2-b430-440c-9145-497658c2b282",
   "metadata": {},
   "source": [
    "# Namespaces\n",
    "\n",
    "Until today, we've been using the \"global\" namespace, which means that all names are avaialble all of the time. (Actually, any variables we define inside of a function are local to that function, but that's the exception to this rule.) When we start to use modules, we now need to think about whether the variables and functions in the module are in our global namespace or inside of the module's namespace.\n",
    "\n",
    "Without any special treatment, all names inside of a module are exclusively available via the module's name.\n",
    "\n",
    "However, this gets annoying. What if I'l be calling `randint` many times in my program? What if I've got a very deep hierarchy of modules, and I have to call `a.b.c.d.e.f()`? I'd rather just call `f()`.\n",
    "\n",
    "The solution to this is the `from .. import` construct. "
   ]
  },
  {
   "cell_type": "code",
   "execution_count": 20,
   "id": "1782acef-2fc5-42ba-b1ba-0539d4d263b1",
   "metadata": {},
   "outputs": [],
   "source": [
    "from random import randint"
   ]
  },
  {
   "cell_type": "code",
   "execution_count": 21,
   "id": "5803f6fb-e25d-4bb4-83ef-0213d8618d12",
   "metadata": {},
   "outputs": [
    {
     "data": {
      "text/plain": [
       "24"
      ]
     },
     "execution_count": 21,
     "metadata": {},
     "output_type": "execute_result"
    }
   ],
   "source": [
    "randint(0, 100)"
   ]
  },
  {
   "cell_type": "markdown",
   "id": "3779148a-faf2-411b-8470-902278c14d1d",
   "metadata": {},
   "source": [
    "# What have I done?\n",
    "\n",
    "Normally, when we use `import`, Python does two things:\n",
    "\n",
    "1. It loads the module from disk into memory, and defines a module object.\n",
    "2. It assigns the module object to a variable.\n",
    "\n",
    "When we say `import random`, it first loads the module and then assigns to the variable `random`.\n",
    "\n",
    "But this has a pretty big flaw -- if I import the same module multiple times, that's a huge waste of resources. For that reason, Python only loads a module once, but it will assign teh variable every time you use `import`.\n",
    "\n",
    "When we use `from .. import`, Python does exactly the same thing as usual, in terms of loading (or not) the module. The only difference is that it doesn't define a variable for the module. Rather, it defines a variable for whatever you specify.\n",
    "\n",
    "In the case of `from random import randint`:\n",
    "- If `random` was already loaded into memory, then Python ignores the loading. Otherwise, it loads it as necessary.\n",
    "- It then assigns the global variable `randint` to refer to the module's `randint` function.\n",
    "- It does *not* assign the variable `random` to a module object. If that was done before, then great.\n",
    "\n",
    "Two things to remember about this:\n",
    "1. This means that the module, as a name, is not available. The module is loaded, but it's anonymous, and cannot be reached without `import random`.\n",
    "2. Using `from .. import` saves zero time and zero memory."
   ]
  },
  {
   "cell_type": "markdown",
   "id": "cd06eded-5981-4bc0-b70c-0c3b88a36f83",
   "metadata": {},
   "source": [
    "# Exercise: Odds and evens\n",
    "\n",
    "1. Define two empty lists, `odds` and `evens`.\n",
    "2. Ask the user to enter an integer, the number of random numbers to choose from 0-100.\n",
    "3. Use `from .. import` to get `randint` into your namespace. Call it the number of times that the user requested.\n",
    "4. For each of the random numbers that we create, find out if it's odd or even and append to the end of the appropriate list.\n",
    "5. Print both lists.\n",
    "\n",
    "Example:\n",
    "\n",
    "    How many numbers: 4\n",
    "    Odds: [37, 21]\n",
    "    Evens: [98, 6]"
   ]
  },
  {
   "cell_type": "code",
   "execution_count": 28,
   "id": "9eddedf3-70a0-4ebb-915d-b7449baf5815",
   "metadata": {},
   "outputs": [
    {
     "name": "stdin",
     "output_type": "stream",
     "text": [
      "How many numbers:  8\n"
     ]
    },
    {
     "name": "stdout",
     "output_type": "stream",
     "text": [
      "odds = [89, 9, 75, 99, 99, 31]\n",
      "evens = [52, 68]\n"
     ]
    }
   ],
   "source": [
    "from random import randint\n",
    "\n",
    "odds = []\n",
    "evens = []\n",
    "\n",
    "s = input('How many numbers: ').strip()\n",
    "\n",
    "if s.isdigit():\n",
    "    n = int(s)\n",
    "\n",
    "    for counter in range(n):\n",
    "        number = randint(0, 100)\n",
    "        if number % 2 == 0:\n",
    "            evens.append(number)\n",
    "        else:\n",
    "            odds.append(number)\n",
    "\n",
    "    print(f'odds = {odds}')\n",
    "    print(f'evens = {evens}')\n",
    "else:\n",
    "    print(f'{s} is not numeric; exiting')"
   ]
  },
  {
   "cell_type": "markdown",
   "id": "6e37a59d-a8f8-4631-832b-e2182aa53a54",
   "metadata": {},
   "source": [
    "# Other variations on `import`\n",
    "\n",
    "What if the module's name collides with the name of an existing variable in my system? I can use `import MODNAME as ALIAS`, and then the variable to which we assign our module object is named the `ALIAS`. This is also done in many libraries (e.g., Pandas) where they want everyone to use the same alias.\n",
    "\n",
    "We can combine the two variations we've seen with `from MODNAME import NAME as ALIAS`. This loads the module as needed, then assigns a variable to the particular name inside of the module, using the alias."
   ]
  },
  {
   "cell_type": "markdown",
   "id": "42636a73-fb2f-46e6-9c97-9ec6964df12c",
   "metadata": {},
   "source": [
    "# All versions of `import`\n",
    "\n",
    "- `import MODNAME`\n",
    "- `from MODNAME import NAME`\n",
    "- `import MODNAME as ALIAS`\n",
    "- `from MODNAME import NAME as ALIAS`\n",
    "\n",
    "There is one more variation, and before I show it to you, I'm begging you: NEVER USE IT!\n",
    "\n",
    "`from MODNAME import *`\n",
    "\n",
    "This means:\n",
    "- Load the module `MODNAME` into memory\n",
    "- Every name inside of that module should then be assigned to a variable in the global namespace"
   ]
  },
  {
   "cell_type": "markdown",
   "id": "a9c43c30-a9fc-41b3-90f2-4489e74a8183",
   "metadata": {},
   "source": [
    "# How do we know what names are avaialble via a module?\n",
    "\n",
    "1. We can use, in Jupyter, the `dir` function on a module object (or any object, for that matter). We'll get a list of attributes, names that can come after the `.`.\n",
    "2. In Jupyter, we can use the `help` function on a loaded module. That will show the docstring for the module, which usually (not always) will include tons of helpful documentation and examples.\n",
    "3. Read the documentation for that module, either at `python.org` or (if it's third party) at `PyPI.org`."
   ]
  },
  {
   "cell_type": "code",
   "execution_count": 29,
   "id": "82a7368a-e868-4e12-ab3c-364a1129836e",
   "metadata": {},
   "outputs": [
    {
     "data": {
      "text/plain": [
       "['BPF',\n",
       " 'LOG4',\n",
       " 'NV_MAGICCONST',\n",
       " 'RECIP_BPF',\n",
       " 'Random',\n",
       " 'SG_MAGICCONST',\n",
       " 'SystemRandom',\n",
       " 'TWOPI',\n",
       " '_ONE',\n",
       " '_Sequence',\n",
       " '__all__',\n",
       " '__builtins__',\n",
       " '__cached__',\n",
       " '__doc__',\n",
       " '__file__',\n",
       " '__loader__',\n",
       " '__name__',\n",
       " '__package__',\n",
       " '__spec__',\n",
       " '_accumulate',\n",
       " '_acos',\n",
       " '_bisect',\n",
       " '_ceil',\n",
       " '_cos',\n",
       " '_e',\n",
       " '_exp',\n",
       " '_fabs',\n",
       " '_floor',\n",
       " '_index',\n",
       " '_inst',\n",
       " '_isfinite',\n",
       " '_lgamma',\n",
       " '_log',\n",
       " '_log2',\n",
       " '_os',\n",
       " '_pi',\n",
       " '_random',\n",
       " '_repeat',\n",
       " '_sha512',\n",
       " '_sin',\n",
       " '_sqrt',\n",
       " '_test',\n",
       " '_test_generator',\n",
       " '_urandom',\n",
       " '_warn',\n",
       " 'betavariate',\n",
       " 'binomialvariate',\n",
       " 'choice',\n",
       " 'choices',\n",
       " 'expovariate',\n",
       " 'gammavariate',\n",
       " 'gauss',\n",
       " 'getrandbits',\n",
       " 'getstate',\n",
       " 'lognormvariate',\n",
       " 'normalvariate',\n",
       " 'paretovariate',\n",
       " 'randbytes',\n",
       " 'randint',\n",
       " 'random',\n",
       " 'randrange',\n",
       " 'sample',\n",
       " 'seed',\n",
       " 'setstate',\n",
       " 'shuffle',\n",
       " 'triangular',\n",
       " 'uniform',\n",
       " 'vonmisesvariate',\n",
       " 'weibullvariate']"
      ]
     },
     "execution_count": 29,
     "metadata": {},
     "output_type": "execute_result"
    }
   ],
   "source": [
    "dir(random)"
   ]
  },
  {
   "cell_type": "markdown",
   "id": "c4fb52a5-4f9c-4a2d-8345-0c60864725a2",
   "metadata": {},
   "source": [
    "# Standard library\n",
    "\n",
    "When you download/install Python, you get a bunch of modules automatically. These are collectively known as the \"standard library.\" You can be sure that if you're using a standard library module, then everyone in the Python world can use your program.\n",
    "\n",
    "The standard library is massive! No one really knows everything that is in there.\n",
    "\n",
    "Most things in the standard library need to be imported. The standard library is so huge that importing the whole tihng automatically would massively add to Python's footprint. The \"builtin\" names in the standard library are automatically loaded, but nothing else is.\n",
    "\n",
    "Let's take a look at the standard library documentation at https://docs.python.org ."
   ]
  },
  {
   "cell_type": "markdown",
   "id": "82e4faae-9476-4f4e-bf00-7844a5622407",
   "metadata": {},
   "source": [
    "# Exercise: Count punctuation\n",
    "\n",
    "1. Create an empty dict, `counts`.\n",
    "2. Set the dict's keys to be the values of `string.punctuation`.\n",
    "3. Ask the user to enter a string.\n",
    "4. Go through each character. If it's a punctuation character (i.e., in `string.punctuation`), then add 1 to the count in the dict.\n",
    "5. Iterate over counts and print each character and count, ignoring those with 0 for the count."
   ]
  },
  {
   "cell_type": "code",
   "execution_count": 30,
   "id": "aaa9cf06-3e06-4fde-8f82-5d39b962287d",
   "metadata": {},
   "outputs": [
    {
     "data": {
      "text/plain": [
       "'!\"#$%&\\'()*+,-./:;<=>?@[\\\\]^_`{|}~'"
      ]
     },
     "execution_count": 30,
     "metadata": {},
     "output_type": "execute_result"
    }
   ],
   "source": [
    "import string\n",
    "\n",
    "string.punctuation"
   ]
  },
  {
   "cell_type": "code",
   "execution_count": 34,
   "id": "122b4fff-1721-4967-9c69-fe022921b853",
   "metadata": {},
   "outputs": [
    {
     "name": "stdin",
     "output_type": "stream",
     "text": [
      "Enter text:  She'll be saying \"Hello\" to you in no time, right?\n"
     ]
    },
    {
     "name": "stdout",
     "output_type": "stream",
     "text": [
      "\": 2\n",
      "': 1\n",
      ",: 1\n",
      "?: 1\n"
     ]
    }
   ],
   "source": [
    "counts = {}\n",
    "\n",
    "# Initialize the \"counts\" dict with keys (punctuation characters)\n",
    "# and values (0, for starters). The idea is that by having the dict,\n",
    "# we can query its keys quickly + easily. By having the value already be 0,\n",
    "# we can just add 1 to it, not having to check whether it's already there\n",
    "for one_character in string.punctuation:\n",
    "    counts[one_character] = 0\n",
    "\n",
    "s = input('Enter text: ').strip()\n",
    "\n",
    "# Go through the user's string one character at a time. If the character\n",
    "# is a key in the dict, it's a punctuation character, and we should add \n",
    "# 1 to the value.\n",
    "\n",
    "for one_character in s:\n",
    "    if one_character in counts:     # is the character a key in the dict?\n",
    "        counts[one_character] += 1  # add 1 to its count\n",
    "\n",
    "\n",
    "# Go through every key-value pair, but only print those where the\n",
    "# value is > 0.\n",
    "for key, value in counts.items():\n",
    "    if value > 0:\n",
    "        print(f'{key}: {value}')"
   ]
  },
  {
   "cell_type": "code",
   "execution_count": null,
   "id": "1c1a6b5b-cee1-438b-88c8-261a1887177a",
   "metadata": {},
   "outputs": [],
   "source": [
    "from string import punctuation\n",
    "\n",
    "counts = {}\n",
    "\n",
    "s = input('Enter a string: ').strip()\n",
    "for char in s:\n",
    "    if char in punctuation:\n",
    "        if char in counts:\n",
    "            counts[char] += 1\n",
    "        else:\n",
    "            counts[char] = 1\n",
    "\n",
    "print(counts)"
   ]
  },
  {
   "cell_type": "markdown",
   "id": "5316939a-fd12-43b9-8f5b-02e348af227d",
   "metadata": {},
   "source": [
    "# Next up\n",
    "\n",
    "- Writing our own (simple module)\n",
    "- PyPI and `pip`"
   ]
  },
  {
   "cell_type": "code",
   "execution_count": 38,
   "id": "8363b255-4932-4ccd-a0d9-8b8324ee1898",
   "metadata": {},
   "outputs": [
    {
     "data": {
      "text/plain": [
       "{'!': 0,\n",
       " '\"': 0,\n",
       " '#': 0,\n",
       " '$': 0,\n",
       " '%': 0,\n",
       " '&': 0,\n",
       " \"'\": 0,\n",
       " '(': 0,\n",
       " ')': 0,\n",
       " '*': 0,\n",
       " '+': 0,\n",
       " ',': 0,\n",
       " '-': 0,\n",
       " '.': 0,\n",
       " '/': 0,\n",
       " ':': 0,\n",
       " ';': 0,\n",
       " '<': 0,\n",
       " '=': 0,\n",
       " '>': 0,\n",
       " '?': 0,\n",
       " '@': 0,\n",
       " '[': 0,\n",
       " '\\\\': 0,\n",
       " ']': 0,\n",
       " '^': 0,\n",
       " '_': 0,\n",
       " '`': 0,\n",
       " '{': 0,\n",
       " '|': 0,\n",
       " '}': 0,\n",
       " '~': 0}"
      ]
     },
     "execution_count": 38,
     "metadata": {},
     "output_type": "execute_result"
    }
   ],
   "source": [
    "# more advanced way to do the exercise\n",
    "\n",
    "# create a dict in which the keys are the characters from string.punctuation\n",
    "# and the values are 0\n",
    "\n",
    "counts = dict.fromkeys(string.punctuation, 0)\n",
    "counts"
   ]
  },
  {
   "cell_type": "code",
   "execution_count": null,
   "id": "156eb6a6-3a7f-4f9c-b0ba-91d841d699be",
   "metadata": {},
   "outputs": [
    {
     "ename": "KeyboardInterrupt",
     "evalue": "Interrupted by user",
     "output_type": "error",
     "traceback": [
      "\u001b[0;31m---------------------------------------------------------------------------\u001b[0m",
      "\u001b[0;31mKeyboardInterrupt\u001b[0m                         Traceback (most recent call last)",
      "Cell \u001b[0;32mIn[37], line 9\u001b[0m\n\u001b[1;32m      6\u001b[0m counts \u001b[38;5;241m=\u001b[39m \u001b[38;5;28mdict\u001b[39m\u001b[38;5;241m.\u001b[39mfromkeys(string\u001b[38;5;241m.\u001b[39mpunctuation, \u001b[38;5;241m0\u001b[39m)\n\u001b[1;32m      7\u001b[0m counts\n\u001b[0;32m----> 9\u001b[0m s \u001b[38;5;241m=\u001b[39m \u001b[38;5;28;43minput\u001b[39;49m\u001b[43m(\u001b[49m\u001b[38;5;124;43m'\u001b[39;49m\u001b[38;5;124;43mEnter text: \u001b[39;49m\u001b[38;5;124;43m'\u001b[39;49m\u001b[43m)\u001b[49m\u001b[38;5;241m.\u001b[39mstrip()\n\u001b[1;32m     11\u001b[0m \u001b[38;5;66;03m# Go through the user's string one character at a time. If the character\u001b[39;00m\n\u001b[1;32m     12\u001b[0m \u001b[38;5;66;03m# is a key in the dict, it's a punctuation character, and we should add \u001b[39;00m\n\u001b[1;32m     13\u001b[0m \u001b[38;5;66;03m# 1 to the value.\u001b[39;00m\n\u001b[1;32m     15\u001b[0m \u001b[38;5;28;01mfor\u001b[39;00m one_character \u001b[38;5;129;01min\u001b[39;00m s:\n",
      "File \u001b[0;32m~/.pyenv/versions/3.12.2/lib/python3.12/site-packages/ipykernel/kernelbase.py:1270\u001b[0m, in \u001b[0;36mKernel.raw_input\u001b[0;34m(self, prompt)\u001b[0m\n\u001b[1;32m   1268\u001b[0m     msg \u001b[38;5;241m=\u001b[39m \u001b[38;5;124m\"\u001b[39m\u001b[38;5;124mraw_input was called, but this frontend does not support input requests.\u001b[39m\u001b[38;5;124m\"\u001b[39m\n\u001b[1;32m   1269\u001b[0m     \u001b[38;5;28;01mraise\u001b[39;00m StdinNotImplementedError(msg)\n\u001b[0;32m-> 1270\u001b[0m \u001b[38;5;28;01mreturn\u001b[39;00m \u001b[38;5;28;43mself\u001b[39;49m\u001b[38;5;241;43m.\u001b[39;49m\u001b[43m_input_request\u001b[49m\u001b[43m(\u001b[49m\n\u001b[1;32m   1271\u001b[0m \u001b[43m    \u001b[49m\u001b[38;5;28;43mstr\u001b[39;49m\u001b[43m(\u001b[49m\u001b[43mprompt\u001b[49m\u001b[43m)\u001b[49m\u001b[43m,\u001b[49m\n\u001b[1;32m   1272\u001b[0m \u001b[43m    \u001b[49m\u001b[38;5;28;43mself\u001b[39;49m\u001b[38;5;241;43m.\u001b[39;49m\u001b[43m_parent_ident\u001b[49m\u001b[43m[\u001b[49m\u001b[38;5;124;43m\"\u001b[39;49m\u001b[38;5;124;43mshell\u001b[39;49m\u001b[38;5;124;43m\"\u001b[39;49m\u001b[43m]\u001b[49m\u001b[43m,\u001b[49m\n\u001b[1;32m   1273\u001b[0m \u001b[43m    \u001b[49m\u001b[38;5;28;43mself\u001b[39;49m\u001b[38;5;241;43m.\u001b[39;49m\u001b[43mget_parent\u001b[49m\u001b[43m(\u001b[49m\u001b[38;5;124;43m\"\u001b[39;49m\u001b[38;5;124;43mshell\u001b[39;49m\u001b[38;5;124;43m\"\u001b[39;49m\u001b[43m)\u001b[49m\u001b[43m,\u001b[49m\n\u001b[1;32m   1274\u001b[0m \u001b[43m    \u001b[49m\u001b[43mpassword\u001b[49m\u001b[38;5;241;43m=\u001b[39;49m\u001b[38;5;28;43;01mFalse\u001b[39;49;00m\u001b[43m,\u001b[49m\n\u001b[1;32m   1275\u001b[0m \u001b[43m\u001b[49m\u001b[43m)\u001b[49m\n",
      "File \u001b[0;32m~/.pyenv/versions/3.12.2/lib/python3.12/site-packages/ipykernel/kernelbase.py:1313\u001b[0m, in \u001b[0;36mKernel._input_request\u001b[0;34m(self, prompt, ident, parent, password)\u001b[0m\n\u001b[1;32m   1310\u001b[0m \u001b[38;5;28;01mexcept\u001b[39;00m \u001b[38;5;167;01mKeyboardInterrupt\u001b[39;00m:\n\u001b[1;32m   1311\u001b[0m     \u001b[38;5;66;03m# re-raise KeyboardInterrupt, to truncate traceback\u001b[39;00m\n\u001b[1;32m   1312\u001b[0m     msg \u001b[38;5;241m=\u001b[39m \u001b[38;5;124m\"\u001b[39m\u001b[38;5;124mInterrupted by user\u001b[39m\u001b[38;5;124m\"\u001b[39m\n\u001b[0;32m-> 1313\u001b[0m     \u001b[38;5;28;01mraise\u001b[39;00m \u001b[38;5;167;01mKeyboardInterrupt\u001b[39;00m(msg) \u001b[38;5;28;01mfrom\u001b[39;00m \u001b[38;5;28;01mNone\u001b[39;00m\n\u001b[1;32m   1314\u001b[0m \u001b[38;5;28;01mexcept\u001b[39;00m \u001b[38;5;167;01mException\u001b[39;00m:\n\u001b[1;32m   1315\u001b[0m     \u001b[38;5;28mself\u001b[39m\u001b[38;5;241m.\u001b[39mlog\u001b[38;5;241m.\u001b[39mwarning(\u001b[38;5;124m\"\u001b[39m\u001b[38;5;124mInvalid Message:\u001b[39m\u001b[38;5;124m\"\u001b[39m, exc_info\u001b[38;5;241m=\u001b[39m\u001b[38;5;28;01mTrue\u001b[39;00m)\n",
      "\u001b[0;31mKeyboardInterrupt\u001b[0m: Interrupted by user"
     ]
    }
   ],
   "source": [
    "s = input('Enter text: ').strip()\n",
    "\n",
    "# Go through the user's string one character at a time. If the character\n",
    "# is a key in the dict, it's a punctuation character, and we should add \n",
    "# 1 to the value.\n",
    "\n",
    "for one_character in s:\n",
    "    if one_character in counts:     # is the character a key in the dict?\n",
    "        counts[one_character] += 1  # add 1 to its count\n",
    "\n",
    "\n",
    "# Go through every key-value pair, but only print those where the\n",
    "# value is > 0.\n",
    "for key, value in counts.items():\n",
    "    if value > 0:\n",
    "        print(f'{key}: {value}')"
   ]
  },
  {
   "cell_type": "markdown",
   "id": "8f953d85-f050-4e9b-906e-4da629ed1aa4",
   "metadata": {},
   "source": [
    "# Can we write our own module?\n",
    "\n",
    "Writing a module in Python is *VERY EASY*. A module file is:\n",
    "\n",
    "- A file\n",
    "- Containing Python code\n",
    "- With a `.py` suffix\n",
    "- In a directory in `sys.path`\n",
    "\n",
    "If you're using Jupyter, then you can create a file on the main Jupyter page with \"new -> file\". If you're not using Jupyter, then use an editor to create a file *in the same directory* as Jupyter. This ensures that the file will be \"seen\" by Jupyter when we `import`.\n",
    "\n",
    "I'm going to create a very simple module."
   ]
  },
  {
   "cell_type": "code",
   "execution_count": 39,
   "id": "1fce34fb-4412-4eba-a527-2201266052e8",
   "metadata": {},
   "outputs": [],
   "source": [
    "import mymod"
   ]
  },
  {
   "cell_type": "code",
   "execution_count": 40,
   "id": "c07aee55-6540-4264-ac8f-b48e1e1c599c",
   "metadata": {},
   "outputs": [
    {
     "data": {
      "text/plain": [
       "['__builtins__',\n",
       " '__cached__',\n",
       " '__doc__',\n",
       " '__file__',\n",
       " '__loader__',\n",
       " '__name__',\n",
       " '__package__',\n",
       " '__spec__',\n",
       " 'hello',\n",
       " 'x',\n",
       " 'y']"
      ]
     },
     "execution_count": 40,
     "metadata": {},
     "output_type": "execute_result"
    }
   ],
   "source": [
    "dir(mymod)"
   ]
  },
  {
   "cell_type": "code",
   "execution_count": 41,
   "id": "f853b2c8-100d-42df-a954-846461b2c8ff",
   "metadata": {},
   "outputs": [
    {
     "data": {
      "text/plain": [
       "100"
      ]
     },
     "execution_count": 41,
     "metadata": {},
     "output_type": "execute_result"
    }
   ],
   "source": [
    "# to see x from the \"mymod\" module, I say\n",
    "\n",
    "mymod.x"
   ]
  },
  {
   "cell_type": "code",
   "execution_count": 42,
   "id": "f8fc2478-f983-4e76-bd10-8a0fbe36dcd9",
   "metadata": {},
   "outputs": [
    {
     "data": {
      "text/plain": [
       "[10, 20, 30]"
      ]
     },
     "execution_count": 42,
     "metadata": {},
     "output_type": "execute_result"
    }
   ],
   "source": [
    "mymod.y"
   ]
  },
  {
   "cell_type": "code",
   "execution_count": 43,
   "id": "e426d9f8-137c-47d3-86aa-f796395ab720",
   "metadata": {},
   "outputs": [
    {
     "data": {
      "text/plain": [
       "'Hello, world!'"
      ]
     },
     "execution_count": 43,
     "metadata": {},
     "output_type": "execute_result"
    }
   ],
   "source": [
    "mymod.hello('world')"
   ]
  },
  {
   "cell_type": "markdown",
   "id": "501a29a5-0f11-4310-bafb-04f6a2e258eb",
   "metadata": {},
   "source": [
    "# Exercise: `count_vowels`\n",
    "\n",
    "1. Define a function, `count_vowels`, in a module, `vowels.py`.\n",
    "2. Load the module, ask the user to enter a string, and print the number of vowels in the string, thanks to the function `count_vowels`."
   ]
  },
  {
   "cell_type": "code",
   "execution_count": 45,
   "id": "7334a72c-4652-4d4e-92d6-815065bda3d3",
   "metadata": {},
   "outputs": [
    {
     "name": "stdin",
     "output_type": "stream",
     "text": [
      "Enter text:  hello to everyone out there!\n"
     ]
    },
    {
     "name": "stdout",
     "output_type": "stream",
     "text": [
      "Number of vowels = 11\n"
     ]
    }
   ],
   "source": [
    "import vowels\n",
    "\n",
    "s = input('Enter text: ').strip()\n",
    "\n",
    "print(f'Number of vowels = {vowels.count_vowels(s)}')"
   ]
  },
  {
   "cell_type": "code",
   "execution_count": 46,
   "id": "e6a87c27-8478-4e19-b511-fe7051194ce1",
   "metadata": {},
   "outputs": [
    {
     "name": "stdout",
     "output_type": "stream",
     "text": [
      "def count_vowels(s):\n",
      "    total = 0\n",
      "    for one_character in s:\n",
      "        if one_character in 'aeiou':\n",
      "            total += 1\n",
      "    return total\n",
      "\n"
     ]
    }
   ],
   "source": [
    "!cat vowels.py\n"
   ]
  },
  {
   "cell_type": "code",
   "execution_count": 1,
   "id": "2070415a-1c04-49d7-959c-81f91f537454",
   "metadata": {},
   "outputs": [
    {
     "name": "stdout",
     "output_type": "stream",
     "text": [
      "Hello from vowels!\n",
      "Goodbye from vowels!\n"
     ]
    }
   ],
   "source": [
    "import vowels"
   ]
  },
  {
   "cell_type": "code",
   "execution_count": 2,
   "id": "a9f3101a-01f1-4c9b-8ebe-c6bae3aba8c6",
   "metadata": {},
   "outputs": [
    {
     "data": {
      "text/plain": [
       "['__builtins__',\n",
       " '__cached__',\n",
       " '__doc__',\n",
       " '__file__',\n",
       " '__loader__',\n",
       " '__name__',\n",
       " '__package__',\n",
       " '__spec__',\n",
       " 'count_vowels']"
      ]
     },
     "execution_count": 2,
     "metadata": {},
     "output_type": "execute_result"
    }
   ],
   "source": [
    "dir(vowels)"
   ]
  },
  {
   "cell_type": "code",
   "execution_count": 3,
   "id": "39a4a7b3-3131-4e06-ad49-89f6b98850b1",
   "metadata": {},
   "outputs": [
    {
     "data": {
      "text/plain": [
       "'vowels'"
      ]
     },
     "execution_count": 3,
     "metadata": {},
     "output_type": "execute_result"
    }
   ],
   "source": [
    "# __name__ -- what does it contain?\n",
    "\n",
    "vowels.__name__   # \"double underscore\" == \"dunder\""
   ]
  },
  {
   "cell_type": "markdown",
   "id": "312b984b-0f21-4422-9057-d96ceece17ea",
   "metadata": {},
   "source": [
    "# `__name__`\n",
    "\n",
    "We know:\n",
    "\n",
    "- `__name__`, along with several other attributes, are automatically defined on a module object when we create it with `import`\n",
    "- All of the global variables we define in a module are available as attributes on the module object.\n",
    "\n",
    "This raises two questions:\n",
    "- Are other attributes on the module object also available as varialbes inside of the module?\n",
    "- Can we get the value of `__name__` inside of the module as a variable?"
   ]
  },
  {
   "cell_type": "code",
   "execution_count": 1,
   "id": "87c308ba-a71f-4121-a95c-3f5c293406eb",
   "metadata": {},
   "outputs": [
    {
     "name": "stdout",
     "output_type": "stream",
     "text": [
      "Hello from vowels!\n",
      "Goodbye from vowels!\n"
     ]
    }
   ],
   "source": [
    "import vowels"
   ]
  },
  {
   "cell_type": "markdown",
   "id": "6f261b51-2576-4a8c-aac1-83487e74900a",
   "metadata": {},
   "source": [
    "# `__name__`\n",
    "\n",
    "The `__name__` attribute is always set to a string. It can be set to one of two values:\n",
    "\n",
    "- The same name as the file, typically because we have imported this file as a module\n",
    "- The special string `'__main__'`, which means: This is the first file to be loaded by Python\n",
    "\n",
    "This allows us to distinguish between when our module is treated as a standalone program and executing, and when it is being imported. One of the most famous lines in all of Python is:\n",
    "\n",
    "```python\n",
    "if __name__ == '__main__':\n",
    "    print('hello')\n",
    "```\n",
    "\n",
    "The above code takes advantage of the fact that when a module is imported, it is executed. And also that we have access to the `__name__` variable. This allows us to decide what we want to do if the module is run as a standalone program. Some common things are:\n",
    "\n",
    "- Run automated tests\n",
    "- Get user input, and run the function(s) defined in the module\n",
    "- Show off module capabilities"
   ]
  },
  {
   "cell_type": "markdown",
   "id": "099bdde5-25d0-44a3-978a-afc4051c56d1",
   "metadata": {},
   "source": [
    "# Next up\n",
    "\n",
    "- PyPI and `pip`\n",
    "- What next?"
   ]
  },
  {
   "cell_type": "markdown",
   "id": "dd158955-0cdc-4b1e-8e03-b36eda7c67b4",
   "metadata": {},
   "source": [
    "# Modules (and packages)\n",
    "\n",
    "We've now seen\n",
    "\n",
    "- how we can `import` modules from Python programs, in various ways\n",
    "- Python's standard library, and how much it offers\n",
    "- how we can write our own, new modules\n",
    "\n",
    "But -- what about the functionality that isn't in the Python standard library, but we know must exist in the open-source world? \n",
    "\n",
    "That's where PyPI (the Python Package Index) comes into play. This is a collection of third-party Python modules and packages (a directory of modules) that you can download and install on your computer, and use.\n",
    "\n",
    "Everything on PyPI is open source, meaning that you can freely use it, learn from it, modify it, and redistribute it. There are different open-source licenses, and not all are acceptable for use inside all companies and organizations. \n",
    "\n",
    "We're going to (a) look at PyPI and (b) see how we can install and use something from PyPI on our own computers."
   ]
  },
  {
   "cell_type": "code",
   "execution_count": 1,
   "id": "63e2cc43-b09c-424d-bec9-54c6b3b5930d",
   "metadata": {},
   "outputs": [
    {
     "name": "stdout",
     "output_type": "stream",
     "text": [
      "Collecting fedex\n",
      "  Downloading fedex-2.4.1.tar.gz (280 kB)\n",
      "\u001b[2K     \u001b[38;2;114;156;31m━━━━━━━━━━━━━━━━━━━━━━━━━━━━━━━━━━━━━━━\u001b[0m \u001b[32m280.2/280.2 kB\u001b[0m \u001b[31m5.2 MB/s\u001b[0m eta \u001b[36m0:00:00\u001b[0mm eta \u001b[36m0:00:01\u001b[0m\n",
      "\u001b[?25h  Preparing metadata (setup.py) ... \u001b[?25ldone\n",
      "\u001b[?25hCollecting suds-jurko (from fedex)\n",
      "  Downloading suds-jurko-0.6.zip (255 kB)\n",
      "\u001b[2K     \u001b[38;2;114;156;31m━━━━━━━━━━━━━━━━━━━━━━━━━━━━━━━━━━━━━━━\u001b[0m \u001b[32m255.8/255.8 kB\u001b[0m \u001b[31m8.4 MB/s\u001b[0m eta \u001b[36m0:00:00\u001b[0m\n",
      "\u001b[?25h  Preparing metadata (setup.py) ... \u001b[?25lerror\n",
      "  \u001b[1;31merror\u001b[0m: \u001b[1msubprocess-exited-with-error\u001b[0m\n",
      "  \n",
      "  \u001b[31m×\u001b[0m \u001b[32mpython setup.py egg_info\u001b[0m did not run successfully.\n",
      "  \u001b[31m│\u001b[0m exit code: \u001b[1;36m1\u001b[0m\n",
      "  \u001b[31m╰─>\u001b[0m \u001b[31m[3 lines of output]\u001b[0m\n",
      "  \u001b[31m   \u001b[0m /private/var/folders/d9/v8tsklln4477fll05wkgcpth0000gn/T/pip-install-zazjop10/suds-jurko_33d6ad5795434dc3a2a8217a8d98d097/setup.py:99: DeprecationWarning: lib2to3 package is deprecated and may not be able to parse Python 3.10+\n",
      "  \u001b[31m   \u001b[0m   import lib2to3.fixes.fix_urllib\n",
      "  \u001b[31m   \u001b[0m error in suds-jurko setup command: use_2to3 is invalid.\n",
      "  \u001b[31m   \u001b[0m \u001b[31m[end of output]\u001b[0m\n",
      "  \n",
      "  \u001b[1;35mnote\u001b[0m: This error originates from a subprocess, and is likely not a problem with pip.\n",
      "\u001b[1;31merror\u001b[0m: \u001b[1mmetadata-generation-failed\u001b[0m\n",
      "\n",
      "\u001b[31m×\u001b[0m Encountered error while generating package metadata.\n",
      "\u001b[31m╰─>\u001b[0m See above for output.\n",
      "\n",
      "\u001b[1;35mnote\u001b[0m: This is an issue with the package mentioned above, not pip.\n",
      "\u001b[1;36mhint\u001b[0m: See above for details.\n",
      "\u001b[?25h"
     ]
    }
   ],
   "source": [
    "# ! in a Jupyter cell means: run this program on the command line\n",
    "\n",
    "!pip install fedex"
   ]
  },
  {
   "cell_type": "code",
   "execution_count": 2,
   "id": "01b8694e-ace7-4557-8a1b-facb2da1c33a",
   "metadata": {},
   "outputs": [
    {
     "name": "stdout",
     "output_type": "stream",
     "text": [
      "Collecting shippo\n",
      "  Downloading shippo-3.4.1-py3-none-any.whl.metadata (16 kB)\n",
      "Requirement already satisfied: certifi>=2023.7.22 in /Users/reuven/.pyenv/versions/3.12.2/lib/python3.12/site-packages (from shippo) (2024.2.2)\n",
      "Requirement already satisfied: charset-normalizer>=3.2.0 in /Users/reuven/.pyenv/versions/3.12.2/lib/python3.12/site-packages (from shippo) (3.3.2)\n",
      "Collecting dataclasses-json>=0.6.4 (from shippo)\n",
      "  Downloading dataclasses_json-0.6.6-py3-none-any.whl.metadata (25 kB)\n",
      "Requirement already satisfied: idna>=3.4 in /Users/reuven/.pyenv/versions/3.12.2/lib/python3.12/site-packages (from shippo) (3.6)\n",
      "Collecting jsonpath-python>=1.0.6 (from shippo)\n",
      "  Downloading jsonpath_python-1.0.6-py3-none-any.whl.metadata (12 kB)\n",
      "Collecting marshmallow>=3.19.0 (from shippo)\n",
      "  Downloading marshmallow-3.21.2-py3-none-any.whl.metadata (7.1 kB)\n",
      "Requirement already satisfied: mypy-extensions>=1.0.0 in /Users/reuven/.pyenv/versions/3.12.2/lib/python3.12/site-packages (from shippo) (1.0.0)\n",
      "Requirement already satisfied: packaging>=23.1 in /Users/reuven/.pyenv/versions/3.12.2/lib/python3.12/site-packages (from shippo) (23.2)\n",
      "Requirement already satisfied: python-dateutil>=2.8.2 in /Users/reuven/.pyenv/versions/3.12.2/lib/python3.12/site-packages (from shippo) (2.9.0.post0)\n",
      "Requirement already satisfied: requests>=2.31.0 in /Users/reuven/.pyenv/versions/3.12.2/lib/python3.12/site-packages (from shippo) (2.32.2)\n",
      "Requirement already satisfied: six>=1.16.0 in /Users/reuven/.pyenv/versions/3.12.2/lib/python3.12/site-packages (from shippo) (1.16.0)\n",
      "Collecting typing-inspect>=0.9.0 (from shippo)\n",
      "  Downloading typing_inspect-0.9.0-py3-none-any.whl.metadata (1.5 kB)\n",
      "Requirement already satisfied: typing-extensions>=4.7.1 in /Users/reuven/.pyenv/versions/3.12.2/lib/python3.12/site-packages (from shippo) (4.9.0)\n",
      "Requirement already satisfied: urllib3>=1.26.18 in /Users/reuven/.pyenv/versions/3.12.2/lib/python3.12/site-packages (from shippo) (2.2.1)\n",
      "Downloading shippo-3.4.1-py3-none-any.whl (235 kB)\n",
      "\u001b[2K   \u001b[38;2;114;156;31m━━━━━━━━━━━━━━━━━━━━━━━━━━━━━━━━━━━━━━━━\u001b[0m \u001b[32m235.1/235.1 kB\u001b[0m \u001b[31m5.2 MB/s\u001b[0m eta \u001b[36m0:00:00\u001b[0m8 MB/s\u001b[0m eta \u001b[36m0:00:01\u001b[0m\n",
      "\u001b[?25hDownloading dataclasses_json-0.6.6-py3-none-any.whl (28 kB)\n",
      "Downloading jsonpath_python-1.0.6-py3-none-any.whl (7.6 kB)\n",
      "Downloading marshmallow-3.21.2-py3-none-any.whl (49 kB)\n",
      "\u001b[2K   \u001b[38;2;114;156;31m━━━━━━━━━━━━━━━━━━━━━━━━━━━━━━━━━━━━━━━━\u001b[0m \u001b[32m49.3/49.3 kB\u001b[0m \u001b[31m1.6 MB/s\u001b[0m eta \u001b[36m0:00:00\u001b[0m\n",
      "\u001b[?25hDownloading typing_inspect-0.9.0-py3-none-any.whl (8.8 kB)\n",
      "Installing collected packages: typing-inspect, marshmallow, jsonpath-python, dataclasses-json, shippo\n",
      "Successfully installed dataclasses-json-0.6.6 jsonpath-python-1.0.6 marshmallow-3.21.2 shippo-3.4.1 typing-inspect-0.9.0\n"
     ]
    }
   ],
   "source": [
    "!pip install shippo"
   ]
  },
  {
   "cell_type": "code",
   "execution_count": 3,
   "id": "2407bf48-31bf-48cc-a067-df26a5b78039",
   "metadata": {},
   "outputs": [],
   "source": [
    "import shippo"
   ]
  },
  {
   "cell_type": "code",
   "execution_count": 5,
   "id": "b63d684d-6e63-494f-a087-e25ee06a4de6",
   "metadata": {},
   "outputs": [
    {
     "ename": "TypeError",
     "evalue": "Orders.__init__() missing 1 required positional argument: 'sdk_config'",
     "output_type": "error",
     "traceback": [
      "\u001b[0;31m---------------------------------------------------------------------------\u001b[0m",
      "\u001b[0;31mTypeError\u001b[0m                                 Traceback (most recent call last)",
      "Cell \u001b[0;32mIn[5], line 1\u001b[0m\n\u001b[0;32m----> 1\u001b[0m \u001b[43mshippo\u001b[49m\u001b[38;5;241;43m.\u001b[39;49m\u001b[43mOrders\u001b[49m\u001b[43m(\u001b[49m\u001b[43m)\u001b[49m\n",
      "\u001b[0;31mTypeError\u001b[0m: Orders.__init__() missing 1 required positional argument: 'sdk_config'"
     ]
    }
   ],
   "source": [
    "shippo.Orders()"
   ]
  },
  {
   "cell_type": "code",
   "execution_count": 6,
   "id": "1f044c7f-df56-498b-834c-e1a07c53c8e2",
   "metadata": {},
   "outputs": [
    {
     "name": "stdout",
     "output_type": "stream",
     "text": [
      "Requirement already satisfied: rich in /Users/reuven/.pyenv/versions/3.12.2/lib/python3.12/site-packages (13.7.0)\n",
      "Requirement already satisfied: markdown-it-py>=2.2.0 in /Users/reuven/.pyenv/versions/3.12.2/lib/python3.12/site-packages (from rich) (3.0.0)\n",
      "Requirement already satisfied: pygments<3.0.0,>=2.13.0 in /Users/reuven/.pyenv/versions/3.12.2/lib/python3.12/site-packages (from rich) (2.18.0)\n",
      "Requirement already satisfied: mdurl~=0.1 in /Users/reuven/.pyenv/versions/3.12.2/lib/python3.12/site-packages (from markdown-it-py>=2.2.0->rich) (0.1.2)\n"
     ]
    }
   ],
   "source": [
    "!pip install rich"
   ]
  },
  {
   "cell_type": "code",
   "execution_count": 7,
   "id": "c76c69e7-37ab-461e-a60c-fab7751c5899",
   "metadata": {},
   "outputs": [],
   "source": [
    "import rich"
   ]
  },
  {
   "cell_type": "code",
   "execution_count": 8,
   "id": "015c8a15-d63f-4870-b95c-462b9abe2afa",
   "metadata": {},
   "outputs": [
    {
     "data": {
      "text/html": [
       "<pre style=\"white-space:pre;overflow-x:auto;line-height:normal;font-family:Menlo,'DejaVu Sans Mono',consolas,'Courier New',monospace\">Hello, world!\n",
       "</pre>\n"
      ],
      "text/plain": [
       "Hello, world!\n"
      ]
     },
     "metadata": {},
     "output_type": "display_data"
    }
   ],
   "source": [
    "rich.print('Hello, world!')"
   ]
  },
  {
   "cell_type": "code",
   "execution_count": 10,
   "id": "7803ce8c-649e-4bda-9c86-ef091983bb1a",
   "metadata": {},
   "outputs": [
    {
     "data": {
      "text/html": [
       "<pre style=\"white-space:pre;overflow-x:auto;line-height:normal;font-family:Menlo,'DejaVu Sans Mono',consolas,'Courier New',monospace\">Hello, <span style=\"color: #800000; text-decoration-color: #800000; font-style: italic\">world</span>!\n",
       "</pre>\n"
      ],
      "text/plain": [
       "Hello, \u001b[3;31mworld\u001b[0m!\n"
      ]
     },
     "metadata": {},
     "output_type": "display_data"
    }
   ],
   "source": [
    "rich.print('Hello, [red italic]world[/red italic]!')"
   ]
  },
  {
   "cell_type": "code",
   "execution_count": 13,
   "id": "039d9ac6-1e56-434c-9334-6a5561667594",
   "metadata": {},
   "outputs": [
    {
     "data": {
      "text/html": [
       "<pre style=\"white-space:pre;overflow-x:auto;line-height:normal;font-family:Menlo,'DejaVu Sans Mono',consolas,'Courier New',monospace\">Hello, <span style=\"color: #808000; text-decoration-color: #808000; background-color: #000000; font-style: italic\">world</span>!\n",
       "</pre>\n"
      ],
      "text/plain": [
       "Hello, \u001b[3;33;40mworld\u001b[0m!\n"
      ]
     },
     "metadata": {},
     "output_type": "display_data"
    }
   ],
   "source": [
    "rich.print('Hello, [yellow italic on black]world[/yellow italic on black]!')"
   ]
  },
  {
   "cell_type": "code",
   "execution_count": 14,
   "id": "57f6fe3f-8ede-48ea-a1cc-5ef2e0a20d22",
   "metadata": {},
   "outputs": [
    {
     "name": "stdout",
     "output_type": "stream",
     "text": [
      "\u001b[3m                                 Rich features                                  \u001b[0m\n",
      "\u001b[1;31m              \u001b[0m                                                                  \n",
      "\u001b[1;31m \u001b[0m\u001b[1;31m   Colors   \u001b[0m\u001b[1;31m \u001b[0m✓ \u001b[1;32m4-bit color\u001b[0m                 \u001b[38;2;86;0;0;48;2;51;0;0m▄\u001b[0m\u001b[38;2;86;14;0;48;2;51;8;0m▄\u001b[0m\u001b[38;2;86;29;0;48;2;51;17;0m▄\u001b[0m\u001b[38;2;86;44;0;48;2;51;26;0m▄\u001b[0m\u001b[38;2;86;59;0;48;2;51;34;0m▄\u001b[0m\u001b[38;2;86;74;0;48;2;51;43;0m▄\u001b[0m\u001b[38;2;84;86;0;48;2;49;51;0m▄\u001b[0m\u001b[38;2;69;86;0;48;2;40;51;0m▄\u001b[0m\u001b[38;2;54;86;0;48;2;32;51;0m▄\u001b[0m\u001b[38;2;39;86;0;48;2;23;51;0m▄\u001b[0m\u001b[38;2;24;86;0;48;2;14;51;0m▄\u001b[0m\u001b[38;2;9;86;0;48;2;5;51;0m▄\u001b[0m\u001b[38;2;0;86;4;48;2;0;51;2m▄\u001b[0m\u001b[38;2;0;86;19;48;2;0;51;11m▄\u001b[0m\u001b[38;2;0;86;34;48;2;0;51;20m▄\u001b[0m\u001b[38;2;0;86;49;48;2;0;51;29m▄\u001b[0m\u001b[38;2;0;86;64;48;2;0;51;37m▄\u001b[0m\u001b[38;2;0;86;79;48;2;0;51;46m▄\u001b[0m\u001b[38;2;0;79;86;48;2;0;46;51m▄\u001b[0m\u001b[38;2;0;64;86;48;2;0;37;51m▄\u001b[0m\u001b[38;2;0;49;86;48;2;0;29;51m▄\u001b[0m\u001b[38;2;0;34;86;48;2;0;20;51m▄\u001b[0m\u001b[38;2;0;19;86;48;2;0;11;51m▄\u001b[0m\u001b[38;2;0;4;86;48;2;0;2;51m▄\u001b[0m\u001b[38;2;9;0;86;48;2;5;0;51m▄\u001b[0m\u001b[38;2;24;0;86;48;2;14;0;51m▄\u001b[0m\u001b[38;2;39;0;86;48;2;23;0;51m▄\u001b[0m\u001b[38;2;54;0;86;48;2;32;0;51m▄\u001b[0m\u001b[38;2;69;0;86;48;2;40;0;51m▄\u001b[0m\u001b[38;2;84;0;86;48;2;49;0;51m▄\u001b[0m\u001b[38;2;86;0;74;48;2;51;0;43m▄\u001b[0m\u001b[38;2;86;0;59;48;2;51;0;34m▄\u001b[0m\u001b[38;2;86;0;44;48;2;51;0;26m▄\u001b[0m\u001b[38;2;86;0;29;48;2;51;0;17m▄\u001b[0m\u001b[38;2;86;0;14;48;2;51;0;8m▄\u001b[0m \n",
      "\u001b[1;31m              \u001b[0m✓ \u001b[1;34m8-bit color\u001b[0m                 \u001b[38;2;158;0;0;48;2;122;0;0m▄\u001b[0m\u001b[38;2;158;27;0;48;2;122;20;0m▄\u001b[0m\u001b[38;2;158;54;0;48;2;122;41;0m▄\u001b[0m\u001b[38;2;158;81;0;48;2;122;62;0m▄\u001b[0m\u001b[38;2;158;108;0;48;2;122;83;0m▄\u001b[0m\u001b[38;2;158;135;0;48;2;122;104;0m▄\u001b[0m\u001b[38;2;153;158;0;48;2;118;122;0m▄\u001b[0m\u001b[38;2;126;158;0;48;2;97;122;0m▄\u001b[0m\u001b[38;2;99;158;0;48;2;76;122;0m▄\u001b[0m\u001b[38;2;72;158;0;48;2;55;122;0m▄\u001b[0m\u001b[38;2;45;158;0;48;2;34;122;0m▄\u001b[0m\u001b[38;2;18;158;0;48;2;13;122;0m▄\u001b[0m\u001b[38;2;0;158;9;48;2;0;122;6m▄\u001b[0m\u001b[38;2;0;158;36;48;2;0;122;27m▄\u001b[0m\u001b[38;2;0;158;63;48;2;0;122;48m▄\u001b[0m\u001b[38;2;0;158;90;48;2;0;122;69m▄\u001b[0m\u001b[38;2;0;158;117;48;2;0;122;90m▄\u001b[0m\u001b[38;2;0;158;144;48;2;0;122;111m▄\u001b[0m\u001b[38;2;0;144;158;48;2;0;111;122m▄\u001b[0m\u001b[38;2;0;117;158;48;2;0;90;122m▄\u001b[0m\u001b[38;2;0;90;158;48;2;0;69;122m▄\u001b[0m\u001b[38;2;0;63;158;48;2;0;48;122m▄\u001b[0m\u001b[38;2;0;36;158;48;2;0;27;122m▄\u001b[0m\u001b[38;2;0;9;158;48;2;0;6;122m▄\u001b[0m\u001b[38;2;18;0;158;48;2;13;0;122m▄\u001b[0m\u001b[38;2;45;0;158;48;2;34;0;122m▄\u001b[0m\u001b[38;2;72;0;158;48;2;55;0;122m▄\u001b[0m\u001b[38;2;99;0;158;48;2;76;0;122m▄\u001b[0m\u001b[38;2;126;0;158;48;2;97;0;122m▄\u001b[0m\u001b[38;2;153;0;158;48;2;118;0;122m▄\u001b[0m\u001b[38;2;158;0;135;48;2;122;0;104m▄\u001b[0m\u001b[38;2;158;0;108;48;2;122;0;83m▄\u001b[0m\u001b[38;2;158;0;81;48;2;122;0;62m▄\u001b[0m\u001b[38;2;158;0;54;48;2;122;0;41m▄\u001b[0m\u001b[38;2;158;0;27;48;2;122;0;20m▄\u001b[0m \n",
      "\u001b[1;31m              \u001b[0m✓ \u001b[1;35mTruecolor (16.7 million)\u001b[0m    \u001b[38;2;229;0;0;48;2;193;0;0m▄\u001b[0m\u001b[38;2;229;39;0;48;2;193;33;0m▄\u001b[0m\u001b[38;2;229;78;0;48;2;193;66;0m▄\u001b[0m\u001b[38;2;229;118;0;48;2;193;99;0m▄\u001b[0m\u001b[38;2;229;157;0;48;2;193;132;0m▄\u001b[0m\u001b[38;2;229;196;0;48;2;193;166;0m▄\u001b[0m\u001b[38;2;222;229;0;48;2;188;193;0m▄\u001b[0m\u001b[38;2;183;229;0;48;2;155;193;0m▄\u001b[0m\u001b[38;2;144;229;0;48;2;121;193;0m▄\u001b[0m\u001b[38;2;104;229;0;48;2;88;193;0m▄\u001b[0m\u001b[38;2;65;229;0;48;2;55;193;0m▄\u001b[0m\u001b[38;2;26;229;0;48;2;22;193;0m▄\u001b[0m\u001b[38;2;0;229;13;48;2;0;193;11m▄\u001b[0m\u001b[38;2;0;229;52;48;2;0;193;44m▄\u001b[0m\u001b[38;2;0;229;91;48;2;0;193;77m▄\u001b[0m\u001b[38;2;0;229;131;48;2;0;193;110m▄\u001b[0m\u001b[38;2;0;229;170;48;2;0;193;143m▄\u001b[0m\u001b[38;2;0;229;209;48;2;0;193;177m▄\u001b[0m\u001b[38;2;0;209;229;48;2;0;177;193m▄\u001b[0m\u001b[38;2;0;170;229;48;2;0;143;193m▄\u001b[0m\u001b[38;2;0;131;229;48;2;0;110;193m▄\u001b[0m\u001b[38;2;0;91;229;48;2;0;77;193m▄\u001b[0m\u001b[38;2;0;52;229;48;2;0;44;193m▄\u001b[0m\u001b[38;2;0;13;229;48;2;0;11;193m▄\u001b[0m\u001b[38;2;26;0;229;48;2;22;0;193m▄\u001b[0m\u001b[38;2;65;0;229;48;2;55;0;193m▄\u001b[0m\u001b[38;2;104;0;229;48;2;88;0;193m▄\u001b[0m\u001b[38;2;144;0;229;48;2;121;0;193m▄\u001b[0m\u001b[38;2;183;0;229;48;2;155;0;193m▄\u001b[0m\u001b[38;2;222;0;229;48;2;188;0;193m▄\u001b[0m\u001b[38;2;229;0;196;48;2;193;0;166m▄\u001b[0m\u001b[38;2;229;0;157;48;2;193;0;132m▄\u001b[0m\u001b[38;2;229;0;118;48;2;193;0;99m▄\u001b[0m\u001b[38;2;229;0;78;48;2;193;0;66m▄\u001b[0m\u001b[38;2;229;0;39;48;2;193;0;33m▄\u001b[0m \n",
      "\u001b[1;31m              \u001b[0m✓ \u001b[1;33mDumb terminals\u001b[0m              \u001b[38;2;254;45;45;48;2;255;10;10m▄\u001b[0m\u001b[38;2;254;81;45;48;2;255;52;10m▄\u001b[0m\u001b[38;2;254;117;45;48;2;255;94;10m▄\u001b[0m\u001b[38;2;254;153;45;48;2;255;136;10m▄\u001b[0m\u001b[38;2;254;189;45;48;2;255;178;10m▄\u001b[0m\u001b[38;2;254;225;45;48;2;255;220;10m▄\u001b[0m\u001b[38;2;249;254;45;48;2;248;255;10m▄\u001b[0m\u001b[38;2;213;254;45;48;2;206;255;10m▄\u001b[0m\u001b[38;2;177;254;45;48;2;164;255;10m▄\u001b[0m\u001b[38;2;141;254;45;48;2;122;255;10m▄\u001b[0m\u001b[38;2;105;254;45;48;2;80;255;10m▄\u001b[0m\u001b[38;2;69;254;45;48;2;38;255;10m▄\u001b[0m\u001b[38;2;45;254;57;48;2;10;255;24m▄\u001b[0m\u001b[38;2;45;254;93;48;2;10;255;66m▄\u001b[0m\u001b[38;2;45;254;129;48;2;10;255;108m▄\u001b[0m\u001b[38;2;45;254;165;48;2;10;255;150m▄\u001b[0m\u001b[38;2;45;254;201;48;2;10;255;192m▄\u001b[0m\u001b[38;2;45;254;237;48;2;10;255;234m▄\u001b[0m\u001b[38;2;45;237;254;48;2;10;234;255m▄\u001b[0m\u001b[38;2;45;201;254;48;2;10;192;255m▄\u001b[0m\u001b[38;2;45;165;254;48;2;10;150;255m▄\u001b[0m\u001b[38;2;45;129;254;48;2;10;108;255m▄\u001b[0m\u001b[38;2;45;93;254;48;2;10;66;255m▄\u001b[0m\u001b[38;2;45;57;254;48;2;10;24;255m▄\u001b[0m\u001b[38;2;69;45;254;48;2;38;10;255m▄\u001b[0m\u001b[38;2;105;45;254;48;2;80;10;255m▄\u001b[0m\u001b[38;2;141;45;254;48;2;122;10;255m▄\u001b[0m\u001b[38;2;177;45;254;48;2;164;10;255m▄\u001b[0m\u001b[38;2;213;45;254;48;2;206;10;255m▄\u001b[0m\u001b[38;2;249;45;254;48;2;248;10;255m▄\u001b[0m\u001b[38;2;254;45;225;48;2;255;10;220m▄\u001b[0m\u001b[38;2;254;45;189;48;2;255;10;178m▄\u001b[0m\u001b[38;2;254;45;153;48;2;255;10;136m▄\u001b[0m\u001b[38;2;254;45;117;48;2;255;10;94m▄\u001b[0m\u001b[38;2;254;45;81;48;2;255;10;52m▄\u001b[0m \n",
      "\u001b[1;31m              \u001b[0m✓ \u001b[1;36mAutomatic color conversion\u001b[0m  \u001b[38;2;255;117;117;48;2;255;81;81m▄\u001b[0m\u001b[38;2;255;140;117;48;2;255;111;81m▄\u001b[0m\u001b[38;2;255;164;117;48;2;255;141;81m▄\u001b[0m\u001b[38;2;255;188;117;48;2;255;170;81m▄\u001b[0m\u001b[38;2;255;211;117;48;2;255;200;81m▄\u001b[0m\u001b[38;2;255;235;117;48;2;255;230;81m▄\u001b[0m\u001b[38;2;251;255;117;48;2;250;255;81m▄\u001b[0m\u001b[38;2;227;255;117;48;2;220;255;81m▄\u001b[0m\u001b[38;2;203;255;117;48;2;190;255;81m▄\u001b[0m\u001b[38;2;180;255;117;48;2;160;255;81m▄\u001b[0m\u001b[38;2;156;255;117;48;2;131;255;81m▄\u001b[0m\u001b[38;2;133;255;117;48;2;101;255;81m▄\u001b[0m\u001b[38;2;117;255;125;48;2;81;255;91m▄\u001b[0m\u001b[38;2;117;255;148;48;2;81;255;121m▄\u001b[0m\u001b[38;2;117;255;172;48;2;81;255;150m▄\u001b[0m\u001b[38;2;117;255;195;48;2;81;255;180m▄\u001b[0m\u001b[38;2;117;255;219;48;2;81;255;210m▄\u001b[0m\u001b[38;2;117;255;243;48;2;81;255;240m▄\u001b[0m\u001b[38;2;117;243;255;48;2;81;240;255m▄\u001b[0m\u001b[38;2;117;219;255;48;2;81;210;255m▄\u001b[0m\u001b[38;2;117;195;255;48;2;81;180;255m▄\u001b[0m\u001b[38;2;117;172;255;48;2;81;150;255m▄\u001b[0m\u001b[38;2;117;148;255;48;2;81;121;255m▄\u001b[0m\u001b[38;2;117;125;255;48;2;81;91;255m▄\u001b[0m\u001b[38;2;133;117;255;48;2;101;81;255m▄\u001b[0m\u001b[38;2;156;117;255;48;2;131;81;255m▄\u001b[0m\u001b[38;2;180;117;255;48;2;160;81;255m▄\u001b[0m\u001b[38;2;203;117;255;48;2;190;81;255m▄\u001b[0m\u001b[38;2;227;117;255;48;2;220;81;255m▄\u001b[0m\u001b[38;2;251;117;255;48;2;250;81;255m▄\u001b[0m\u001b[38;2;255;117;235;48;2;255;81;230m▄\u001b[0m\u001b[38;2;255;117;211;48;2;255;81;200m▄\u001b[0m\u001b[38;2;255;117;188;48;2;255;81;170m▄\u001b[0m\u001b[38;2;255;117;164;48;2;255;81;141m▄\u001b[0m\u001b[38;2;255;117;140;48;2;255;81;111m▄\u001b[0m \n",
      "\u001b[1;31m              \u001b[0m                                                                  \n",
      "\u001b[1;31m \u001b[0m\u001b[1;31m   Styles   \u001b[0m\u001b[1;31m \u001b[0mAll ansi styles: \u001b[1mbold\u001b[0m, \u001b[2mdim\u001b[0m, \u001b[3mitalic\u001b[0m, \u001b[4munderline\u001b[0m, \u001b[9mstrikethrough\u001b[0m,     \n",
      "\u001b[1;31m              \u001b[0m\u001b[7mreverse\u001b[0m, and even \u001b[5mblink\u001b[0m.                                          \n",
      "\u001b[1;31m              \u001b[0m                                                                  \n",
      "\u001b[1;31m \u001b[0m\u001b[1;31m    Text    \u001b[0m\u001b[1;31m \u001b[0mWord wrap text. Justify \u001b[32mleft\u001b[0m, \u001b[33mcenter\u001b[0m, \u001b[34mright\u001b[0m or \u001b[31mfull\u001b[0m.              \n",
      "\u001b[1;31m              \u001b[0m                                                                  \n",
      "\u001b[1;31m              \u001b[0m\u001b[32mLorem ipsum    \u001b[0m \u001b[33m  Lorem ipsum  \u001b[0m \u001b[34m     Lorem ipsum\u001b[0m \u001b[31mLorem\u001b[0m\u001b[31m      \u001b[0m\u001b[31mipsum\u001b[0m \n",
      "\u001b[1;31m              \u001b[0m\u001b[32mdolor sit amet,\u001b[0m \u001b[33mdolor sit amet,\u001b[0m \u001b[34m dolor sit amet,\u001b[0m \u001b[31mdolor\u001b[0m\u001b[31m \u001b[0m\u001b[31msit\u001b[0m\u001b[31m  \u001b[0m\u001b[31mamet,\u001b[0m \n",
      "\u001b[1;31m              \u001b[0m\u001b[32mconsectetur    \u001b[0m \u001b[33m  consectetur  \u001b[0m \u001b[34m     consectetur\u001b[0m \u001b[31mconsectetur\u001b[0m      \n",
      "\u001b[1;31m              \u001b[0m\u001b[32madipiscing     \u001b[0m \u001b[33m  adipiscing   \u001b[0m \u001b[34madipiscing elit.\u001b[0m \u001b[31madipiscing\u001b[0m\u001b[31m \u001b[0m\u001b[31melit.\u001b[0m \n",
      "\u001b[1;31m              \u001b[0m\u001b[32melit. Quisque  \u001b[0m \u001b[33m elit. Quisque \u001b[0m \u001b[34mQuisque in metus\u001b[0m \u001b[31mQuisque\u001b[0m\u001b[31m \u001b[0m\u001b[31min\u001b[0m\u001b[31m \u001b[0m\u001b[31mmetus\u001b[0m \n",
      "\u001b[1;31m              \u001b[0m\u001b[32min metus sed   \u001b[0m \u001b[33m in metus sed  \u001b[0m \u001b[34m      sed sapien\u001b[0m \u001b[31msed\u001b[0m\u001b[31m       \u001b[0m\u001b[31msapien\u001b[0m \n",
      "\u001b[1;31m              \u001b[0m\u001b[32msapien         \u001b[0m \u001b[33m    sapien     \u001b[0m \u001b[34m       ultricies\u001b[0m \u001b[31multricies\u001b[0m        \n",
      "\u001b[1;31m              \u001b[0m\u001b[32multricies      \u001b[0m \u001b[33m   ultricies   \u001b[0m \u001b[34m    pretium a at\u001b[0m \u001b[31mpretium\u001b[0m\u001b[31m   \u001b[0m\u001b[31ma\u001b[0m\u001b[31m   \u001b[0m\u001b[31mat\u001b[0m \n",
      "\u001b[1;31m              \u001b[0m\u001b[32mpretium a at   \u001b[0m \u001b[33m pretium a at  \u001b[0m \u001b[34m justo. Maecenas\u001b[0m \u001b[31mjusto.\u001b[0m\u001b[31m  \u001b[0m\u001b[31mMaecenas\u001b[0m \n",
      "\u001b[1;31m              \u001b[0m\u001b[32mjusto. Maecenas\u001b[0m \u001b[33mjusto. Maecenas\u001b[0m \u001b[34m luctus velit et\u001b[0m \u001b[31mluctus\u001b[0m\u001b[31m \u001b[0m\u001b[31mvelit\u001b[0m\u001b[31m  \u001b[0m\u001b[31met\u001b[0m \n",
      "\u001b[1;31m              \u001b[0m\u001b[32mluctus velit et\u001b[0m \u001b[33mluctus velit et\u001b[0m \u001b[34m auctor maximus.\u001b[0m \u001b[31mauctor maximus.\u001b[0m  \n",
      "\u001b[1;31m              \u001b[0m\u001b[32mauctor maximus.\u001b[0m \u001b[33mauctor maximus.\u001b[0m                                   \n",
      "\u001b[1;31m              \u001b[0m                                                                  \n",
      "\u001b[1;31m \u001b[0m\u001b[1;31m   Asian    \u001b[0m\u001b[1;31m \u001b[0m🇨🇳  该库支持中文，日文和韩文文本！                                \n",
      "\u001b[1;31m \u001b[0m\u001b[1;31m  language  \u001b[0m\u001b[1;31m \u001b[0m🇯🇵                                                                \n",
      "\u001b[1;31m \u001b[0m\u001b[1;31m  support   \u001b[0m\u001b[1;31m \u001b[0mライブラリは中国語、日本語、韓国語のテキストをサポートしています  \n",
      "\u001b[1;31m              \u001b[0m🇰🇷  이 라이브러리는 중국어, 일본어 및 한국어 텍스트를 지원합니다  \n",
      "\u001b[1;31m              \u001b[0m                                                                  \n",
      "\u001b[1;31m \u001b[0m\u001b[1;31m   Markup   \u001b[0m\u001b[1;31m \u001b[0m\u001b[1;35mRich\u001b[0m supports a simple \u001b[3mbbcode\u001b[0m-like \u001b[1mmarkup\u001b[0m for \u001b[33mcolor\u001b[0m, \u001b[4mstyle\u001b[0m, and   \n",
      "\u001b[1;31m              \u001b[0memoji! 👍 🍎 🐜 🐻 🥖 🚌                                          \n",
      "\u001b[1;31m              \u001b[0m                                                                  \n",
      "\u001b[1;31m \u001b[0m\u001b[1;31m   Tables   \u001b[0m\u001b[1;31m \u001b[0m\u001b[1m \u001b[0m\u001b[1;32mDate\u001b[0m\u001b[1m        \u001b[0m\u001b[1m \u001b[0m \u001b[1m \u001b[0m\u001b[1;34mTitle\u001b[0m\u001b[1m      \u001b[0m\u001b[1m \u001b[0m \u001b[1m \u001b[0m\u001b[1;36mProduction Budget\u001b[0m\u001b[1m \u001b[0m \u001b[1m \u001b[0m\u001b[1m    \u001b[0m\u001b[1;35mBox Office\u001b[0m\u001b[1m \u001b[0m \n",
      "\u001b[1;31m              \u001b[0m───────────────────────────────────────────────────────────────── \n",
      "\u001b[1;31m              \u001b[0m\u001b[32m \u001b[0m\u001b[32mDec 20, 2019\u001b[0m\u001b[32m \u001b[0m \u001b[34m \u001b[0m\u001b[34mStar Wars: \u001b[0m\u001b[34m \u001b[0m \u001b[36m \u001b[0m\u001b[36m     $275,000,000\u001b[0m\u001b[36m \u001b[0m \u001b[35m \u001b[0m\u001b[35m  $375,126,118\u001b[0m\u001b[35m \u001b[0m \n",
      "\u001b[1;31m              \u001b[0m\u001b[32m              \u001b[0m \u001b[34m \u001b[0m\u001b[34mThe Rise of\u001b[0m\u001b[34m \u001b[0m \u001b[36m                   \u001b[0m \u001b[35m                \u001b[0m \n",
      "\u001b[1;31m              \u001b[0m\u001b[32m              \u001b[0m \u001b[34m \u001b[0m\u001b[34mSkywalker  \u001b[0m\u001b[34m \u001b[0m \u001b[36m                   \u001b[0m \u001b[35m                \u001b[0m \n",
      "\u001b[1;31m              \u001b[0m\u001b[2;32m \u001b[0m\u001b[2;32mMay 25, 2018\u001b[0m\u001b[2;32m \u001b[0m \u001b[2;34m \u001b[0m\u001b[1;2;34mSolo\u001b[0m\u001b[2;34m: A    \u001b[0m\u001b[2;34m \u001b[0m \u001b[2;36m \u001b[0m\u001b[2;36m     $275,000,000\u001b[0m\u001b[2;36m \u001b[0m \u001b[2;35m \u001b[0m\u001b[2;35m  $393,151,347\u001b[0m\u001b[2;35m \u001b[0m \n",
      "\u001b[1;31m              \u001b[0m\u001b[2;32m              \u001b[0m \u001b[2;34m \u001b[0m\u001b[2;34mStar Wars  \u001b[0m\u001b[2;34m \u001b[0m \u001b[2;36m                   \u001b[0m \u001b[2;35m                \u001b[0m \n",
      "\u001b[1;31m              \u001b[0m\u001b[2;32m              \u001b[0m \u001b[2;34m \u001b[0m\u001b[2;34mStory      \u001b[0m\u001b[2;34m \u001b[0m \u001b[2;36m                   \u001b[0m \u001b[2;35m                \u001b[0m \n",
      "\u001b[1;31m              \u001b[0m\u001b[32m \u001b[0m\u001b[32mDec 15, 2017\u001b[0m\u001b[32m \u001b[0m \u001b[34m \u001b[0m\u001b[34mStar Wars  \u001b[0m\u001b[34m \u001b[0m \u001b[36m \u001b[0m\u001b[36m     $262,000,000\u001b[0m\u001b[36m \u001b[0m \u001b[35m \u001b[0m\u001b[1;35m$1,332,539,889\u001b[0m\u001b[35m \u001b[0m \n",
      "\u001b[1;31m              \u001b[0m\u001b[32m              \u001b[0m \u001b[34m \u001b[0m\u001b[34mEp. VIII:  \u001b[0m\u001b[34m \u001b[0m \u001b[36m                   \u001b[0m \u001b[35m                \u001b[0m \n",
      "\u001b[1;31m              \u001b[0m\u001b[32m              \u001b[0m \u001b[34m \u001b[0m\u001b[34mThe Last   \u001b[0m\u001b[34m \u001b[0m \u001b[36m                   \u001b[0m \u001b[35m                \u001b[0m \n",
      "\u001b[1;31m              \u001b[0m\u001b[32m              \u001b[0m \u001b[34m \u001b[0m\u001b[34mJedi       \u001b[0m\u001b[34m \u001b[0m \u001b[36m                   \u001b[0m \u001b[35m                \u001b[0m \n",
      "\u001b[1;31m              \u001b[0m\u001b[2;32m \u001b[0m\u001b[2;32mMay 19, 1999\u001b[0m\u001b[2;32m \u001b[0m \u001b[2;34m \u001b[0m\u001b[2;34mStar Wars  \u001b[0m\u001b[2;34m \u001b[0m \u001b[2;36m \u001b[0m\u001b[2;36m     $115,000,000\u001b[0m\u001b[2;36m \u001b[0m \u001b[2;35m \u001b[0m\u001b[2;35m$1,027,044,677\u001b[0m\u001b[2;35m \u001b[0m \n",
      "\u001b[1;31m              \u001b[0m\u001b[2;32m              \u001b[0m \u001b[2;34m \u001b[0m\u001b[2;34mEp. \u001b[0m\u001b[1;2;34mI\u001b[0m\u001b[2;34m: \u001b[0m\u001b[2;3;34mThe \u001b[0m\u001b[2;34m \u001b[0m \u001b[2;36m                   \u001b[0m \u001b[2;35m                \u001b[0m \n",
      "\u001b[1;31m              \u001b[0m\u001b[2;32m              \u001b[0m \u001b[2;34m \u001b[0m\u001b[2;3;34mphantom \u001b[0m\u001b[2;34m   \u001b[0m\u001b[2;34m \u001b[0m \u001b[2;36m                   \u001b[0m \u001b[2;35m                \u001b[0m \n",
      "\u001b[1;31m              \u001b[0m\u001b[2;32m              \u001b[0m \u001b[2;34m \u001b[0m\u001b[2;3;34mMenace\u001b[0m\u001b[2;34m     \u001b[0m\u001b[2;34m \u001b[0m \u001b[2;36m                   \u001b[0m \u001b[2;35m                \u001b[0m \n",
      "\u001b[1;31m              \u001b[0m                                                                  \n",
      "\u001b[1;31m \u001b[0m\u001b[1;31m   Syntax   \u001b[0m\u001b[1;31m \u001b[0m\u001b[1;38;2;227;227;221;48;2;39;40;34m  \u001b[0m\u001b[38;2;101;102;96;48;2;39;40;34m 1 \u001b[0m\u001b[38;2;102;217;239;48;2;39;40;34mdef\u001b[0m\u001b[38;2;248;248;242;48;2;39;40;34m \u001b[0m\u001b[38;2;166;226;46;48;2;39;40;34miter_last\u001b[0m\u001b[38;2;248;248;242;48;2;39;40;34m(\u001b[0m\u001b[38;2;248;248;242;48;2;39;40;34mvalues\u001b[0m\u001b[38;2;248;248;242;48;2;39;40;34m:\u001b[0m\u001b[38;2;248;248;242;48;2;39;40;34m \u001b[0m\u001b[38;2;248;248;242;48;2;39;40;34mItera\u001b[0m  \u001b[1m{\u001b[0m                               \n",
      "\u001b[1;31m \u001b[0m\u001b[1;31mhighlighting\u001b[0m\u001b[1;31m \u001b[0m\u001b[1;38;2;227;227;221;48;2;39;40;34m  \u001b[0m\u001b[38;2;101;102;96;48;2;39;40;34m 2 \u001b[0m\u001b[2;38;2;149;144;119;48;2;39;40;34m│   \u001b[0m\u001b[38;2;230;219;116;48;2;39;40;34m\"\"\"Iterate and generate\u001b[0m  \u001b[2;32m│   \u001b[0m\u001b[32m'foo'\u001b[0m: \u001b[1m[\u001b[0m                    \n",
      "\u001b[1;31m \u001b[0m\u001b[1;31m     &      \u001b[0m\u001b[1;31m \u001b[0m\u001b[1;38;2;227;227;221;48;2;39;40;34m  \u001b[0m\u001b[38;2;101;102;96;48;2;39;40;34m 3 \u001b[0m\u001b[2;38;2;149;144;119;48;2;39;40;34m│   \u001b[0m\u001b[38;2;248;248;242;48;2;39;40;34miter_values\u001b[0m\u001b[38;2;248;248;242;48;2;39;40;34m \u001b[0m\u001b[38;2;255;70;137;48;2;39;40;34m=\u001b[0m\u001b[38;2;248;248;242;48;2;39;40;34m \u001b[0m\u001b[38;2;248;248;242;48;2;39;40;34miter\u001b[0m\u001b[38;2;248;248;242;48;2;39;40;34m(\u001b[0m\u001b[38;2;248;248;242;48;2;39;40;34mvalu\u001b[0m  \u001b[2;32m│   │   \u001b[0m\u001b[1;36m3.1427\u001b[0m,                 \n",
      "\u001b[1;31m \u001b[0m\u001b[1;31m   pretty   \u001b[0m\u001b[1;31m \u001b[0m\u001b[1;38;2;227;227;221;48;2;39;40;34m  \u001b[0m\u001b[38;2;101;102;96;48;2;39;40;34m 4 \u001b[0m\u001b[2;38;2;149;144;119;48;2;39;40;34m│   \u001b[0m\u001b[38;2;102;217;239;48;2;39;40;34mtry\u001b[0m\u001b[38;2;248;248;242;48;2;39;40;34m:\u001b[0m\u001b[48;2;39;40;34m                   \u001b[0m  \u001b[2;32m│   │   \u001b[0m\u001b[1m(\u001b[0m                       \n",
      "\u001b[1;31m \u001b[0m\u001b[1;31m  printing  \u001b[0m\u001b[1;31m \u001b[0m\u001b[1;38;2;227;227;221;48;2;39;40;34m  \u001b[0m\u001b[38;2;101;102;96;48;2;39;40;34m 5 \u001b[0m\u001b[2;38;2;149;144;119;48;2;39;40;34m│   │   \u001b[0m\u001b[38;2;248;248;242;48;2;39;40;34mprevious_value\u001b[0m\u001b[38;2;248;248;242;48;2;39;40;34m \u001b[0m\u001b[38;2;255;70;137;48;2;39;40;34m=\u001b[0m\u001b[38;2;248;248;242;48;2;39;40;34m \u001b[0m\u001b[38;2;248;248;242;48;2;39;40;34mne\u001b[0m  \u001b[2;32m│   │   │   \u001b[0m\u001b[32m'Paul Atreides'\u001b[0m,    \n",
      "\u001b[1;31m              \u001b[0m\u001b[1;38;2;227;227;221;48;2;39;40;34m  \u001b[0m\u001b[38;2;101;102;96;48;2;39;40;34m 6 \u001b[0m\u001b[2;38;2;149;144;119;48;2;39;40;34m│   \u001b[0m\u001b[38;2;102;217;239;48;2;39;40;34mexcept\u001b[0m\u001b[38;2;248;248;242;48;2;39;40;34m \u001b[0m\u001b[38;2;166;226;46;48;2;39;40;34mStopIteration\u001b[0m\u001b[38;2;248;248;242;48;2;39;40;34m:\u001b[0m\u001b[48;2;39;40;34m  \u001b[0m  \u001b[2;32m│   │   │   \u001b[0m\u001b[32m'Vladimir \u001b[0m          \n",
      "\u001b[1;31m              \u001b[0m\u001b[1;38;2;227;227;221;48;2;39;40;34m  \u001b[0m\u001b[38;2;101;102;96;48;2;39;40;34m 7 \u001b[0m\u001b[2;38;2;149;144;119;48;2;39;40;34m│   │   \u001b[0m\u001b[38;2;102;217;239;48;2;39;40;34mreturn\u001b[0m\u001b[48;2;39;40;34m             \u001b[0m  \u001b[32mHarkonnen'\u001b[0m,                     \n",
      "\u001b[1;31m              \u001b[0m\u001b[1;38;2;227;227;221;48;2;39;40;34m  \u001b[0m\u001b[38;2;101;102;96;48;2;39;40;34m 8 \u001b[0m\u001b[2;38;2;149;144;119;48;2;39;40;34m│   \u001b[0m\u001b[38;2;102;217;239;48;2;39;40;34mfor\u001b[0m\u001b[38;2;248;248;242;48;2;39;40;34m \u001b[0m\u001b[38;2;248;248;242;48;2;39;40;34mvalue\u001b[0m\u001b[38;2;248;248;242;48;2;39;40;34m \u001b[0m\u001b[38;2;255;70;137;48;2;39;40;34min\u001b[0m\u001b[38;2;248;248;242;48;2;39;40;34m \u001b[0m\u001b[38;2;248;248;242;48;2;39;40;34miter_value\u001b[0m  \u001b[2;32m│   │   │   \u001b[0m\u001b[32m'Thufir Hawat'\u001b[0m      \n",
      "\u001b[1;31m              \u001b[0m\u001b[1;38;2;227;227;221;48;2;39;40;34m  \u001b[0m\u001b[38;2;101;102;96;48;2;39;40;34m 9 \u001b[0m\u001b[2;38;2;149;144;119;48;2;39;40;34m│   │   \u001b[0m\u001b[38;2;102;217;239;48;2;39;40;34myield\u001b[0m\u001b[38;2;248;248;242;48;2;39;40;34m \u001b[0m\u001b[38;2;102;217;239;48;2;39;40;34mFalse\u001b[0m\u001b[38;2;248;248;242;48;2;39;40;34m,\u001b[0m\u001b[38;2;248;248;242;48;2;39;40;34m \u001b[0m\u001b[38;2;248;248;242;48;2;39;40;34mprevio\u001b[0m  \u001b[2;32m│   │   \u001b[0m\u001b[1m)\u001b[0m                       \n",
      "\u001b[1;31m              \u001b[0m\u001b[1;38;2;227;227;221;48;2;39;40;34m  \u001b[0m\u001b[38;2;101;102;96;48;2;39;40;34m10 \u001b[0m\u001b[2;38;2;149;144;119;48;2;39;40;34m│   │   \u001b[0m\u001b[38;2;248;248;242;48;2;39;40;34mprevious_value\u001b[0m\u001b[38;2;248;248;242;48;2;39;40;34m \u001b[0m\u001b[38;2;255;70;137;48;2;39;40;34m=\u001b[0m\u001b[38;2;248;248;242;48;2;39;40;34m \u001b[0m\u001b[38;2;248;248;242;48;2;39;40;34mva\u001b[0m  \u001b[2;32m│   \u001b[0m\u001b[1m]\u001b[0m,                          \n",
      "\u001b[1;31m              \u001b[0m\u001b[1;38;2;227;227;221;48;2;39;40;34m  \u001b[0m\u001b[38;2;101;102;96;48;2;39;40;34m11 \u001b[0m\u001b[2;38;2;149;144;119;48;2;39;40;34m│   \u001b[0m\u001b[38;2;102;217;239;48;2;39;40;34myield\u001b[0m\u001b[38;2;248;248;242;48;2;39;40;34m \u001b[0m\u001b[38;2;102;217;239;48;2;39;40;34mTrue\u001b[0m\u001b[38;2;248;248;242;48;2;39;40;34m,\u001b[0m\u001b[38;2;248;248;242;48;2;39;40;34m \u001b[0m\u001b[38;2;248;248;242;48;2;39;40;34mprevious_va\u001b[0m  \u001b[2;32m│   \u001b[0m\u001b[32m'atomic'\u001b[0m: \u001b[1m(\u001b[0m                 \n",
      "\u001b[1;31m              \u001b[0m                                  \u001b[2;32m│   │   \u001b[0m\u001b[3;91mFalse\u001b[0m,                  \n",
      "\u001b[1;31m              \u001b[0m                                  \u001b[2;32m│   │   \u001b[0m\u001b[3;92mTrue\u001b[0m,                   \n",
      "\u001b[1;31m              \u001b[0m                                  \u001b[2;32m│   │   \u001b[0m\u001b[3;35mNone\u001b[0m                    \n",
      "\u001b[1;31m              \u001b[0m                                  \u001b[2;32m│   \u001b[0m\u001b[1m)\u001b[0m                           \n",
      "\u001b[1;31m              \u001b[0m                                  \u001b[1m}\u001b[0m                               \n",
      "\u001b[1;31m              \u001b[0m                                                                  \n",
      "\u001b[1;31m \u001b[0m\u001b[1;31m  Markdown  \u001b[0m\u001b[1;31m \u001b[0m\u001b[36m# Markdown\u001b[0m                        ┏━━━━━━━━━━━━━━━━━━━━━━━━━━━━━┓ \n",
      "\u001b[1;31m              \u001b[0m                                  ┃          \u001b[1mMarkdown\u001b[0m           ┃ \n",
      "\u001b[1;31m              \u001b[0m\u001b[36mSupports much of the *markdown* \u001b[0m  ┗━━━━━━━━━━━━━━━━━━━━━━━━━━━━━┛ \n",
      "\u001b[1;31m              \u001b[0m\u001b[36m__syntax__!\u001b[0m                                                       \n",
      "\u001b[1;31m              \u001b[0m                                  Supports much of the \u001b[3mmarkdown\u001b[0m   \n",
      "\u001b[1;31m              \u001b[0m\u001b[36m- Headers\u001b[0m                         \u001b[1msyntax\u001b[0m!                         \n",
      "\u001b[1;31m              \u001b[0m\u001b[36m- Basic formatting: **bold**, \u001b[0m                                    \n",
      "\u001b[1;31m              \u001b[0m\u001b[36m*italic*, `code`\u001b[0m                  \u001b[1;33m • \u001b[0mHeaders                      \n",
      "\u001b[1;31m              \u001b[0m\u001b[36m- Block quotes\u001b[0m                    \u001b[1;33m • \u001b[0mBasic formatting: \u001b[1mbold\u001b[0m,      \n",
      "\u001b[1;31m              \u001b[0m\u001b[36m- Lists, and more...\u001b[0m              \u001b[1;33m   \u001b[0m\u001b[3mitalic\u001b[0m, \u001b[1;36;40mcode\u001b[0m                 \n",
      "\u001b[1;31m              \u001b[0m\u001b[36m    \u001b[0m                              \u001b[1;33m • \u001b[0mBlock quotes                 \n",
      "\u001b[1;31m              \u001b[0m                                  \u001b[1;33m • \u001b[0mLists, and more...           \n",
      "\u001b[1;31m              \u001b[0m                                                                  \n",
      "\u001b[1;31m \u001b[0m\u001b[1;31m   +more!   \u001b[0m\u001b[1;31m \u001b[0mProgress bars, columns, styled logging handler, tracebacks,       \n",
      "\u001b[1;31m              \u001b[0metc...                                                            \n",
      "\u001b[1;31m              \u001b[0m                                                                  \n",
      "rendered in 86.7ms (cold cache)\n",
      "rendered in 40.5ms (warm cache)\n",
      "\u001b[94m╭─\u001b[0m\u001b[94m───────────────────────\u001b[0m\u001b[94m \u001b[0m\u001b[1;31mThanks for trying out Rich!\u001b[0m\u001b[94m \u001b[0m\u001b[94m────────────────────────\u001b[0m\u001b[94m─╮\u001b[0m\n",
      "\u001b[94m│\u001b[0m                                                                              \u001b[94m│\u001b[0m\n",
      "\u001b[94m│\u001b[0m  We hope you enjoy using Rich!   \u001b[32mTextualize\u001b[0m\u001b[32m \u001b[0m\u001b]8;id=908146;https://github.com/textualize\u001b\\\u001b[4;34mhttps://github.com/textualize\u001b[0m\u001b]8;;\u001b\\    \u001b[94m│\u001b[0m\n",
      "\u001b[94m│\u001b[0m                                  \u001b[32m           \u001b[0m                                 \u001b[94m│\u001b[0m\n",
      "\u001b[94m│\u001b[0m  Rich is maintained with \u001b[31m❤\u001b[0m by    \u001b[32m   Twitter\u001b[0m\u001b[32m \u001b[0m\u001b]8;id=135292;https://twitter.com/willmcgugan\u001b\\\u001b[4;34mhttps://twitter.com/willmcgugan\u001b[0m\u001b]8;;\u001b\\  \u001b[94m│\u001b[0m\n",
      "\u001b[94m│\u001b[0m  \u001b]8;id=599388;https://www.textualize.io\u001b\\Textualize.io\u001b]8;;\u001b\\                                                               \u001b[94m│\u001b[0m\n",
      "\u001b[94m│\u001b[0m                                                                              \u001b[94m│\u001b[0m\n",
      "\u001b[94m│\u001b[0m  - Will McGugan                                                              \u001b[94m│\u001b[0m\n",
      "\u001b[94m│\u001b[0m                                                                              \u001b[94m│\u001b[0m\n",
      "\u001b[94m╰──────────────────────────────────────────────────────────────────────────────╯\u001b[0m\n"
     ]
    }
   ],
   "source": [
    "!python -m rich"
   ]
  },
  {
   "cell_type": "markdown",
   "id": "831789cc-bbf8-4379-9363-147b710d0474",
   "metadata": {},
   "source": [
    "# Exercise: Richify vowels\n",
    "\n",
    "1. Install `rich` with `pip install rich`. Remember that this is *not* a Python function or command! You need to do this in your terminal or by prefacing the command with `!` in Jupyter.\n",
    "2. Ask the user to enter a string.\n",
    "3. Go through the string, and replace each vowel with (something like) `[yellow italic]VOWEL[/yellow italic]`, where before and after the vowel you put these rich-style formatting commands.\n",
    "4. Use `rich.print` to print your formatted text.\n",
    "\n",
    "Remember: You cannot modify a string! But you can, slowly but surely, build up a string with `+=` or (even better) a list, and `str.join`."
   ]
  },
  {
   "cell_type": "code",
   "execution_count": 19,
   "id": "c83da948-a7ef-4e74-ace1-4bef513c7d92",
   "metadata": {},
   "outputs": [
    {
     "name": "stdin",
     "output_type": "stream",
     "text": [
      "Enter text:  this is a fantastic example of using rich\n"
     ]
    },
    {
     "data": {
      "text/html": [
       "<pre style=\"white-space:pre;overflow-x:auto;line-height:normal;font-family:Menlo,'DejaVu Sans Mono',consolas,'Courier New',monospace\">th<span style=\"color: #808000; text-decoration-color: #808000; background-color: #000000; font-style: italic\">i</span>s <span style=\"color: #808000; text-decoration-color: #808000; background-color: #000000; font-style: italic\">i</span>s <span style=\"color: #808000; text-decoration-color: #808000; background-color: #000000; font-style: italic\">a</span> f<span style=\"color: #808000; text-decoration-color: #808000; background-color: #000000; font-style: italic\">a</span>nt<span style=\"color: #808000; text-decoration-color: #808000; background-color: #000000; font-style: italic\">a</span>st<span style=\"color: #808000; text-decoration-color: #808000; background-color: #000000; font-style: italic\">i</span>c <span style=\"color: #808000; text-decoration-color: #808000; background-color: #000000; font-style: italic\">e</span>x<span style=\"color: #808000; text-decoration-color: #808000; background-color: #000000; font-style: italic\">a</span>mpl<span style=\"color: #808000; text-decoration-color: #808000; background-color: #000000; font-style: italic\">e</span> <span style=\"color: #808000; text-decoration-color: #808000; background-color: #000000; font-style: italic\">o</span>f <span style=\"color: #808000; text-decoration-color: #808000; background-color: #000000; font-style: italic\">u</span>s<span style=\"color: #808000; text-decoration-color: #808000; background-color: #000000; font-style: italic\">i</span>ng r<span style=\"color: #808000; text-decoration-color: #808000; background-color: #000000; font-style: italic\">i</span>ch\n",
       "</pre>\n"
      ],
      "text/plain": [
       "th\u001b[3;33;40mi\u001b[0ms \u001b[3;33;40mi\u001b[0ms \u001b[3;33;40ma\u001b[0m f\u001b[3;33;40ma\u001b[0mnt\u001b[3;33;40ma\u001b[0mst\u001b[3;33;40mi\u001b[0mc \u001b[3;33;40me\u001b[0mx\u001b[3;33;40ma\u001b[0mmpl\u001b[3;33;40me\u001b[0m \u001b[3;33;40mo\u001b[0mf \u001b[3;33;40mu\u001b[0ms\u001b[3;33;40mi\u001b[0mng r\u001b[3;33;40mi\u001b[0mch\n"
      ]
     },
     "metadata": {},
     "output_type": "display_data"
    }
   ],
   "source": [
    "import rich\n",
    "\n",
    "s = input('Enter text: ').strip()   # get a string from the user\n",
    "\n",
    "# set up our output string (to be empty)\n",
    "output = ''\n",
    "\n",
    "\n",
    "# go through each character in the user's input, s\n",
    "for one_character in s:\n",
    "\n",
    "    # if we see a vowel, then put FORMAT_START + vowel + FORMAT_END on output\n",
    "    if one_character in 'aeiou':\n",
    "        output += f'[yellow italic on black]{one_character}[/yellow italic on black]'\n",
    "\n",
    "    # Not a vowel? Just add the character to output\n",
    "    else:\n",
    "        output += one_character\n",
    "\n",
    "# use rich.print to print, which handles the formatting\n",
    "rich.print(output)"
   ]
  },
  {
   "cell_type": "code",
   "execution_count": 18,
   "id": "ded93848-bb06-4140-9340-e40bf65b9f69",
   "metadata": {},
   "outputs": [
    {
     "data": {
      "text/plain": [
       "'h[yellow italic on black]e[/yellow italic on black]ll[yellow italic on black]o[/yellow italic on black]'"
      ]
     },
     "execution_count": 18,
     "metadata": {},
     "output_type": "execute_result"
    }
   ],
   "source": [
    "output"
   ]
  },
  {
   "cell_type": "code",
   "execution_count": 21,
   "id": "3070d420-e266-4e23-b915-a8d6ffaacbc8",
   "metadata": {},
   "outputs": [
    {
     "data": {
      "text/plain": [
       "datetime.datetime(2024, 5, 22, 15, 36, 16, 83623)"
      ]
     },
     "execution_count": 21,
     "metadata": {},
     "output_type": "execute_result"
    }
   ],
   "source": [
    "# dates and times\n",
    "\n",
    "# there is a datetime module in Python's standard library\n",
    "import datetime\n",
    "\n",
    "datetime.datetime.now()  # get a datetime object that describes the current date + time"
   ]
  },
  {
   "cell_type": "markdown",
   "id": "49e4e7fb-76d3-456e-a0e7-3606315fbaeb",
   "metadata": {},
   "source": [
    "# Where can we practice?\n",
    "\n",
    "1. I have a site, https://PracticeYourPython.com, all about resources for practicing.\n",
    "2. Find places/ways/opportunities to use Python!\n",
    "3. "
   ]
  },
  {
   "cell_type": "code",
   "execution_count": null,
   "id": "5283f776-ba6d-42ee-9f93-d92988e9cda0",
   "metadata": {},
   "outputs": [],
   "source": []
  }
 ],
 "metadata": {
  "kernelspec": {
   "display_name": "Python 3 (ipykernel)",
   "language": "python",
   "name": "python3"
  },
  "language_info": {
   "codemirror_mode": {
    "name": "ipython",
    "version": 3
   },
   "file_extension": ".py",
   "mimetype": "text/x-python",
   "name": "python",
   "nbconvert_exporter": "python",
   "pygments_lexer": "ipython3",
   "version": "3.12.2"
  },
  "widgets": {
   "application/vnd.jupyter.widget-state+json": {
    "state": {},
    "version_major": 2,
    "version_minor": 0
   }
  }
 },
 "nbformat": 4,
 "nbformat_minor": 5
}
