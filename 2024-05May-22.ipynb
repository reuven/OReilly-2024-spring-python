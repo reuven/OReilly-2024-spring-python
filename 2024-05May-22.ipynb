{
 "cells": [
  {
   "cell_type": "markdown",
   "id": "348ec59f-1ac8-4737-95a8-4f390c2b590a",
   "metadata": {},
   "source": [
    "# Agenda: Modules and packages\n",
    "\n",
    "0. Q&A\n",
    "1. Intro to modules\n",
    "2. What can be in a module?\n",
    "3. The different forms of `import`\n",
    "4. Writing a module\n",
    "5. Packages and PyPI (Python Package Index)\n",
    "6. Using `pip` to install packages\n",
    "7. What next?"
   ]
  },
  {
   "cell_type": "markdown",
   "id": "adce89c2-828e-4e90-8e39-8a5ba272e6ab",
   "metadata": {},
   "source": [
    "# Files and your OS\n",
    "\n",
    "In theory, Python is completely platform neutral. That is, you can `open` a file on Linux/MacOS/Unix/Windows, iterate over it, read it, write to it, etc., and you won't feel any difference.\n",
    "\n",
    "There is one big thing to keep in mind:\n",
    "\n",
    " When you open a file in Windows, you need to use a backslash (`\\`), which you need to double in Python (`'\\\\'`) in order to have a single one. Or you can use a raw string, with `r` before the opening quote, which doubles it automatically. In Unix, we use `/` to separate folders/directories, but in Windows, we use `\\`, which makes things a bit uglier/more complicated from Python.\n",
    "\n",
    "To practice, you'll want to either download/use some text files or create text files on your own. Feel free to download files from `https://files.lerner.co.il`; these are files that I use in my various courses, and if some of them are useful, then great.\n",
    "\n",
    "The problem with many files on Windows is that they're in a binary format, and so it's harder to read from them in Python. But maybe after today, when we see how to use packages, you'll be able to find one that makes it possible.\n"
   ]
  },
  {
   "cell_type": "markdown",
   "id": "2b0af516-0e5f-453a-ba0c-f444d50a8b2d",
   "metadata": {},
   "source": [
    "# Modules\n",
    "\n",
    "We've seen, numerous times, in this course, that it pays for us to use the DRY (\"don't repeat yourself\") rule:\n",
    "\n",
    "1. If the same line of code repeats itself, then we can DRY up our code with a `for` loop.\n",
    "2. If the same code repeats itself within a program, then we can DRY up our code with a function.\n",
    "\n",
    "There are so many advantages to doing this:\n",
    "- We can think at a higher level\n",
    "- We write the code just once\n",
    "- We can maintain/update/optimize/debug the code in a single place\n",
    "- It's easier to think about the code, because there's less of a cognitive load\n",
    "\n",
    "There is a third situation in which we might want to DRY up our code:\n",
    "\n",
    "3. If the same code repeats itself across multiple programs, then we can DRY up our code with a \"library.\"\n",
    "\n",
    "Libraries exist in many different programming languages. And the idea is that you write some functionality once, or you create a data structure once, and then you can use it across a wide variety of programs.\n",
    "\n",
    "In Python, we call our libraries \"modules.\" A module isn't just a library. It's also a *namespace*.\n",
    "\n",
    "By that, I mean that it allows us to divide our variable/function names into sub-segments. You can think of it as giving our variables last names (surnames), to avoid confusion -- or, as it's known in the trade, \"namespace collisions.\"\n",
    "\n",
    "Nearly every Python program uses a number of modules. Many times, these modules come from Python's \"standard library,\" the modules that are installed along with the language. There are other, third-party modules that you can download and install -- and we'll talk about those, too.\n",
    "\n",
    "This means that we can concentrate on the functionality that we want to create, rather than reinvent the wheel with each of our new programs. The fact that what is defined in a module stays in the module means that we can use multiple modules, and not worry about what names each of them is using, because the names will stay inside of those namespaces."
   ]
  },
  {
   "cell_type": "markdown",
   "id": "6a222883-dfd6-426e-a8d9-0db2a4945dfb",
   "metadata": {},
   "source": [
    "# How do we use a module?\n",
    "\n",
    "To use a module in Python, we use the `import` statement. It looks like this:\n",
    "\n",
    "```python\n",
    "import random\n",
    "```\n",
    "\n",
    "Notice some things about the `import` statement:\n",
    "1. It's not a function! We don't use `()` on the thing that comes to its right.\n",
    "2. The word to the right of `import` is not a string! It's not a filename! It's the name of the module variable we want to define, but it's also the name of the module's file (without the full `.py` suffix). We aren't telling Python what file to find or load (we are, but indirectly). Rather, we are indicating what variable we want to define.\n",
    "3. When we're done with the `import`, the variable is defined to contain a module.\n",
    "4. On that module object, we'll have attributes (i.e., names after a `.`) that contain values and functions."
   ]
  },
  {
   "cell_type": "code",
   "execution_count": 2,
   "id": "70bf300e-78f4-4247-8983-e6718c40dc90",
   "metadata": {},
   "outputs": [],
   "source": [
    "import random"
   ]
  },
  {
   "cell_type": "code",
   "execution_count": 3,
   "id": "0e64b82b-d21e-4feb-9fb8-1f29978ae051",
   "metadata": {},
   "outputs": [
    {
     "data": {
      "text/plain": [
       "module"
      ]
     },
     "execution_count": 3,
     "metadata": {},
     "output_type": "execute_result"
    }
   ],
   "source": [
    "# we now have the \"random\" module loaded into memory\n",
    "# we can access it via the \"random\" variable, which contains a module object\n",
    "\n",
    "type(random)"
   ]
  },
  {
   "cell_type": "code",
   "execution_count": 4,
   "id": "7939a852-c4ee-446a-836d-feda47899eae",
   "metadata": {},
   "outputs": [
    {
     "data": {
      "text/plain": [
       "<module 'random' from '/Users/reuven/.pyenv/versions/3.12.2/lib/python3.12/random.py'>"
      ]
     },
     "execution_count": 4,
     "metadata": {},
     "output_type": "execute_result"
    }
   ],
   "source": [
    "# tell me about yourself, random\n",
    "\n",
    "random"
   ]
  },
  {
   "cell_type": "code",
   "execution_count": 6,
   "id": "d1349816-b20c-4bc6-9607-546a54184af4",
   "metadata": {},
   "outputs": [
    {
     "data": {
      "text/plain": [
       "10"
      ]
     },
     "execution_count": 6,
     "metadata": {},
     "output_type": "execute_result"
    }
   ],
   "source": [
    "# once I have loaded the module, I have access to all of its attributes -- names defined\n",
    "# on the module object that contain either data or functions.\n",
    "\n",
    "# here, I'm going to call the \"randint\" function that is defiend in the \"random\" module\n",
    "# the function takes two arguments, the low number and the high number.\n",
    "random.randint(0, 100)"
   ]
  },
  {
   "cell_type": "markdown",
   "id": "97ceb2b5-50d8-48b2-b619-00d1c42dd87c",
   "metadata": {},
   "source": [
    "# Exercise: Guessing game\n",
    "\n",
    "1. `import` the `random` module.\n",
    "2. Using the `random.randint` function, choose a number between 0 and 100.\n",
    "3. Repeatedly ask the user to guess the number.\n",
    "    - If the user enters a non-numeric value, scold them\n",
    "    - If the user enters a value that is the same as the randomly chosen one, congratulate them and exit.\n",
    "    - Otherwise, print either \"too low\" or \"too high\" to indicate what they should do\n",
    "4. Exit the loop, and indicate how many guesses it took.\n",
    "\n",
    "Example:\n",
    "\n",
    "    Guess: 50\n",
    "    50 is too low; try again\n",
    "    Guess: 75\n",
    "    75 is too high; try again\n",
    "    Guess: 72\n",
    "    You got it in 3 guesses"
   ]
  },
  {
   "cell_type": "code",
   "execution_count": 10,
   "id": "4ae3c71f-e8b4-4e9b-8c8b-e0d944a01dad",
   "metadata": {},
   "outputs": [
    {
     "name": "stdin",
     "output_type": "stream",
     "text": [
      "Guess:  50\n"
     ]
    },
    {
     "name": "stdout",
     "output_type": "stream",
     "text": [
      "Too high; try again\n"
     ]
    },
    {
     "name": "stdin",
     "output_type": "stream",
     "text": [
      "Guess:  25\n"
     ]
    },
    {
     "name": "stdout",
     "output_type": "stream",
     "text": [
      "Too low; try again\n"
     ]
    },
    {
     "name": "stdin",
     "output_type": "stream",
     "text": [
      "Guess:  30\n"
     ]
    },
    {
     "name": "stdout",
     "output_type": "stream",
     "text": [
      "Too low; try again\n"
     ]
    },
    {
     "name": "stdin",
     "output_type": "stream",
     "text": [
      "Guess:  35\n"
     ]
    },
    {
     "name": "stdout",
     "output_type": "stream",
     "text": [
      "Too low; try again\n"
     ]
    },
    {
     "name": "stdin",
     "output_type": "stream",
     "text": [
      "Guess:  37\n"
     ]
    },
    {
     "name": "stdout",
     "output_type": "stream",
     "text": [
      "Too low; try again\n"
     ]
    },
    {
     "name": "stdin",
     "output_type": "stream",
     "text": [
      "Guess:  41\n"
     ]
    },
    {
     "name": "stdout",
     "output_type": "stream",
     "text": [
      "Too high; try again\n"
     ]
    },
    {
     "name": "stdin",
     "output_type": "stream",
     "text": [
      "Guess:  40\n"
     ]
    },
    {
     "name": "stdout",
     "output_type": "stream",
     "text": [
      "You got it in 7 guesses!\n"
     ]
    }
   ],
   "source": [
    "import random\n",
    "\n",
    "number = random.randint(0, 100)\n",
    "guesses = 0\n",
    "\n",
    "while True:\n",
    "    s = input('Guess: ').strip()\n",
    "\n",
    "    if not s.isdigit():\n",
    "        print(f'\\t{s} is not numeric; try again')\n",
    "        continue\n",
    "\n",
    "    guess = int(s)\n",
    "    guesses += 1\n",
    "    \n",
    "    if guess == number:\n",
    "        print(f'You got it in {guesses} guesses!')\n",
    "        break\n",
    "    elif guess < number:\n",
    "        print(f'Too low; try again')\n",
    "    else:\n",
    "        print(f'Too high; try again')\n",
    "    "
   ]
  },
  {
   "cell_type": "code",
   "execution_count": 11,
   "id": "35239bab-1a62-40b0-8a62-e1fc7d34ac35",
   "metadata": {},
   "outputs": [
    {
     "name": "stdout",
     "output_type": "stream",
     "text": [
      "83\n"
     ]
    }
   ],
   "source": [
    "# SK\n",
    "import random\n",
    "rand_num = random.randint(0,100)\n",
    "print(rand_num)"
   ]
  },
  {
   "cell_type": "markdown",
   "id": "c4efbb82-95aa-4972-830d-3bda45d3a3e1",
   "metadata": {},
   "source": [
    "# When you `import`...\n",
    "\n",
    "I said before that we don't give a filename to `import`. Rather, we just tell it what module we want to load/define, and it does that.\n",
    "\n",
    "But how does Python translate from our module name to a filename? It goes through a bunch of directories, one at a time (in a `for` loop), looking for the module.\n",
    "\n",
    "If I say `import random`, Python will look for a file called `random.py` in each of the directories where modules might be. At the end of the day, a module is just a simple Python file with definitions in it. When (if?) Python finds a matching file, it stops looking further.\n",
    "\n",
    "If you say `import random`, and your file (program) is called `random.py`, then Python will find it right away, and import your current file as a module! That's because the current directory is always the first place that we look for a module.\n",
    "\n",
    "If your file is called `random.py`, and in that file you say `import random`, then you will not have access to the actual `random` module that comes with Python!\n",
    "\n",
    "The solution is: Rename your file and remove any trace of `random.py` from your current directory, or from the `__pycache__` directory that Python creates."
   ]
  },
  {
   "cell_type": "code",
   "execution_count": null,
   "id": "bc569f0b-60a9-4d98-90c6-b2feb513288d",
   "metadata": {},
   "outputs": [],
   "source": [
    "# PP\n",
    "\n",
    "import random\n",
    "total = 0\n",
    "\n",
    "while True:\n",
    "    s=input('guess the no').strip()\n",
    "    num = int (s)\n",
    "    if num == random.randint(0, 100):\n",
    "        print (\"congrats\")\n",
    "        total+=num\n",
    "        continue\n",
    "    elif num < random.randint(0, 100):\n",
    "        print(\"low\")\n",
    "    else:    \n",
    "        print(\"high\")\n",
    "        \n",
    "print(f' no of guess= {total} ') "
   ]
  },
  {
   "cell_type": "markdown",
   "id": "01ada0dc-fe2e-4c48-b2c6-bcfda5fe8d4f",
   "metadata": {},
   "source": [
    "# Where does `import` look?\n",
    "\n",
    "Inside of Python, the variable `sys.path` is a list of strings that tells Python where to look when we `import`. Python looks at that, and iterates over the list, one at a time. If it finds a match, it stops searching.\n",
    "\n"
   ]
  },
  {
   "cell_type": "code",
   "execution_count": 13,
   "id": "34ae9583-29c6-4b19-bb3a-aef0f04eef75",
   "metadata": {},
   "outputs": [
    {
     "data": {
      "text/plain": [
       "['/Users/reuven/.pyenv/versions/3.12.2/lib/python312.zip',\n",
       " '/Users/reuven/.pyenv/versions/3.12.2/lib/python3.12',\n",
       " '/Users/reuven/.pyenv/versions/3.12.2/lib/python3.12/lib-dynload',\n",
       " '',\n",
       " '/Users/reuven/.pyenv/versions/3.12.2/lib/python3.12/site-packages']"
      ]
     },
     "execution_count": 13,
     "metadata": {},
     "output_type": "execute_result"
    }
   ],
   "source": [
    "import sys\n",
    "\n",
    "sys.path"
   ]
  },
  {
   "cell_type": "code",
   "execution_count": null,
   "id": "f19f0391-d6c6-4f10-ab11-4491e62aff46",
   "metadata": {},
   "outputs": [],
   "source": [
    "# RG\n",
    "\n",
    "import random\n",
    "number = random.randint(0,100)\n",
    "while True:\n",
    "    guess = input(\"Guess the Number! Its between 0 and 100.  \").strip()\n",
    "    if guess.isdigit():\n",
    "        guess_converted = int(guess)\n",
    "        if guess_converted == number:\n",
    "            print(\"Great Job! You guessed accurately!\")\n",
    "            break\n",
    "        elif guess_converted > number:\n",
    "            print(\"That's too high! Try again.\")\n",
    "        else:\n",
    "            print(\"That's way too low, give it another go!\")\n",
    "    else:\n",
    "        print(\"Hey!, That's not a number!\")"
   ]
  },
  {
   "cell_type": "code",
   "execution_count": 14,
   "id": "bad19fb6-2d9b-4af2-a08b-7a59146a0e13",
   "metadata": {},
   "outputs": [
    {
     "name": "stdout",
     "output_type": "stream",
     "text": [
      "165 is greater than 100!\n"
     ]
    }
   ],
   "source": [
    "number = random.randint(0, 200)\n",
    "\n",
    "if number < 0:\n",
    "    print(f'{number} is less than 0!')\n",
    "elif number > 100:\n",
    "    print(f'{number} is greater than 100!')\n",
    "else:\n",
    "    print(f'{number} is just perfect')"
   ]
  },
  {
   "cell_type": "code",
   "execution_count": 15,
   "id": "678a266d-a39b-45f6-a268-d02f4d767858",
   "metadata": {},
   "outputs": [
    {
     "data": {
      "text/plain": [
       "<module 'random' from '/Users/reuven/.pyenv/versions/3.12.2/lib/python3.12/random.py'>"
      ]
     },
     "execution_count": 15,
     "metadata": {},
     "output_type": "execute_result"
    }
   ],
   "source": [
    "random"
   ]
  },
  {
   "cell_type": "code",
   "execution_count": 17,
   "id": "2949a111-f14e-4d0e-96d1-1a49855c5fe6",
   "metadata": {},
   "outputs": [
    {
     "data": {
      "text/plain": [
       "['/Users/reuven/.pyenv/versions/3.12.2/lib/python312.zip',\n",
       " '/Users/reuven/.pyenv/versions/3.12.2/lib/python3.12',\n",
       " '/Users/reuven/.pyenv/versions/3.12.2/lib/python3.12/lib-dynload',\n",
       " '',\n",
       " '/Users/reuven/.pyenv/versions/3.12.2/lib/python3.12/site-packages']"
      ]
     },
     "execution_count": 17,
     "metadata": {},
     "output_type": "execute_result"
    }
   ],
   "source": [
    "sys.path"
   ]
  },
  {
   "cell_type": "markdown",
   "id": "ef020b7d-6797-46c0-862e-e63d06f1f1f7",
   "metadata": {},
   "source": [
    "# Next up\n",
    "\n",
    "- Variations on `import`\n",
    "- Python standard library"
   ]
  },
  {
   "cell_type": "markdown",
   "id": "cf8039b0-1be0-4aea-9c2d-27b4e32e7807",
   "metadata": {},
   "source": [
    "# Loading modules\n",
    "\n",
    "So far, we've used `import` to load a module and make use of the definitions it contains. But the namespacing of the variables and functions in a module can be annoying -- if we want to run the `randint` function in `random`, we *must* specify this. We cannot just say `randint`.\n"
   ]
  },
  {
   "cell_type": "code",
   "execution_count": 18,
   "id": "94ea144e-c259-41af-a1e2-2ccbf58a0878",
   "metadata": {},
   "outputs": [
    {
     "data": {
      "text/plain": [
       "21"
      ]
     },
     "execution_count": 18,
     "metadata": {},
     "output_type": "execute_result"
    }
   ],
   "source": [
    "random.randint(0, 100)"
   ]
  },
  {
   "cell_type": "code",
   "execution_count": 19,
   "id": "e52fcbff-386d-4733-93eb-826b397053e0",
   "metadata": {},
   "outputs": [
    {
     "ename": "NameError",
     "evalue": "name 'randint' is not defined",
     "output_type": "error",
     "traceback": [
      "\u001b[0;31m---------------------------------------------------------------------------\u001b[0m",
      "\u001b[0;31mNameError\u001b[0m                                 Traceback (most recent call last)",
      "Cell \u001b[0;32mIn[19], line 1\u001b[0m\n\u001b[0;32m----> 1\u001b[0m \u001b[43mrandint\u001b[49m(\u001b[38;5;241m0\u001b[39m, \u001b[38;5;241m100\u001b[39m)\n",
      "\u001b[0;31mNameError\u001b[0m: name 'randint' is not defined"
     ]
    }
   ],
   "source": [
    "randint(0, 100)"
   ]
  },
  {
   "cell_type": "markdown",
   "id": "7b1707e2-b430-440c-9145-497658c2b282",
   "metadata": {},
   "source": [
    "# Namespaces\n",
    "\n",
    "Until today, we've been using the \"global\" namespace, which means that all names are avaialble all of the time. (Actually, any variables we define inside of a function are local to that function, but that's the exception to this rule.) When we start to use modules, we now need to think about whether the variables and functions in the module are in our global namespace or inside of the module's namespace.\n",
    "\n",
    "Without any special treatment, all names inside of a module are exclusively available via the module's name.\n",
    "\n",
    "However, this gets annoying. What if I'l be calling `randint` many times in my program? What if I've got a very deep hierarchy of modules, and I have to call `a.b.c.d.e.f()`? I'd rather just call `f()`.\n",
    "\n",
    "The solution to this is the `from .. import` construct. "
   ]
  },
  {
   "cell_type": "code",
   "execution_count": 20,
   "id": "1782acef-2fc5-42ba-b1ba-0539d4d263b1",
   "metadata": {},
   "outputs": [],
   "source": [
    "from random import randint"
   ]
  },
  {
   "cell_type": "code",
   "execution_count": 21,
   "id": "5803f6fb-e25d-4bb4-83ef-0213d8618d12",
   "metadata": {},
   "outputs": [
    {
     "data": {
      "text/plain": [
       "24"
      ]
     },
     "execution_count": 21,
     "metadata": {},
     "output_type": "execute_result"
    }
   ],
   "source": [
    "randint(0, 100)"
   ]
  },
  {
   "cell_type": "markdown",
   "id": "3779148a-faf2-411b-8470-902278c14d1d",
   "metadata": {},
   "source": [
    "# What have I done?\n",
    "\n",
    "Normally, when we use `import`, Python does two things:\n",
    "\n",
    "1. It loads the module from disk into memory, and defines a module object.\n",
    "2. It assigns the module object to a variable.\n",
    "\n",
    "When we say `import random`, it first loads the module and then assigns to the variable `random`.\n",
    "\n",
    "But this has a pretty big flaw -- if I import the same module multiple times, that's a huge waste of resources. For that reason, Python only loads a module once, but it will assign teh variable every time you use `import`.\n",
    "\n",
    "When we use `from .. import`, Python does exactly the same thing as usual, in terms of loading (or not) the module. The only difference is that it doesn't define a variable for the module. Rather, it defines a variable for whatever you specify.\n",
    "\n",
    "In the case of `from random import randint`:\n",
    "- If `random` was already loaded into memory, then Python ignores the loading. Otherwise, it loads it as necessary.\n",
    "- It then assigns the global variable `randint` to refer to the module's `randint` function.\n",
    "- It does *not* assign the variable `random` to a module object. If that was done before, then great.\n",
    "\n",
    "Two things to remember about this:\n",
    "1. This means that the module, as a name, is not available. The module is loaded, but it's anonymous, and cannot be reached without `import random`.\n",
    "2. Using `from .. import` saves zero time and zero memory."
   ]
  },
  {
   "cell_type": "markdown",
   "id": "cd06eded-5981-4bc0-b70c-0c3b88a36f83",
   "metadata": {},
   "source": [
    "# Exercise: Odds and evens\n",
    "\n",
    "1. Define two empty lists, `odds` and `evens`.\n",
    "2. Ask the user to enter an integer, the number of random numbers to choose from 0-100.\n",
    "3. Use `from .. import` to get `randint` into your namespace. Call it the number of times that the user requested.\n",
    "4. For each of the random numbers that we create, find out if it's odd or even and append to the end of the appropriate list.\n",
    "5. Print both lists.\n",
    "\n",
    "Example:\n",
    "\n",
    "    How many numbers: 4\n",
    "    Odds: [37, 21]\n",
    "    Evens: [98, 6]"
   ]
  },
  {
   "cell_type": "code",
   "execution_count": null,
   "id": "9eddedf3-70a0-4ebb-915d-b7449baf5815",
   "metadata": {},
   "outputs": [],
   "source": []
  }
 ],
 "metadata": {
  "kernelspec": {
   "display_name": "Python 3 (ipykernel)",
   "language": "python",
   "name": "python3"
  },
  "language_info": {
   "codemirror_mode": {
    "name": "ipython",
    "version": 3
   },
   "file_extension": ".py",
   "mimetype": "text/x-python",
   "name": "python",
   "nbconvert_exporter": "python",
   "pygments_lexer": "ipython3",
   "version": "3.12.2"
  },
  "widgets": {
   "application/vnd.jupyter.widget-state+json": {
    "state": {},
    "version_major": 2,
    "version_minor": 0
   }
  }
 },
 "nbformat": 4,
 "nbformat_minor": 5
}
