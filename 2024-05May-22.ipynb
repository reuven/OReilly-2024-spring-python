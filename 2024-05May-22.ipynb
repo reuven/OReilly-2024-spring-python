{
 "cells": [
  {
   "cell_type": "markdown",
   "id": "348ec59f-1ac8-4737-95a8-4f390c2b590a",
   "metadata": {},
   "source": [
    "# Agenda: Modules and packages\n",
    "\n",
    "0. Q&A\n",
    "1. Intro to modules\n",
    "2. What can be in a module?\n",
    "3. The different forms of `import`\n",
    "4. Writing a module\n",
    "5. Packages and PyPI (Python Package Index)\n",
    "6. Using `pip` to install packages\n",
    "7. What next?"
   ]
  },
  {
   "cell_type": "markdown",
   "id": "adce89c2-828e-4e90-8e39-8a5ba272e6ab",
   "metadata": {},
   "source": [
    "# Files and your OS\n",
    "\n",
    "In theory, Python is completely platform neutral. That is, you can `open` a file on Linux/MacOS/Unix/Windows, iterate over it, read it, write to it, etc., and you won't feel any difference.\n",
    "\n",
    "There is one big thing to keep in mind:\n",
    "\n",
    " When you open a file in Windows, you need to use a backslash (`\\`), which you need to double in Python (`'\\\\'`) in order to have a single one. Or you can use a raw string, with `r` before the opening quote, which doubles it automatically. In Unix, we use `/` to separate folders/directories, but in Windows, we use `\\`, which makes things a bit uglier/more complicated from Python.\n",
    "\n",
    "\n"
   ]
  },
  {
   "cell_type": "code",
   "execution_count": null,
   "id": "8d37768a-3c4e-41ea-8328-cbb53e44b930",
   "metadata": {},
   "outputs": [],
   "source": []
  }
 ],
 "metadata": {
  "kernelspec": {
   "display_name": "Python 3 (ipykernel)",
   "language": "python",
   "name": "python3"
  },
  "language_info": {
   "codemirror_mode": {
    "name": "ipython",
    "version": 3
   },
   "file_extension": ".py",
   "mimetype": "text/x-python",
   "name": "python",
   "nbconvert_exporter": "python",
   "pygments_lexer": "ipython3",
   "version": "3.12.2"
  },
  "widgets": {
   "application/vnd.jupyter.widget-state+json": {
    "state": {},
    "version_major": 2,
    "version_minor": 0
   }
  }
 },
 "nbformat": 4,
 "nbformat_minor": 5
}
