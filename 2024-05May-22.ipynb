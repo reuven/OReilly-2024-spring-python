{
 "cells": [
  {
   "cell_type": "markdown",
   "id": "348ec59f-1ac8-4737-95a8-4f390c2b590a",
   "metadata": {},
   "source": [
    "# Agenda: Modules and packages\n",
    "\n",
    "0. Q&A\n",
    "1. Intro to modules\n",
    "2. What can be in a module?\n",
    "3. The different forms of `import`\n",
    "4. Writing a module\n",
    "5. Packages and PyPI (Python Package Index)\n",
    "6. Using `pip` to install packages\n",
    "7. What next?"
   ]
  },
  {
   "cell_type": "markdown",
   "id": "adce89c2-828e-4e90-8e39-8a5ba272e6ab",
   "metadata": {},
   "source": [
    "# Files and your OS\n",
    "\n",
    "In theory, Python is completely platform neutral. That is, you can `open` a file on Linux/MacOS/Unix/Windows, iterate over it, read it, write to it, etc., and you won't feel any difference.\n",
    "\n",
    "There is one big thing to keep in mind:\n",
    "\n",
    " When you open a file in Windows, you need to use a backslash (`\\`), which you need to double in Python (`'\\\\'`) in order to have a single one. Or you can use a raw string, with `r` before the opening quote, which doubles it automatically. In Unix, we use `/` to separate folders/directories, but in Windows, we use `\\`, which makes things a bit uglier/more complicated from Python.\n",
    "\n",
    "To practice, you'll want to either download/use some text files or create text files on your own. Feel free to download files from `https://files.lerner.co.il`; these are files that I use in my various courses, and if some of them are useful, then great.\n",
    "\n",
    "The problem with many files on Windows is that they're in a binary format, and so it's harder to read from them in Python. But maybe after today, when we see how to use packages, you'll be able to find one that makes it possible.\n"
   ]
  },
  {
   "cell_type": "markdown",
   "id": "2b0af516-0e5f-453a-ba0c-f444d50a8b2d",
   "metadata": {},
   "source": [
    "# Modules\n",
    "\n",
    "We've seen, numerous times, in this course, that it pays for us to use the DRY (\"don't repeat yourself\") rule:\n",
    "\n",
    "1. If the same line of code repeats itself, then we can DRY up our code with a `for` loop.\n",
    "2. If the same code repeats itself within a program, then we can DRY up our code with a function.\n",
    "\n",
    "There are so many advantages to doing this:\n",
    "- We can think at a higher level\n",
    "- We write the code just once\n",
    "- We can maintain/update/optimize/debug the code in a single place\n",
    "- It's easier to think about the code, because there's less of a cognitive load\n",
    "\n",
    "There is a third situation in which we might want to DRY up our code:\n",
    "\n",
    "3. If the same code repeats itself across multiple programs, then we can DRY up our code with a \"library.\"\n",
    "\n",
    "Libraries exist in many different programming languages. And the idea is that you write some functionality once, or you create a data structure once, and then you can use it across a wide variety of programs.\n",
    "\n",
    "In Python, we call our libraries \"modules.\" A module isn't just a library. It's also a *namespace*.\n",
    "\n",
    "By that, I mean that it allows us to divide our variable/function names into sub-segments. You can think of it as giving our variables last names (surnames), to avoid confusion -- or, as it's known in the trade, \"namespace collisions.\"\n",
    "\n",
    "Nearly every Python program uses a number of modules. Many times, these modules come from Python's \"standard library,\" the modules that are installed along with the language. There are other, third-party modules that you can download and install -- and we'll talk about those, too.\n",
    "\n",
    "This means that we can concentrate on the functionality that we want to create, rather than reinvent the wheel with each of our new programs. The fact that what is defined in a module stays in the module means that we can use multiple modules, and not worry about what names each of them is using, because the names will stay inside of those namespaces."
   ]
  },
  {
   "cell_type": "markdown",
   "id": "6a222883-dfd6-426e-a8d9-0db2a4945dfb",
   "metadata": {},
   "source": [
    "# How do we use a module?\n",
    "\n",
    "To use a module in Python, we use the `import` statement. It looks like this:\n",
    "\n",
    "```python\n",
    "import random\n",
    "```\n",
    "\n",
    "Notice some things about the `import` statement:\n",
    "1. It's not a function! We don't use `()` on the thing that comes to its right.\n",
    "2. The word to the right of `import` is not a string! It's not a filename! It's the name of the module variable we want to define, but it's also the name of the module's file (without the full `.py` suffix). We aren't telling Python what file to find or load (we are, but indirectly). Rather, we are indicating what variable we want to define.\n",
    "3. When we're done with the `import`, the variable is defined to contain a module.\n",
    "4. On that module object, we'll have attributes (i.e., names after a `.`) that contain values and functions."
   ]
  },
  {
   "cell_type": "code",
   "execution_count": 2,
   "id": "70bf300e-78f4-4247-8983-e6718c40dc90",
   "metadata": {},
   "outputs": [],
   "source": [
    "import random"
   ]
  },
  {
   "cell_type": "code",
   "execution_count": 3,
   "id": "0e64b82b-d21e-4feb-9fb8-1f29978ae051",
   "metadata": {},
   "outputs": [
    {
     "data": {
      "text/plain": [
       "module"
      ]
     },
     "execution_count": 3,
     "metadata": {},
     "output_type": "execute_result"
    }
   ],
   "source": [
    "# we now have the \"random\" module loaded into memory\n",
    "# we can access it via the \"random\" variable, which contains a module object\n",
    "\n",
    "type(random)"
   ]
  },
  {
   "cell_type": "code",
   "execution_count": 4,
   "id": "7939a852-c4ee-446a-836d-feda47899eae",
   "metadata": {},
   "outputs": [
    {
     "data": {
      "text/plain": [
       "<module 'random' from '/Users/reuven/.pyenv/versions/3.12.2/lib/python3.12/random.py'>"
      ]
     },
     "execution_count": 4,
     "metadata": {},
     "output_type": "execute_result"
    }
   ],
   "source": [
    "# tell me about yourself, random\n",
    "\n",
    "random"
   ]
  },
  {
   "cell_type": "code",
   "execution_count": 6,
   "id": "d1349816-b20c-4bc6-9607-546a54184af4",
   "metadata": {},
   "outputs": [
    {
     "data": {
      "text/plain": [
       "10"
      ]
     },
     "execution_count": 6,
     "metadata": {},
     "output_type": "execute_result"
    }
   ],
   "source": [
    "# once I have loaded the module, I have access to all of its attributes -- names defined\n",
    "# on the module object that contain either data or functions.\n",
    "\n",
    "# here, I'm going to call the \"randint\" function that is defiend in the \"random\" module\n",
    "# the function takes two arguments, the low number and the high number.\n",
    "random.randint(0, 100)"
   ]
  },
  {
   "cell_type": "markdown",
   "id": "97ceb2b5-50d8-48b2-b619-00d1c42dd87c",
   "metadata": {},
   "source": [
    "# Exercise: Guessing game\n",
    "\n",
    "1. `import` the `random` module.\n",
    "2. Using the `random.randint` function, choose a number between 0 and 100.\n",
    "3. Repeatedly ask the user to guess the number.\n",
    "    - If the user enters a non-numeric value, scold them\n",
    "    - If the user enters a value that is the same as the randomly chosen one, congratulate them and exit.\n",
    "    - Otherwise, print either \"too low\" or \"too high\" to indicate what they should do\n",
    "4. Exit the loop, and indicate how many guesses it took.\n",
    "\n",
    "Example:\n",
    "\n",
    "    Guess: 50\n",
    "    50 is too low; try again\n",
    "    Guess: 75\n",
    "    75 is too high; try again\n",
    "    Guess: 72\n",
    "    You got it in 3 guesses"
   ]
  },
  {
   "cell_type": "code",
   "execution_count": 10,
   "id": "4ae3c71f-e8b4-4e9b-8c8b-e0d944a01dad",
   "metadata": {},
   "outputs": [
    {
     "name": "stdin",
     "output_type": "stream",
     "text": [
      "Guess:  50\n"
     ]
    },
    {
     "name": "stdout",
     "output_type": "stream",
     "text": [
      "Too high; try again\n"
     ]
    },
    {
     "name": "stdin",
     "output_type": "stream",
     "text": [
      "Guess:  25\n"
     ]
    },
    {
     "name": "stdout",
     "output_type": "stream",
     "text": [
      "Too low; try again\n"
     ]
    },
    {
     "name": "stdin",
     "output_type": "stream",
     "text": [
      "Guess:  30\n"
     ]
    },
    {
     "name": "stdout",
     "output_type": "stream",
     "text": [
      "Too low; try again\n"
     ]
    },
    {
     "name": "stdin",
     "output_type": "stream",
     "text": [
      "Guess:  35\n"
     ]
    },
    {
     "name": "stdout",
     "output_type": "stream",
     "text": [
      "Too low; try again\n"
     ]
    },
    {
     "name": "stdin",
     "output_type": "stream",
     "text": [
      "Guess:  37\n"
     ]
    },
    {
     "name": "stdout",
     "output_type": "stream",
     "text": [
      "Too low; try again\n"
     ]
    },
    {
     "name": "stdin",
     "output_type": "stream",
     "text": [
      "Guess:  41\n"
     ]
    },
    {
     "name": "stdout",
     "output_type": "stream",
     "text": [
      "Too high; try again\n"
     ]
    },
    {
     "name": "stdin",
     "output_type": "stream",
     "text": [
      "Guess:  40\n"
     ]
    },
    {
     "name": "stdout",
     "output_type": "stream",
     "text": [
      "You got it in 7 guesses!\n"
     ]
    }
   ],
   "source": [
    "import random\n",
    "\n",
    "number = random.randint(0, 100)\n",
    "guesses = 0\n",
    "\n",
    "while True:\n",
    "    s = input('Guess: ').strip()\n",
    "\n",
    "    if not s.isdigit():\n",
    "        print(f'\\t{s} is not numeric; try again')\n",
    "        continue\n",
    "\n",
    "    guess = int(s)\n",
    "    guesses += 1\n",
    "    \n",
    "    if guess == number:\n",
    "        print(f'You got it in {guesses} guesses!')\n",
    "        break\n",
    "    elif guess < number:\n",
    "        print(f'Too low; try again')\n",
    "    else:\n",
    "        print(f'Too high; try again')\n",
    "    "
   ]
  },
  {
   "cell_type": "code",
   "execution_count": 11,
   "id": "35239bab-1a62-40b0-8a62-e1fc7d34ac35",
   "metadata": {},
   "outputs": [
    {
     "name": "stdout",
     "output_type": "stream",
     "text": [
      "83\n"
     ]
    }
   ],
   "source": [
    "# SK\n",
    "import random\n",
    "rand_num = random.randint(0,100)\n",
    "print(rand_num)"
   ]
  },
  {
   "cell_type": "markdown",
   "id": "c4efbb82-95aa-4972-830d-3bda45d3a3e1",
   "metadata": {},
   "source": [
    "# When you `import`...\n",
    "\n",
    "I said before that we don't give a filename to `import`. Rather, we just tell it what module we want to load/define, and it does that.\n",
    "\n",
    "But how does Python translate from our module name to a filename? It goes through a bunch of directories, one at a time (in a `for` loop), looking for the module.\n",
    "\n",
    "If I say `import random`, Python will look for a file called `random.py` in each of the directories where modules might be. At the end of the day, a module is just a simple Python file with definitions in it. When (if?) Python finds a matching file, it stops looking further.\n",
    "\n",
    "If you say `import random`, and your file (program) is called `random.py`, then Python will find it right away, and import your current file as a module! That's because the current directory is always the first place that we look for a module.\n",
    "\n",
    "If your file is called `random.py`, and in that file you say `import random`, then you will not have access to the actual `random` module that comes with Python!\n",
    "\n",
    "The solution is: Rename your file and remove any trace of `random.py` from your current directory, or from the `__pycache__` directory that Python creates."
   ]
  },
  {
   "cell_type": "code",
   "execution_count": null,
   "id": "bc569f0b-60a9-4d98-90c6-b2feb513288d",
   "metadata": {},
   "outputs": [],
   "source": [
    "# PP\n",
    "\n",
    "import random\n",
    "total = 0\n",
    "\n",
    "while True:\n",
    "    s=input('guess the no').strip()\n",
    "    num = int (s)\n",
    "    if num == random.randint(0, 100):\n",
    "        print (\"congrats\")\n",
    "        total+=num\n",
    "        continue\n",
    "    elif num < random.randint(0, 100):\n",
    "        print(\"low\")\n",
    "    else:    \n",
    "        print(\"high\")\n",
    "        \n",
    "print(f' no of guess= {total} ') "
   ]
  },
  {
   "cell_type": "code",
   "execution_count": null,
   "id": "5dd7d1da-c705-4887-8d96-781845500e37",
   "metadata": {},
   "outputs": [],
   "source": []
  }
 ],
 "metadata": {
  "kernelspec": {
   "display_name": "Python 3 (ipykernel)",
   "language": "python",
   "name": "python3"
  },
  "language_info": {
   "codemirror_mode": {
    "name": "ipython",
    "version": 3
   },
   "file_extension": ".py",
   "mimetype": "text/x-python",
   "name": "python",
   "nbconvert_exporter": "python",
   "pygments_lexer": "ipython3",
   "version": "3.12.2"
  },
  "widgets": {
   "application/vnd.jupyter.widget-state+json": {
    "state": {},
    "version_major": 2,
    "version_minor": 0
   }
  }
 },
 "nbformat": 4,
 "nbformat_minor": 5
}
