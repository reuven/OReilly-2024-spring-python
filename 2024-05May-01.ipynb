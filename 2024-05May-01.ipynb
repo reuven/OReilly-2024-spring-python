{
 "cells": [
  {
   "cell_type": "markdown",
   "id": "048649bb-6b09-4663-94f8-053b7ff620ab",
   "metadata": {},
   "source": [
    "# Agenda: Loops, lists, and tuples\n",
    "\n",
    "1. Q&A from last time\n",
    "2. Loops\n",
    "    - `for`\n",
    "    - looping a number of times with `range`\n",
    "    - indexes and where they are (and aren't)\n",
    "    - `while` loops\n",
    "    - Controlling our loops with `break` and `continue`\n",
    "3. Lists\n",
    "    - What is a list?\n",
    "    - How is it different from (and similar to) a string?\n",
    "    - List methods\n",
    "    - Lists are *mutable*\n",
    "4. Turning strings into lists, and vice versa\n",
    "    - `str.split`\n",
    "    - `str.join`\n",
    "5. Tuples\n",
    "    - What are they?\n",
    "    - Tuple unpacking"
   ]
  },
  {
   "cell_type": "code",
   "execution_count": 1,
   "id": "92b03437-0747-411e-917c-dd06196a06d8",
   "metadata": {},
   "outputs": [],
   "source": [
    "x = 10\n",
    "y = 20"
   ]
  },
  {
   "cell_type": "code",
   "execution_count": 2,
   "id": "241ffa0b-55ce-471d-a5b5-0553fac0758a",
   "metadata": {},
   "outputs": [
    {
     "data": {
      "text/plain": [
       "30"
      ]
     },
     "execution_count": 2,
     "metadata": {},
     "output_type": "execute_result"
    }
   ],
   "source": [
    "x + y"
   ]
  },
  {
   "cell_type": "code",
   "execution_count": 3,
   "id": "7d01402b-3592-4c36-8a6e-d056afaac511",
   "metadata": {},
   "outputs": [
    {
     "data": {
      "text/plain": [
       "-10"
      ]
     },
     "execution_count": 3,
     "metadata": {},
     "output_type": "execute_result"
    }
   ],
   "source": [
    "x - y"
   ]
  },
  {
   "cell_type": "code",
   "execution_count": 6,
   "id": "86f32765-71bb-4e91-8102-a46468166ad5",
   "metadata": {},
   "outputs": [
    {
     "data": {
      "text/plain": [
       "True"
      ]
     },
     "execution_count": 6,
     "metadata": {},
     "output_type": "execute_result"
    }
   ],
   "source": [
    "x != y   # the != operator asks the question: are the values of x and y different?"
   ]
  },
  {
   "cell_type": "code",
   "execution_count": 5,
   "id": "1f084251-9b1b-48cb-86b4-0598f5f1961b",
   "metadata": {},
   "outputs": [
    {
     "data": {
      "text/plain": [
       "False"
      ]
     },
     "execution_count": 5,
     "metadata": {},
     "output_type": "execute_result"
    }
   ],
   "source": [
    "x == y   # this asks the question: are the values of x and y the same?"
   ]
  },
  {
   "cell_type": "code",
   "execution_count": 7,
   "id": "cc021c01-0283-40e7-a878-69823cf802bf",
   "metadata": {},
   "outputs": [
    {
     "name": "stdout",
     "output_type": "stream",
     "text": [
      "10 and 20 are not the same!\n"
     ]
    }
   ],
   "source": [
    "if x != y:\n",
    "    print(f'{x} and {y} are not the same!')"
   ]
  },
  {
   "cell_type": "code",
   "execution_count": 8,
   "id": "62da14c5-ed67-4d9d-8572-1201983b7237",
   "metadata": {},
   "outputs": [
    {
     "data": {
      "text/plain": [
       "'12345678'"
      ]
     },
     "execution_count": 8,
     "metadata": {},
     "output_type": "execute_result"
    }
   ],
   "source": [
    "# Converting from strings to integers, and back\n",
    "\n",
    "x = '1234'\n",
    "y = '5678'\n",
    "\n",
    "x + y"
   ]
  },
  {
   "cell_type": "code",
   "execution_count": 10,
   "id": "abb12b9d-6a4d-4248-bd3a-3d74e751bc75",
   "metadata": {},
   "outputs": [
    {
     "data": {
      "text/plain": [
       "str"
      ]
     },
     "execution_count": 10,
     "metadata": {},
     "output_type": "execute_result"
    }
   ],
   "source": [
    "type(x)"
   ]
  },
  {
   "cell_type": "code",
   "execution_count": 11,
   "id": "d50b4bc2-f97e-42af-9a09-1e023914add7",
   "metadata": {},
   "outputs": [
    {
     "data": {
      "text/plain": [
       "str"
      ]
     },
     "execution_count": 11,
     "metadata": {},
     "output_type": "execute_result"
    }
   ],
   "source": [
    "type(y)"
   ]
  },
  {
   "cell_type": "code",
   "execution_count": 12,
   "id": "eb9312a3-e2e1-4ec6-8721-17894b53201b",
   "metadata": {},
   "outputs": [
    {
     "data": {
      "text/plain": [
       "6912"
      ]
     },
     "execution_count": 12,
     "metadata": {},
     "output_type": "execute_result"
    }
   ],
   "source": [
    "# if I want to get integers based on the strings in x and y, I can use int()\n",
    "\n",
    "int(x) + int(y)"
   ]
  },
  {
   "cell_type": "code",
   "execution_count": 13,
   "id": "09ed6b17-dc59-4905-8ca9-e9930d7ce043",
   "metadata": {},
   "outputs": [
    {
     "data": {
      "text/plain": [
       "'12345678'"
      ]
     },
     "execution_count": 13,
     "metadata": {},
     "output_type": "execute_result"
    }
   ],
   "source": [
    "# have we changed x or y? NO, we just got new integers based on them\n",
    "x + y"
   ]
  },
  {
   "cell_type": "code",
   "execution_count": 14,
   "id": "db08deee-d57a-46a0-881a-eed03246e95c",
   "metadata": {},
   "outputs": [
    {
     "data": {
      "text/plain": [
       "6912"
      ]
     },
     "execution_count": 14,
     "metadata": {},
     "output_type": "execute_result"
    }
   ],
   "source": [
    "# however, we can assign the new values (integers) to the variables\n",
    "\n",
    "x = int(x)\n",
    "y = int(y)\n",
    "\n",
    "x + y"
   ]
  },
  {
   "cell_type": "code",
   "execution_count": 15,
   "id": "174a40cb-8409-4179-81d8-c1a9c6e300d1",
   "metadata": {},
   "outputs": [
    {
     "data": {
      "text/plain": [
       "'12345678'"
      ]
     },
     "execution_count": 15,
     "metadata": {},
     "output_type": "execute_result"
    }
   ],
   "source": [
    "# what if I want to do the opposite? What if I have integers, and I want to treat them as strings?\n",
    "# because we want strings, we use the str() operator on them, which returns a new string based on the value\n",
    "\n",
    "str(x) + str(y)"
   ]
  },
  {
   "cell_type": "code",
   "execution_count": 16,
   "id": "82eb19c9-c83b-4acd-a23a-bb2a4d3a4aea",
   "metadata": {},
   "outputs": [
    {
     "data": {
      "text/plain": [
       "True"
      ]
     },
     "execution_count": 16,
     "metadata": {},
     "output_type": "execute_result"
    }
   ],
   "source": [
    "# We want to be sure that we can turn a string into an integer\n",
    "# one way to do this is with str.isdigit(), a method that returns True if the string\n",
    "# only contains digits 0-9\n",
    "\n",
    "x = str(x)\n",
    "y = str(y)\n",
    "\n",
    "x.isdigit()"
   ]
  },
  {
   "cell_type": "code",
   "execution_count": 17,
   "id": "d2fdf7da-58f5-4601-ac8f-95c85b7b1092",
   "metadata": {},
   "outputs": [
    {
     "data": {
      "text/plain": [
       "True"
      ]
     },
     "execution_count": 17,
     "metadata": {},
     "output_type": "execute_result"
    }
   ],
   "source": [
    "y.isdigit()"
   ]
  },
  {
   "cell_type": "code",
   "execution_count": 18,
   "id": "a3a1d582-5ca9-4438-bd07-4c543069261e",
   "metadata": {},
   "outputs": [
    {
     "data": {
      "text/plain": [
       "6912"
      ]
     },
     "execution_count": 18,
     "metadata": {},
     "output_type": "execute_result"
    }
   ],
   "source": [
    "int(x) + int(y)"
   ]
  },
  {
   "cell_type": "code",
   "execution_count": 20,
   "id": "fa79f19a-4d74-46ad-9639-7ae2449fa032",
   "metadata": {},
   "outputs": [
    {
     "name": "stdin",
     "output_type": "stream",
     "text": [
      "Enter first number:  hello\n",
      "Enter second number:  20\n"
     ]
    },
    {
     "name": "stdout",
     "output_type": "stream",
     "text": [
      "Either hello or 20 is not a number; try again!\n"
     ]
    }
   ],
   "source": [
    "x = input('Enter first number: ').strip()\n",
    "y = input('Enter second number: ').strip()\n",
    "\n",
    "if x.isdigit() and y.isdigit():   # check that they both can be turned into integers\n",
    "    total = int(x) + int(y)\n",
    "    print(f'{x} + {y} = {total}')\n",
    "else:\n",
    "    print(f'Either {x} or {y} is not a number; try again!')"
   ]
  },
  {
   "cell_type": "markdown",
   "id": "07cdc69d-31c8-46a5-91b4-c0ea6e24cbf0",
   "metadata": {},
   "source": [
    "# Loops\n",
    "\n",
    "One of the most important rules in programming is known as DRY, for \"don't repeat yourself.\" (I learned this term from the Pragmatic Programmer book.) The idea is that if code repeats itself, that's probably a bad sign:\n",
    "\n",
    "- You have to write it, which means more time coding\n",
    "- You have to read it to maintain the code, which is annoying and difficult\n",
    "- You'll probably have to update the code at some point, which means updating it in several places\n",
    "- It's harder to wrap your head around code that repeats itself\n",
    "- It'll probably execute more slowly, too"
   ]
  },
  {
   "cell_type": "code",
   "execution_count": 21,
   "id": "39c624f8-f101-49dc-8590-e9c37b55778f",
   "metadata": {},
   "outputs": [
    {
     "name": "stdout",
     "output_type": "stream",
     "text": [
      "a\n",
      "b\n",
      "c\n",
      "d\n"
     ]
    }
   ],
   "source": [
    "# let's say that I have a string\n",
    "\n",
    "s = 'abcd'\n",
    "\n",
    "# I want to print every character in the string\n",
    "print(s[0])\n",
    "print(s[1])\n",
    "print(s[2])\n",
    "print(s[3])"
   ]
  },
  {
   "cell_type": "code",
   "execution_count": 22,
   "id": "9e5d43f1-fffd-4598-a9aa-61b9a3ca57db",
   "metadata": {},
   "outputs": [],
   "source": [
    "# by writing code that basically repeats itself, I'm violating the DRY rule!\n",
    "# we can instead use a *loop*, code that repeats itself for us, so we can write it only once.\n",
    "\n"
   ]
  },
  {
   "cell_type": "markdown",
   "id": "2d9bd361-c350-4ee0-80cc-cde493a000ba",
   "metadata": {},
   "source": [
    "# Python loops\n",
    "\n",
    "Python has two kinds of loops:\n",
    "- `for`\n",
    "- `while`\n",
    "\n",
    "A `for` loop allows us to write code once, and have it execute on every element of a sequence. \n",
    "\n",
    "- First, we use the keyword `for` to start the loop\n",
    "- Then we have the variable we're going to want to assign each element of the sequence. This is known as the \"loop variable,\" and it can be any name that you want. Python doesn't care what you call it, just like all other variables.\n",
    "- Then we have the keyword `in`\n",
    "- Then, at the end of the line, we have the object over which we're going to be looping, followed by a `:`\n",
    "- Following the `:`, we have an indented block. This is known as the \"loop body,\" and it assumes that you'll want to take advantage of the fact that the loop variable will be assigned to a different value in each iteration of the body. The loop body can be as long or short as you want (at least one line), and it can contain any Python code you want: `input`, `print`, conditionals with `if`/`else`, and even `for` loops inside of the `for` loop.\n",
    "\n",
    "The power of the `for` loop resides not in the loop, but in the object on which we're iterating! If we have a string, then we'll get one character at a time. The fact that I called my variable `one_character` has *NO* bearing at all on what value or values we get with each iteration.\n",
    "\n",
    "What happens is as follows:\n",
    "- `for` turns to `s`, the object at the end of the line, and asks it: are you iterable?\n",
    "    - If not, then we get an error, and the loop ends\n",
    "- `for` asks `s` for its next value.  `s` is a string, so it gives `for` the letter `'a'`.\n",
    "- That `'a'` is assigned to `one_character`, and then the loop body is executed.\n",
    "- After the loop body executes once, we come back. `for` asks `s` again: What is your next value?\n",
    "- `s` gives the `for` loop the value `'b'`, which is assigned to `one_character`. The loop body executes with that value.\n",
    "- "
   ]
  },
  {
   "cell_type": "code",
   "execution_count": 23,
   "id": "7c377363-f837-4a8d-b253-29a2e43417b4",
   "metadata": {},
   "outputs": [
    {
     "name": "stdout",
     "output_type": "stream",
     "text": [
      "a\n",
      "b\n",
      "c\n",
      "d\n"
     ]
    }
   ],
   "source": [
    "s = 'abcd'\n",
    "\n",
    "for one_character in s:\n",
    "    print(one_character)"
   ]
  },
  {
   "cell_type": "code",
   "execution_count": 24,
   "id": "def0f5b3-d03f-46f1-a072-a8a7921e51d2",
   "metadata": {},
   "outputs": [
    {
     "ename": "TypeError",
     "evalue": "'int' object is not iterable",
     "output_type": "error",
     "traceback": [
      "\u001b[0;31m---------------------------------------------------------------------------\u001b[0m",
      "\u001b[0;31mTypeError\u001b[0m                                 Traceback (most recent call last)",
      "Cell \u001b[0;32mIn[24], line 1\u001b[0m\n\u001b[0;32m----> 1\u001b[0m \u001b[38;5;28;43;01mfor\u001b[39;49;00m\u001b[43m \u001b[49m\u001b[43mone_character\u001b[49m\u001b[43m \u001b[49m\u001b[38;5;129;43;01min\u001b[39;49;00m\u001b[43m \u001b[49m\u001b[38;5;241;43m5\u001b[39;49m\u001b[43m:\u001b[49m\u001b[43m    \u001b[49m\u001b[38;5;66;43;03m# integers are not iterable, so we'll get an error\u001b[39;49;00m\n\u001b[1;32m      2\u001b[0m \u001b[43m    \u001b[49m\u001b[38;5;28;43mprint\u001b[39;49m\u001b[43m(\u001b[49m\u001b[43mone_character\u001b[49m\u001b[43m)\u001b[49m\n",
      "\u001b[0;31mTypeError\u001b[0m: 'int' object is not iterable"
     ]
    }
   ],
   "source": [
    "for one_character in 5:    # integers are not iterable, so we'll get an error\n",
    "    print(one_character)"
   ]
  },
  {
   "cell_type": "code",
   "execution_count": 25,
   "id": "c4fc7b8a-b0e5-4f4d-bf12-515bbce827c4",
   "metadata": {},
   "outputs": [
    {
     "name": "stdout",
     "output_type": "stream",
     "text": [
      "a\n",
      "b\n",
      "c\n",
      "d\n"
     ]
    }
   ],
   "source": [
    "# if I have a string, s, and I want to print each character on a separate line, I can write a loop for that:\n",
    "\n",
    "for one_character in s:\n",
    "    print(one_character)    # loop body will be exected on each element of s (a character)"
   ]
  },
  {
   "cell_type": "code",
   "execution_count": 26,
   "id": "df091d84-f493-4e96-98db-e6114293e558",
   "metadata": {},
   "outputs": [
    {
     "name": "stdout",
     "output_type": "stream",
     "text": [
      "97: a\n",
      "98: b\n",
      "99: c\n",
      "100: d\n"
     ]
    }
   ],
   "source": [
    "# every character has as number that we can get with the function ord()\n",
    "# we can print each character and its number\n",
    "\n",
    "for one_character in s:\n",
    "    print(f'{ord(one_character)}: {one_character}')"
   ]
  },
  {
   "cell_type": "code",
   "execution_count": 28,
   "id": "3ee8c17c-a2df-4a7c-883b-b142d9d82f90",
   "metadata": {},
   "outputs": [
    {
     "data": {
      "text/plain": [
       "65"
      ]
     },
     "execution_count": 28,
     "metadata": {},
     "output_type": "execute_result"
    }
   ],
   "source": [
    "# every character in Python has a unique number\n",
    "# we can get that number with \"ord\"\n",
    "\n",
    "ord('A')"
   ]
  },
  {
   "cell_type": "code",
   "execution_count": 30,
   "id": "f882e3c1-0135-40cc-8fc9-3bc83888b2d8",
   "metadata": {},
   "outputs": [
    {
     "data": {
      "text/plain": [
       "33"
      ]
     },
     "execution_count": 30,
     "metadata": {},
     "output_type": "execute_result"
    }
   ],
   "source": [
    "ord('!')"
   ]
  },
  {
   "cell_type": "markdown",
   "id": "642c5676-e305-4d02-8c5b-01a1ea341adf",
   "metadata": {},
   "source": [
    "# How is this better?\n",
    "\n",
    "1. I only have to write the `print` once, no matter how long `s` is\n",
    "2. My loop body can be much more complicated than this, and much longer\n",
    "\n",
    "# Where would I maybe use a loop?\n",
    "1. Going through every number in a budget, and adding it up to total something\n",
    "2. Going through every user on a system, double checking that their account is up to date\n",
    "3. Going through every file in a folder, and finding out its name\n",
    "\n",
    "Basically, whenever you can express something as \"going through every ____\", that's a great opportunity for a `for` loop.\n",
    "\n",
    "Right now, we only see how to use `for` loops on strings, so it's a bit boring. But we will soon see how to use them on more complex data structures."
   ]
  },
  {
   "cell_type": "code",
   "execution_count": 27,
   "id": "6406d120-f26a-4f3b-bad9-73558abacb19",
   "metadata": {},
   "outputs": [
    {
     "name": "stdout",
     "output_type": "stream",
     "text": [
      "15\n"
     ]
    }
   ],
   "source": [
    "# Example: Sum digits\n",
    "\n",
    "s = '12345'\n",
    "total = 0\n",
    "\n",
    "# I want to go through each character in s, turn it into an integer, and then add to total\n",
    "\n",
    "for one_digit in s:\n",
    "    total += int(one_digit)   # get the digit, and get an integer based on it, then add that to total\n",
    "\n",
    "print(total)"
   ]
  },
  {
   "cell_type": "code",
   "execution_count": 31,
   "id": "e2c6ead7-929b-49cb-bda0-a7978e0536a6",
   "metadata": {},
   "outputs": [
    {
     "name": "stdout",
     "output_type": "stream",
     "text": [
      "15\n"
     ]
    }
   ],
   "source": [
    "s = '12345'\n",
    "total = 0\n",
    "\n",
    "\n",
    "for one_digit in s:     # go through each digit in s. s is a string, so one_digit will also be a string\n",
    "    n = int(one_digit)  # assign to n the integer value based on the current digit\n",
    "    total += n          # add n to total\n",
    "\n",
    "print(total)"
   ]
  },
  {
   "cell_type": "markdown",
   "id": "927ff1b2-91ee-4609-bd01-235f59c3b234",
   "metadata": {},
   "source": [
    "# In Python tutor\n",
    "\n",
    "https://pythontutor.com/render.html#code=s%20%3D%20'12345'%0Atotal%20%3D%200%0A%0A%0Afor%20one_digit%20in%20s%3A%0A%20%20%20%20n%20%3D%20int%28one_digit%29%0A%20%20%20%20total%20%2B%3D%20n%0A%0Aprint%28total%29&cumulative=false&curInstr=19&heapPrimitives=nevernest&mode=display&origin=opt-frontend.js&py=3&rawInputLstJSON=%5B%5D&textReferences=false"
   ]
  },
  {
   "cell_type": "markdown",
   "id": "86dffc60-7eb7-4700-b98e-0b5b144dbeaa",
   "metadata": {},
   "source": [
    "# Exercise: Digits, vowels, and others\n",
    "\n",
    "1. Define three variables, `digits`, `vowels`, and `others`, all to be 0.\n",
    "2. Ask the user to enter some text, and assign to `s`.\n",
    "3. Go through `s`, one character at a time:\n",
    "    - if the character is a vowel (a, e, i, o, or u), then add 1 to `vowels`\n",
    "    - if the character is a digit (0-9), then add 1 to `digits`\n",
    "    - in all other cases, add 1 to `others`\n",
    "4. Print the values of `digits`, `vowels`, and `others`.\n",
    "\n",
    "Example:\n",
    "\n",
    "    Enter text: hello!! 123\n",
    "    digits: 3\n",
    "    vowels: 2\n",
    "    others: 6\n",
    "\n",
    "# Things to remember:\n",
    "- We can iterate over a string with a `for` loop\n",
    "- You can use `in` to find out if a short string is contained inside of a longer string (`SHORT in LONG`)\n",
    "- You can use `str.isdigit()` to find out if a string contains only digits"
   ]
  },
  {
   "cell_type": "code",
   "execution_count": 34,
   "id": "7cde5fd5-ad4d-46dc-a9f1-b813d45294e3",
   "metadata": {},
   "outputs": [
    {
     "name": "stdin",
     "output_type": "stream",
     "text": [
      "Enter text:  hello!! 123\n"
     ]
    },
    {
     "name": "stdout",
     "output_type": "stream",
     "text": [
      "digits = 3\n",
      "vowels = 2\n",
      "others = 6\n"
     ]
    }
   ],
   "source": [
    "digits = 0\n",
    "vowels = 0\n",
    "others = 0\n",
    "\n",
    "s = input('Enter text: ').strip()\n",
    "\n",
    "for one_character in s:\n",
    "    if one_character in 'aeiou':\n",
    "        # print(f'{one_character} is a vowel')\n",
    "        vowels += 1\n",
    "    elif one_character.isdigit():\n",
    "        # print(f'{one_character} is a digit')\n",
    "        digits += 1\n",
    "    else:\n",
    "        # print(f'{one_character} is other')       \n",
    "        others += 1\n",
    "\n",
    "print(f'digits = {digits}')\n",
    "print(f'vowels = {vowels}')\n",
    "print(f'others = {others}')"
   ]
  },
  {
   "cell_type": "code",
   "execution_count": 36,
   "id": "b97ca855-c7ec-4bf4-9542-588a9af2170f",
   "metadata": {},
   "outputs": [
    {
     "ename": "TypeError",
     "evalue": "'int' object is not iterable",
     "output_type": "error",
     "traceback": [
      "\u001b[0;31m---------------------------------------------------------------------------\u001b[0m",
      "\u001b[0;31mTypeError\u001b[0m                                 Traceback (most recent call last)",
      "Cell \u001b[0;32mIn[36], line 3\u001b[0m\n\u001b[1;32m      1\u001b[0m \u001b[38;5;66;03m# What if I want to repeat something several times?\u001b[39;00m\n\u001b[0;32m----> 3\u001b[0m \u001b[38;5;28;43;01mfor\u001b[39;49;00m\u001b[43m \u001b[49m\u001b[43mcounter\u001b[49m\u001b[43m \u001b[49m\u001b[38;5;129;43;01min\u001b[39;49;00m\u001b[43m \u001b[49m\u001b[38;5;241;43m3\u001b[39;49m\u001b[43m:\u001b[49m\n\u001b[1;32m      4\u001b[0m \u001b[43m    \u001b[49m\u001b[38;5;28;43mprint\u001b[39;49m\u001b[43m(\u001b[49m\u001b[38;5;124;43m'\u001b[39;49m\u001b[38;5;124;43mHooray!\u001b[39;49m\u001b[38;5;124;43m'\u001b[39;49m\u001b[43m)\u001b[49m\n",
      "\u001b[0;31mTypeError\u001b[0m: 'int' object is not iterable"
     ]
    }
   ],
   "source": [
    "# What if I want to repeat something several times?\n",
    "\n",
    "for counter in 3:\n",
    "    print('Hooray!')"
   ]
  },
  {
   "cell_type": "markdown",
   "id": "d7fa3984-284d-48e4-9944-07b6a4f7b407",
   "metadata": {},
   "source": [
    "# We can use `range`\n",
    "\n",
    "Instead of iterating over an integer, we can iterate over `range(n)`, where `n` is an integer\n",
    "\n",
    "This is the standard way to do it in Python.\n",
    "\n",
    "When we use `range`, we get all of the integers, one at a time, starting at 0 until (and not including) what we specified."
   ]
  },
  {
   "cell_type": "code",
   "execution_count": 38,
   "id": "91a5a177-38df-4a18-abcf-fc12783fc65b",
   "metadata": {},
   "outputs": [
    {
     "name": "stdout",
     "output_type": "stream",
     "text": [
      "0 Hooray!\n",
      "1 Hooray!\n",
      "2 Hooray!\n"
     ]
    }
   ],
   "source": [
    "for counter in range(3):\n",
    "    print(f'{counter} Hooray!')"
   ]
  },
  {
   "cell_type": "markdown",
   "id": "22679570-cefc-4a2d-80d2-076259c81b0d",
   "metadata": {},
   "source": [
    "# Exercise: Total of three\n",
    "\n",
    "1. Set `total` to be 0.\n",
    "2. Ask the user, three times, to enter an integer.\n",
    "    - If they enter a string that cannot be turned into an integer, scold them (but they don't get to try again)\n",
    "3. Turn the string into an integer, and add to `total`\n",
    "4. After the loop ends, print `total`\n",
    "\n",
    "Example:\n",
    "\n",
    "    Enter number: 5\n",
    "    Enter number: 6\n",
    "    Enter number: no\n",
    "    no is not a number\n",
    "    Total is 11"
   ]
  },
  {
   "cell_type": "code",
   "execution_count": 43,
   "id": "eb46d81e-c30b-4bf3-8b08-fb6de5390721",
   "metadata": {},
   "outputs": [
    {
     "name": "stdin",
     "output_type": "stream",
     "text": [
      "Enter a number:  5\n",
      "Enter a number:  6\n",
      "Enter a number:  no\n"
     ]
    },
    {
     "name": "stdout",
     "output_type": "stream",
     "text": [
      "no is not a number!\n",
      "total = 11\n"
     ]
    }
   ],
   "source": [
    "total = 0\n",
    "\n",
    "for counter in range(3):\n",
    "    s = input('Enter a number: ').strip()\n",
    "\n",
    "    if s.isdigit():\n",
    "        total += int(s)\n",
    "    else:\n",
    "        print(f'{s} is not a number!')\n",
    "\n",
    "print(f'total = {total}')"
   ]
  },
  {
   "cell_type": "code",
   "execution_count": null,
   "id": "f0729775-0097-4223-9377-45dfcfcea147",
   "metadata": {},
   "outputs": [],
   "source": []
  },
  {
   "cell_type": "markdown",
   "id": "4fc13812-96b0-4f8d-8e30-f2b9d9be2d23",
   "metadata": {},
   "source": [
    "# Next up\n",
    "\n",
    "1. Iterating and indexes\n",
    "2. `while` loops\n",
    "3. Controlling our loops with `break` and `continue`"
   ]
  },
  {
   "cell_type": "code",
   "execution_count": 45,
   "id": "d5f85d32-b332-45fe-821a-d9f6be3d62af",
   "metadata": {},
   "outputs": [
    {
     "name": "stdin",
     "output_type": "stream",
     "text": [
      "Please enter a number 10\n"
     ]
    },
    {
     "name": "stdout",
     "output_type": "stream",
     "text": [
      "10\n"
     ]
    },
    {
     "name": "stdin",
     "output_type": "stream",
     "text": [
      "Please enter a number 20\n"
     ]
    },
    {
     "name": "stdout",
     "output_type": "stream",
     "text": [
      "30\n"
     ]
    },
    {
     "name": "stdin",
     "output_type": "stream",
     "text": [
      "Please enter a number 30\n"
     ]
    },
    {
     "name": "stdout",
     "output_type": "stream",
     "text": [
      "60\n"
     ]
    }
   ],
   "source": [
    "# AK\n",
    "total = 0\n",
    "for counter in range(3):\n",
    "  s = input('Please enter a number')\n",
    "\n",
    "  if s.isdigit():\n",
    "      total += int(s)\n",
    "  else:\n",
    "      print(f'{s} is not a digit')\n",
    "\n",
    "print(total)"
   ]
  },
  {
   "cell_type": "code",
   "execution_count": 47,
   "id": "ae0f7033-88fd-47b3-be68-49b42e3b3061",
   "metadata": {},
   "outputs": [
    {
     "name": "stdin",
     "output_type": "stream",
     "text": [
      "enter a number:  4\n",
      "enter a number:  hello\n"
     ]
    },
    {
     "name": "stdout",
     "output_type": "stream",
     "text": [
      "Hey you cannot use hello as a integer!\n"
     ]
    },
    {
     "name": "stdin",
     "output_type": "stream",
     "text": [
      "enter a number:  5\n"
     ]
    },
    {
     "name": "stdout",
     "output_type": "stream",
     "text": [
      "9\n"
     ]
    }
   ],
   "source": [
    "# RG \n",
    "\n",
    "total = 0\n",
    "\n",
    "for i in range(3):\n",
    "    numbers = input(\"enter a number: \").strip()\n",
    "    if numbers.isdigit():\n",
    "        total += int(numbers)\n",
    "    else:\n",
    "         print(f\"Hey you cannot use {numbers} as a integer!\")\n",
    "\n",
    "print(total)"
   ]
  },
  {
   "cell_type": "code",
   "execution_count": 48,
   "id": "51feb031-7425-4957-8fc4-d8fb687b261f",
   "metadata": {},
   "outputs": [
    {
     "name": "stdout",
     "output_type": "stream",
     "text": [
      "Hello\n"
     ]
    }
   ],
   "source": [
    "print('Hello')"
   ]
  },
  {
   "cell_type": "code",
   "execution_count": 49,
   "id": "b42359bc-fae2-4f72-83c5-454c38edad73",
   "metadata": {},
   "outputs": [
    {
     "name": "stdout",
     "output_type": "stream",
     "text": [
      "Hello\n"
     ]
    }
   ],
   "source": [
    "print(\"Hello\")"
   ]
  },
  {
   "cell_type": "markdown",
   "id": "ad2fbd5d-57b8-4737-94bf-f304bd4dbc4f",
   "metadata": {},
   "source": [
    "# Where's the index?\n",
    "\n",
    "In many (most?) programming languages, a `for` loop is much more complex than in Python. In such a language, you iterate over a range numbers, and then use those numbers as indexes to retrieve from a string, etc.\n",
    "\n",
    "In Python, we don't really have indexes, or need them. Yes, we can use `range`, but we do that when we want numbers, not because we have to use it to retrieve characters from a string.\n",
    "\n",
    "It all comes down to how smart the objects are, and how smart the `for` loop is.\n",
    "\n",
    "- In Python, the `for` loop is actually pretty small and dumb, but the objects are smart. The `for` loop's job is merely to ask the object for its next value. The object is really in charge!\n",
    "- In C, the `for` loop is doing all of the thinking, and the object is pretty dumb. We need, in those language, to have an index so that we can pull out the appropriate character from the string, etc.\n",
    "\n",
    "There are still some times when we'll want to have an index in Python. What do we do then?"
   ]
  },
  {
   "cell_type": "code",
   "execution_count": 51,
   "id": "34476d94-e1e5-4e6d-9449-884c38bc5c36",
   "metadata": {},
   "outputs": [
    {
     "name": "stdout",
     "output_type": "stream",
     "text": [
      "0: a\n",
      "1: b\n",
      "2: c\n",
      "3: d\n"
     ]
    }
   ],
   "source": [
    "# option 1: Do it manually\n",
    "\n",
    "s = 'abcd'\n",
    "index = 0\n",
    "\n",
    "for one_character in s:    # here, s is a string, the object over which we're iterating\n",
    "    print(f'{index}: {one_character}')   # print the character and its index\n",
    "    index += 1"
   ]
  },
  {
   "cell_type": "code",
   "execution_count": 52,
   "id": "23a240e0-7a95-4360-873f-c7ae42aa076a",
   "metadata": {},
   "outputs": [
    {
     "name": "stdout",
     "output_type": "stream",
     "text": [
      "0: a\n",
      "1: b\n",
      "2: c\n",
      "3: d\n"
     ]
    }
   ],
   "source": [
    "# option 2: Use enumerate\n",
    "\n",
    "# the \"enumerate\" builtin function is designed for exactly this purpose\n",
    "# it wraps around the object we want to iterate over\n",
    "# it then gives us, with each iteration, *two* values -- the current index and the current value\n",
    "\n",
    "s = 'abcd'\n",
    "\n",
    "for index, one_character in enumerate(s):    # we call enumerate on s to get elements + index\n",
    "    print(f'{index}: {one_character}')       # print the character and its index"
   ]
  },
  {
   "cell_type": "code",
   "execution_count": null,
   "id": "20f9c0ff-55fd-493b-aaae-de12fb9927eb",
   "metadata": {},
   "outputs": [],
   "source": []
  }
 ],
 "metadata": {
  "kernelspec": {
   "display_name": "Python 3 (ipykernel)",
   "language": "python",
   "name": "python3"
  },
  "language_info": {
   "codemirror_mode": {
    "name": "ipython",
    "version": 3
   },
   "file_extension": ".py",
   "mimetype": "text/x-python",
   "name": "python",
   "nbconvert_exporter": "python",
   "pygments_lexer": "ipython3",
   "version": "3.12.1"
  }
 },
 "nbformat": 4,
 "nbformat_minor": 5
}
