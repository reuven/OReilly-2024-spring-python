{
 "cells": [
  {
   "cell_type": "markdown",
   "id": "048649bb-6b09-4663-94f8-053b7ff620ab",
   "metadata": {},
   "source": [
    "# Agenda: Loops, lists, and tuples\n",
    "\n",
    "1. Q&A from last time\n",
    "2. Loops\n",
    "    - `for`\n",
    "    - looping a number of times with `range`\n",
    "    - indexes and where they are (and aren't)\n",
    "    - `while` loops\n",
    "    - Controlling our loops with `break` and `continue`\n",
    "3. Lists\n",
    "    - What is a list?\n",
    "    - How is it different from (and similar to) a string?\n",
    "    - List methods\n",
    "    - Lists are *mutable*\n",
    "4. Turning strings into lists, and vice versa\n",
    "    - `str.split`\n",
    "    - `str.join`\n",
    "5. Tuples\n",
    "    - What are they?\n",
    "    - Tuple unpacking"
   ]
  },
  {
   "cell_type": "code",
   "execution_count": 1,
   "id": "92b03437-0747-411e-917c-dd06196a06d8",
   "metadata": {},
   "outputs": [],
   "source": [
    "x = 10\n",
    "y = 20"
   ]
  },
  {
   "cell_type": "code",
   "execution_count": 2,
   "id": "241ffa0b-55ce-471d-a5b5-0553fac0758a",
   "metadata": {},
   "outputs": [
    {
     "data": {
      "text/plain": [
       "30"
      ]
     },
     "execution_count": 2,
     "metadata": {},
     "output_type": "execute_result"
    }
   ],
   "source": [
    "x + y"
   ]
  },
  {
   "cell_type": "code",
   "execution_count": 3,
   "id": "7d01402b-3592-4c36-8a6e-d056afaac511",
   "metadata": {},
   "outputs": [
    {
     "data": {
      "text/plain": [
       "-10"
      ]
     },
     "execution_count": 3,
     "metadata": {},
     "output_type": "execute_result"
    }
   ],
   "source": [
    "x - y"
   ]
  },
  {
   "cell_type": "code",
   "execution_count": 6,
   "id": "86f32765-71bb-4e91-8102-a46468166ad5",
   "metadata": {},
   "outputs": [
    {
     "data": {
      "text/plain": [
       "True"
      ]
     },
     "execution_count": 6,
     "metadata": {},
     "output_type": "execute_result"
    }
   ],
   "source": [
    "x != y   # the != operator asks the question: are the values of x and y different?"
   ]
  },
  {
   "cell_type": "code",
   "execution_count": 5,
   "id": "1f084251-9b1b-48cb-86b4-0598f5f1961b",
   "metadata": {},
   "outputs": [
    {
     "data": {
      "text/plain": [
       "False"
      ]
     },
     "execution_count": 5,
     "metadata": {},
     "output_type": "execute_result"
    }
   ],
   "source": [
    "x == y   # this asks the question: are the values of x and y the same?"
   ]
  },
  {
   "cell_type": "code",
   "execution_count": 7,
   "id": "cc021c01-0283-40e7-a878-69823cf802bf",
   "metadata": {},
   "outputs": [
    {
     "name": "stdout",
     "output_type": "stream",
     "text": [
      "10 and 20 are not the same!\n"
     ]
    }
   ],
   "source": [
    "if x != y:\n",
    "    print(f'{x} and {y} are not the same!')"
   ]
  },
  {
   "cell_type": "code",
   "execution_count": 8,
   "id": "62da14c5-ed67-4d9d-8572-1201983b7237",
   "metadata": {},
   "outputs": [
    {
     "data": {
      "text/plain": [
       "'12345678'"
      ]
     },
     "execution_count": 8,
     "metadata": {},
     "output_type": "execute_result"
    }
   ],
   "source": [
    "# Converting from strings to integers, and back\n",
    "\n",
    "x = '1234'\n",
    "y = '5678'\n",
    "\n",
    "x + y"
   ]
  },
  {
   "cell_type": "code",
   "execution_count": 10,
   "id": "abb12b9d-6a4d-4248-bd3a-3d74e751bc75",
   "metadata": {},
   "outputs": [
    {
     "data": {
      "text/plain": [
       "str"
      ]
     },
     "execution_count": 10,
     "metadata": {},
     "output_type": "execute_result"
    }
   ],
   "source": [
    "type(x)"
   ]
  },
  {
   "cell_type": "code",
   "execution_count": 11,
   "id": "d50b4bc2-f97e-42af-9a09-1e023914add7",
   "metadata": {},
   "outputs": [
    {
     "data": {
      "text/plain": [
       "str"
      ]
     },
     "execution_count": 11,
     "metadata": {},
     "output_type": "execute_result"
    }
   ],
   "source": [
    "type(y)"
   ]
  },
  {
   "cell_type": "code",
   "execution_count": 12,
   "id": "eb9312a3-e2e1-4ec6-8721-17894b53201b",
   "metadata": {},
   "outputs": [
    {
     "data": {
      "text/plain": [
       "6912"
      ]
     },
     "execution_count": 12,
     "metadata": {},
     "output_type": "execute_result"
    }
   ],
   "source": [
    "# if I want to get integers based on the strings in x and y, I can use int()\n",
    "\n",
    "int(x) + int(y)"
   ]
  },
  {
   "cell_type": "code",
   "execution_count": 13,
   "id": "09ed6b17-dc59-4905-8ca9-e9930d7ce043",
   "metadata": {},
   "outputs": [
    {
     "data": {
      "text/plain": [
       "'12345678'"
      ]
     },
     "execution_count": 13,
     "metadata": {},
     "output_type": "execute_result"
    }
   ],
   "source": [
    "# have we changed x or y? NO, we just got new integers based on them\n",
    "x + y"
   ]
  },
  {
   "cell_type": "code",
   "execution_count": 14,
   "id": "db08deee-d57a-46a0-881a-eed03246e95c",
   "metadata": {},
   "outputs": [
    {
     "data": {
      "text/plain": [
       "6912"
      ]
     },
     "execution_count": 14,
     "metadata": {},
     "output_type": "execute_result"
    }
   ],
   "source": [
    "# however, we can assign the new values (integers) to the variables\n",
    "\n",
    "x = int(x)\n",
    "y = int(y)\n",
    "\n",
    "x + y"
   ]
  },
  {
   "cell_type": "code",
   "execution_count": 15,
   "id": "174a40cb-8409-4179-81d8-c1a9c6e300d1",
   "metadata": {},
   "outputs": [
    {
     "data": {
      "text/plain": [
       "'12345678'"
      ]
     },
     "execution_count": 15,
     "metadata": {},
     "output_type": "execute_result"
    }
   ],
   "source": [
    "# what if I want to do the opposite? What if I have integers, and I want to treat them as strings?\n",
    "# because we want strings, we use the str() operator on them, which returns a new string based on the value\n",
    "\n",
    "str(x) + str(y)"
   ]
  },
  {
   "cell_type": "code",
   "execution_count": 16,
   "id": "82eb19c9-c83b-4acd-a23a-bb2a4d3a4aea",
   "metadata": {},
   "outputs": [
    {
     "data": {
      "text/plain": [
       "True"
      ]
     },
     "execution_count": 16,
     "metadata": {},
     "output_type": "execute_result"
    }
   ],
   "source": [
    "# We want to be sure that we can turn a string into an integer\n",
    "# one way to do this is with str.isdigit(), a method that returns True if the string\n",
    "# only contains digits 0-9\n",
    "\n",
    "x = str(x)\n",
    "y = str(y)\n",
    "\n",
    "x.isdigit()"
   ]
  },
  {
   "cell_type": "code",
   "execution_count": 17,
   "id": "d2fdf7da-58f5-4601-ac8f-95c85b7b1092",
   "metadata": {},
   "outputs": [
    {
     "data": {
      "text/plain": [
       "True"
      ]
     },
     "execution_count": 17,
     "metadata": {},
     "output_type": "execute_result"
    }
   ],
   "source": [
    "y.isdigit()"
   ]
  },
  {
   "cell_type": "code",
   "execution_count": 18,
   "id": "a3a1d582-5ca9-4438-bd07-4c543069261e",
   "metadata": {},
   "outputs": [
    {
     "data": {
      "text/plain": [
       "6912"
      ]
     },
     "execution_count": 18,
     "metadata": {},
     "output_type": "execute_result"
    }
   ],
   "source": [
    "int(x) + int(y)"
   ]
  },
  {
   "cell_type": "code",
   "execution_count": 20,
   "id": "fa79f19a-4d74-46ad-9639-7ae2449fa032",
   "metadata": {},
   "outputs": [
    {
     "name": "stdin",
     "output_type": "stream",
     "text": [
      "Enter first number:  hello\n",
      "Enter second number:  20\n"
     ]
    },
    {
     "name": "stdout",
     "output_type": "stream",
     "text": [
      "Either hello or 20 is not a number; try again!\n"
     ]
    }
   ],
   "source": [
    "x = input('Enter first number: ').strip()\n",
    "y = input('Enter second number: ').strip()\n",
    "\n",
    "if x.isdigit() and y.isdigit():   # check that they both can be turned into integers\n",
    "    total = int(x) + int(y)\n",
    "    print(f'{x} + {y} = {total}')\n",
    "else:\n",
    "    print(f'Either {x} or {y} is not a number; try again!')"
   ]
  },
  {
   "cell_type": "markdown",
   "id": "07cdc69d-31c8-46a5-91b4-c0ea6e24cbf0",
   "metadata": {},
   "source": [
    "# Loops\n",
    "\n",
    "One of the most important rules in programming is known as DRY, for \"don't repeat yourself.\" (I learned this term from the Pragmatic Programmer book.) The idea is that if code repeats itself, that's probably a bad sign:\n",
    "\n",
    "- You have to write it, which means more time coding\n",
    "- You have to read it to maintain the code, which is annoying and difficult\n",
    "- You'll probably have to update the code at some point, which means updating it in several places\n",
    "- It's harder to wrap your head around code that repeats itself\n",
    "- It'll probably execute more slowly, too"
   ]
  },
  {
   "cell_type": "code",
   "execution_count": 21,
   "id": "39c624f8-f101-49dc-8590-e9c37b55778f",
   "metadata": {},
   "outputs": [
    {
     "name": "stdout",
     "output_type": "stream",
     "text": [
      "a\n",
      "b\n",
      "c\n",
      "d\n"
     ]
    }
   ],
   "source": [
    "# let's say that I have a string\n",
    "\n",
    "s = 'abcd'\n",
    "\n",
    "# I want to print every character in the string\n",
    "print(s[0])\n",
    "print(s[1])\n",
    "print(s[2])\n",
    "print(s[3])"
   ]
  },
  {
   "cell_type": "code",
   "execution_count": 22,
   "id": "9e5d43f1-fffd-4598-a9aa-61b9a3ca57db",
   "metadata": {},
   "outputs": [],
   "source": [
    "# by writing code that basically repeats itself, I'm violating the DRY rule!\n",
    "# we can instead use a *loop*, code that repeats itself for us, so we can write it only once.\n",
    "\n"
   ]
  },
  {
   "cell_type": "markdown",
   "id": "2d9bd361-c350-4ee0-80cc-cde493a000ba",
   "metadata": {},
   "source": [
    "# Python loops\n",
    "\n",
    "Python has two kinds of loops:\n",
    "- `for`\n",
    "- `while`\n",
    "\n",
    "A `for` loop allows us to write code once, and have it execute on every element of a sequence. \n",
    "\n",
    "- First, we use the keyword `for` to start the loop\n",
    "- Then we have the variable we're going to want to assign each element of the sequence. This is known as the \"loop variable,\" and it can be any name that you want. Python doesn't care what you call it, just like all other variables.\n",
    "- Then we have the keyword `in`\n",
    "- Then, at the end of the line, we have the object over which we're going to be looping, followed by a `:`\n",
    "- Following the `:`, we have an indented block. This is known as the \"loop body,\" and it assumes that you'll want to take advantage of the fact that the loop variable will be assigned to a different value in each iteration of the body. The loop body can be as long or short as you want (at least one line), and it can contain any Python code you want: `input`, `print`, conditionals with `if`/`else`, and even `for` loops inside of the `for` loop.\n",
    "\n",
    "The power of the `for` loop resides not in the loop, but in the object on which we're iterating! If we have a string, then we'll get one character at a time. The fact that I called my variable `one_character` has *NO* bearing at all on what value or values we get with each iteration.\n",
    "\n",
    "What happens is as follows:\n",
    "- `for` turns to `s`, the object at the end of the line, and asks it: are you iterable?\n",
    "    - If not, then we get an error, and the loop ends\n",
    "- `for` asks `s` for its next value.  `s` is a string, so it gives `for` the letter `'a'`.\n",
    "- That `'a'` is assigned to `one_character`, and then the loop body is executed.\n",
    "- After the loop body executes once, we come back. `for` asks `s` again: What is your next value?\n",
    "- `s` gives the `for` loop the value `'b'`, which is assigned to `one_character`. The loop body executes with that value.\n",
    "- "
   ]
  },
  {
   "cell_type": "code",
   "execution_count": 23,
   "id": "7c377363-f837-4a8d-b253-29a2e43417b4",
   "metadata": {},
   "outputs": [
    {
     "name": "stdout",
     "output_type": "stream",
     "text": [
      "a\n",
      "b\n",
      "c\n",
      "d\n"
     ]
    }
   ],
   "source": [
    "s = 'abcd'\n",
    "\n",
    "for one_character in s:\n",
    "    print(one_character)"
   ]
  },
  {
   "cell_type": "code",
   "execution_count": 24,
   "id": "def0f5b3-d03f-46f1-a072-a8a7921e51d2",
   "metadata": {},
   "outputs": [
    {
     "ename": "TypeError",
     "evalue": "'int' object is not iterable",
     "output_type": "error",
     "traceback": [
      "\u001b[0;31m---------------------------------------------------------------------------\u001b[0m",
      "\u001b[0;31mTypeError\u001b[0m                                 Traceback (most recent call last)",
      "Cell \u001b[0;32mIn[24], line 1\u001b[0m\n\u001b[0;32m----> 1\u001b[0m \u001b[38;5;28;43;01mfor\u001b[39;49;00m\u001b[43m \u001b[49m\u001b[43mone_character\u001b[49m\u001b[43m \u001b[49m\u001b[38;5;129;43;01min\u001b[39;49;00m\u001b[43m \u001b[49m\u001b[38;5;241;43m5\u001b[39;49m\u001b[43m:\u001b[49m\u001b[43m    \u001b[49m\u001b[38;5;66;43;03m# integers are not iterable, so we'll get an error\u001b[39;49;00m\n\u001b[1;32m      2\u001b[0m \u001b[43m    \u001b[49m\u001b[38;5;28;43mprint\u001b[39;49m\u001b[43m(\u001b[49m\u001b[43mone_character\u001b[49m\u001b[43m)\u001b[49m\n",
      "\u001b[0;31mTypeError\u001b[0m: 'int' object is not iterable"
     ]
    }
   ],
   "source": [
    "for one_character in 5:    # integers are not iterable, so we'll get an error\n",
    "    print(one_character)"
   ]
  },
  {
   "cell_type": "code",
   "execution_count": 25,
   "id": "c4fc7b8a-b0e5-4f4d-bf12-515bbce827c4",
   "metadata": {},
   "outputs": [
    {
     "name": "stdout",
     "output_type": "stream",
     "text": [
      "a\n",
      "b\n",
      "c\n",
      "d\n"
     ]
    }
   ],
   "source": [
    "# if I have a string, s, and I want to print each character on a separate line, I can write a loop for that:\n",
    "\n",
    "for one_character in s:\n",
    "    print(one_character)    # loop body will be exected on each element of s (a character)"
   ]
  },
  {
   "cell_type": "code",
   "execution_count": 26,
   "id": "df091d84-f493-4e96-98db-e6114293e558",
   "metadata": {},
   "outputs": [
    {
     "name": "stdout",
     "output_type": "stream",
     "text": [
      "97: a\n",
      "98: b\n",
      "99: c\n",
      "100: d\n"
     ]
    }
   ],
   "source": [
    "# every character has as number that we can get with the function ord()\n",
    "# we can print each character and its number\n",
    "\n",
    "for one_character in s:\n",
    "    print(f'{ord(one_character)}: {one_character}')"
   ]
  },
  {
   "cell_type": "code",
   "execution_count": 28,
   "id": "3ee8c17c-a2df-4a7c-883b-b142d9d82f90",
   "metadata": {},
   "outputs": [
    {
     "data": {
      "text/plain": [
       "65"
      ]
     },
     "execution_count": 28,
     "metadata": {},
     "output_type": "execute_result"
    }
   ],
   "source": [
    "# every character in Python has a unique number\n",
    "# we can get that number with \"ord\"\n",
    "\n",
    "ord('A')"
   ]
  },
  {
   "cell_type": "code",
   "execution_count": 30,
   "id": "f882e3c1-0135-40cc-8fc9-3bc83888b2d8",
   "metadata": {},
   "outputs": [
    {
     "data": {
      "text/plain": [
       "33"
      ]
     },
     "execution_count": 30,
     "metadata": {},
     "output_type": "execute_result"
    }
   ],
   "source": [
    "ord('!')"
   ]
  },
  {
   "cell_type": "markdown",
   "id": "642c5676-e305-4d02-8c5b-01a1ea341adf",
   "metadata": {},
   "source": [
    "# How is this better?\n",
    "\n",
    "1. I only have to write the `print` once, no matter how long `s` is\n",
    "2. My loop body can be much more complicated than this, and much longer\n",
    "\n",
    "# Where would I maybe use a loop?\n",
    "1. Going through every number in a budget, and adding it up to total something\n",
    "2. Going through every user on a system, double checking that their account is up to date\n",
    "3. Going through every file in a folder, and finding out its name\n",
    "\n",
    "Basically, whenever you can express something as \"going through every ____\", that's a great opportunity for a `for` loop.\n",
    "\n",
    "Right now, we only see how to use `for` loops on strings, so it's a bit boring. But we will soon see how to use them on more complex data structures."
   ]
  },
  {
   "cell_type": "code",
   "execution_count": 27,
   "id": "6406d120-f26a-4f3b-bad9-73558abacb19",
   "metadata": {},
   "outputs": [
    {
     "name": "stdout",
     "output_type": "stream",
     "text": [
      "15\n"
     ]
    }
   ],
   "source": [
    "# Example: Sum digits\n",
    "\n",
    "s = '12345'\n",
    "total = 0\n",
    "\n",
    "# I want to go through each character in s, turn it into an integer, and then add to total\n",
    "\n",
    "for one_digit in s:\n",
    "    total += int(one_digit)   # get the digit, and get an integer based on it, then add that to total\n",
    "\n",
    "print(total)"
   ]
  },
  {
   "cell_type": "code",
   "execution_count": 31,
   "id": "e2c6ead7-929b-49cb-bda0-a7978e0536a6",
   "metadata": {},
   "outputs": [
    {
     "name": "stdout",
     "output_type": "stream",
     "text": [
      "15\n"
     ]
    }
   ],
   "source": [
    "s = '12345'\n",
    "total = 0\n",
    "\n",
    "\n",
    "for one_digit in s:     # go through each digit in s. s is a string, so one_digit will also be a string\n",
    "    n = int(one_digit)  # assign to n the integer value based on the current digit\n",
    "    total += n          # add n to total\n",
    "\n",
    "print(total)"
   ]
  },
  {
   "cell_type": "markdown",
   "id": "927ff1b2-91ee-4609-bd01-235f59c3b234",
   "metadata": {},
   "source": [
    "# In Python tutor\n",
    "\n",
    "https://pythontutor.com/render.html#code=s%20%3D%20'12345'%0Atotal%20%3D%200%0A%0A%0Afor%20one_digit%20in%20s%3A%0A%20%20%20%20n%20%3D%20int%28one_digit%29%0A%20%20%20%20total%20%2B%3D%20n%0A%0Aprint%28total%29&cumulative=false&curInstr=19&heapPrimitives=nevernest&mode=display&origin=opt-frontend.js&py=3&rawInputLstJSON=%5B%5D&textReferences=false"
   ]
  },
  {
   "cell_type": "markdown",
   "id": "86dffc60-7eb7-4700-b98e-0b5b144dbeaa",
   "metadata": {},
   "source": [
    "# Exercise: Digits, vowels, and others\n",
    "\n",
    "1. Define three variables, `digits`, `vowels`, and `others`, all to be 0.\n",
    "2. Ask the user to enter some text, and assign to `s`.\n",
    "3. Go through `s`, one character at a time:\n",
    "    - if the character is a vowel (a, e, i, o, or u), then add 1 to `vowels`\n",
    "    - if the character is a digit (0-9), then add 1 to `digits`\n",
    "    - in all other cases, add 1 to `others`\n",
    "4. Print the values of `digits`, `vowels`, and `others`.\n",
    "\n",
    "Example:\n",
    "\n",
    "    Enter text: hello!! 123\n",
    "    digits: 3\n",
    "    vowels: 2\n",
    "    others: 6\n",
    "\n",
    "# Things to remember:\n",
    "- We can iterate over a string with a `for` loop\n",
    "- You can use `in` to find out if a short string is contained inside of a longer string (`SHORT in LONG`)\n",
    "- You can use `str.isdigit()` to find out if a string contains only digits"
   ]
  },
  {
   "cell_type": "code",
   "execution_count": 34,
   "id": "7cde5fd5-ad4d-46dc-a9f1-b813d45294e3",
   "metadata": {},
   "outputs": [
    {
     "name": "stdin",
     "output_type": "stream",
     "text": [
      "Enter text:  hello!! 123\n"
     ]
    },
    {
     "name": "stdout",
     "output_type": "stream",
     "text": [
      "digits = 3\n",
      "vowels = 2\n",
      "others = 6\n"
     ]
    }
   ],
   "source": [
    "digits = 0\n",
    "vowels = 0\n",
    "others = 0\n",
    "\n",
    "s = input('Enter text: ').strip()\n",
    "\n",
    "for one_character in s:\n",
    "    if one_character in 'aeiou':\n",
    "        # print(f'{one_character} is a vowel')\n",
    "        vowels += 1\n",
    "    elif one_character.isdigit():\n",
    "        # print(f'{one_character} is a digit')\n",
    "        digits += 1\n",
    "    else:\n",
    "        # print(f'{one_character} is other')       \n",
    "        others += 1\n",
    "\n",
    "print(f'digits = {digits}')\n",
    "print(f'vowels = {vowels}')\n",
    "print(f'others = {others}')"
   ]
  },
  {
   "cell_type": "code",
   "execution_count": 36,
   "id": "b97ca855-c7ec-4bf4-9542-588a9af2170f",
   "metadata": {},
   "outputs": [
    {
     "ename": "TypeError",
     "evalue": "'int' object is not iterable",
     "output_type": "error",
     "traceback": [
      "\u001b[0;31m---------------------------------------------------------------------------\u001b[0m",
      "\u001b[0;31mTypeError\u001b[0m                                 Traceback (most recent call last)",
      "Cell \u001b[0;32mIn[36], line 3\u001b[0m\n\u001b[1;32m      1\u001b[0m \u001b[38;5;66;03m# What if I want to repeat something several times?\u001b[39;00m\n\u001b[0;32m----> 3\u001b[0m \u001b[38;5;28;43;01mfor\u001b[39;49;00m\u001b[43m \u001b[49m\u001b[43mcounter\u001b[49m\u001b[43m \u001b[49m\u001b[38;5;129;43;01min\u001b[39;49;00m\u001b[43m \u001b[49m\u001b[38;5;241;43m3\u001b[39;49m\u001b[43m:\u001b[49m\n\u001b[1;32m      4\u001b[0m \u001b[43m    \u001b[49m\u001b[38;5;28;43mprint\u001b[39;49m\u001b[43m(\u001b[49m\u001b[38;5;124;43m'\u001b[39;49m\u001b[38;5;124;43mHooray!\u001b[39;49m\u001b[38;5;124;43m'\u001b[39;49m\u001b[43m)\u001b[49m\n",
      "\u001b[0;31mTypeError\u001b[0m: 'int' object is not iterable"
     ]
    }
   ],
   "source": [
    "# What if I want to repeat something several times?\n",
    "\n",
    "for counter in 3:\n",
    "    print('Hooray!')"
   ]
  },
  {
   "cell_type": "markdown",
   "id": "d7fa3984-284d-48e4-9944-07b6a4f7b407",
   "metadata": {},
   "source": [
    "# We can use `range`\n",
    "\n",
    "Instead of iterating over an integer, we can iterate over `range(n)`, where `n` is an integer\n",
    "\n",
    "This is the standard way to do it in Python.\n",
    "\n",
    "When we use `range`, we get all of the integers, one at a time, starting at 0 until (and not including) what we specified."
   ]
  },
  {
   "cell_type": "code",
   "execution_count": 38,
   "id": "91a5a177-38df-4a18-abcf-fc12783fc65b",
   "metadata": {},
   "outputs": [
    {
     "name": "stdout",
     "output_type": "stream",
     "text": [
      "0 Hooray!\n",
      "1 Hooray!\n",
      "2 Hooray!\n"
     ]
    }
   ],
   "source": [
    "for counter in range(3):\n",
    "    print(f'{counter} Hooray!')"
   ]
  },
  {
   "cell_type": "markdown",
   "id": "22679570-cefc-4a2d-80d2-076259c81b0d",
   "metadata": {},
   "source": [
    "# Exercise: Total of three\n",
    "\n",
    "1. Set `total` to be 0.\n",
    "2. Ask the user, three times, to enter an integer.\n",
    "    - If they enter a string that cannot be turned into an integer, scold them (but they don't get to try again)\n",
    "3. Turn the string into an integer, and add to `total`\n",
    "4. After the loop ends, print `total`\n",
    "\n",
    "Example:\n",
    "\n",
    "    Enter number: 5\n",
    "    Enter number: 6\n",
    "    Enter number: no\n",
    "    no is not a number\n",
    "    Total is 11"
   ]
  },
  {
   "cell_type": "code",
   "execution_count": 43,
   "id": "eb46d81e-c30b-4bf3-8b08-fb6de5390721",
   "metadata": {},
   "outputs": [
    {
     "name": "stdin",
     "output_type": "stream",
     "text": [
      "Enter a number:  5\n",
      "Enter a number:  6\n",
      "Enter a number:  no\n"
     ]
    },
    {
     "name": "stdout",
     "output_type": "stream",
     "text": [
      "no is not a number!\n",
      "total = 11\n"
     ]
    }
   ],
   "source": [
    "total = 0\n",
    "\n",
    "for counter in range(3):\n",
    "    s = input('Enter a number: ').strip()\n",
    "\n",
    "    if s.isdigit():\n",
    "        total += int(s)\n",
    "    else:\n",
    "        print(f'{s} is not a number!')\n",
    "\n",
    "print(f'total = {total}')"
   ]
  },
  {
   "cell_type": "code",
   "execution_count": null,
   "id": "f0729775-0097-4223-9377-45dfcfcea147",
   "metadata": {},
   "outputs": [],
   "source": []
  },
  {
   "cell_type": "markdown",
   "id": "4fc13812-96b0-4f8d-8e30-f2b9d9be2d23",
   "metadata": {},
   "source": [
    "# Next up\n",
    "\n",
    "1. Iterating and indexes\n",
    "2. `while` loops\n",
    "3. Controlling our loops with `break` and `continue`"
   ]
  },
  {
   "cell_type": "code",
   "execution_count": 45,
   "id": "d5f85d32-b332-45fe-821a-d9f6be3d62af",
   "metadata": {},
   "outputs": [
    {
     "name": "stdin",
     "output_type": "stream",
     "text": [
      "Please enter a number 10\n"
     ]
    },
    {
     "name": "stdout",
     "output_type": "stream",
     "text": [
      "10\n"
     ]
    },
    {
     "name": "stdin",
     "output_type": "stream",
     "text": [
      "Please enter a number 20\n"
     ]
    },
    {
     "name": "stdout",
     "output_type": "stream",
     "text": [
      "30\n"
     ]
    },
    {
     "name": "stdin",
     "output_type": "stream",
     "text": [
      "Please enter a number 30\n"
     ]
    },
    {
     "name": "stdout",
     "output_type": "stream",
     "text": [
      "60\n"
     ]
    }
   ],
   "source": [
    "# AK\n",
    "total = 0\n",
    "for counter in range(3):\n",
    "  s = input('Please enter a number')\n",
    "\n",
    "  if s.isdigit():\n",
    "      total += int(s)\n",
    "  else:\n",
    "      print(f'{s} is not a digit')\n",
    "\n",
    "print(total)"
   ]
  },
  {
   "cell_type": "code",
   "execution_count": 47,
   "id": "ae0f7033-88fd-47b3-be68-49b42e3b3061",
   "metadata": {},
   "outputs": [
    {
     "name": "stdin",
     "output_type": "stream",
     "text": [
      "enter a number:  4\n",
      "enter a number:  hello\n"
     ]
    },
    {
     "name": "stdout",
     "output_type": "stream",
     "text": [
      "Hey you cannot use hello as a integer!\n"
     ]
    },
    {
     "name": "stdin",
     "output_type": "stream",
     "text": [
      "enter a number:  5\n"
     ]
    },
    {
     "name": "stdout",
     "output_type": "stream",
     "text": [
      "9\n"
     ]
    }
   ],
   "source": [
    "# RG \n",
    "\n",
    "total = 0\n",
    "\n",
    "for i in range(3):\n",
    "    numbers = input(\"enter a number: \").strip()\n",
    "    if numbers.isdigit():\n",
    "        total += int(numbers)\n",
    "    else:\n",
    "         print(f\"Hey you cannot use {numbers} as a integer!\")\n",
    "\n",
    "print(total)"
   ]
  },
  {
   "cell_type": "code",
   "execution_count": 48,
   "id": "51feb031-7425-4957-8fc4-d8fb687b261f",
   "metadata": {},
   "outputs": [
    {
     "name": "stdout",
     "output_type": "stream",
     "text": [
      "Hello\n"
     ]
    }
   ],
   "source": [
    "print('Hello')"
   ]
  },
  {
   "cell_type": "code",
   "execution_count": 49,
   "id": "b42359bc-fae2-4f72-83c5-454c38edad73",
   "metadata": {},
   "outputs": [
    {
     "name": "stdout",
     "output_type": "stream",
     "text": [
      "Hello\n"
     ]
    }
   ],
   "source": [
    "print(\"Hello\")"
   ]
  },
  {
   "cell_type": "markdown",
   "id": "ad2fbd5d-57b8-4737-94bf-f304bd4dbc4f",
   "metadata": {},
   "source": [
    "# Where's the index?\n",
    "\n",
    "In many (most?) programming languages, a `for` loop is much more complex than in Python. In such a language, you iterate over a range numbers, and then use those numbers as indexes to retrieve from a string, etc.\n",
    "\n",
    "In Python, we don't really have indexes, or need them. Yes, we can use `range`, but we do that when we want numbers, not because we have to use it to retrieve characters from a string.\n",
    "\n",
    "It all comes down to how smart the objects are, and how smart the `for` loop is.\n",
    "\n",
    "- In Python, the `for` loop is actually pretty small and dumb, but the objects are smart. The `for` loop's job is merely to ask the object for its next value. The object is really in charge!\n",
    "- In C, the `for` loop is doing all of the thinking, and the object is pretty dumb. We need, in those language, to have an index so that we can pull out the appropriate character from the string, etc.\n",
    "\n",
    "There are still some times when we'll want to have an index in Python. What do we do then?"
   ]
  },
  {
   "cell_type": "code",
   "execution_count": 51,
   "id": "34476d94-e1e5-4e6d-9449-884c38bc5c36",
   "metadata": {},
   "outputs": [
    {
     "name": "stdout",
     "output_type": "stream",
     "text": [
      "0: a\n",
      "1: b\n",
      "2: c\n",
      "3: d\n"
     ]
    }
   ],
   "source": [
    "# option 1: Do it manually\n",
    "\n",
    "s = 'abcd'\n",
    "index = 0\n",
    "\n",
    "for one_character in s:    # here, s is a string, the object over which we're iterating\n",
    "    print(f'{index}: {one_character}')   # print the character and its index\n",
    "    index += 1"
   ]
  },
  {
   "cell_type": "code",
   "execution_count": 52,
   "id": "23a240e0-7a95-4360-873f-c7ae42aa076a",
   "metadata": {},
   "outputs": [
    {
     "name": "stdout",
     "output_type": "stream",
     "text": [
      "0: a\n",
      "1: b\n",
      "2: c\n",
      "3: d\n"
     ]
    }
   ],
   "source": [
    "# option 2: Use enumerate\n",
    "\n",
    "# the \"enumerate\" builtin function is designed for exactly this purpose\n",
    "# it wraps around the object we want to iterate over\n",
    "# it then gives us, with each iteration, *two* values -- the current index and the current value\n",
    "\n",
    "s = 'abcd'\n",
    "\n",
    "for index, one_character in enumerate(s):    # we call enumerate on s to get elements + index\n",
    "    print(f'{index}: {one_character}')       # print the character and its index"
   ]
  },
  {
   "cell_type": "markdown",
   "id": "e16449ec-89ed-47cb-b400-6dbf7d767ec1",
   "metadata": {},
   "source": [
    "# What the heck is `enumerate` doing?\n",
    "\n",
    "When we have a `for` loop in Python, it *always* works this way:\n",
    "\n",
    "1. `for` turns to the object at the end of the line, and asks if it's iterable\n",
    "    - if not, we get an error\n",
    "2. `for` asks the object for its next value\n",
    "    - If we're at the end of the values, the loop ends\n",
    "3. `for` assigns the value it got to our loop variable\n",
    "4. The loop body executes\n",
    "5. We go back to step 2\n",
    "\n",
    "If we have a simple `for` loop, it works just fine:\n",
    "\n",
    "```python\n",
    "for one_character in 'abcd':\n",
    "    print(one_character)\n",
    "```\n",
    "If we use `enumerate`, it gets slightly more complex, because we get *two* values with each iteration:\n",
    "\n",
    "```python\n",
    "for index, one_character in enumerate('abcd'):\n",
    "    print(f'{index}: {one_character}')\n",
    "```"
   ]
  },
  {
   "cell_type": "markdown",
   "id": "d66d8ce2-363f-40e2-afba-1d9a1cc2e5b0",
   "metadata": {},
   "source": [
    "# What's wrong with `for` loops?\n",
    "\n",
    "A `for` loop is great if we know how many iterations we'll need. But what if we don't know? What if we want to run our loop until a certain condition is met?\n",
    "\n",
    "That's what we have `while` loops for. You can think of a `while` loop as an `if` statement that after executing its body goes back and checks the condition -- and if it's `True`, the body executes again.\n",
    "\n",
    "What if the condition will always be `True`? Then you have an *infinite loop*!  Make sure there's an \"escape hatch,\" allowing your loop to end at some point."
   ]
  },
  {
   "cell_type": "code",
   "execution_count": 53,
   "id": "60cb7efd-f56c-474f-bdad-5099544ef088",
   "metadata": {},
   "outputs": [
    {
     "name": "stdout",
     "output_type": "stream",
     "text": [
      "5\n",
      "4\n",
      "3\n",
      "2\n",
      "1\n"
     ]
    }
   ],
   "source": [
    "# here's a simple while loop:\n",
    "\n",
    "x = 5\n",
    "\n",
    "while x > 0:\n",
    "    print(x)\n",
    "    x -= 1   # reduce x by 1"
   ]
  },
  {
   "cell_type": "markdown",
   "id": "0552f22f-89a2-4f05-9615-58a177404cd2",
   "metadata": {},
   "source": [
    "# Exercise: Sum to 100\n",
    "\n",
    "1. Set `total` to be 0.\n",
    "2. Ask the user, repeatedly, to enter a number.\n",
    "    - If they enter something that isn't a number, scold them, and let them try again\n",
    "3. Turn the input into an integer, and add to `total`.\n",
    "4. Keep asking, so long as `total` is less than 100.\n",
    "5. When `total` is at least 100, print its value and stop asking.\n",
    "\n",
    "Example:\n",
    "\n",
    "    Enter number: 30\n",
    "    total is 30\n",
    "    Enter number: 50\n",
    "    total is 80\n",
    "    Enter number: tuna\n",
    "    tuna is not a number\n",
    "    Enter number: 30\n",
    "    total is 110"
   ]
  },
  {
   "cell_type": "code",
   "execution_count": 54,
   "id": "6bae83f0-478e-45f0-abad-0a897bde7448",
   "metadata": {},
   "outputs": [
    {
     "name": "stdin",
     "output_type": "stream",
     "text": [
      "Enter number:  30\n"
     ]
    },
    {
     "name": "stdout",
     "output_type": "stream",
     "text": [
      "\t30\n"
     ]
    },
    {
     "name": "stdin",
     "output_type": "stream",
     "text": [
      "Enter number:  50\n"
     ]
    },
    {
     "name": "stdout",
     "output_type": "stream",
     "text": [
      "\t80\n"
     ]
    },
    {
     "name": "stdin",
     "output_type": "stream",
     "text": [
      "Enter number:  tuna\n"
     ]
    },
    {
     "name": "stdout",
     "output_type": "stream",
     "text": [
      "tuna is not numeric\n"
     ]
    },
    {
     "name": "stdin",
     "output_type": "stream",
     "text": [
      "Enter number:  30\n"
     ]
    },
    {
     "name": "stdout",
     "output_type": "stream",
     "text": [
      "\t110\n",
      "Total is 110\n"
     ]
    }
   ],
   "source": [
    "total = 0\n",
    "\n",
    "while total < 100:\n",
    "    s = input('Enter number: ').strip()\n",
    "\n",
    "    if s.isdigit():\n",
    "        n = int(s)\n",
    "        total += n\n",
    "        print(f'\\t{total}')\n",
    "    else:\n",
    "        print(f'{s} is not numeric')\n",
    "\n",
    "print(f'Total is {total}')"
   ]
  },
  {
   "cell_type": "markdown",
   "id": "02bdf4bd-a139-46b0-bfb9-3dbe91b71ec8",
   "metadata": {},
   "source": [
    "# Controlling our loops\n",
    "\n",
    "If our loop (either `for` or `while`) is running, and we want to finish the loop right now, not waiting for it to go through all of the iterations, we can use a `break` statement. That stops the loop, and continues with the code immediately following it.\n",
    "\n",
    "This is especially useful if we are in a loop and have fulfilled our goals, found what we wanted, etc."
   ]
  },
  {
   "cell_type": "code",
   "execution_count": 57,
   "id": "10360320-ad44-4966-9f01-bda2855d8099",
   "metadata": {},
   "outputs": [
    {
     "name": "stdout",
     "output_type": "stream",
     "text": [
      "a\n",
      "b\n",
      "c\n",
      "Done with the loop\n"
     ]
    }
   ],
   "source": [
    "s = 'abcdef'\n",
    "look_for = 'd'\n",
    "\n",
    "for one_character in s:\n",
    "    if one_character == look_for:\n",
    "        break\n",
    "\n",
    "    print(one_character)\n",
    "print(f'Done with the loop')    "
   ]
  },
  {
   "cell_type": "markdown",
   "id": "6d7e3ce3-4966-4694-8fad-4fed2ebc8e50",
   "metadata": {},
   "source": [
    "Another keyword used to control our loops is `continue`, which means: Skip the rest of the loop body, and go onto the next iteration.\n",
    "\n",
    "This is often used if we have a value that isn't useful or legal, and we don't want to have lots of indentation with `if`/`else` blocks. So we identify the problem, use `continue` to go onto the next iteration, and we're fine."
   ]
  },
  {
   "cell_type": "code",
   "execution_count": 58,
   "id": "59dc0076-5146-41c1-91b4-a76b7e81e0b3",
   "metadata": {},
   "outputs": [
    {
     "name": "stdout",
     "output_type": "stream",
     "text": [
      "a\n",
      "b\n",
      "c\n",
      "e\n",
      "f\n",
      "Done with the loop\n"
     ]
    }
   ],
   "source": [
    "s = 'abcdef'\n",
    "look_for = 'd'\n",
    "\n",
    "for one_character in s:\n",
    "    if one_character == look_for:\n",
    "        continue\n",
    "\n",
    "    print(one_character)\n",
    "print(f'Done with the loop')    "
   ]
  },
  {
   "cell_type": "code",
   "execution_count": 59,
   "id": "957b456d-6ec4-4325-94c7-425f06d96241",
   "metadata": {},
   "outputs": [
    {
     "name": "stdin",
     "output_type": "stream",
     "text": [
      "Enter your name:  Reuven\n"
     ]
    },
    {
     "name": "stdout",
     "output_type": "stream",
     "text": [
      "Hello, Reuven!\n"
     ]
    },
    {
     "name": "stdin",
     "output_type": "stream",
     "text": [
      "Enter your name:  someone else\n"
     ]
    },
    {
     "name": "stdout",
     "output_type": "stream",
     "text": [
      "Hello, someone else!\n"
     ]
    },
    {
     "name": "stdin",
     "output_type": "stream",
     "text": [
      "Enter your name:  blah blah blah\n"
     ]
    },
    {
     "name": "stdout",
     "output_type": "stream",
     "text": [
      "Hello, blah blah blah!\n"
     ]
    },
    {
     "name": "stdin",
     "output_type": "stream",
     "text": [
      "Enter your name:  \n"
     ]
    }
   ],
   "source": [
    "# my favorite example of using \"break\"\n",
    "\n",
    "while True:    # yes, this is an infinite loop!\n",
    "    name = input('Enter your name: ').strip()\n",
    "\n",
    "    if name == '':   # this is our escape hatch, an empty string\n",
    "        break\n",
    "\n",
    "    print(f'Hello, {name}!')"
   ]
  },
  {
   "cell_type": "markdown",
   "id": "289d5d59-1b05-405c-b9ad-faa638a88586",
   "metadata": {},
   "source": [
    "# Why do we need `int`, if we've already checked `str.isdigit()`?\n",
    "\n",
    "`isdigit` is a *string* method. It only works on strings, to see if we can turn them into integers. Just because `isdigit` returns `True` doesn't make something an integer. On the contrary, it means that the value is *not* an integer, that it is a string, and we need to (and can) convert it."
   ]
  },
  {
   "cell_type": "markdown",
   "id": "ef714438-cb73-4439-9b61-f522a8866355",
   "metadata": {},
   "source": [
    "# Exercise: Summing digits\n",
    "\n",
    "1. Define `total` to be 0.\n",
    "2. Ask the user to enter a string containing digits.\n",
    "    - If you get the empty string, stop asking, and `break` out of the loop\n",
    "3. Go through each digit in the string, one at a time, with a `for` loop\n",
    "4. If the character is not a digit, scold the user\n",
    "5. If the character *is* a digit, then convert it to an integer and add to `total`.\n",
    "6. When you're done summing all digits in all of the user's inputs, print the total.\n",
    "\n",
    "Example:\n",
    "\n",
    "    Enter numbers: 123\n",
    "    Enter numbers: 4a5\n",
    "    a is not a number\n",
    "    Enter numbers: [ENTER]\n",
    "    Total is 15\n"
   ]
  },
  {
   "cell_type": "code",
   "execution_count": 61,
   "id": "9edfbaf3-d6ae-4af3-b72e-1b2ecf6b69f7",
   "metadata": {},
   "outputs": [
    {
     "name": "stdin",
     "output_type": "stream",
     "text": [
      "Enter numbers:  1234\n",
      "Enter numbers:  5678\n",
      "Enter numbers:  9h0\n"
     ]
    },
    {
     "name": "stdout",
     "output_type": "stream",
     "text": [
      "h is not numeric!\n"
     ]
    },
    {
     "name": "stdin",
     "output_type": "stream",
     "text": [
      "Enter numbers:  \n"
     ]
    },
    {
     "name": "stdout",
     "output_type": "stream",
     "text": [
      "45\n"
     ]
    }
   ],
   "source": [
    "total = 0\n",
    "\n",
    "while True:\n",
    "    s = input('Enter numbers: ').strip()\n",
    "\n",
    "    if s == '':    # exit if we got an empty string\n",
    "        break\n",
    "    \n",
    "    for one_character in s:\n",
    "        if one_character.isdigit():\n",
    "            n = int(one_character)\n",
    "            total += n\n",
    "        else:\n",
    "            print(f'{one_character} is not numeric!')\n",
    "\n",
    "print(total)"
   ]
  },
  {
   "cell_type": "code",
   "execution_count": 64,
   "id": "c7372d93-462c-483e-a813-237a6cf9d0e4",
   "metadata": {
    "scrolled": true
   },
   "outputs": [
    {
     "name": "stdin",
     "output_type": "stream",
     "text": [
      "enter a number:  123\n",
      "enter a number:  456\n",
      "enter a number:  9a0\n"
     ]
    },
    {
     "name": "stdout",
     "output_type": "stream",
     "text": [
      "Hey a is not a digit!\n"
     ]
    },
    {
     "name": "stdin",
     "output_type": "stream",
     "text": [
      "enter a number:  \n"
     ]
    },
    {
     "name": "stdout",
     "output_type": "stream",
     "text": [
      "30 is total.\n"
     ]
    }
   ],
   "source": [
    "total = 0\n",
    "\n",
    "while True:\n",
    "    numbers = input(\"enter a number: \").strip()\n",
    "    if numbers == '':\n",
    "            break\n",
    "    for i in numbers:\n",
    "          if i.isdigit():\n",
    "                total += int(i)\n",
    "          else:\n",
    "                print(f\"Hey {i} is not a digit!\")\n",
    "\n",
    "print(f\"{total} is total.\")"
   ]
  },
  {
   "cell_type": "code",
   "execution_count": 63,
   "id": "b9a11737-b33b-4649-8a12-fc5ce96ab8f0",
   "metadata": {},
   "outputs": [
    {
     "data": {
      "text/plain": [
       "36"
      ]
     },
     "execution_count": 63,
     "metadata": {},
     "output_type": "execute_result"
    }
   ],
   "source": [
    "# the point of the exercise was to get strings of digits from the user,\n",
    "# and add the digits up (not taking the inputs as full numbers)\n",
    "\n",
    "1 + 2 + 3 + 4 + 5 + 6 + 7 + 8"
   ]
  },
  {
   "cell_type": "code",
   "execution_count": null,
   "id": "36583f21-f0c3-4897-b82b-8bce15b114cf",
   "metadata": {},
   "outputs": [],
   "source": []
  },
  {
   "cell_type": "markdown",
   "id": "7c26b0f1-f934-4224-97b3-1ad41c9a56f2",
   "metadata": {},
   "source": [
    "# Next up\n",
    "\n",
    "- Lists -- creating, retrieving, etc.\n",
    "- Using lists containing many different things\n",
    "- Lists are mutable!\n",
    "\n"
   ]
  },
  {
   "cell_type": "markdown",
   "id": "6e3fee84-3eef-4afa-881b-00d5984cf63a",
   "metadata": {},
   "source": [
    "So far, the data structures we've used and talked about are all relatively simple:\n",
    "\n",
    "- Integers contain numbers\n",
    "- Floats contain numbers\n",
    "- Strings contain characters\n",
    "\n",
    "Lists are our first real \"container\" class, something that can contain other objects -- and any other objects we want.\n",
    "\n",
    "A list can indeed contain any number of any values we want. Traditionally, Python's lists are used to store values of one type. So you'll have a list of integers, a list of strings, a list of lists. There isn't any enforcement of this, but it's a strong tradition.\n",
    "\n",
    "We define a list with `[]`:\n",
    "- An empty list is indeed just `[]`\n",
    "- A list containing values separates them with `,` (commas) inside of the `[]`"
   ]
  },
  {
   "cell_type": "code",
   "execution_count": 65,
   "id": "c6e3fe15-2515-43cc-a2d4-a19b28fb1b3f",
   "metadata": {},
   "outputs": [
    {
     "data": {
      "text/plain": [
       "0"
      ]
     },
     "execution_count": 65,
     "metadata": {},
     "output_type": "execute_result"
    }
   ],
   "source": [
    "mylist = []    # empty list\n",
    "len(mylist)    # how many elements are there in mylist"
   ]
  },
  {
   "cell_type": "code",
   "execution_count": 66,
   "id": "d7b90848-b1c6-4643-a89b-00085885af0d",
   "metadata": {},
   "outputs": [
    {
     "data": {
      "text/plain": [
       "3"
      ]
     },
     "execution_count": 66,
     "metadata": {},
     "output_type": "execute_result"
    }
   ],
   "source": [
    "mylist = [10, 20, 30]   # define a list with 3 integers\n",
    "len(mylist)"
   ]
  },
  {
   "cell_type": "code",
   "execution_count": 67,
   "id": "861c8d6b-339b-4518-a7b9-313326ee08ad",
   "metadata": {},
   "outputs": [
    {
     "data": {
      "text/plain": [
       "10"
      ]
     },
     "execution_count": 67,
     "metadata": {},
     "output_type": "execute_result"
    }
   ],
   "source": [
    "# we can retrieve elements from a list using [] and a numeric index\n",
    "mylist = [10, 20, 30, 40, 50, 60, 70, 80, 90, 100]\n",
    "\n",
    "mylist[0]   # this retrieves the first item"
   ]
  },
  {
   "cell_type": "code",
   "execution_count": 68,
   "id": "d329f626-db22-47d5-90d8-41e182b3a0b3",
   "metadata": {},
   "outputs": [
    {
     "data": {
      "text/plain": [
       "20"
      ]
     },
     "execution_count": 68,
     "metadata": {},
     "output_type": "execute_result"
    }
   ],
   "source": [
    "mylist[1]  # this retrieves the second item"
   ]
  },
  {
   "cell_type": "code",
   "execution_count": 69,
   "id": "6a615250-51e6-4ff4-b60d-c82dca09135a",
   "metadata": {},
   "outputs": [
    {
     "data": {
      "text/plain": [
       "60"
      ]
     },
     "execution_count": 69,
     "metadata": {},
     "output_type": "execute_result"
    }
   ],
   "source": [
    "i = 5\n",
    "mylist[i]  # use a variable instead of a straight integer"
   ]
  },
  {
   "cell_type": "code",
   "execution_count": 70,
   "id": "112ad7ba-19c6-486f-873b-4d38f9a97991",
   "metadata": {},
   "outputs": [
    {
     "data": {
      "text/plain": [
       "100"
      ]
     },
     "execution_count": 70,
     "metadata": {},
     "output_type": "execute_result"
    }
   ],
   "source": [
    "mylist[ len(mylist) -1  ]   # the length is the max index + 1"
   ]
  },
  {
   "cell_type": "code",
   "execution_count": 71,
   "id": "1eeb922d-a498-476d-901c-2abca8c8585b",
   "metadata": {},
   "outputs": [
    {
     "data": {
      "text/plain": [
       "100"
      ]
     },
     "execution_count": 71,
     "metadata": {},
     "output_type": "execute_result"
    }
   ],
   "source": [
    "# or I can just use a negative index\n",
    "mylist[-1]"
   ]
  },
  {
   "cell_type": "code",
   "execution_count": 72,
   "id": "077de0cd-5547-41ba-a3b7-89baaf150847",
   "metadata": {},
   "outputs": [
    {
     "data": {
      "text/plain": [
       "True"
      ]
     },
     "execution_count": 72,
     "metadata": {},
     "output_type": "execute_result"
    }
   ],
   "source": [
    "# I can search in a list with \"in\"\n",
    "\n",
    "50 in mylist"
   ]
  },
  {
   "cell_type": "code",
   "execution_count": 73,
   "id": "49722133-cc69-4c41-80fd-4c2b205addfe",
   "metadata": {},
   "outputs": [
    {
     "data": {
      "text/plain": [
       "False"
      ]
     },
     "execution_count": 73,
     "metadata": {},
     "output_type": "execute_result"
    }
   ],
   "source": [
    "1234 in mylist"
   ]
  },
  {
   "cell_type": "code",
   "execution_count": 75,
   "id": "5284e44b-5c69-492d-9381-bd38f2ae8bff",
   "metadata": {},
   "outputs": [
    {
     "data": {
      "text/plain": [
       "[30, 40, 50, 60, 70]"
      ]
     },
     "execution_count": 75,
     "metadata": {},
     "output_type": "execute_result"
    }
   ],
   "source": [
    "# get a slice with [start:end]\n",
    "mylist[2:7]  # starting at index 2, until (not including) index 7"
   ]
  },
  {
   "cell_type": "code",
   "execution_count": 76,
   "id": "1a92f4bf-485e-4669-b72e-d2f38542077a",
   "metadata": {},
   "outputs": [
    {
     "data": {
      "text/plain": [
       "['this', 'is', 'a', 'list', 'of', 'strings']"
      ]
     },
     "execution_count": 76,
     "metadata": {},
     "output_type": "execute_result"
    }
   ],
   "source": [
    "mylist = ['this', 'is', 'a', 'list', 'of', 'strings']\n",
    "mylist"
   ]
  },
  {
   "cell_type": "code",
   "execution_count": 77,
   "id": "49ea5709-34cd-4145-8495-9cad19c2ede2",
   "metadata": {},
   "outputs": [
    {
     "data": {
      "text/plain": [
       "False"
      ]
     },
     "execution_count": 77,
     "metadata": {},
     "output_type": "execute_result"
    }
   ],
   "source": [
    "'i' in mylist"
   ]
  },
  {
   "cell_type": "code",
   "execution_count": 78,
   "id": "bad13971-59af-4d57-8f48-49abe95bd493",
   "metadata": {},
   "outputs": [
    {
     "name": "stdout",
     "output_type": "stream",
     "text": [
      "0: this\n",
      "1: is\n",
      "2: a\n",
      "3: list\n",
      "4: of\n",
      "5: strings\n"
     ]
    }
   ],
   "source": [
    "for index, one_item in enumerate(mylist):\n",
    "    print(f'{index}: {one_item}')"
   ]
  },
  {
   "cell_type": "code",
   "execution_count": 79,
   "id": "93da2820-d755-49ef-b55f-aa4c3a8f2557",
   "metadata": {},
   "outputs": [
    {
     "name": "stdout",
     "output_type": "stream",
     "text": [
      "this\n",
      "is\n",
      "a\n",
      "list\n",
      "of\n",
      "strings\n"
     ]
    }
   ],
   "source": [
    "for one_item in mylist:\n",
    "    print(one_item)"
   ]
  },
  {
   "cell_type": "code",
   "execution_count": 80,
   "id": "3fe2195e-7021-4051-8161-7c6a2d294c6b",
   "metadata": {},
   "outputs": [
    {
     "data": {
      "text/plain": [
       "['this', 'is', 'a', 'list', 'of', 'strings']"
      ]
     },
     "execution_count": 80,
     "metadata": {},
     "output_type": "execute_result"
    }
   ],
   "source": [
    "mylist"
   ]
  },
  {
   "cell_type": "code",
   "execution_count": 81,
   "id": "ab3700b7-5035-444d-a2d5-1342891a930f",
   "metadata": {},
   "outputs": [
    {
     "data": {
      "text/plain": [
       "False"
      ]
     },
     "execution_count": 81,
     "metadata": {},
     "output_type": "execute_result"
    }
   ],
   "source": [
    "'i' in mylist"
   ]
  },
  {
   "cell_type": "code",
   "execution_count": 82,
   "id": "e76bde81-008e-4301-bd1d-9ce1367002e5",
   "metadata": {},
   "outputs": [
    {
     "data": {
      "text/plain": [
       "'is'"
      ]
     },
     "execution_count": 82,
     "metadata": {},
     "output_type": "execute_result"
    }
   ],
   "source": [
    "mylist[1]"
   ]
  },
  {
   "cell_type": "code",
   "execution_count": 83,
   "id": "4ddea967-0ccc-4261-813f-68abbc683ae0",
   "metadata": {},
   "outputs": [
    {
     "data": {
      "text/plain": [
       "True"
      ]
     },
     "execution_count": 83,
     "metadata": {},
     "output_type": "execute_result"
    }
   ],
   "source": [
    "'i' in mylist[1]"
   ]
  },
  {
   "cell_type": "code",
   "execution_count": 84,
   "id": "0b19e44c-a22a-47fd-939a-2c0e81c38365",
   "metadata": {},
   "outputs": [
    {
     "data": {
      "text/plain": [
       "['this', 'is', 'a', 'list', 'of', 'strings']"
      ]
     },
     "execution_count": 84,
     "metadata": {},
     "output_type": "execute_result"
    }
   ],
   "source": [
    "# lists are mutable!\n",
    "# that means, we can modify their contents!\n",
    "\n",
    "mylist"
   ]
  },
  {
   "cell_type": "code",
   "execution_count": 85,
   "id": "148c339a-858f-42a2-aa21-79cb2cb415dd",
   "metadata": {},
   "outputs": [
    {
     "data": {
      "text/plain": [
       "['!!!!!', 'is', 'a', 'list', 'of', 'strings']"
      ]
     },
     "execution_count": 85,
     "metadata": {},
     "output_type": "execute_result"
    }
   ],
   "source": [
    "mylist[0] = '!!!!!'\n",
    "mylist"
   ]
  },
  {
   "cell_type": "code",
   "execution_count": 86,
   "id": "ec7d5de3-5d1a-476b-940a-8b3ff3b5631d",
   "metadata": {},
   "outputs": [
    {
     "data": {
      "text/plain": [
       "['!!!!!', 'is', 'a', 'list', 'of', 'strings', 'hello!']"
      ]
     },
     "execution_count": 86,
     "metadata": {},
     "output_type": "execute_result"
    }
   ],
   "source": [
    "# we can add a new element to a list, thus making it longer than before, with the \"append\" method\n",
    "\n",
    "mylist.append('hello!')   # whatever you pass to list.append is added as a new element (the final one) of the list\n",
    "mylist"
   ]
  },
  {
   "cell_type": "code",
   "execution_count": 87,
   "id": "46837932-83d2-49b2-b5ce-99cb05438eb2",
   "metadata": {},
   "outputs": [
    {
     "data": {
      "text/plain": [
       "'hello!'"
      ]
     },
     "execution_count": 87,
     "metadata": {},
     "output_type": "execute_result"
    }
   ],
   "source": [
    "# you can remove the final element of a list with the list.pop method\n",
    "# this both removes and returns the final element\n",
    "\n",
    "mylist.pop()"
   ]
  },
  {
   "cell_type": "code",
   "execution_count": 88,
   "id": "25695534-271c-43e1-a39a-800b4aa1d0a3",
   "metadata": {},
   "outputs": [
    {
     "data": {
      "text/plain": [
       "['!!!!!', 'is', 'a', 'list', 'of', 'strings']"
      ]
     },
     "execution_count": 88,
     "metadata": {},
     "output_type": "execute_result"
    }
   ],
   "source": [
    "mylist"
   ]
  },
  {
   "cell_type": "markdown",
   "id": "d85ff6a4-949f-4a20-9faf-8e120b7639bc",
   "metadata": {},
   "source": [
    "# Where do we use lists?\n",
    "\n",
    "- Lists are great for accumulating information over time\n",
    "- Lists are great for ordered collections -- files in a folder, users in a database, records in a database\n",
    "- Lists are the default collection type in Python"
   ]
  },
  {
   "cell_type": "markdown",
   "id": "e0771632-284d-456a-af9a-faf11de885a1",
   "metadata": {},
   "source": [
    "# What the heck is `pop`?\n",
    "\n",
    "In CS theory, we talk about a data structure called a \"stack.\"  This is sort of like a stack of plates, where you can add one (\"push\") to the top, or remove one (\"pop\") from the top, as well.\n",
    "\n",
    "A stack is also known as a LIFO, last in + first out. That's what `append` and `pop` provide us with on Python lists.\n",
    "\n"
   ]
  },
  {
   "cell_type": "markdown",
   "id": "83f4d10b-0560-4221-9783-aa37adb7fd45",
   "metadata": {},
   "source": [
    "# What if we want to add multiple elements to the end of the list?\n",
    "\n",
    "The `append` method adds, as one element, whatever you hand to it.\n",
    "\n",
    "If you want to add more than one item, I prefer to use the `+=` operator. It looks to its right, and runs a `for` loop on whatever it sees, adding each element one-by-one to our list"
   ]
  },
  {
   "cell_type": "code",
   "execution_count": 89,
   "id": "12e71c41-9ed0-46e4-80c2-c11ea1e612b6",
   "metadata": {},
   "outputs": [
    {
     "data": {
      "text/plain": [
       "[10, 20, 30, 40, 50, 60]"
      ]
     },
     "execution_count": 89,
     "metadata": {},
     "output_type": "execute_result"
    }
   ],
   "source": [
    "mylist = [10, 20, 30]\n",
    "mylist += [40, 50, 60]  \n",
    "\n",
    "mylist"
   ]
  },
  {
   "cell_type": "code",
   "execution_count": 90,
   "id": "fb2f13a0-46cc-4cdd-8afa-431602087fa2",
   "metadata": {},
   "outputs": [
    {
     "data": {
      "text/plain": [
       "[10, 20, 30, [40, 50, 60]]"
      ]
     },
     "execution_count": 90,
     "metadata": {},
     "output_type": "execute_result"
    }
   ],
   "source": [
    "# don't use append for this!\n",
    "mylist = [10, 20, 30]\n",
    "mylist.append([40, 50, 60])\n",
    "\n",
    "mylist"
   ]
  },
  {
   "cell_type": "code",
   "execution_count": 91,
   "id": "2700dcbe-5afe-4e3f-ae72-be375a6831aa",
   "metadata": {},
   "outputs": [
    {
     "data": {
      "text/plain": [
       "[10, 20, 30, 'a', 'b', 'c', 'd']"
      ]
     },
     "execution_count": 91,
     "metadata": {},
     "output_type": "execute_result"
    }
   ],
   "source": [
    "# += works with anything on the right side that's iterable, including a string!\n",
    "\n",
    "mylist = [10, 20, 30]\n",
    "mylist += 'abcd'\n",
    "\n",
    "mylist"
   ]
  },
  {
   "cell_type": "markdown",
   "id": "17b48ffc-11f4-447c-aa81-c96cad717a3f",
   "metadata": {},
   "source": [
    "# Exercise: Odds and evens\n",
    "\n",
    "1. Define two empty lists, `odds` and `evens`.\n",
    "2. Ask the user, repeatedly, to enter a number.\n",
    "    - If you get the empty string, stop asking and print `odds` and `evens`\n",
    "    - If you get a non-number, then scold the user\n",
    "3. Turn the string into a number (with `int`), then check if the number is odd or even\n",
    "    - If the number is odd, append it to `odds`\n",
    "    - If the number is even, append it to `evens`\n",
    "4. In the end, print both\n",
    "\n",
    "How can you know if a number is odd or even in Python? Divide it by 2, and if the remainder is 1, it's odd. If the remainder is 0, it's even. You can get the remainder from division with the `%` (modulo) operator.\n",
    "\n",
    "Example:\n",
    "\n",
    "    Enter a number: 10\n",
    "    Enter a number: 15\n",
    "    Enter a number: 27\n",
    "    Enter a number: 40\n",
    "    Enter a number: [ENTER]\n",
    "    Odds: [15, 27]\n",
    "    Evens: [10, 40]"
   ]
  },
  {
   "cell_type": "markdown",
   "id": "8fc01e8f-a7a8-4e44-b4a8-949223783044",
   "metadata": {},
   "source": [
    "- If you want to add one item to a list, use the \"append\" method\n",
    "- If you want to add *MORE THAN ONE* item to a list, use `+=`\n",
    "\n",
    "If you try to use `+=` to add something that isn't iterable (e.g., a number), then you'll get an error."
   ]
  },
  {
   "cell_type": "code",
   "execution_count": 95,
   "id": "b47b9700-b499-4bc6-ab95-6eae2c1adc0f",
   "metadata": {
    "scrolled": true
   },
   "outputs": [
    {
     "name": "stdin",
     "output_type": "stream",
     "text": [
      "Enter a number:  10\n",
      "Enter a number:  hello\n"
     ]
    },
    {
     "name": "stdout",
     "output_type": "stream",
     "text": [
      "hello is not numeric\n"
     ]
    },
    {
     "name": "stdin",
     "output_type": "stream",
     "text": [
      "Enter a number:  12\n",
      "Enter a number:  15\n",
      "Enter a number:  \n"
     ]
    },
    {
     "name": "stdout",
     "output_type": "stream",
     "text": [
      " is not numeric\n"
     ]
    },
    {
     "name": "stdin",
     "output_type": "stream",
     "text": [
      "Enter a number:  \n"
     ]
    },
    {
     "name": "stdout",
     "output_type": "stream",
     "text": [
      " is not numeric\n"
     ]
    },
    {
     "ename": "KeyboardInterrupt",
     "evalue": "Interrupted by user",
     "output_type": "error",
     "traceback": [
      "\u001b[0;31m---------------------------------------------------------------------------\u001b[0m",
      "\u001b[0;31mKeyboardInterrupt\u001b[0m                         Traceback (most recent call last)",
      "Cell \u001b[0;32mIn[95], line 6\u001b[0m\n\u001b[1;32m      2\u001b[0m evens \u001b[38;5;241m=\u001b[39m []\n\u001b[1;32m      4\u001b[0m \u001b[38;5;28;01mwhile\u001b[39;00m \u001b[38;5;28;01mTrue\u001b[39;00m:\n\u001b[0;32m----> 6\u001b[0m     s \u001b[38;5;241m=\u001b[39m \u001b[38;5;28;43minput\u001b[39;49m\u001b[43m(\u001b[49m\u001b[38;5;124;43m'\u001b[39;49m\u001b[38;5;124;43mEnter a number: \u001b[39;49m\u001b[38;5;124;43m'\u001b[39;49m\u001b[43m)\u001b[49m\u001b[38;5;241m.\u001b[39mstrip()\n\u001b[1;32m      8\u001b[0m     \u001b[38;5;28;01mif\u001b[39;00m s\u001b[38;5;241m.\u001b[39misdigit():\n\u001b[1;32m     10\u001b[0m         \u001b[38;5;28;01mif\u001b[39;00m s \u001b[38;5;241m==\u001b[39m \u001b[38;5;124m'\u001b[39m\u001b[38;5;124m'\u001b[39m:\n",
      "File \u001b[0;32m~/.pyenv/versions/3.12.1/lib/python3.12/site-packages/ipykernel/kernelbase.py:1262\u001b[0m, in \u001b[0;36mKernel.raw_input\u001b[0;34m(self, prompt)\u001b[0m\n\u001b[1;32m   1260\u001b[0m     msg \u001b[38;5;241m=\u001b[39m \u001b[38;5;124m\"\u001b[39m\u001b[38;5;124mraw_input was called, but this frontend does not support input requests.\u001b[39m\u001b[38;5;124m\"\u001b[39m\n\u001b[1;32m   1261\u001b[0m     \u001b[38;5;28;01mraise\u001b[39;00m StdinNotImplementedError(msg)\n\u001b[0;32m-> 1262\u001b[0m \u001b[38;5;28;01mreturn\u001b[39;00m \u001b[38;5;28;43mself\u001b[39;49m\u001b[38;5;241;43m.\u001b[39;49m\u001b[43m_input_request\u001b[49m\u001b[43m(\u001b[49m\n\u001b[1;32m   1263\u001b[0m \u001b[43m    \u001b[49m\u001b[38;5;28;43mstr\u001b[39;49m\u001b[43m(\u001b[49m\u001b[43mprompt\u001b[49m\u001b[43m)\u001b[49m\u001b[43m,\u001b[49m\n\u001b[1;32m   1264\u001b[0m \u001b[43m    \u001b[49m\u001b[38;5;28;43mself\u001b[39;49m\u001b[38;5;241;43m.\u001b[39;49m\u001b[43m_parent_ident\u001b[49m\u001b[43m[\u001b[49m\u001b[38;5;124;43m\"\u001b[39;49m\u001b[38;5;124;43mshell\u001b[39;49m\u001b[38;5;124;43m\"\u001b[39;49m\u001b[43m]\u001b[49m\u001b[43m,\u001b[49m\n\u001b[1;32m   1265\u001b[0m \u001b[43m    \u001b[49m\u001b[38;5;28;43mself\u001b[39;49m\u001b[38;5;241;43m.\u001b[39;49m\u001b[43mget_parent\u001b[49m\u001b[43m(\u001b[49m\u001b[38;5;124;43m\"\u001b[39;49m\u001b[38;5;124;43mshell\u001b[39;49m\u001b[38;5;124;43m\"\u001b[39;49m\u001b[43m)\u001b[49m\u001b[43m,\u001b[49m\n\u001b[1;32m   1266\u001b[0m \u001b[43m    \u001b[49m\u001b[43mpassword\u001b[49m\u001b[38;5;241;43m=\u001b[39;49m\u001b[38;5;28;43;01mFalse\u001b[39;49;00m\u001b[43m,\u001b[49m\n\u001b[1;32m   1267\u001b[0m \u001b[43m\u001b[49m\u001b[43m)\u001b[49m\n",
      "File \u001b[0;32m~/.pyenv/versions/3.12.1/lib/python3.12/site-packages/ipykernel/kernelbase.py:1305\u001b[0m, in \u001b[0;36mKernel._input_request\u001b[0;34m(self, prompt, ident, parent, password)\u001b[0m\n\u001b[1;32m   1302\u001b[0m \u001b[38;5;28;01mexcept\u001b[39;00m \u001b[38;5;167;01mKeyboardInterrupt\u001b[39;00m:\n\u001b[1;32m   1303\u001b[0m     \u001b[38;5;66;03m# re-raise KeyboardInterrupt, to truncate traceback\u001b[39;00m\n\u001b[1;32m   1304\u001b[0m     msg \u001b[38;5;241m=\u001b[39m \u001b[38;5;124m\"\u001b[39m\u001b[38;5;124mInterrupted by user\u001b[39m\u001b[38;5;124m\"\u001b[39m\n\u001b[0;32m-> 1305\u001b[0m     \u001b[38;5;28;01mraise\u001b[39;00m \u001b[38;5;167;01mKeyboardInterrupt\u001b[39;00m(msg) \u001b[38;5;28;01mfrom\u001b[39;00m \u001b[38;5;28;01mNone\u001b[39;00m\n\u001b[1;32m   1306\u001b[0m \u001b[38;5;28;01mexcept\u001b[39;00m \u001b[38;5;167;01mException\u001b[39;00m:\n\u001b[1;32m   1307\u001b[0m     \u001b[38;5;28mself\u001b[39m\u001b[38;5;241m.\u001b[39mlog\u001b[38;5;241m.\u001b[39mwarning(\u001b[38;5;124m\"\u001b[39m\u001b[38;5;124mInvalid Message:\u001b[39m\u001b[38;5;124m\"\u001b[39m, exc_info\u001b[38;5;241m=\u001b[39m\u001b[38;5;28;01mTrue\u001b[39;00m)\n",
      "\u001b[0;31mKeyboardInterrupt\u001b[0m: Interrupted by user"
     ]
    }
   ],
   "source": [
    "odds = []\n",
    "evens = []\n",
    "\n",
    "while True:\n",
    "    s = input('Enter a number: ').strip()\n",
    "\n",
    "    if s == '':\n",
    "       break\n",
    "\n",
    "    if not s.isdigit():     # isdigit returns True if the string contains only digits 0-9 (any number of them)\n",
    "        print(f'{s} is not numeric')\n",
    "        continue    # go onto the next iteration; ignore the rest of the loop body\n",
    "\n",
    "    n = int(s)\n",
    "    \n",
    "    if n % 2 == 1:       # if we have a remainder of 1 after dividing n by 2, it's odd\n",
    "        odds.append(n)\n",
    "    else:\n",
    "        evens.append(n)   \n",
    "\n",
    "print(f'odds = {odds}')\n",
    "print(f'evens = {evens}')"
   ]
  },
  {
   "cell_type": "code",
   "execution_count": null,
   "id": "30f8f468-3ba3-4b99-9019-03b2cdf57676",
   "metadata": {},
   "outputs": [],
   "source": [
    "numbers = input(\"Enter any number: \").strip()\n",
    "\n",
    "if numbers == '':\n",
    "    break\n",
    "elif numbers.isdigit():\n",
    "    n = int(numbers)\n",
    "    if n % 2 == 1:\n",
    "        odds.append(n)\n",
    "    elif n % 2 == 0:\n",
    "        evens.append(n)\n",
    "\n",
    "print(odds)\n",
    "print(evens)"
   ]
  },
  {
   "cell_type": "markdown",
   "id": "132230a0-3570-46c6-8045-e4b2b82773ce",
   "metadata": {},
   "source": [
    "# Converting data\n",
    "\n",
    "If we have data, and we want to get it into another type, we can always invoke the destination type as a function.\n",
    "\n",
    "- `str(x)` gives us a new string, based on `x`\n",
    "- `int(x)` gives us a new integer, based on `x`\n",
    "\n",
    "What if we have a string, and we want to get a list from it?  Can we just call `list` on it?"
   ]
  },
  {
   "cell_type": "code",
   "execution_count": 97,
   "id": "739946fb-86c8-443b-8362-7f755a90a4b1",
   "metadata": {},
   "outputs": [
    {
     "data": {
      "text/plain": [
       "['a', 'b', 'c', 'd', 'e']"
      ]
     },
     "execution_count": 97,
     "metadata": {},
     "output_type": "execute_result"
    }
   ],
   "source": [
    "s = 'abcde'\n",
    "\n",
    "list(s)   # this runs a for loop on the string, and returns a list of characters!"
   ]
  },
  {
   "cell_type": "code",
   "execution_count": 98,
   "id": "ea455a69-51c2-4f6d-aedb-7b056d74a58e",
   "metadata": {},
   "outputs": [
    {
     "data": {
      "text/plain": [
       "['a', 'b', 'c', 'd', ':', 'e', 'f', ':', 'g', 'h', 'i']"
      ]
     },
     "execution_count": 98,
     "metadata": {},
     "output_type": "execute_result"
    }
   ],
   "source": [
    "# what if my string looks like this:\n",
    "\n",
    "s = 'abcd:ef:ghi'\n",
    "\n",
    "list(s)"
   ]
  },
  {
   "cell_type": "code",
   "execution_count": 99,
   "id": "8501ece6-75b3-4373-8af6-6116f6d9dffd",
   "metadata": {},
   "outputs": [
    {
     "data": {
      "text/plain": [
       "['abcd', 'ef', 'ghi']"
      ]
     },
     "execution_count": 99,
     "metadata": {},
     "output_type": "execute_result"
    }
   ],
   "source": [
    "# instead, I'll use the str.split method\n",
    "# split *always* returns a list of strings\n",
    "# we just need to tell it what character should be seen as the separator\n",
    "\n",
    "s.split(':')  # this returns a list of strings, based on s, cutting wherever there's a colon\n"
   ]
  },
  {
   "cell_type": "code",
   "execution_count": 100,
   "id": "60ae8ee4-80e7-4e81-b2b7-0b21971962b0",
   "metadata": {},
   "outputs": [
    {
     "data": {
      "text/plain": [
       "['this', 'is', 'a', 'bunch', 'of', 'words']"
      ]
     },
     "execution_count": 100,
     "metadata": {},
     "output_type": "execute_result"
    }
   ],
   "source": [
    "# I can also do this\n",
    "\n",
    "s = 'this is a bunch of words'\n",
    "s.split(' ')  # we'll get a list of strings back, using ' ' as the delimiter"
   ]
  },
  {
   "cell_type": "code",
   "execution_count": 101,
   "id": "dee32269-4b30-456b-a595-014aeb513f55",
   "metadata": {},
   "outputs": [
    {
     "data": {
      "text/plain": [
       "['this',\n",
       " '',\n",
       " 'is',\n",
       " '',\n",
       " '',\n",
       " 'a',\n",
       " '',\n",
       " '',\n",
       " '',\n",
       " 'bunch',\n",
       " '',\n",
       " '',\n",
       " '',\n",
       " '',\n",
       " 'of',\n",
       " 'words']"
      ]
     },
     "execution_count": 101,
     "metadata": {},
     "output_type": "execute_result"
    }
   ],
   "source": [
    "# things can get a bit stickier, though:\n",
    "\n",
    "s = 'this  is   a    bunch     of words'\n",
    "s.split(' ')  "
   ]
  },
  {
   "cell_type": "code",
   "execution_count": 102,
   "id": "6be068a7-51f8-4cbd-9c96-15ef86791162",
   "metadata": {},
   "outputs": [
    {
     "data": {
      "text/plain": [
       "['this', 'is', 'a', 'bunch', 'of', 'words']"
      ]
     },
     "execution_count": 102,
     "metadata": {},
     "output_type": "execute_result"
    }
   ],
   "source": [
    "# a far better solution is to use str.split... but not pass any argument!\n",
    "# in such a case, Python will use any whitespace, in any combination, and any quantity, to split\n",
    "\n",
    "s.split()   # no argument!"
   ]
  },
  {
   "cell_type": "markdown",
   "id": "c7ff7482-028c-453e-8fcc-b8ac7e6412f5",
   "metadata": {},
   "source": [
    "# Exercise: Sum numbers\n",
    "\n",
    "1. Define `total` to be 0.\n",
    "2. Ask the user to enter one or more numbers, separated by spaces.\n",
    "    - If the user enters an empty string, break from the loop\n",
    "3. Go through each number (not digit, but number!) in the string\n",
    "    - If it's not numeric, then scold the user\n",
    "4. Turn it into an integer and add to `total`\n",
    "5. Print `total`\n",
    "\n",
    "Example:\n",
    "\n",
    "    Enter numbers: 10 20 30 hello 40\n",
    "    hello is not numeric; ignoring\n",
    "    Enter numbers: 5 15\n",
    "    Enter numbers: [ENTER]\n",
    "    Total is 120"
   ]
  },
  {
   "cell_type": "markdown",
   "id": "d8c21590-1037-4768-a35d-4eeb19d19907",
   "metadata": {},
   "source": [
    "# strip vs split\n",
    "\n",
    "- `str.strip` is a method that returns a new string based on the original one without any whitespace (spaces, tabs, newlines, etc.) at either the front or the back of the string\n",
    "- `str.split` is a method that returns a list of strings based on the original string.\n",
    "\n",
    "You will always get a list of strings back from `split`, but that list might contain only one element."
   ]
  },
  {
   "cell_type": "code",
   "execution_count": 103,
   "id": "166ebc3d-7ca5-453d-b55f-b0a6da15709c",
   "metadata": {},
   "outputs": [
    {
     "data": {
      "text/plain": [
       "['abcd']"
      ]
     },
     "execution_count": 103,
     "metadata": {},
     "output_type": "execute_result"
    }
   ],
   "source": [
    "s = 'abcd'\n",
    "\n",
    "s.split()"
   ]
  },
  {
   "cell_type": "code",
   "execution_count": null,
   "id": "7b06d3fd-d710-4538-a2d3-2f24ab137770",
   "metadata": {},
   "outputs": [],
   "source": []
  }
 ],
 "metadata": {
  "kernelspec": {
   "display_name": "Python 3 (ipykernel)",
   "language": "python",
   "name": "python3"
  },
  "language_info": {
   "codemirror_mode": {
    "name": "ipython",
    "version": 3
   },
   "file_extension": ".py",
   "mimetype": "text/x-python",
   "name": "python",
   "nbconvert_exporter": "python",
   "pygments_lexer": "ipython3",
   "version": "3.12.1"
  }
 },
 "nbformat": 4,
 "nbformat_minor": 5
}
