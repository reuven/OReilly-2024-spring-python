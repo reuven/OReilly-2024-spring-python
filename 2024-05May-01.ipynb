{
 "cells": [
  {
   "cell_type": "markdown",
   "id": "048649bb-6b09-4663-94f8-053b7ff620ab",
   "metadata": {},
   "source": [
    "# Agenda: Loops, lists, and tuples\n",
    "\n",
    "1. Q&A from last time\n",
    "2. Loops\n",
    "    - `for`\n",
    "    - looping a number of times with `range`\n",
    "    - indexes and where they are (and aren't)\n",
    "    - `while` loops\n",
    "    - Controlling our loops with `break` and `continue`\n",
    "3. Lists\n",
    "    - What is a list?\n",
    "    - How is it different from (and similar to) a string?\n",
    "    - List methods\n",
    "    - Lists are *mutable*\n",
    "4. Turning strings into lists, and vice versa\n",
    "    - `str.split`\n",
    "    - `str.join`\n",
    "5. Tuples\n",
    "    - What are they?\n",
    "    - Tuple unpacking"
   ]
  },
  {
   "cell_type": "code",
   "execution_count": 1,
   "id": "92b03437-0747-411e-917c-dd06196a06d8",
   "metadata": {},
   "outputs": [],
   "source": [
    "x = 10\n",
    "y = 20"
   ]
  },
  {
   "cell_type": "code",
   "execution_count": 2,
   "id": "241ffa0b-55ce-471d-a5b5-0553fac0758a",
   "metadata": {},
   "outputs": [
    {
     "data": {
      "text/plain": [
       "30"
      ]
     },
     "execution_count": 2,
     "metadata": {},
     "output_type": "execute_result"
    }
   ],
   "source": [
    "x + y"
   ]
  },
  {
   "cell_type": "code",
   "execution_count": 3,
   "id": "7d01402b-3592-4c36-8a6e-d056afaac511",
   "metadata": {},
   "outputs": [
    {
     "data": {
      "text/plain": [
       "-10"
      ]
     },
     "execution_count": 3,
     "metadata": {},
     "output_type": "execute_result"
    }
   ],
   "source": [
    "x - y"
   ]
  },
  {
   "cell_type": "code",
   "execution_count": 6,
   "id": "86f32765-71bb-4e91-8102-a46468166ad5",
   "metadata": {},
   "outputs": [
    {
     "data": {
      "text/plain": [
       "True"
      ]
     },
     "execution_count": 6,
     "metadata": {},
     "output_type": "execute_result"
    }
   ],
   "source": [
    "x != y   # the != operator asks the question: are the values of x and y different?"
   ]
  },
  {
   "cell_type": "code",
   "execution_count": 5,
   "id": "1f084251-9b1b-48cb-86b4-0598f5f1961b",
   "metadata": {},
   "outputs": [
    {
     "data": {
      "text/plain": [
       "False"
      ]
     },
     "execution_count": 5,
     "metadata": {},
     "output_type": "execute_result"
    }
   ],
   "source": [
    "x == y   # this asks the question: are the values of x and y the same?"
   ]
  },
  {
   "cell_type": "code",
   "execution_count": 7,
   "id": "cc021c01-0283-40e7-a878-69823cf802bf",
   "metadata": {},
   "outputs": [
    {
     "name": "stdout",
     "output_type": "stream",
     "text": [
      "10 and 20 are not the same!\n"
     ]
    }
   ],
   "source": [
    "if x != y:\n",
    "    print(f'{x} and {y} are not the same!')"
   ]
  },
  {
   "cell_type": "code",
   "execution_count": 8,
   "id": "62da14c5-ed67-4d9d-8572-1201983b7237",
   "metadata": {},
   "outputs": [
    {
     "data": {
      "text/plain": [
       "'12345678'"
      ]
     },
     "execution_count": 8,
     "metadata": {},
     "output_type": "execute_result"
    }
   ],
   "source": [
    "# Converting from strings to integers, and back\n",
    "\n",
    "x = '1234'\n",
    "y = '5678'\n",
    "\n",
    "x + y"
   ]
  },
  {
   "cell_type": "code",
   "execution_count": 10,
   "id": "abb12b9d-6a4d-4248-bd3a-3d74e751bc75",
   "metadata": {},
   "outputs": [
    {
     "data": {
      "text/plain": [
       "str"
      ]
     },
     "execution_count": 10,
     "metadata": {},
     "output_type": "execute_result"
    }
   ],
   "source": [
    "type(x)"
   ]
  },
  {
   "cell_type": "code",
   "execution_count": 11,
   "id": "d50b4bc2-f97e-42af-9a09-1e023914add7",
   "metadata": {},
   "outputs": [
    {
     "data": {
      "text/plain": [
       "str"
      ]
     },
     "execution_count": 11,
     "metadata": {},
     "output_type": "execute_result"
    }
   ],
   "source": [
    "type(y)"
   ]
  },
  {
   "cell_type": "code",
   "execution_count": 12,
   "id": "eb9312a3-e2e1-4ec6-8721-17894b53201b",
   "metadata": {},
   "outputs": [
    {
     "data": {
      "text/plain": [
       "6912"
      ]
     },
     "execution_count": 12,
     "metadata": {},
     "output_type": "execute_result"
    }
   ],
   "source": [
    "# if I want to get integers based on the strings in x and y, I can use int()\n",
    "\n",
    "int(x) + int(y)"
   ]
  },
  {
   "cell_type": "code",
   "execution_count": 13,
   "id": "09ed6b17-dc59-4905-8ca9-e9930d7ce043",
   "metadata": {},
   "outputs": [
    {
     "data": {
      "text/plain": [
       "'12345678'"
      ]
     },
     "execution_count": 13,
     "metadata": {},
     "output_type": "execute_result"
    }
   ],
   "source": [
    "# have we changed x or y? NO, we just got new integers based on them\n",
    "x + y"
   ]
  },
  {
   "cell_type": "code",
   "execution_count": 14,
   "id": "db08deee-d57a-46a0-881a-eed03246e95c",
   "metadata": {},
   "outputs": [
    {
     "data": {
      "text/plain": [
       "6912"
      ]
     },
     "execution_count": 14,
     "metadata": {},
     "output_type": "execute_result"
    }
   ],
   "source": [
    "# however, we can assign the new values (integers) to the variables\n",
    "\n",
    "x = int(x)\n",
    "y = int(y)\n",
    "\n",
    "x + y"
   ]
  },
  {
   "cell_type": "code",
   "execution_count": null,
   "id": "174a40cb-8409-4179-81d8-c1a9c6e300d1",
   "metadata": {},
   "outputs": [],
   "source": [
    "# what if I want to do the opposite "
   ]
  }
 ],
 "metadata": {
  "kernelspec": {
   "display_name": "Python 3 (ipykernel)",
   "language": "python",
   "name": "python3"
  },
  "language_info": {
   "codemirror_mode": {
    "name": "ipython",
    "version": 3
   },
   "file_extension": ".py",
   "mimetype": "text/x-python",
   "name": "python",
   "nbconvert_exporter": "python",
   "pygments_lexer": "ipython3",
   "version": "3.12.1"
  }
 },
 "nbformat": 4,
 "nbformat_minor": 5
}
