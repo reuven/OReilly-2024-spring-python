{
 "cells": [
  {
   "cell_type": "markdown",
   "id": "048649bb-6b09-4663-94f8-053b7ff620ab",
   "metadata": {},
   "source": [
    "# Agenda: Loops, lists, and tuples\n",
    "\n",
    "1. Q&A from last time\n",
    "2. Loops\n",
    "    - `for`\n",
    "    - looping a number of times with `range`\n",
    "    - indexes and where they are (and aren't)\n",
    "    - `while` loops\n",
    "    - Controlling our loops with `break` and `continue`\n",
    "3. Lists\n",
    "    - What is a list?\n",
    "    - How is it different from (and similar to) a string?\n",
    "    - List methods\n",
    "    - Lists are *mutable*\n",
    "4. Turning strings into lists, and vice versa\n",
    "    - `str.split`\n",
    "    - `str.join`"
   ]
  },
  {
   "cell_type": "code",
   "execution_count": null,
   "id": "92b03437-0747-411e-917c-dd06196a06d8",
   "metadata": {},
   "outputs": [],
   "source": []
  }
 ],
 "metadata": {
  "kernelspec": {
   "display_name": "Python 3 (ipykernel)",
   "language": "python",
   "name": "python3"
  },
  "language_info": {
   "codemirror_mode": {
    "name": "ipython",
    "version": 3
   },
   "file_extension": ".py",
   "mimetype": "text/x-python",
   "name": "python",
   "nbconvert_exporter": "python",
   "pygments_lexer": "ipython3",
   "version": "3.12.1"
  }
 },
 "nbformat": 4,
 "nbformat_minor": 5
}
